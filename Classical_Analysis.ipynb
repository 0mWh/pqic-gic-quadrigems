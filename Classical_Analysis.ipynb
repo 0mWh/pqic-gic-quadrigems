{
  "cells": [
    {
      "cell_type": "markdown",
      "metadata": {
        "id": "view-in-github",
        "colab_type": "text"
      },
      "source": [
        "<a href=\"https://colab.research.google.com/github/0mWh/pqic-gic-quadrigems/blob/main/Classical_Analysis.ipynb\" target=\"_parent\"><img src=\"https://colab.research.google.com/assets/colab-badge.svg\" alt=\"Open In Colab\"/></a>"
      ]
    },
    {
      "cell_type": "markdown",
      "metadata": {
        "id": "if9KbXZeiCmH"
      },
      "source": [
        "# Exploratory analysis of gcell data"
      ]
    },
    {
      "cell_type": "markdown",
      "metadata": {
        "id": "owntRO-F1fsm"
      },
      "source": [
        "## Load data"
      ]
    },
    {
      "cell_type": "code",
      "execution_count": 98,
      "metadata": {
        "id": "t7ToQUFtg0Xv"
      },
      "outputs": [],
      "source": [
        "import scipy\n",
        "import pandas as pd\n",
        "import statsmodels"
      ]
    },
    {
      "cell_type": "code",
      "source": [
        "from google.colab import drive\n",
        "drive.mount('/content/drive')"
      ],
      "metadata": {
        "colab": {
          "base_uri": "https://localhost:8080/"
        },
        "id": "L81beEH9zmaT",
        "outputId": "82231d0a-fa7a-4ab5-cfe1-3b35813547a6"
      },
      "execution_count": null,
      "outputs": [
        {
          "output_type": "stream",
          "name": "stdout",
          "text": [
            "Mounted at /content/drive\n"
          ]
        }
      ]
    },
    {
      "cell_type": "markdown",
      "metadata": {
        "id": "Rl3A8lj9g7jz",
        "outputId": "d03cd4e2-8bf6-4dee-bde0-05f74424fb2a"
      },
      "source": [
        "!ls /content/drive/MyDrive/2025\\ qwc-pqic-gic/Auditory\\ cortex\\ data/*/*.mat -Slh"
      ]
    },
    {
      "cell_type": "markdown",
      "metadata": {
        "id": "AYeBG3JGAtZL",
        "outputId": "ffff675f-c359-4e69-86b8-587255e7efd8"
      },
      "source": [
        "# number of neurons per recording\n",
        "import glob\n",
        "import gc\n",
        "for mat in glob.glob('/content/drive/MyDrive/2025 qwc-pqic-gic/Auditory cortex data/*/*.mat'):\n",
        "    record = scipy.io.loadmat(mat)\n",
        "    print(mat,':',sum(len(record['allxc'][plane][0]) for plane in range(1,6)))\n",
        "    del record\n",
        "    gc.collect()"
      ]
    },
    {
      "cell_type": "code",
      "execution_count": null,
      "metadata": {
        "id": "dT-r4pHUjDE1"
      },
      "outputs": [],
      "source": [
        "# load the smallest file\n",
        "# record = scipy.io.loadmat('/home/brainstorm/Downloads/Auditory_cortex_data/Auditory cortex data/081920_355r/allPlanesVariables27-Feb-2021.mat')\n",
        "record = scipy.io.loadmat('/content/drive/MyDrive/2025 qwc-pqic-gic/Auditory cortex data/081920_355r/allPlanesVariables27-Feb-2021.mat')"
      ]
    },
    {
      "cell_type": "code",
      "execution_count": 99,
      "metadata": {
        "colab": {
          "base_uri": "https://localhost:8080/"
        },
        "id": "Xrj8R4MXhZ8Q",
        "outputId": "3a5424f4-df79-4799-c85d-f8d0f87e312d"
      },
      "outputs": [
        {
          "output_type": "execute_result",
          "data": {
            "text/plain": [
              "dict_keys(['__header__', '__version__', '__globals__', 'BFinfo', 'CellInfo', 'CorrInfo', 'allZCorrInfo', 'allxc', 'allyc', 'allzc', 'exptVars', 'selectZCorrInfo', 'stimInfo', 'zDFF', 'zStuff', '__function_workspace__'])"
            ]
          },
          "metadata": {},
          "execution_count": 99
        }
      ],
      "source": [
        "record.keys()"
      ]
    },
    {
      "cell_type": "markdown",
      "metadata": {
        "id": "O__l1PiQywdS"
      },
      "source": [
        "# Confirm classical correlation"
      ]
    },
    {
      "cell_type": "code",
      "execution_count": null,
      "metadata": {
        "scrolled": true,
        "id": "35S3WMIIywdT"
      },
      "outputs": [],
      "source": [
        "tuning_curves = pd.concat(\n",
        "    [\n",
        "        pd.DataFrame(record['zStuff'][0][plane][0])\n",
        "        for plane in range(1,6)\n",
        "    ]\n",
        ").reset_index().drop(columns='index')"
      ]
    },
    {
      "cell_type": "code",
      "execution_count": null,
      "metadata": {
        "id": "KmykS7xOywdV",
        "outputId": "a8e5023f-676e-4b86-cfbe-b98e9306bf13",
        "colab": {
          "base_uri": "https://localhost:8080/",
          "height": 423
        }
      },
      "outputs": [
        {
          "output_type": "execute_result",
          "data": {
            "text/plain": [
              "             0          1          2          3          4          5  \\\n",
              "0    12.390694  15.736114  26.850230  26.273641  15.061115  12.157273   \n",
              "1    14.710437  12.390372  12.333933  12.110193  12.375612   8.568789   \n",
              "2    18.899687  13.166651  15.916866  19.059703  12.303493  16.367925   \n",
              "3    16.403450  13.218894  13.615465  17.592090  15.361770  15.656932   \n",
              "4    15.962315  11.367415  13.885502  15.681253  11.645656  11.036421   \n",
              "..         ...        ...        ...        ...        ...        ...   \n",
              "454  10.572497  15.747195  12.942996  10.953684  13.755904  11.796201   \n",
              "455  14.089879  14.911311  15.780570  11.877137  14.711298  10.053278   \n",
              "456  11.015321   9.648918  11.791652  11.905616  10.128393  10.071100   \n",
              "457  16.338816  15.665695  14.300783  19.106040  19.432592  19.294137   \n",
              "458  18.184194  15.298995  15.848521  14.128084  14.278363  15.818283   \n",
              "\n",
              "             6          7          8  \n",
              "0    17.197759  19.777569  26.673842  \n",
              "1    16.017357  17.192882  12.625920  \n",
              "2    16.616543  17.654142  18.782494  \n",
              "3    17.266245  16.762045  21.112917  \n",
              "4    13.117399  10.679451  12.062431  \n",
              "..         ...        ...        ...  \n",
              "454  14.267954  15.842001  11.808158  \n",
              "455  18.880840  13.376637  13.894984  \n",
              "456  13.271535  11.743713  13.601738  \n",
              "457  18.348341  17.695766  12.366102  \n",
              "458  14.064780  14.708175  15.682587  \n",
              "\n",
              "[459 rows x 9 columns]"
            ],
            "text/html": [
              "\n",
              "  <div id=\"df-f50f0fc9-56f9-4864-84a9-2603c0bec334\" class=\"colab-df-container\">\n",
              "    <div>\n",
              "<style scoped>\n",
              "    .dataframe tbody tr th:only-of-type {\n",
              "        vertical-align: middle;\n",
              "    }\n",
              "\n",
              "    .dataframe tbody tr th {\n",
              "        vertical-align: top;\n",
              "    }\n",
              "\n",
              "    .dataframe thead th {\n",
              "        text-align: right;\n",
              "    }\n",
              "</style>\n",
              "<table border=\"1\" class=\"dataframe\">\n",
              "  <thead>\n",
              "    <tr style=\"text-align: right;\">\n",
              "      <th></th>\n",
              "      <th>0</th>\n",
              "      <th>1</th>\n",
              "      <th>2</th>\n",
              "      <th>3</th>\n",
              "      <th>4</th>\n",
              "      <th>5</th>\n",
              "      <th>6</th>\n",
              "      <th>7</th>\n",
              "      <th>8</th>\n",
              "    </tr>\n",
              "  </thead>\n",
              "  <tbody>\n",
              "    <tr>\n",
              "      <th>0</th>\n",
              "      <td>12.390694</td>\n",
              "      <td>15.736114</td>\n",
              "      <td>26.850230</td>\n",
              "      <td>26.273641</td>\n",
              "      <td>15.061115</td>\n",
              "      <td>12.157273</td>\n",
              "      <td>17.197759</td>\n",
              "      <td>19.777569</td>\n",
              "      <td>26.673842</td>\n",
              "    </tr>\n",
              "    <tr>\n",
              "      <th>1</th>\n",
              "      <td>14.710437</td>\n",
              "      <td>12.390372</td>\n",
              "      <td>12.333933</td>\n",
              "      <td>12.110193</td>\n",
              "      <td>12.375612</td>\n",
              "      <td>8.568789</td>\n",
              "      <td>16.017357</td>\n",
              "      <td>17.192882</td>\n",
              "      <td>12.625920</td>\n",
              "    </tr>\n",
              "    <tr>\n",
              "      <th>2</th>\n",
              "      <td>18.899687</td>\n",
              "      <td>13.166651</td>\n",
              "      <td>15.916866</td>\n",
              "      <td>19.059703</td>\n",
              "      <td>12.303493</td>\n",
              "      <td>16.367925</td>\n",
              "      <td>16.616543</td>\n",
              "      <td>17.654142</td>\n",
              "      <td>18.782494</td>\n",
              "    </tr>\n",
              "    <tr>\n",
              "      <th>3</th>\n",
              "      <td>16.403450</td>\n",
              "      <td>13.218894</td>\n",
              "      <td>13.615465</td>\n",
              "      <td>17.592090</td>\n",
              "      <td>15.361770</td>\n",
              "      <td>15.656932</td>\n",
              "      <td>17.266245</td>\n",
              "      <td>16.762045</td>\n",
              "      <td>21.112917</td>\n",
              "    </tr>\n",
              "    <tr>\n",
              "      <th>4</th>\n",
              "      <td>15.962315</td>\n",
              "      <td>11.367415</td>\n",
              "      <td>13.885502</td>\n",
              "      <td>15.681253</td>\n",
              "      <td>11.645656</td>\n",
              "      <td>11.036421</td>\n",
              "      <td>13.117399</td>\n",
              "      <td>10.679451</td>\n",
              "      <td>12.062431</td>\n",
              "    </tr>\n",
              "    <tr>\n",
              "      <th>...</th>\n",
              "      <td>...</td>\n",
              "      <td>...</td>\n",
              "      <td>...</td>\n",
              "      <td>...</td>\n",
              "      <td>...</td>\n",
              "      <td>...</td>\n",
              "      <td>...</td>\n",
              "      <td>...</td>\n",
              "      <td>...</td>\n",
              "    </tr>\n",
              "    <tr>\n",
              "      <th>454</th>\n",
              "      <td>10.572497</td>\n",
              "      <td>15.747195</td>\n",
              "      <td>12.942996</td>\n",
              "      <td>10.953684</td>\n",
              "      <td>13.755904</td>\n",
              "      <td>11.796201</td>\n",
              "      <td>14.267954</td>\n",
              "      <td>15.842001</td>\n",
              "      <td>11.808158</td>\n",
              "    </tr>\n",
              "    <tr>\n",
              "      <th>455</th>\n",
              "      <td>14.089879</td>\n",
              "      <td>14.911311</td>\n",
              "      <td>15.780570</td>\n",
              "      <td>11.877137</td>\n",
              "      <td>14.711298</td>\n",
              "      <td>10.053278</td>\n",
              "      <td>18.880840</td>\n",
              "      <td>13.376637</td>\n",
              "      <td>13.894984</td>\n",
              "    </tr>\n",
              "    <tr>\n",
              "      <th>456</th>\n",
              "      <td>11.015321</td>\n",
              "      <td>9.648918</td>\n",
              "      <td>11.791652</td>\n",
              "      <td>11.905616</td>\n",
              "      <td>10.128393</td>\n",
              "      <td>10.071100</td>\n",
              "      <td>13.271535</td>\n",
              "      <td>11.743713</td>\n",
              "      <td>13.601738</td>\n",
              "    </tr>\n",
              "    <tr>\n",
              "      <th>457</th>\n",
              "      <td>16.338816</td>\n",
              "      <td>15.665695</td>\n",
              "      <td>14.300783</td>\n",
              "      <td>19.106040</td>\n",
              "      <td>19.432592</td>\n",
              "      <td>19.294137</td>\n",
              "      <td>18.348341</td>\n",
              "      <td>17.695766</td>\n",
              "      <td>12.366102</td>\n",
              "    </tr>\n",
              "    <tr>\n",
              "      <th>458</th>\n",
              "      <td>18.184194</td>\n",
              "      <td>15.298995</td>\n",
              "      <td>15.848521</td>\n",
              "      <td>14.128084</td>\n",
              "      <td>14.278363</td>\n",
              "      <td>15.818283</td>\n",
              "      <td>14.064780</td>\n",
              "      <td>14.708175</td>\n",
              "      <td>15.682587</td>\n",
              "    </tr>\n",
              "  </tbody>\n",
              "</table>\n",
              "<p>459 rows × 9 columns</p>\n",
              "</div>\n",
              "    <div class=\"colab-df-buttons\">\n",
              "\n",
              "  <div class=\"colab-df-container\">\n",
              "    <button class=\"colab-df-convert\" onclick=\"convertToInteractive('df-f50f0fc9-56f9-4864-84a9-2603c0bec334')\"\n",
              "            title=\"Convert this dataframe to an interactive table.\"\n",
              "            style=\"display:none;\">\n",
              "\n",
              "  <svg xmlns=\"http://www.w3.org/2000/svg\" height=\"24px\" viewBox=\"0 -960 960 960\">\n",
              "    <path d=\"M120-120v-720h720v720H120Zm60-500h600v-160H180v160Zm220 220h160v-160H400v160Zm0 220h160v-160H400v160ZM180-400h160v-160H180v160Zm440 0h160v-160H620v160ZM180-180h160v-160H180v160Zm440 0h160v-160H620v160Z\"/>\n",
              "  </svg>\n",
              "    </button>\n",
              "\n",
              "  <style>\n",
              "    .colab-df-container {\n",
              "      display:flex;\n",
              "      gap: 12px;\n",
              "    }\n",
              "\n",
              "    .colab-df-convert {\n",
              "      background-color: #E8F0FE;\n",
              "      border: none;\n",
              "      border-radius: 50%;\n",
              "      cursor: pointer;\n",
              "      display: none;\n",
              "      fill: #1967D2;\n",
              "      height: 32px;\n",
              "      padding: 0 0 0 0;\n",
              "      width: 32px;\n",
              "    }\n",
              "\n",
              "    .colab-df-convert:hover {\n",
              "      background-color: #E2EBFA;\n",
              "      box-shadow: 0px 1px 2px rgba(60, 64, 67, 0.3), 0px 1px 3px 1px rgba(60, 64, 67, 0.15);\n",
              "      fill: #174EA6;\n",
              "    }\n",
              "\n",
              "    .colab-df-buttons div {\n",
              "      margin-bottom: 4px;\n",
              "    }\n",
              "\n",
              "    [theme=dark] .colab-df-convert {\n",
              "      background-color: #3B4455;\n",
              "      fill: #D2E3FC;\n",
              "    }\n",
              "\n",
              "    [theme=dark] .colab-df-convert:hover {\n",
              "      background-color: #434B5C;\n",
              "      box-shadow: 0px 1px 3px 1px rgba(0, 0, 0, 0.15);\n",
              "      filter: drop-shadow(0px 1px 2px rgba(0, 0, 0, 0.3));\n",
              "      fill: #FFFFFF;\n",
              "    }\n",
              "  </style>\n",
              "\n",
              "    <script>\n",
              "      const buttonEl =\n",
              "        document.querySelector('#df-f50f0fc9-56f9-4864-84a9-2603c0bec334 button.colab-df-convert');\n",
              "      buttonEl.style.display =\n",
              "        google.colab.kernel.accessAllowed ? 'block' : 'none';\n",
              "\n",
              "      async function convertToInteractive(key) {\n",
              "        const element = document.querySelector('#df-f50f0fc9-56f9-4864-84a9-2603c0bec334');\n",
              "        const dataTable =\n",
              "          await google.colab.kernel.invokeFunction('convertToInteractive',\n",
              "                                                    [key], {});\n",
              "        if (!dataTable) return;\n",
              "\n",
              "        const docLinkHtml = 'Like what you see? Visit the ' +\n",
              "          '<a target=\"_blank\" href=https://colab.research.google.com/notebooks/data_table.ipynb>data table notebook</a>'\n",
              "          + ' to learn more about interactive tables.';\n",
              "        element.innerHTML = '';\n",
              "        dataTable['output_type'] = 'display_data';\n",
              "        await google.colab.output.renderOutput(dataTable, element);\n",
              "        const docLink = document.createElement('div');\n",
              "        docLink.innerHTML = docLinkHtml;\n",
              "        element.appendChild(docLink);\n",
              "      }\n",
              "    </script>\n",
              "  </div>\n",
              "\n",
              "\n",
              "    <div id=\"df-b0a00715-4bde-49a8-8559-72eee70f216b\">\n",
              "      <button class=\"colab-df-quickchart\" onclick=\"quickchart('df-b0a00715-4bde-49a8-8559-72eee70f216b')\"\n",
              "                title=\"Suggest charts\"\n",
              "                style=\"display:none;\">\n",
              "\n",
              "<svg xmlns=\"http://www.w3.org/2000/svg\" height=\"24px\"viewBox=\"0 0 24 24\"\n",
              "     width=\"24px\">\n",
              "    <g>\n",
              "        <path d=\"M19 3H5c-1.1 0-2 .9-2 2v14c0 1.1.9 2 2 2h14c1.1 0 2-.9 2-2V5c0-1.1-.9-2-2-2zM9 17H7v-7h2v7zm4 0h-2V7h2v10zm4 0h-2v-4h2v4z\"/>\n",
              "    </g>\n",
              "</svg>\n",
              "      </button>\n",
              "\n",
              "<style>\n",
              "  .colab-df-quickchart {\n",
              "      --bg-color: #E8F0FE;\n",
              "      --fill-color: #1967D2;\n",
              "      --hover-bg-color: #E2EBFA;\n",
              "      --hover-fill-color: #174EA6;\n",
              "      --disabled-fill-color: #AAA;\n",
              "      --disabled-bg-color: #DDD;\n",
              "  }\n",
              "\n",
              "  [theme=dark] .colab-df-quickchart {\n",
              "      --bg-color: #3B4455;\n",
              "      --fill-color: #D2E3FC;\n",
              "      --hover-bg-color: #434B5C;\n",
              "      --hover-fill-color: #FFFFFF;\n",
              "      --disabled-bg-color: #3B4455;\n",
              "      --disabled-fill-color: #666;\n",
              "  }\n",
              "\n",
              "  .colab-df-quickchart {\n",
              "    background-color: var(--bg-color);\n",
              "    border: none;\n",
              "    border-radius: 50%;\n",
              "    cursor: pointer;\n",
              "    display: none;\n",
              "    fill: var(--fill-color);\n",
              "    height: 32px;\n",
              "    padding: 0;\n",
              "    width: 32px;\n",
              "  }\n",
              "\n",
              "  .colab-df-quickchart:hover {\n",
              "    background-color: var(--hover-bg-color);\n",
              "    box-shadow: 0 1px 2px rgba(60, 64, 67, 0.3), 0 1px 3px 1px rgba(60, 64, 67, 0.15);\n",
              "    fill: var(--button-hover-fill-color);\n",
              "  }\n",
              "\n",
              "  .colab-df-quickchart-complete:disabled,\n",
              "  .colab-df-quickchart-complete:disabled:hover {\n",
              "    background-color: var(--disabled-bg-color);\n",
              "    fill: var(--disabled-fill-color);\n",
              "    box-shadow: none;\n",
              "  }\n",
              "\n",
              "  .colab-df-spinner {\n",
              "    border: 2px solid var(--fill-color);\n",
              "    border-color: transparent;\n",
              "    border-bottom-color: var(--fill-color);\n",
              "    animation:\n",
              "      spin 1s steps(1) infinite;\n",
              "  }\n",
              "\n",
              "  @keyframes spin {\n",
              "    0% {\n",
              "      border-color: transparent;\n",
              "      border-bottom-color: var(--fill-color);\n",
              "      border-left-color: var(--fill-color);\n",
              "    }\n",
              "    20% {\n",
              "      border-color: transparent;\n",
              "      border-left-color: var(--fill-color);\n",
              "      border-top-color: var(--fill-color);\n",
              "    }\n",
              "    30% {\n",
              "      border-color: transparent;\n",
              "      border-left-color: var(--fill-color);\n",
              "      border-top-color: var(--fill-color);\n",
              "      border-right-color: var(--fill-color);\n",
              "    }\n",
              "    40% {\n",
              "      border-color: transparent;\n",
              "      border-right-color: var(--fill-color);\n",
              "      border-top-color: var(--fill-color);\n",
              "    }\n",
              "    60% {\n",
              "      border-color: transparent;\n",
              "      border-right-color: var(--fill-color);\n",
              "    }\n",
              "    80% {\n",
              "      border-color: transparent;\n",
              "      border-right-color: var(--fill-color);\n",
              "      border-bottom-color: var(--fill-color);\n",
              "    }\n",
              "    90% {\n",
              "      border-color: transparent;\n",
              "      border-bottom-color: var(--fill-color);\n",
              "    }\n",
              "  }\n",
              "</style>\n",
              "\n",
              "      <script>\n",
              "        async function quickchart(key) {\n",
              "          const quickchartButtonEl =\n",
              "            document.querySelector('#' + key + ' button');\n",
              "          quickchartButtonEl.disabled = true;  // To prevent multiple clicks.\n",
              "          quickchartButtonEl.classList.add('colab-df-spinner');\n",
              "          try {\n",
              "            const charts = await google.colab.kernel.invokeFunction(\n",
              "                'suggestCharts', [key], {});\n",
              "          } catch (error) {\n",
              "            console.error('Error during call to suggestCharts:', error);\n",
              "          }\n",
              "          quickchartButtonEl.classList.remove('colab-df-spinner');\n",
              "          quickchartButtonEl.classList.add('colab-df-quickchart-complete');\n",
              "        }\n",
              "        (() => {\n",
              "          let quickchartButtonEl =\n",
              "            document.querySelector('#df-b0a00715-4bde-49a8-8559-72eee70f216b button');\n",
              "          quickchartButtonEl.style.display =\n",
              "            google.colab.kernel.accessAllowed ? 'block' : 'none';\n",
              "        })();\n",
              "      </script>\n",
              "    </div>\n",
              "\n",
              "  <div id=\"id_d4f59188-796c-48d9-bedd-533d07a3c4f5\">\n",
              "    <style>\n",
              "      .colab-df-generate {\n",
              "        background-color: #E8F0FE;\n",
              "        border: none;\n",
              "        border-radius: 50%;\n",
              "        cursor: pointer;\n",
              "        display: none;\n",
              "        fill: #1967D2;\n",
              "        height: 32px;\n",
              "        padding: 0 0 0 0;\n",
              "        width: 32px;\n",
              "      }\n",
              "\n",
              "      .colab-df-generate:hover {\n",
              "        background-color: #E2EBFA;\n",
              "        box-shadow: 0px 1px 2px rgba(60, 64, 67, 0.3), 0px 1px 3px 1px rgba(60, 64, 67, 0.15);\n",
              "        fill: #174EA6;\n",
              "      }\n",
              "\n",
              "      [theme=dark] .colab-df-generate {\n",
              "        background-color: #3B4455;\n",
              "        fill: #D2E3FC;\n",
              "      }\n",
              "\n",
              "      [theme=dark] .colab-df-generate:hover {\n",
              "        background-color: #434B5C;\n",
              "        box-shadow: 0px 1px 3px 1px rgba(0, 0, 0, 0.15);\n",
              "        filter: drop-shadow(0px 1px 2px rgba(0, 0, 0, 0.3));\n",
              "        fill: #FFFFFF;\n",
              "      }\n",
              "    </style>\n",
              "    <button class=\"colab-df-generate\" onclick=\"generateWithVariable('tuning_curves')\"\n",
              "            title=\"Generate code using this dataframe.\"\n",
              "            style=\"display:none;\">\n",
              "\n",
              "  <svg xmlns=\"http://www.w3.org/2000/svg\" height=\"24px\"viewBox=\"0 0 24 24\"\n",
              "       width=\"24px\">\n",
              "    <path d=\"M7,19H8.4L18.45,9,17,7.55,7,17.6ZM5,21V16.75L18.45,3.32a2,2,0,0,1,2.83,0l1.4,1.43a1.91,1.91,0,0,1,.58,1.4,1.91,1.91,0,0,1-.58,1.4L9.25,21ZM18.45,9,17,7.55Zm-12,3A5.31,5.31,0,0,0,4.9,8.1,5.31,5.31,0,0,0,1,6.5,5.31,5.31,0,0,0,4.9,4.9,5.31,5.31,0,0,0,6.5,1,5.31,5.31,0,0,0,8.1,4.9,5.31,5.31,0,0,0,12,6.5,5.46,5.46,0,0,0,6.5,12Z\"/>\n",
              "  </svg>\n",
              "    </button>\n",
              "    <script>\n",
              "      (() => {\n",
              "      const buttonEl =\n",
              "        document.querySelector('#id_d4f59188-796c-48d9-bedd-533d07a3c4f5 button.colab-df-generate');\n",
              "      buttonEl.style.display =\n",
              "        google.colab.kernel.accessAllowed ? 'block' : 'none';\n",
              "\n",
              "      buttonEl.onclick = () => {\n",
              "        google.colab.notebook.generateWithVariable('tuning_curves');\n",
              "      }\n",
              "      })();\n",
              "    </script>\n",
              "  </div>\n",
              "\n",
              "    </div>\n",
              "  </div>\n"
            ],
            "application/vnd.google.colaboratory.intrinsic+json": {
              "type": "dataframe",
              "variable_name": "tuning_curves",
              "summary": "{\n  \"name\": \"tuning_curves\",\n  \"rows\": 459,\n  \"fields\": [\n    {\n      \"column\": 0,\n      \"properties\": {\n        \"dtype\": \"number\",\n        \"std\": 5.5146165701451935,\n        \"min\": 6.13237908889418,\n        \"max\": 49.04443117275121,\n        \"num_unique_values\": 459,\n        \"samples\": [\n          14.328488191767239,\n          16.934944428496422,\n          19.208066287839102\n        ],\n        \"semantic_type\": \"\",\n        \"description\": \"\"\n      }\n    },\n    {\n      \"column\": 1,\n      \"properties\": {\n        \"dtype\": \"number\",\n        \"std\": 6.117819050894691,\n        \"min\": 5.98536108291502,\n        \"max\": 63.33591019740463,\n        \"num_unique_values\": 459,\n        \"samples\": [\n          13.893024746283618,\n          15.621527271193727,\n          20.72526637215713\n        ],\n        \"semantic_type\": \"\",\n        \"description\": \"\"\n      }\n    },\n    {\n      \"column\": 2,\n      \"properties\": {\n        \"dtype\": \"number\",\n        \"std\": 13.892247592920635,\n        \"min\": 5.336337312771566,\n        \"max\": 203.60026895259634,\n        \"num_unique_values\": 459,\n        \"samples\": [\n          11.820834547671858,\n          16.930814254555607,\n          24.734995400748613\n        ],\n        \"semantic_type\": \"\",\n        \"description\": \"\"\n      }\n    },\n    {\n      \"column\": 3,\n      \"properties\": {\n        \"dtype\": \"number\",\n        \"std\": 10.533483360035351,\n        \"min\": 6.792902470678203,\n        \"max\": 171.77050871975456,\n        \"num_unique_values\": 459,\n        \"samples\": [\n          11.590057913559637,\n          16.53642743319641,\n          28.80995176355402\n        ],\n        \"semantic_type\": \"\",\n        \"description\": \"\"\n      }\n    },\n    {\n      \"column\": 4,\n      \"properties\": {\n        \"dtype\": \"number\",\n        \"std\": 14.697847409055633,\n        \"min\": 6.99226920838957,\n        \"max\": 209.23644762337963,\n        \"num_unique_values\": 459,\n        \"samples\": [\n          15.467020190673793,\n          18.54523141670286,\n          28.63809541693977\n        ],\n        \"semantic_type\": \"\",\n        \"description\": \"\"\n      }\n    },\n    {\n      \"column\": 5,\n      \"properties\": {\n        \"dtype\": \"number\",\n        \"std\": 8.017732413226923,\n        \"min\": 4.99224564706644,\n        \"max\": 111.85766609031546,\n        \"num_unique_values\": 459,\n        \"samples\": [\n          13.627717415471214,\n          15.9198702066148,\n          17.658852003571887\n        ],\n        \"semantic_type\": \"\",\n        \"description\": \"\"\n      }\n    },\n    {\n      \"column\": 6,\n      \"properties\": {\n        \"dtype\": \"number\",\n        \"std\": 8.768802065202264,\n        \"min\": 3.4187377052701384,\n        \"max\": 136.95928028017659,\n        \"num_unique_values\": 459,\n        \"samples\": [\n          14.100064327243564,\n          15.789181771550389,\n          25.506349133292673\n        ],\n        \"semantic_type\": \"\",\n        \"description\": \"\"\n      }\n    },\n    {\n      \"column\": 7,\n      \"properties\": {\n        \"dtype\": \"number\",\n        \"std\": 10.455359251510421,\n        \"min\": 6.812357107515512,\n        \"max\": 130.76343751398014,\n        \"num_unique_values\": 459,\n        \"samples\": [\n          16.436013879497665,\n          19.96704804674723,\n          19.526325084316063\n        ],\n        \"semantic_type\": \"\",\n        \"description\": \"\"\n      }\n    },\n    {\n      \"column\": 8,\n      \"properties\": {\n        \"dtype\": \"number\",\n        \"std\": 11.637674716002651,\n        \"min\": 5.2990050160584365,\n        \"max\": 131.56071140944525,\n        \"num_unique_values\": 459,\n        \"samples\": [\n          14.548000740844273,\n          16.028443761694582,\n          20.052418740866408\n        ],\n        \"semantic_type\": \"\",\n        \"description\": \"\"\n      }\n    }\n  ]\n}"
            }
          },
          "metadata": {},
          "execution_count": 11
        }
      ],
      "source": [
        "tuning_curves"
      ]
    },
    {
      "cell_type": "code",
      "execution_count": null,
      "metadata": {
        "id": "qA0_D3i_ywdV"
      },
      "outputs": [],
      "source": [
        "# SAVE THIS TABLE\n",
        "corrs = tuning_curves.T.corr()"
      ]
    },
    {
      "cell_type": "markdown",
      "metadata": {
        "id": "r8OKE-mYywdW"
      },
      "source": [
        "# confirmed that this is the same matrix as computing classical correlation directly\n",
        "pd.DataFrame(record['CorrInfo']['SigCorrs'][0][1])"
      ]
    },
    {
      "cell_type": "code",
      "execution_count": null,
      "metadata": {
        "id": "5yFFe8PwywdX"
      },
      "outputs": [],
      "source": [
        "# recalculate classical correlations differently, 0 documentation on how the planes are ordered."
      ]
    },
    {
      "cell_type": "markdown",
      "metadata": {
        "id": "cKs1uNqhywdX"
      },
      "source": [
        "# Select significant / nonsignificant neurons\n",
        "\n",
        "Nonsignificant = no significant response to any tone\n",
        "Significant = everything else"
      ]
    },
    {
      "cell_type": "code",
      "execution_count": null,
      "metadata": {
        "id": "x0EYEIyeywdY"
      },
      "outputs": [],
      "source": [
        "import numpy as np"
      ]
    },
    {
      "cell_type": "code",
      "execution_count": null,
      "metadata": {
        "id": "BjEOJSAsywdY"
      },
      "outputs": [],
      "source": [
        "pstim = pd.DataFrame(record['zStuff']['pStim'][0][1])\n",
        "sigstim = pd.DataFrame(record['CellInfo']['sigStim'][0][1])"
      ]
    },
    {
      "cell_type": "code",
      "execution_count": null,
      "metadata": {
        "id": "YHMyzeDSywdZ"
      },
      "outputs": [],
      "source": [
        "# make p-value formats match\n",
        "pstim_is_sig = pstim.replace(np.nan, 1).map(lambda x: 1 if x < 0.05 else 0)  # not sure how this pvalue is obtained"
      ]
    },
    {
      "cell_type": "code",
      "execution_count": null,
      "metadata": {
        "id": "vZ_pSt4sywda",
        "outputId": "4a84975e-44f5-4db5-9d69-bdd73568ac7f",
        "colab": {
          "base_uri": "https://localhost:8080/"
        }
      },
      "outputs": [
        {
          "output_type": "execute_result",
          "data": {
            "text/plain": [
              "np.True_"
            ]
          },
          "metadata": {},
          "execution_count": 16
        }
      ],
      "source": [
        "# All true?\n",
        "(sigstim == pstim_is_sig).all().all()"
      ]
    },
    {
      "cell_type": "code",
      "execution_count": null,
      "metadata": {
        "id": "1vngcIOwywda"
      },
      "outputs": [],
      "source": [
        "# 4 graphs - significant <-> significant, sig <-> ns, ns <-> ns, all-to-all"
      ]
    },
    {
      "cell_type": "code",
      "execution_count": 110,
      "metadata": {
        "id": "lJBK_BBrywdb",
        "outputId": "cadb796f-90dd-42ad-e7af-138b992655eb",
        "colab": {
          "base_uri": "https://localhost:8080/"
        }
      },
      "outputs": [
        {
          "output_type": "execute_result",
          "data": {
            "text/plain": [
              "(Index([  0,   8,   9,  12,  13,  17,  18,  19,  21,  23,\n",
              "        ...\n",
              "        436, 437, 439, 441, 442, 443, 449, 451, 453, 455],\n",
              "       dtype='int64', length=178),\n",
              " Index([  1,   2,   3,   4,   5,   6,   7,  10,  11,  14,\n",
              "        ...\n",
              "        445, 446, 447, 448, 450, 452, 454, 456, 457, 458],\n",
              "       dtype='int64', length=281))"
            ]
          },
          "metadata": {},
          "execution_count": 110
        }
      ],
      "source": [
        "# signals for all planes together\n",
        "pstim = pd.concat(\n",
        "    [\n",
        "        pd.DataFrame(record['zStuff']['pStim'][0][plane])\n",
        "        for plane in range(1,6)\n",
        "    ]\n",
        ").reset_index().drop(columns='index') # Add reset_index() and drop('index') here\n",
        "\n",
        "pstim_is_sig = pstim.replace(np.nan, 1).map(lambda x: 1 if x < 0.05 else 0)  # what p-value threshold should we use?\n",
        "pstim_total_sig = pstim_is_sig.T.sum().T\n",
        "neurons_sig, neurons_notsig = pstim_total_sig[pstim_total_sig > 0].index, pstim_total_sig[pstim_total_sig == 0].index\n",
        "neurons_sig, neurons_notsig\n",
        "# SAVE THESE VALUES"
      ]
    },
    {
      "cell_type": "code",
      "execution_count": null,
      "metadata": {
        "id": "TwZQwcevywdb",
        "outputId": "2289039b-1913-4eaf-ec40-d340eb6fbe35",
        "colab": {
          "base_uri": "https://localhost:8080/"
        }
      },
      "outputs": [
        {
          "output_type": "stream",
          "name": "stdout",
          "text": [
            "among all neurons: 105111\n",
            "among significant neurons: 15753\n",
            "among non-significant neurons: 39340\n",
            "among sig<->nonsig neurons: 25009\n"
          ]
        }
      ],
      "source": [
        "# number of circuit executions\n",
        "def n_pairs(x):\n",
        "    assert type(x) is int\n",
        "    return x*(x-1)//2\n",
        "\n",
        "print('among all neurons:', n_pairs(len(pstim)))\n",
        "print('among significant neurons:', n_pairs(len(neurons_sig)))\n",
        "print('among non-significant neurons:', n_pairs(len(neurons_notsig)))\n",
        "print('among sig<->nonsig neurons:', len(neurons_notsig) * len(neurons_sig) // 2)\n",
        "\n",
        "# n_sig * (n_sig-1) / 2 , n_notsig * (n_notsig-1) / 2\n",
        "# n_sig * (n_sig-1) / 2 + n_notsig * (n_notsig-1) / 2"
      ]
    },
    {
      "cell_type": "markdown",
      "metadata": {
        "id": "WpMjV6iXywdc"
      },
      "source": [
        "# Coordinates"
      ]
    },
    {
      "cell_type": "code",
      "execution_count": null,
      "metadata": {
        "id": "W_hS9VRIywdc",
        "outputId": "0ac4adca-16a6-4b46-acca-1f8a75967f7b",
        "colab": {
          "base_uri": "https://localhost:8080/",
          "height": 423
        }
      },
      "outputs": [
        {
          "output_type": "execute_result",
          "data": {
            "text/plain": [
              "             x           y          z\n",
              "0    40.333268  243.282707 -86.518810\n",
              "1    51.273183  274.138879 -85.027295\n",
              "2    49.309609  287.042368 -84.362500\n",
              "3    52.675736  298.543305 -83.744237\n",
              "4    30.515395  309.483221 -83.129575\n",
              "..         ...         ...        ...\n",
              "454  12.282203  222.805429 -11.616340\n",
              "455  17.050884  232.623302 -11.076617\n",
              "456  10.038117  262.637942  -9.573719\n",
              "457  68.664844  218.878280 -11.771708\n",
              "458  37.528161  177.362704 -13.891613\n",
              "\n",
              "[459 rows x 3 columns]"
            ],
            "text/html": [
              "\n",
              "  <div id=\"df-5b898602-a724-4f29-a10d-3d43654fea55\" class=\"colab-df-container\">\n",
              "    <div>\n",
              "<style scoped>\n",
              "    .dataframe tbody tr th:only-of-type {\n",
              "        vertical-align: middle;\n",
              "    }\n",
              "\n",
              "    .dataframe tbody tr th {\n",
              "        vertical-align: top;\n",
              "    }\n",
              "\n",
              "    .dataframe thead th {\n",
              "        text-align: right;\n",
              "    }\n",
              "</style>\n",
              "<table border=\"1\" class=\"dataframe\">\n",
              "  <thead>\n",
              "    <tr style=\"text-align: right;\">\n",
              "      <th></th>\n",
              "      <th>x</th>\n",
              "      <th>y</th>\n",
              "      <th>z</th>\n",
              "    </tr>\n",
              "  </thead>\n",
              "  <tbody>\n",
              "    <tr>\n",
              "      <th>0</th>\n",
              "      <td>40.333268</td>\n",
              "      <td>243.282707</td>\n",
              "      <td>-86.518810</td>\n",
              "    </tr>\n",
              "    <tr>\n",
              "      <th>1</th>\n",
              "      <td>51.273183</td>\n",
              "      <td>274.138879</td>\n",
              "      <td>-85.027295</td>\n",
              "    </tr>\n",
              "    <tr>\n",
              "      <th>2</th>\n",
              "      <td>49.309609</td>\n",
              "      <td>287.042368</td>\n",
              "      <td>-84.362500</td>\n",
              "    </tr>\n",
              "    <tr>\n",
              "      <th>3</th>\n",
              "      <td>52.675736</td>\n",
              "      <td>298.543305</td>\n",
              "      <td>-83.744237</td>\n",
              "    </tr>\n",
              "    <tr>\n",
              "      <th>4</th>\n",
              "      <td>30.515395</td>\n",
              "      <td>309.483221</td>\n",
              "      <td>-83.129575</td>\n",
              "    </tr>\n",
              "    <tr>\n",
              "      <th>...</th>\n",
              "      <td>...</td>\n",
              "      <td>...</td>\n",
              "      <td>...</td>\n",
              "    </tr>\n",
              "    <tr>\n",
              "      <th>454</th>\n",
              "      <td>12.282203</td>\n",
              "      <td>222.805429</td>\n",
              "      <td>-11.616340</td>\n",
              "    </tr>\n",
              "    <tr>\n",
              "      <th>455</th>\n",
              "      <td>17.050884</td>\n",
              "      <td>232.623302</td>\n",
              "      <td>-11.076617</td>\n",
              "    </tr>\n",
              "    <tr>\n",
              "      <th>456</th>\n",
              "      <td>10.038117</td>\n",
              "      <td>262.637942</td>\n",
              "      <td>-9.573719</td>\n",
              "    </tr>\n",
              "    <tr>\n",
              "      <th>457</th>\n",
              "      <td>68.664844</td>\n",
              "      <td>218.878280</td>\n",
              "      <td>-11.771708</td>\n",
              "    </tr>\n",
              "    <tr>\n",
              "      <th>458</th>\n",
              "      <td>37.528161</td>\n",
              "      <td>177.362704</td>\n",
              "      <td>-13.891613</td>\n",
              "    </tr>\n",
              "  </tbody>\n",
              "</table>\n",
              "<p>459 rows × 3 columns</p>\n",
              "</div>\n",
              "    <div class=\"colab-df-buttons\">\n",
              "\n",
              "  <div class=\"colab-df-container\">\n",
              "    <button class=\"colab-df-convert\" onclick=\"convertToInteractive('df-5b898602-a724-4f29-a10d-3d43654fea55')\"\n",
              "            title=\"Convert this dataframe to an interactive table.\"\n",
              "            style=\"display:none;\">\n",
              "\n",
              "  <svg xmlns=\"http://www.w3.org/2000/svg\" height=\"24px\" viewBox=\"0 -960 960 960\">\n",
              "    <path d=\"M120-120v-720h720v720H120Zm60-500h600v-160H180v160Zm220 220h160v-160H400v160Zm0 220h160v-160H400v160ZM180-400h160v-160H180v160Zm440 0h160v-160H620v160ZM180-180h160v-160H180v160Zm440 0h160v-160H620v160Z\"/>\n",
              "  </svg>\n",
              "    </button>\n",
              "\n",
              "  <style>\n",
              "    .colab-df-container {\n",
              "      display:flex;\n",
              "      gap: 12px;\n",
              "    }\n",
              "\n",
              "    .colab-df-convert {\n",
              "      background-color: #E8F0FE;\n",
              "      border: none;\n",
              "      border-radius: 50%;\n",
              "      cursor: pointer;\n",
              "      display: none;\n",
              "      fill: #1967D2;\n",
              "      height: 32px;\n",
              "      padding: 0 0 0 0;\n",
              "      width: 32px;\n",
              "    }\n",
              "\n",
              "    .colab-df-convert:hover {\n",
              "      background-color: #E2EBFA;\n",
              "      box-shadow: 0px 1px 2px rgba(60, 64, 67, 0.3), 0px 1px 3px 1px rgba(60, 64, 67, 0.15);\n",
              "      fill: #174EA6;\n",
              "    }\n",
              "\n",
              "    .colab-df-buttons div {\n",
              "      margin-bottom: 4px;\n",
              "    }\n",
              "\n",
              "    [theme=dark] .colab-df-convert {\n",
              "      background-color: #3B4455;\n",
              "      fill: #D2E3FC;\n",
              "    }\n",
              "\n",
              "    [theme=dark] .colab-df-convert:hover {\n",
              "      background-color: #434B5C;\n",
              "      box-shadow: 0px 1px 3px 1px rgba(0, 0, 0, 0.15);\n",
              "      filter: drop-shadow(0px 1px 2px rgba(0, 0, 0, 0.3));\n",
              "      fill: #FFFFFF;\n",
              "    }\n",
              "  </style>\n",
              "\n",
              "    <script>\n",
              "      const buttonEl =\n",
              "        document.querySelector('#df-5b898602-a724-4f29-a10d-3d43654fea55 button.colab-df-convert');\n",
              "      buttonEl.style.display =\n",
              "        google.colab.kernel.accessAllowed ? 'block' : 'none';\n",
              "\n",
              "      async function convertToInteractive(key) {\n",
              "        const element = document.querySelector('#df-5b898602-a724-4f29-a10d-3d43654fea55');\n",
              "        const dataTable =\n",
              "          await google.colab.kernel.invokeFunction('convertToInteractive',\n",
              "                                                    [key], {});\n",
              "        if (!dataTable) return;\n",
              "\n",
              "        const docLinkHtml = 'Like what you see? Visit the ' +\n",
              "          '<a target=\"_blank\" href=https://colab.research.google.com/notebooks/data_table.ipynb>data table notebook</a>'\n",
              "          + ' to learn more about interactive tables.';\n",
              "        element.innerHTML = '';\n",
              "        dataTable['output_type'] = 'display_data';\n",
              "        await google.colab.output.renderOutput(dataTable, element);\n",
              "        const docLink = document.createElement('div');\n",
              "        docLink.innerHTML = docLinkHtml;\n",
              "        element.appendChild(docLink);\n",
              "      }\n",
              "    </script>\n",
              "  </div>\n",
              "\n",
              "\n",
              "    <div id=\"df-5bccd05b-5080-422e-94bd-0b3ea1e89c51\">\n",
              "      <button class=\"colab-df-quickchart\" onclick=\"quickchart('df-5bccd05b-5080-422e-94bd-0b3ea1e89c51')\"\n",
              "                title=\"Suggest charts\"\n",
              "                style=\"display:none;\">\n",
              "\n",
              "<svg xmlns=\"http://www.w3.org/2000/svg\" height=\"24px\"viewBox=\"0 0 24 24\"\n",
              "     width=\"24px\">\n",
              "    <g>\n",
              "        <path d=\"M19 3H5c-1.1 0-2 .9-2 2v14c0 1.1.9 2 2 2h14c1.1 0 2-.9 2-2V5c0-1.1-.9-2-2-2zM9 17H7v-7h2v7zm4 0h-2V7h2v10zm4 0h-2v-4h2v4z\"/>\n",
              "    </g>\n",
              "</svg>\n",
              "      </button>\n",
              "\n",
              "<style>\n",
              "  .colab-df-quickchart {\n",
              "      --bg-color: #E8F0FE;\n",
              "      --fill-color: #1967D2;\n",
              "      --hover-bg-color: #E2EBFA;\n",
              "      --hover-fill-color: #174EA6;\n",
              "      --disabled-fill-color: #AAA;\n",
              "      --disabled-bg-color: #DDD;\n",
              "  }\n",
              "\n",
              "  [theme=dark] .colab-df-quickchart {\n",
              "      --bg-color: #3B4455;\n",
              "      --fill-color: #D2E3FC;\n",
              "      --hover-bg-color: #434B5C;\n",
              "      --hover-fill-color: #FFFFFF;\n",
              "      --disabled-bg-color: #3B4455;\n",
              "      --disabled-fill-color: #666;\n",
              "  }\n",
              "\n",
              "  .colab-df-quickchart {\n",
              "    background-color: var(--bg-color);\n",
              "    border: none;\n",
              "    border-radius: 50%;\n",
              "    cursor: pointer;\n",
              "    display: none;\n",
              "    fill: var(--fill-color);\n",
              "    height: 32px;\n",
              "    padding: 0;\n",
              "    width: 32px;\n",
              "  }\n",
              "\n",
              "  .colab-df-quickchart:hover {\n",
              "    background-color: var(--hover-bg-color);\n",
              "    box-shadow: 0 1px 2px rgba(60, 64, 67, 0.3), 0 1px 3px 1px rgba(60, 64, 67, 0.15);\n",
              "    fill: var(--button-hover-fill-color);\n",
              "  }\n",
              "\n",
              "  .colab-df-quickchart-complete:disabled,\n",
              "  .colab-df-quickchart-complete:disabled:hover {\n",
              "    background-color: var(--disabled-bg-color);\n",
              "    fill: var(--disabled-fill-color);\n",
              "    box-shadow: none;\n",
              "  }\n",
              "\n",
              "  .colab-df-spinner {\n",
              "    border: 2px solid var(--fill-color);\n",
              "    border-color: transparent;\n",
              "    border-bottom-color: var(--fill-color);\n",
              "    animation:\n",
              "      spin 1s steps(1) infinite;\n",
              "  }\n",
              "\n",
              "  @keyframes spin {\n",
              "    0% {\n",
              "      border-color: transparent;\n",
              "      border-bottom-color: var(--fill-color);\n",
              "      border-left-color: var(--fill-color);\n",
              "    }\n",
              "    20% {\n",
              "      border-color: transparent;\n",
              "      border-left-color: var(--fill-color);\n",
              "      border-top-color: var(--fill-color);\n",
              "    }\n",
              "    30% {\n",
              "      border-color: transparent;\n",
              "      border-left-color: var(--fill-color);\n",
              "      border-top-color: var(--fill-color);\n",
              "      border-right-color: var(--fill-color);\n",
              "    }\n",
              "    40% {\n",
              "      border-color: transparent;\n",
              "      border-right-color: var(--fill-color);\n",
              "      border-top-color: var(--fill-color);\n",
              "    }\n",
              "    60% {\n",
              "      border-color: transparent;\n",
              "      border-right-color: var(--fill-color);\n",
              "    }\n",
              "    80% {\n",
              "      border-color: transparent;\n",
              "      border-right-color: var(--fill-color);\n",
              "      border-bottom-color: var(--fill-color);\n",
              "    }\n",
              "    90% {\n",
              "      border-color: transparent;\n",
              "      border-bottom-color: var(--fill-color);\n",
              "    }\n",
              "  }\n",
              "</style>\n",
              "\n",
              "      <script>\n",
              "        async function quickchart(key) {\n",
              "          const quickchartButtonEl =\n",
              "            document.querySelector('#' + key + ' button');\n",
              "          quickchartButtonEl.disabled = true;  // To prevent multiple clicks.\n",
              "          quickchartButtonEl.classList.add('colab-df-spinner');\n",
              "          try {\n",
              "            const charts = await google.colab.kernel.invokeFunction(\n",
              "                'suggestCharts', [key], {});\n",
              "          } catch (error) {\n",
              "            console.error('Error during call to suggestCharts:', error);\n",
              "          }\n",
              "          quickchartButtonEl.classList.remove('colab-df-spinner');\n",
              "          quickchartButtonEl.classList.add('colab-df-quickchart-complete');\n",
              "        }\n",
              "        (() => {\n",
              "          let quickchartButtonEl =\n",
              "            document.querySelector('#df-5bccd05b-5080-422e-94bd-0b3ea1e89c51 button');\n",
              "          quickchartButtonEl.style.display =\n",
              "            google.colab.kernel.accessAllowed ? 'block' : 'none';\n",
              "        })();\n",
              "      </script>\n",
              "    </div>\n",
              "\n",
              "  <div id=\"id_7799dbe0-82b0-4c79-aef3-f2de187d0165\">\n",
              "    <style>\n",
              "      .colab-df-generate {\n",
              "        background-color: #E8F0FE;\n",
              "        border: none;\n",
              "        border-radius: 50%;\n",
              "        cursor: pointer;\n",
              "        display: none;\n",
              "        fill: #1967D2;\n",
              "        height: 32px;\n",
              "        padding: 0 0 0 0;\n",
              "        width: 32px;\n",
              "      }\n",
              "\n",
              "      .colab-df-generate:hover {\n",
              "        background-color: #E2EBFA;\n",
              "        box-shadow: 0px 1px 2px rgba(60, 64, 67, 0.3), 0px 1px 3px 1px rgba(60, 64, 67, 0.15);\n",
              "        fill: #174EA6;\n",
              "      }\n",
              "\n",
              "      [theme=dark] .colab-df-generate {\n",
              "        background-color: #3B4455;\n",
              "        fill: #D2E3FC;\n",
              "      }\n",
              "\n",
              "      [theme=dark] .colab-df-generate:hover {\n",
              "        background-color: #434B5C;\n",
              "        box-shadow: 0px 1px 3px 1px rgba(0, 0, 0, 0.15);\n",
              "        filter: drop-shadow(0px 1px 2px rgba(0, 0, 0, 0.3));\n",
              "        fill: #FFFFFF;\n",
              "      }\n",
              "    </style>\n",
              "    <button class=\"colab-df-generate\" onclick=\"generateWithVariable('coords')\"\n",
              "            title=\"Generate code using this dataframe.\"\n",
              "            style=\"display:none;\">\n",
              "\n",
              "  <svg xmlns=\"http://www.w3.org/2000/svg\" height=\"24px\"viewBox=\"0 0 24 24\"\n",
              "       width=\"24px\">\n",
              "    <path d=\"M7,19H8.4L18.45,9,17,7.55,7,17.6ZM5,21V16.75L18.45,3.32a2,2,0,0,1,2.83,0l1.4,1.43a1.91,1.91,0,0,1,.58,1.4,1.91,1.91,0,0,1-.58,1.4L9.25,21ZM18.45,9,17,7.55Zm-12,3A5.31,5.31,0,0,0,4.9,8.1,5.31,5.31,0,0,0,1,6.5,5.31,5.31,0,0,0,4.9,4.9,5.31,5.31,0,0,0,6.5,1,5.31,5.31,0,0,0,8.1,4.9,5.31,5.31,0,0,0,12,6.5,5.46,5.46,0,0,0,6.5,12Z\"/>\n",
              "  </svg>\n",
              "    </button>\n",
              "    <script>\n",
              "      (() => {\n",
              "      const buttonEl =\n",
              "        document.querySelector('#id_7799dbe0-82b0-4c79-aef3-f2de187d0165 button.colab-df-generate');\n",
              "      buttonEl.style.display =\n",
              "        google.colab.kernel.accessAllowed ? 'block' : 'none';\n",
              "\n",
              "      buttonEl.onclick = () => {\n",
              "        google.colab.notebook.generateWithVariable('coords');\n",
              "      }\n",
              "      })();\n",
              "    </script>\n",
              "  </div>\n",
              "\n",
              "    </div>\n",
              "  </div>\n"
            ],
            "application/vnd.google.colaboratory.intrinsic+json": {
              "type": "dataframe",
              "variable_name": "coords",
              "summary": "{\n  \"name\": \"coords\",\n  \"rows\": 459,\n  \"fields\": [\n    {\n      \"column\": \"x\",\n      \"properties\": {\n        \"dtype\": \"number\",\n        \"std\": 90.9335524952873,\n        \"min\": 3.305861839904949,\n        \"max\": 356.1882440575728,\n        \"num_unique_values\": 427,\n        \"samples\": [\n          36.12560805598884,\n          213.9693437878759,\n          40.61377847870121\n        ],\n        \"semantic_type\": \"\",\n        \"description\": \"\"\n      }\n    },\n    {\n      \"column\": \"y\",\n      \"properties\": {\n        \"dtype\": \"number\",\n        \"std\": 62.228597549971845,\n        \"min\": 47.486289438479396,\n        \"max\": 340.0588874136953,\n        \"num_unique_values\": 442,\n        \"samples\": [\n          145.10399513758958,\n          194.1933486755447,\n          140.8963179126807\n        ],\n        \"semantic_type\": \"\",\n        \"description\": \"\"\n      }\n    },\n    {\n      \"column\": \"z\",\n      \"properties\": {\n        \"dtype\": \"number\",\n        \"std\": 25.790419235086105,\n        \"min\": -93.51550178586383,\n        \"max\": -6.322493398178615,\n        \"num_unique_values\": 381,\n        \"samples\": [\n          -35.905109657064635,\n          -53.306384977182766,\n          -89.23748617251375\n        ],\n        \"semantic_type\": \"\",\n        \"description\": \"\"\n      }\n    }\n  ]\n}"
            }
          },
          "metadata": {},
          "execution_count": 19
        }
      ],
      "source": [
        "xs = pd.concat([pd.DataFrame(record['allxc'][plane][0]) for plane in range(1,6)]).rename(columns={0: 'x'}).reset_index().drop(columns='index')\n",
        "ys = pd.concat([pd.DataFrame(record['allyc'][plane][0]) for plane in range(1,6)]).rename(columns={0: 'y'}).reset_index().drop(columns='index')\n",
        "zs = pd.concat([pd.DataFrame(record['allzc'][plane][0]) for plane in range(1,6)]).rename(columns={0: 'z'}).reset_index().drop(columns='index')\n",
        "coords = pd.concat([xs, ys, zs], axis=1)\n",
        "coords\n",
        "# SAVE THIS"
      ]
    },
    {
      "cell_type": "markdown",
      "source": [
        "# Correlation Mapping & CDF\n"
      ],
      "metadata": {
        "id": "kZe7ED0UafCP"
      }
    },
    {
      "cell_type": "code",
      "source": [
        "import matplotlib.pyplot as plt\n",
        "import numpy as np\n",
        "from mpl_toolkits.mplot3d import Axes3D"
      ],
      "metadata": {
        "id": "PfREgEBUeetJ"
      },
      "execution_count": null,
      "outputs": []
    },
    {
      "cell_type": "code",
      "source": [
        "# Correlation mapping of significant neurons in V2/3 Auditory Cortex\n",
        "fig = plt.figure()\n",
        "ax = fig.add_subplot(111, projection='3d')\n",
        "ax.scatter(xs.loc[neurons_sig], ys.loc[neurons_sig], zs.loc[neurons_sig])\n",
        "ax.set_xlabel('X-location (micrometer)')\n",
        "ax.set_ylabel('Y-axis (micrometer)')\n",
        "ax.set_zlabel('Z-axis (micrometer)')\n",
        "ax.set_title('Signifcant Neurons in V2/3 Auditory Cortex')\n",
        "plt.show()"
      ],
      "metadata": {
        "colab": {
          "base_uri": "https://localhost:8080/",
          "height": 440
        },
        "id": "VvtHr7P5fE49",
        "outputId": "329263a2-aa5f-4101-b87f-417d438ea442"
      },
      "execution_count": 115,
      "outputs": [
        {
          "output_type": "display_data",
          "data": {
            "text/plain": [
              "<Figure size 640x480 with 1 Axes>"
            ],
            "image/png": "[encoded data removed]"
          },
          "metadata": {}
        }
      ]
    },
    {
      "cell_type": "code",
      "source": [
        "# Signal correlation cumulative distribution functions (CDF)\n",
        "scs = pd.DataFrame(record['CorrInfo']['SigCorrs'][0][1])\n",
        "sc_values = scs.values.flatten()\n",
        "sc_values = sc_values[~np.isnan(sc_values)]\n",
        "sc_sorted = np.sort(sc_values)\n",
        "cdf = np.linspace(0, 1, len(sc_sorted))"
      ],
      "metadata": {
        "id": "ZxtvlZCUCsPi"
      },
      "execution_count": null,
      "outputs": []
    },
    {
      "cell_type": "code",
      "source": [
        "plt.figure(figsize=(6, 6))\n",
        "plt.plot(sc_sorted, cdf, color='royalblue', linewidth=2, label='SC CDF')\n",
        "plt.axvline(np.median(sc_sorted), color='royalblue', linestyle='--', linewidth=1.5, label='Median')\n",
        "plt.xlabel(\"Signal correlation\")\n",
        "plt.ylabel(\"CDF\")\n",
        "plt.xlim(-0.9, 0.9)\n",
        "plt.ylim(0, 1)\n",
        "plt.title(\"CDF of Significant Signal Correlations\")\n",
        "plt.grid(False)\n",
        "plt.tight_layout()\n",
        "plt.legend()\n",
        "plt.show()"
      ],
      "metadata": {
        "colab": {
          "base_uri": "https://localhost:8080/",
          "height": 607
        },
        "id": "smouquMhGv4T",
        "outputId": "acfadaad-4361-423b-c136-fa2717bf0e1d"
      },
      "execution_count": null,
      "outputs": [
        {
          "output_type": "display_data",
          "data": {
            "text/plain": [
              "<Figure size 600x600 with 1 Axes>"
            ],
            "image/png": "[encoded data removed]"
          },
          "metadata": {}
        }
      ]
    },
    {
      "cell_type": "markdown",
      "metadata": {
        "id": "dt612z1Mywdd"
      },
      "source": [
        "# Tree Pruning"
      ]
    },
    {
      "cell_type": "code",
      "execution_count": 108,
      "metadata": {
        "id": "t0A5hjqgywdd"
      },
      "outputs": [],
      "source": [
        "#pip install bctpy\n",
        "import bct\n",
        "from scipy.stats import pearsonr\n",
        "import matplotlib.pyplot as plt\n",
        "from mpl_toolkits.mplot3d import Axes3D\n",
        "import networkx as nx"
      ]
    },
    {
      "cell_type": "code",
      "execution_count": null,
      "metadata": {
        "id": "TR9Dh3trywdd"
      },
      "outputs": [],
      "source": [
        "# Create thresholds\n",
        "thr_07 = bct.threshold_absolute(corrs.to_numpy(), 0.7)\n",
        "thr_08 = bct.threshold_absolute(corrs.to_numpy(), 0.8)\n",
        "thr_09 = bct.threshold_absolute(corrs.to_numpy(), 0.9)\n",
        "\n",
        "# Extract tuning curves and coordinates\n",
        "tuning_curves_sig = tuning_curves.loc[neurons_sig].to_numpy()\n",
        "coords_sig = coords.loc[neurons_sig].to_numpy()\n",
        "\n",
        "# Compute signal correlation matrix from extractions\n",
        "n_neurons = tuning_curves_sig.shape[0]\n",
        "sc_matrix = np.zeros((n_neurons, n_neurons))\n",
        "\n",
        "for i in range(n_neurons):\n",
        "    for j in range(i, n_neurons):\n",
        "        r, _ = pearsonr(tuning_curves_sig[i], tuning_curves_sig[j])\n",
        "        sc_matrix[i, j] = r\n",
        "        sc_matrix[j, i] = r"
      ]
    },
    {
      "cell_type": "code",
      "execution_count": 111,
      "metadata": {
        "id": "zAaQBdviywde"
      },
      "outputs": [],
      "source": [
        "# Full Network Graph\n",
        "G_full = nx.Graph()\n",
        "for i in range(n_neurons):\n",
        "    G_full.add_node(i, pos=coords_sig[i])\n",
        "\n",
        "for i in range(n_neurons):\n",
        "    for j in range(i + 1, n_neurons):\n",
        "        if not np.isnan(sc_matrix[i, j]):\n",
        "            G_full.add_edge(i, j, weight=sc_matrix[i, j])\n",
        "\n",
        "# O.7 Threshold Graph\n",
        "threshold = 0.7\n",
        "G_thresh_7 = nx.Graph()\n",
        "for i in range(n_neurons):\n",
        "    G_thresh_7.add_node(i, pos=coords_sig[i])\n",
        "\n",
        "for i in range(n_neurons):\n",
        "    for j in range(i + 1, n_neurons):\n",
        "        if sc_matrix[i, j] >= threshold:\n",
        "            G_thresh_7.add_edge(i, j, weight=sc_matrix[i, j])\n",
        "\n",
        "# O.8 Threshold Graph\n",
        "threshold = 0.8\n",
        "G_thresh_8 = nx.Graph()\n",
        "for i in range(n_neurons):\n",
        "    G_thresh_8.add_node(i, pos=coords_sig[i])\n",
        "\n",
        "for i in range(n_neurons):\n",
        "    for j in range(i + 1, n_neurons):\n",
        "        if sc_matrix[i, j] >= threshold:\n",
        "            G_thresh_8.add_edge(i, j, weight=sc_matrix[i, j])\n",
        "\n",
        "# O.9 Threshold Graph\n",
        "threshold = 0.9\n",
        "G_thresh_9 = nx.Graph()\n",
        "for i in range(n_neurons):\n",
        "    G_thresh_9.add_node(i, pos=coords_sig[i])\n",
        "\n",
        "for i in range(n_neurons):\n",
        "    for j in range(i + 1, n_neurons):\n",
        "        if sc_matrix[i, j] >= threshold:\n",
        "            G_thresh_9.add_edge(i, j, weight=sc_matrix[i, j])\n",
        "\n",
        "# Minimum Spanning Tree (MST)\n",
        "dist_matrix = 1 - sc_matrix\n",
        "G_dist = nx.Graph()\n",
        "for i in range(n_neurons):\n",
        "    G_dist.add_node(i, pos=coords_sig[i])\n",
        "\n",
        "for i in range(n_neurons):\n",
        "    for j in range(i + 1, n_neurons):\n",
        "        if not np.isnan(dist_matrix[i, j]):\n",
        "            G_dist.add_edge(i, j, weight=dist_matrix[i, j])\n",
        "\n",
        "G_mst = nx.minimum_spanning_tree(G_dist)"
      ]
    },
    {
      "cell_type": "code",
      "source": [
        "def plot_graph_3d(G, title, ax, edge_color='gray', node_color='royalblue'):\n",
        "    pos = nx.get_node_attributes(G, 'pos')\n",
        "\n",
        "    for i, j in G.edges():\n",
        "        x = [pos[i][0], pos[j][0]]\n",
        "        y = [pos[i][1], pos[j][1]]\n",
        "        z = [pos[i][2], pos[j][2]]\n",
        "        ax.plot(x, y, z, color=edge_color, alpha=0.6)\n",
        "\n",
        "    xs, ys, zs = zip(*pos.values())\n",
        "    ax.scatter(xs, ys, zs, color=node_color, s=10)\n",
        "\n",
        "    ax.set_title(title, fontsize=10)\n",
        "    ax.set_axis_off()"
      ],
      "metadata": {
        "id": "GYd8D7vvV1g1"
      },
      "execution_count": 112,
      "outputs": []
    },
    {
      "cell_type": "code",
      "source": [
        "fig = plt.figure(figsize=(16, 10))\n",
        "\n",
        "graphs = [\n",
        "    (G_full, \"Full Network\"),\n",
        "    (G_thresh_7, \"Threshold ≥ 0.7\"),\n",
        "    (G_thresh_8, \"Threshold ≥ 0.8\"),\n",
        "    (G_thresh_9, \"Threshold ≥ 0.9\"),\n",
        "    (G_mst, \"Minimum Spanning Tree (MST)\")\n",
        "]\n",
        "\n",
        "for i, (G, title) in enumerate(graphs):\n",
        "    ax = fig.add_subplot(2, 3, i + 1, projection='3d')\n",
        "    plot_graph_3d(G, title, ax)\n",
        "\n",
        "plt.tight_layout()\n",
        "plt.show()"
      ],
      "metadata": {
        "colab": {
          "base_uri": "https://localhost:8080/",
          "height": 642
        },
        "id": "bNtRv8svVIyy",
        "outputId": "0f69e956-e6ac-4272-93fe-61cbde8e3425"
      },
      "execution_count": 113,
      "outputs": [
        {
          "output_type": "display_data",
          "data": {
            "text/plain": [
              "<Figure size 1600x1000 with 5 Axes>"
            ],
            "image/png": "[encoded data removed]"
          },
          "metadata": {}
        }
      ]
    },
    {
      "cell_type": "markdown",
      "source": [
        "# Probability Distributions of Neuron Distances"
      ],
      "metadata": {
        "id": "oLHX_w6nY4bH"
      }
    },
    {
      "cell_type": "code",
      "source": [
        "from scipy.spatial.distance import pdist\n",
        "import seaborn as sns"
      ],
      "metadata": {
        "id": "cVnfeub8Y3z0"
      },
      "execution_count": 116,
      "outputs": []
    },
    {
      "cell_type": "code",
      "source": [
        "all_pairwise_distances = pdist(coords_sig)\n",
        "\n",
        "def connection_distances(graph, coords):\n",
        "    dists = []\n",
        "    for u, v in graph.edges():\n",
        "        dist = np.linalg.norm(coords[u] - coords[v])\n",
        "        dists.append(dist)\n",
        "    return np.array(dists)\n",
        "\n",
        "dist_full = connection_distances(G_full, coords_sig)\n",
        "dist_thresh_7 = connection_distances(G_thresh_7, coords_sig)\n",
        "dist_thresh_8 = connection_distances(G_thresh_8, coords_sig)\n",
        "dist_thresh_9 = connection_distances(G_thresh_9, coords_sig)\n",
        "dist_mst = connection_distances(G_mst, coords_sig)"
      ],
      "metadata": {
        "id": "RC1J-VbpZWBA"
      },
      "execution_count": null,
      "outputs": []
    },
    {
      "cell_type": "code",
      "source": [
        "plt.figure(figsize=(8, 6))\n",
        "\n",
        "sns.kdeplot(all_pairwise_distances, label='All pairs', color='gray', linestyle='--')\n",
        "sns.kdeplot(dist_thresh_7, label='Threshold ≥ 0.7', color='skyblue')\n",
        "sns.kdeplot(dist_thresh_8, label='Threshold ≥ 0.8', color='royalblue')\n",
        "sns.kdeplot(dist_thresh_9, label='Threshold ≥ 0.9', color='navy')\n",
        "sns.kdeplot(dist_mst, label='MST', color='crimson')\n",
        "\n",
        "plt.xlabel(\"Distance between connected neurons (µm)\")\n",
        "plt.ylabel(\"Density\")\n",
        "plt.title(\"Distribution of connection distances\")\n",
        "plt.legend()\n",
        "plt.tight_layout()\n",
        "plt.show()"
      ],
      "metadata": {
        "id": "7NLA1K-UHDBx"
      },
      "execution_count": null,
      "outputs": []
    },
    {
      "cell_type": "markdown",
      "metadata": {
        "id": "tyEC2pnJywdf"
      },
      "source": [
        "# Rentian scaling"
      ]
    },
    {
      "cell_type": "code",
      "execution_count": null,
      "metadata": {
        "id": "vJGt8hOEywdg"
      },
      "outputs": [],
      "source": [
        "from scipy import stats\n",
        "import statsmodels.api as sm"
      ]
    },
    {
      "cell_type": "code",
      "execution_count": null,
      "metadata": {
        "id": "4ZDR4u20ywdg"
      },
      "outputs": [],
      "source": [
        "# this is an updated version from bctpy\n",
        "def my_rentian_scaling(A, xyz, n, seed=42):\n",
        "    rng = np.random.default_rng(seed)\n",
        "    m = np.size(xyz, axis=0)  # find number of nodes in system\n",
        "\n",
        "    # rescale coordinates so they are all greater than unity\n",
        "    xyzn = xyz - np.tile(np.min(xyz, axis=0) - 1, (m, 1))\n",
        "\n",
        "    # find the absolute minimum and maximum over all directions\n",
        "    nmax = np.max(xyzn)\n",
        "    nmin = np.min(xyzn)\n",
        "\n",
        "    count = 0\n",
        "    N = np.zeros((n,))\n",
        "    E = np.zeros((n,))\n",
        "\n",
        "    # create partitions and count the number of nodes inside the partition (n)\n",
        "    # and the number of edges traversing the boundary of the partition (e)\n",
        "    while count < n:\n",
        "        # define cube endpoints\n",
        "        randx = np.sort((nmax - nmin) * rng.random((2,)))\n",
        "        randy = np.sort((nmax - nmin) * rng.random((2,)))\n",
        "        randz = np.sort((nmax - nmin) * rng.random((2,)))\n",
        "\n",
        "        # ensure cube is within network boundaries\n",
        "        randx[0] = max(randx[0], nmin)\n",
        "        randx[1] = min(randx[1], nmax)\n",
        "        randy[0] = max(randy[0], nmin)\n",
        "        randy[1] = min(randy[1], nmax)\n",
        "        randz[0] = max(randz[0], nmin)\n",
        "        randz[1] = min(randz[1], nmax)\n",
        "\n",
        "        # find nodes in cube\n",
        "        l1 = xyzn[:, 0] > randx[0]\n",
        "        l2 = xyzn[:, 0] < randx[1]\n",
        "        l3 = xyzn[:, 1] > randx[0]\n",
        "        l4 = xyzn[:, 1] < randx[1]\n",
        "        l5 = xyzn[:, 2] > randx[0]\n",
        "        l6 = xyzn[:, 2] < randx[1]\n",
        "\n",
        "        L, = np.where((l1 & l2 & l3 & l4 & l5 & l6).flatten())\n",
        "        if np.size(L):\n",
        "            # count edges crossing at the boundary of the cube\n",
        "            E[count] = np.sum(A[np.ix_(L, np.setdiff1d(range(m), L))])\n",
        "            # count nodes inside of the cube\n",
        "            N[count] = np.size(L)\n",
        "            count += 1\n",
        "\n",
        "    return N, E"
      ]
    },
    {
      "cell_type": "code",
      "execution_count": null,
      "metadata": {
        "id": "FuH7J6Z9ywdh"
      },
      "outputs": [],
      "source": [
        "def rent_exp_linreg(A, coords, M=20):\n",
        "    # M = 1000  # number of partitions, if we have at least M more than neurons, then each partition has about 1 neuron\n",
        "\n",
        "    N, E = my_rentian_scaling(A, coords.to_numpy(), M, seed=42)\n",
        "    # bctpy docs say recommended step is to prune partitions with N < M/2, but according to matlab function header, setting random boxes\n",
        "    N_prime = N # [N < M/2]\n",
        "    E_prime = E # [N < M/2]\n",
        "\n",
        "    # Log-log transformation\n",
        "    log_N_prime = np.log10(N_prime)\n",
        "    log_E_prime = np.log10(E_prime)\n",
        "\n",
        "    # Perform linear regression\n",
        "    slope, intercept, r_value, p_value, std_err = stats.linregress(x=log_N_prime, y=log_E_prime)\n",
        "\n",
        "    # The Rent's exponent is the slope\n",
        "    rent_exponent = slope\n",
        "    print(\"Rent's exponent:\", rent_exponent)\n",
        "\n",
        "    # Standard error of the estimation\n",
        "    std_error = std_err\n",
        "    print(\"Standard error of the estimation:\", std_error)\n",
        "    return rent_exponent, std_error"
      ]
    },
    {
      "cell_type": "code",
      "execution_count": null,
      "metadata": {
        "id": "y2t2vVcAywdi"
      },
      "outputs": [],
      "source": [
        "def rent_exp_sm(A, coords, M=20):\n",
        "    # M = 1000  # number of partitions, if we have at least M more than neurons, then each partition has about 1 neuron\n",
        "\n",
        "    N, E = my_rentian_scaling(A, coords.to_numpy(), M, seed=42)\n",
        "    # recommended step is to prune partitions with N < M/2\n",
        "    N_prime = N # [N < M/2]\n",
        "    E_prime = E # [N < M/2]\n",
        "\n",
        "    # Log-log transformation\n",
        "    log_N_prime = np.log10(N_prime)\n",
        "    log_E_prime = np.log10(E_prime)\n",
        "\n",
        "    # Add a constant (intercept) to the independent value\n",
        "    log_N_prime = sm.add_constant(log_N_prime)\n",
        "\n",
        "    # Fit the robust linear model\n",
        "    model = sm.RLM(log_E_prime, log_N_prime, M=statsmodels.robust.norms.TukeyBiweight()) # , M=sm.robust.norms.HuberT())\n",
        "    results = model.fit()\n",
        "\n",
        "    # The Rent's exponent is the coefficient of the slope\n",
        "    rent_exponent = results.params[1]\n",
        "    print(\"Rent's exponent:\", rent_exponent)\n",
        "\n",
        "    # Standard error of the estimation\n",
        "    std_error = results.bse[1]\n",
        "    print(\"Standard error of the estimation:\", std_error)\n",
        "    return rent_exponent, std_error\n"
      ]
    },
    {
      "cell_type": "code",
      "execution_count": null,
      "metadata": {
        "id": "lhPF33qlywdk"
      },
      "outputs": [],
      "source": [
        "def rent_exp_theilslopes(A, coords, M=20):\n",
        "    # M = 1000  # number of partitions, if we have at least M more than neurons, then each partition has about 1 neuron\n",
        "\n",
        "    N, E = my_rentian_scaling(A, coords.to_numpy(), M, seed=42)\n",
        "    # recommended step is to prune partitions with N < M/2\n",
        "    N_prime = N # [N < M/2]\n",
        "    E_prime = E # [N < M/2]\n",
        "\n",
        "    # Log-log transformation\n",
        "    log_N_prime = np.log10(N_prime)\n",
        "    log_E_prime = np.log10(E_prime)\n",
        "\n",
        "    slope, intercept, low_slope, high_slope = stats.theilslopes(y=log_E_prime, x=log_N_prime)\n",
        "    # The Rent's exponent is the coefficient of the slope\n",
        "    print(\"Rent's exponent:\", slope)\n",
        "\n",
        "    # Standard error of the estimation\n",
        "    print(\"Low and high of exp:\", low_slope, high_slope)\n",
        "    return slope, (low_slope, high_slope)\n"
      ]
    },
    {
      "cell_type": "code",
      "execution_count": null,
      "metadata": {
        "id": "6sFZxlBxywdl"
      },
      "outputs": [],
      "source": [
        "\n",
        "rent_exp = rent_exp_sm"
      ]
    },
    {
      "cell_type": "code",
      "execution_count": null,
      "metadata": {
        "scrolled": true,
        "id": "o71XS4pBywdl"
      },
      "outputs": [],
      "source": [
        "# slope of Eprime vs Nprime in loglog space is Rent's exponent"
      ]
    },
    {
      "cell_type": "code",
      "execution_count": null,
      "metadata": {
        "id": "VvQ0OwDCywdm",
        "outputId": "0b9d451b-bbad-4f16-95b1-9fa88764cb87",
        "colab": {
          "base_uri": "https://localhost:8080/"
        }
      },
      "outputs": [
        {
          "output_type": "stream",
          "name": "stdout",
          "text": [
            "Rent's exponent: 0.7979969529974278\n",
            "Standard error of the estimation: 0.024774288336280603\n"
          ]
        },
        {
          "output_type": "execute_result",
          "data": {
            "text/plain": [
              "(np.float64(0.7979969529974278), np.float64(0.024774288336280603))"
            ]
          },
          "metadata": {},
          "execution_count": 30
        }
      ],
      "source": [
        "rent_exp_linreg(thr_07, coords)"
      ]
    },
    {
      "cell_type": "code",
      "execution_count": null,
      "metadata": {
        "id": "jeqeX6lFywdn",
        "outputId": "535383af-2594-4676-bcad-62e35bd23345",
        "colab": {
          "base_uri": "https://localhost:8080/"
        }
      },
      "outputs": [
        {
          "output_type": "stream",
          "name": "stdout",
          "text": [
            "Rent's exponent: 0.7977337770564509\n",
            "Standard error of the estimation: 0.030105779503602256\n"
          ]
        },
        {
          "output_type": "execute_result",
          "data": {
            "text/plain": [
              "(np.float64(0.7977337770564509), np.float64(0.030105779503602256))"
            ]
          },
          "metadata": {},
          "execution_count": 31
        }
      ],
      "source": [
        "rent_exp_linreg(thr_08, coords)"
      ]
    },
    {
      "cell_type": "code",
      "execution_count": null,
      "metadata": {
        "id": "1dP9FmnAyweM",
        "outputId": "1e79ee7a-3aed-4a7b-b6b8-107a5f3a4655",
        "colab": {
          "base_uri": "https://localhost:8080/"
        }
      },
      "outputs": [
        {
          "output_type": "stream",
          "name": "stdout",
          "text": [
            "Rent's exponent: 0.7760164108882367\n",
            "Standard error of the estimation: 0.050780503090631736\n"
          ]
        },
        {
          "output_type": "execute_result",
          "data": {
            "text/plain": [
              "(np.float64(0.7760164108882367), np.float64(0.050780503090631736))"
            ]
          },
          "metadata": {},
          "execution_count": 32
        }
      ],
      "source": [
        "rent_exp_linreg(thr_09, coords)"
      ]
    },
    {
      "cell_type": "code",
      "execution_count": null,
      "metadata": {
        "id": "_BpoZaWhyweO",
        "outputId": "7c99b618-042d-48b0-807d-bbd74d5408cc",
        "colab": {
          "base_uri": "https://localhost:8080/"
        }
      },
      "outputs": [
        {
          "output_type": "stream",
          "name": "stdout",
          "text": [
            "Rent's exponent: 0.7879798604029482\n",
            "Standard error of the estimation: 0.024260453052911954\n"
          ]
        },
        {
          "output_type": "execute_result",
          "data": {
            "text/plain": [
              "(np.float64(0.7879798604029482), np.float64(0.024260453052911954))"
            ]
          },
          "metadata": {},
          "execution_count": 33
        }
      ],
      "source": [
        "rent_exp_sm(thr_07, coords)"
      ]
    },
    {
      "cell_type": "code",
      "execution_count": null,
      "metadata": {
        "id": "b7yoGIZ1yweP",
        "outputId": "ccab2872-8ee5-4e48-d4c6-cb285f5617da",
        "colab": {
          "base_uri": "https://localhost:8080/"
        }
      },
      "outputs": [
        {
          "output_type": "stream",
          "name": "stdout",
          "text": [
            "Rent's exponent: 0.791644044882361\n",
            "Standard error of the estimation: 0.030202674140532945\n"
          ]
        },
        {
          "output_type": "execute_result",
          "data": {
            "text/plain": [
              "(np.float64(0.791644044882361), np.float64(0.030202674140532945))"
            ]
          },
          "metadata": {},
          "execution_count": 34
        }
      ],
      "source": [
        "rent_exp_sm(thr_08, coords)"
      ]
    },
    {
      "cell_type": "code",
      "execution_count": null,
      "metadata": {
        "id": "FuuC_T7tyweP",
        "outputId": "fb86156f-7d73-4852-bcff-d9a80dbbbb9b",
        "colab": {
          "base_uri": "https://localhost:8080/"
        }
      },
      "outputs": [
        {
          "output_type": "stream",
          "name": "stdout",
          "text": [
            "Rent's exponent: 0.7105219526504853\n",
            "Standard error of the estimation: 0.023438146342793405\n"
          ]
        },
        {
          "output_type": "execute_result",
          "data": {
            "text/plain": [
              "(np.float64(0.7105219526504853), np.float64(0.023438146342793405))"
            ]
          },
          "metadata": {},
          "execution_count": 35
        }
      ],
      "source": [
        "rent_exp_sm(thr_09, coords)"
      ]
    },
    {
      "cell_type": "code",
      "execution_count": null,
      "metadata": {
        "id": "6wOnznC1yweQ",
        "outputId": "f1c7ff3e-f44b-4725-fb66-59bb53af5b78",
        "colab": {
          "base_uri": "https://localhost:8080/"
        }
      },
      "outputs": [
        {
          "output_type": "stream",
          "name": "stdout",
          "text": [
            "Rent's exponent: 0.7640521501949207\n",
            "Low and high of exp: 0.7182415591060848 0.8258302258096055\n"
          ]
        },
        {
          "output_type": "execute_result",
          "data": {
            "text/plain": [
              "(np.float64(0.7640521501949207),\n",
              " (np.float64(0.7182415591060848), np.float64(0.8258302258096055)))"
            ]
          },
          "metadata": {},
          "execution_count": 36
        }
      ],
      "source": [
        "rent_exp_theilslopes(thr_07, coords)"
      ]
    },
    {
      "cell_type": "code",
      "execution_count": null,
      "metadata": {
        "id": "i6sSv4I2yweR",
        "outputId": "075e0391-88d4-43b3-e29c-3ec6054d624f",
        "colab": {
          "base_uri": "https://localhost:8080/"
        }
      },
      "outputs": [
        {
          "output_type": "stream",
          "name": "stdout",
          "text": [
            "Rent's exponent: 0.7561732187032822\n",
            "Low and high of exp: 0.6600985558453754 0.8252323908153292\n"
          ]
        },
        {
          "output_type": "execute_result",
          "data": {
            "text/plain": [
              "(np.float64(0.7561732187032822),\n",
              " (np.float64(0.6600985558453754), np.float64(0.8252323908153292)))"
            ]
          },
          "metadata": {},
          "execution_count": 40
        }
      ],
      "source": [
        "rent_exp_theilslopes(thr_08, coords)"
      ]
    },
    {
      "cell_type": "code",
      "execution_count": null,
      "metadata": {
        "id": "kPkLwIlByweR",
        "outputId": "faa00513-3b7d-465b-f4c8-07aac6506cbe",
        "colab": {
          "base_uri": "https://localhost:8080/"
        }
      },
      "outputs": [
        {
          "output_type": "stream",
          "name": "stdout",
          "text": [
            "Rent's exponent: 0.6969077443494012\n",
            "Low and high of exp: 0.6183699698131678 0.7726547092150107\n"
          ]
        },
        {
          "output_type": "execute_result",
          "data": {
            "text/plain": [
              "(np.float64(0.6969077443494012),\n",
              " (np.float64(0.6183699698131678), np.float64(0.7726547092150107)))"
            ]
          },
          "metadata": {},
          "execution_count": 41
        }
      ],
      "source": [
        "rent_exp_theilslopes(thr_09, coords)"
      ]
    },
    {
      "cell_type": "code",
      "execution_count": null,
      "metadata": {
        "id": "OSDgyq7iyweS"
      },
      "outputs": [],
      "source": [
        "from sklearn.metrics import r2_score"
      ]
    },
    {
      "cell_type": "code",
      "execution_count": null,
      "metadata": {
        "id": "a5Sjay2eyweS",
        "outputId": "455cbe17-4b8c-4351-cc6f-606d9426859f",
        "colab": {
          "base_uri": "https://localhost:8080/"
        }
      },
      "outputs": [
        {
          "output_type": "stream",
          "name": "stdout",
          "text": [
            "Power law R^2: 0.96\n",
            "Exponential law R^2: -64868138773655669365084011848256247664824175707126269531557793095685694440752724086376370870538077504460514485746137263171687572357126258167227012313971596797247412782285074295592397871970779136.00\n"
          ]
        }
      ],
      "source": [
        "import numpy as np\n",
        "from scipy.optimize import curve_fit\n",
        "\n",
        "# Define the power law function\n",
        "def power_law(x, a, b):\n",
        "    return a * x**b\n",
        "\n",
        "# Define the exponential law function\n",
        "def exponential_law(x, a, b):\n",
        "    return a * np.exp(b * x)\n",
        "\n",
        "N, E = my_rentian_scaling(thr_09, coords.to_numpy(), 20)\n",
        "X, Y = N, E\n",
        "\n",
        "# Fit the power law\n",
        "popt_power, pcov_power = curve_fit(power_law, X, Y)\n",
        "y_fit_power = power_law(X, *popt_power)\n",
        "\n",
        "# Fit the exponential law\n",
        "popt_exponential, pcov_exponential = curve_fit(exponential_law, X, Y)\n",
        "y_fit_exponential = exponential_law(X, *popt_exponential)\n",
        "\n",
        "def r2(y, y_fit):\n",
        "    ss_res = np.sum((y - y_fit)**2)\n",
        "    ss_tot = np.sum((y - np.mean(y))**2)\n",
        "    return max(0, 1 - (ss_res / ss_tot))\n",
        "\n",
        "# Calculate the R^2 values\n",
        "r2_power = r2_score(Y, y_fit_power)\n",
        "r2_exponential = r2_score(Y, y_fit_exponential)\n",
        "\n",
        "print(\"Power law R^2: {:.2f}\".format(r2_power))\n",
        "print(\"Exponential law R^2: {:.2f}\".format(r2_exponential))\n",
        "\n",
        "# If power law fit > exponential law fit, then rentian scaling is achieved"
      ]
    },
    {
      "cell_type": "markdown",
      "metadata": {
        "id": "DTRrBuhgyweT"
      },
      "source": [
        "# Graph metrics"
      ]
    },
    {
      "cell_type": "code",
      "execution_count": null,
      "metadata": {
        "id": "R8013j0PyweT",
        "outputId": "0421e5b7-d573-4090-8822-f67d9c347a48",
        "colab": {
          "base_uri": "https://localhost:8080/"
        }
      },
      "outputs": [
        {
          "output_type": "stream",
          "name": "stderr",
          "text": [
            "/usr/local/lib/python3.11/dist-packages/bct/algorithms/distance.py:158: RuntimeWarning: divide by zero encountered in divide\n",
            "  efficiency = np.mean(1 / Dv)\n"
          ]
        },
        {
          "output_type": "execute_result",
          "data": {
            "text/plain": [
              "np.float64(0.0332044271900948)"
            ]
          },
          "metadata": {},
          "execution_count": 44
        }
      ],
      "source": [
        "# average shortest path lenght\n",
        "charpath_07 = bct.charpath(thr_07)[0]\n",
        "charpath_07"
      ]
    },
    {
      "cell_type": "code",
      "execution_count": null,
      "metadata": {
        "id": "FdR5ilGiyweT",
        "outputId": "4804e797-606a-41c3-e4a8-953821dcbd39",
        "colab": {
          "base_uri": "https://localhost:8080/"
        }
      },
      "outputs": [
        {
          "output_type": "execute_result",
          "data": {
            "text/plain": [
              "np.float64(0.011518745898970208)"
            ]
          },
          "metadata": {},
          "execution_count": 45
        }
      ],
      "source": [
        "# average shortest path lenght\n",
        "charpath_08 = bct.charpath(thr_08)[0]\n",
        "charpath_08"
      ]
    },
    {
      "cell_type": "code",
      "execution_count": null,
      "metadata": {
        "id": "6xdjDM-1yweU",
        "outputId": "56539830-63c0-45c0-a1dc-072e34899e42",
        "colab": {
          "base_uri": "https://localhost:8080/"
        }
      },
      "outputs": [
        {
          "output_type": "execute_result",
          "data": {
            "text/plain": [
              "np.float64(0.001606084972873524)"
            ]
          },
          "metadata": {},
          "execution_count": 46
        }
      ],
      "source": [
        "# average shortest path lenght\n",
        "charpath_09 = bct.charpath(thr_09)[0]\n",
        "charpath_09"
      ]
    },
    {
      "cell_type": "code",
      "execution_count": null,
      "metadata": {
        "id": "Y8HGsnlYyweU"
      },
      "outputs": [],
      "source": [
        "# assortativity - higher means nodes tend to link more to other nodes with same or similar strength (weighted degree)"
      ]
    },
    {
      "cell_type": "code",
      "execution_count": null,
      "metadata": {
        "id": "e4qKZSoPyweV",
        "outputId": "5a08e042-5735-4d1b-96f7-c774e94f3811",
        "colab": {
          "base_uri": "https://localhost:8080/"
        }
      },
      "outputs": [
        {
          "output_type": "execute_result",
          "data": {
            "text/plain": [
              "np.float64(0.5395543423275434)"
            ]
          },
          "metadata": {},
          "execution_count": 48
        }
      ],
      "source": [
        "bct.assortativity_wei(thr_07, 0)"
      ]
    },
    {
      "cell_type": "code",
      "execution_count": null,
      "metadata": {
        "id": "yEfWBrqmyweW",
        "outputId": "3bcabfcd-260f-4bd8-d859-a3d65f6e0d39",
        "colab": {
          "base_uri": "https://localhost:8080/"
        }
      },
      "outputs": [
        {
          "output_type": "execute_result",
          "data": {
            "text/plain": [
              "np.float64(0.5433717803948911)"
            ]
          },
          "metadata": {},
          "execution_count": 49
        }
      ],
      "source": [
        "bct.assortativity_wei(thr_08, 0)"
      ]
    },
    {
      "cell_type": "code",
      "execution_count": null,
      "metadata": {
        "id": "HztkCUwqyweW",
        "outputId": "a6fcdd7a-b5b6-49f1-a715-be3ef3a5a175",
        "colab": {
          "base_uri": "https://localhost:8080/"
        }
      },
      "outputs": [
        {
          "output_type": "execute_result",
          "data": {
            "text/plain": [
              "np.float64(0.5036633974126609)"
            ]
          },
          "metadata": {},
          "execution_count": 50
        }
      ],
      "source": [
        "bct.assortativity_wei(thr_09, 0)"
      ]
    },
    {
      "cell_type": "code",
      "execution_count": null,
      "metadata": {
        "id": "6hA3BpB8yweW"
      },
      "outputs": [],
      "source": [
        "# transitivity is scalar version of clustering coefficient"
      ]
    },
    {
      "cell_type": "code",
      "execution_count": null,
      "metadata": {
        "id": "q2ecXhd-yweX",
        "outputId": "55aa8429-cb73-4c26-8104-7f251c00c8b1",
        "colab": {
          "base_uri": "https://localhost:8080/"
        }
      },
      "outputs": [
        {
          "output_type": "execute_result",
          "data": {
            "text/plain": [
              "np.float64(0.3157608622686661)"
            ]
          },
          "metadata": {},
          "execution_count": 52
        }
      ],
      "source": [
        "bct.transitivity_wu(thr_07)"
      ]
    },
    {
      "cell_type": "code",
      "execution_count": null,
      "metadata": {
        "id": "eoXhtDiQyweX",
        "outputId": "ac6069b0-bfac-470c-f5d8-7e0e9495d1ed",
        "colab": {
          "base_uri": "https://localhost:8080/"
        }
      },
      "outputs": [
        {
          "output_type": "execute_result",
          "data": {
            "text/plain": [
              "np.float64(0.307346098780039)"
            ]
          },
          "metadata": {},
          "execution_count": 53
        }
      ],
      "source": [
        "bct.transitivity_wu(thr_08)"
      ]
    },
    {
      "cell_type": "code",
      "execution_count": null,
      "metadata": {
        "id": "1PxbGCGTyweY",
        "outputId": "973fbf7f-7e03-42e8-be17-ed593d6f211d",
        "colab": {
          "base_uri": "https://localhost:8080/"
        }
      },
      "outputs": [
        {
          "output_type": "execute_result",
          "data": {
            "text/plain": [
              "np.float64(0.2881814995307847)"
            ]
          },
          "metadata": {},
          "execution_count": 54
        }
      ],
      "source": [
        "bct.transitivity_wu(thr_09)"
      ]
    },
    {
      "cell_type": "code",
      "execution_count": null,
      "metadata": {
        "id": "KFYemGApyweY"
      },
      "outputs": [],
      "source": [
        "import networkx as nx"
      ]
    },
    {
      "cell_type": "markdown",
      "metadata": {
        "id": "sjVLQHlFyweZ"
      },
      "source": [
        "help(nx.minimum_spanning_tree)"
      ]
    },
    {
      "cell_type": "code",
      "execution_count": null,
      "metadata": {
        "id": "_17_-TfpyweZ"
      },
      "outputs": [],
      "source": [
        "# crashes, may have to write our own version or update bctpy's\n",
        "# from mayavi import mlab\n",
        "# mlab.init_notebook()\n",
        "# fig = bct.adjacency_plot_und(thr_07, coords)\n",
        "# mlab.show()\n"
      ]
    },
    {
      "cell_type": "markdown",
      "metadata": {
        "id": "0P32mN-gywea"
      },
      "source": [
        "# reference continues below"
      ]
    },
    {
      "cell_type": "markdown",
      "metadata": {
        "id": "GUHnqB0v1rrY"
      },
      "source": [
        "## Coordinates"
      ]
    },
    {
      "cell_type": "code",
      "execution_count": null,
      "metadata": {
        "colab": {
          "base_uri": "https://localhost:8080/"
        },
        "id": "s6j9YhRAk0aE",
        "outputId": "26b13967-4136-4f8c-fe51-3b4b8ad68233"
      },
      "outputs": [
        {
          "output_type": "stream",
          "name": "stdout",
          "text": [
            "1 (78, 1)\n",
            "2 (93, 1)\n",
            "3 (100, 1)\n",
            "4 (90, 1)\n",
            "5 (98, 1)\n"
          ]
        }
      ],
      "source": [
        "# allxc\n",
        "for plane in range(1,6):\n",
        "    print(plane, record['allxc'][plane][0].shape)"
      ]
    },
    {
      "cell_type": "code",
      "execution_count": null,
      "metadata": {
        "colab": {
          "base_uri": "https://localhost:8080/"
        },
        "id": "Kv9-BtGplr6w",
        "outputId": "2f3b0309-77d6-4595-a783-08619ccfd937"
      },
      "outputs": [
        {
          "output_type": "stream",
          "name": "stdout",
          "text": [
            "1 (78, 1)\n",
            "2 (93, 1)\n",
            "3 (100, 1)\n",
            "4 (90, 1)\n",
            "5 (98, 1)\n"
          ]
        }
      ],
      "source": [
        "# allyc\n",
        "for plane in range(1,6):\n",
        "    print(plane, record['allxc'][plane][0].shape)"
      ]
    },
    {
      "cell_type": "code",
      "execution_count": null,
      "metadata": {
        "colab": {
          "base_uri": "https://localhost:8080/"
        },
        "id": "YVWNXAQYjOUM",
        "outputId": "7f23e135-1888-4e0a-ee67-9bb287e438bd"
      },
      "outputs": [
        {
          "output_type": "stream",
          "name": "stdout",
          "text": [
            "1 (78, 1)\n",
            "2 (93, 1)\n",
            "3 (100, 1)\n",
            "4 (90, 1)\n",
            "5 (98, 1)\n"
          ]
        }
      ],
      "source": [
        "# allyc\n",
        "for plane in range(1,6):\n",
        "    print(plane, record['allyc'][plane][0].shape)"
      ]
    },
    {
      "cell_type": "code",
      "execution_count": null,
      "metadata": {
        "colab": {
          "base_uri": "https://localhost:8080/"
        },
        "id": "o7fVb99xl0Qg",
        "outputId": "c753abe0-586f-4ee4-e3a3-4f06ac5db12a"
      },
      "outputs": [
        {
          "output_type": "stream",
          "name": "stdout",
          "text": [
            "1 (78, 1)\n",
            "2 (93, 1)\n",
            "3 (100, 1)\n",
            "4 (90, 1)\n",
            "5 (98, 1)\n"
          ]
        }
      ],
      "source": [
        "# allzc\n",
        "for plane in range(1,6):\n",
        "    print(plane, record['allzc'][plane][0].shape)"
      ]
    },
    {
      "cell_type": "markdown",
      "metadata": {
        "id": "-LZxR-Ui146B"
      },
      "source": [
        "## Signaling data"
      ]
    },
    {
      "cell_type": "code",
      "execution_count": null,
      "metadata": {
        "colab": {
          "base_uri": "https://localhost:8080/"
        },
        "id": "Vx7C8geml7iE",
        "outputId": "c639f6ca-63fb-4eb4-b091-0499a7f43dd3"
      },
      "outputs": [
        {
          "name": "stdout",
          "output_type": "stream",
          "text": [
            "1 (78, 2134)\n",
            "2 (93, 2134)\n",
            "3 (100, 2134)\n",
            "4 (90, 2134)\n",
            "5 (98, 2134)\n"
          ]
        }
      ],
      "source": [
        "# zDFF - normalized calcium fluoresence imaging intensity\n",
        "for plane in range(1,6):\n",
        "    print(plane, record['zDFF'][plane][0].shape)"
      ]
    },
    {
      "cell_type": "code",
      "execution_count": null,
      "metadata": {
        "colab": {
          "base_uri": "https://localhost:8080/"
        },
        "id": "omBT4qRztUea",
        "outputId": "159a9403-fef1-4485-f5a1-46b003edfc03"
      },
      "outputs": [
        {
          "data": {
            "text/plain": [
              "dtype([('SigCorrs', 'O'), ('NoiseCorrsTrial', 'O')])"
            ]
          },
          "execution_count": 55,
          "metadata": {},
          "output_type": "execute_result"
        }
      ],
      "source": [
        "# to get field names out of numpy array, inspect the dtype\n",
        "record['selectZCorrInfo'][0].dtype"
      ]
    },
    {
      "cell_type": "code",
      "execution_count": null,
      "metadata": {
        "colab": {
          "base_uri": "https://localhost:8080/",
          "height": 444
        },
        "id": "YipdHa54s6Qw",
        "outputId": "3c8f5d95-0b80-4cb7-b9e5-e8209509576a"
      },
      "outputs": [
        {
          "data": {
            "text/html": [
              "<div>\n",
              "<style scoped>\n",
              "    .dataframe tbody tr th:only-of-type {\n",
              "        vertical-align: middle;\n",
              "    }\n",
              "\n",
              "    .dataframe tbody tr th {\n",
              "        vertical-align: top;\n",
              "    }\n",
              "\n",
              "    .dataframe thead th {\n",
              "        text-align: right;\n",
              "    }\n",
              "</style>\n",
              "<table border=\"1\" class=\"dataframe\">\n",
              "  <thead>\n",
              "    <tr style=\"text-align: right;\">\n",
              "      <th></th>\n",
              "      <th>0</th>\n",
              "      <th>1</th>\n",
              "      <th>2</th>\n",
              "      <th>3</th>\n",
              "      <th>4</th>\n",
              "      <th>5</th>\n",
              "      <th>6</th>\n",
              "      <th>7</th>\n",
              "      <th>8</th>\n",
              "      <th>9</th>\n",
              "      <th>...</th>\n",
              "      <th>449</th>\n",
              "      <th>450</th>\n",
              "      <th>451</th>\n",
              "      <th>452</th>\n",
              "      <th>453</th>\n",
              "      <th>454</th>\n",
              "      <th>455</th>\n",
              "      <th>456</th>\n",
              "      <th>457</th>\n",
              "      <th>458</th>\n",
              "    </tr>\n",
              "  </thead>\n",
              "  <tbody>\n",
              "    <tr>\n",
              "      <th>0</th>\n",
              "      <td>NaN</td>\n",
              "      <td>0.053426</td>\n",
              "      <td>0.376339</td>\n",
              "      <td>0.363409</td>\n",
              "      <td>0.229670</td>\n",
              "      <td>0.327637</td>\n",
              "      <td>0.612616</td>\n",
              "      <td>0.266189</td>\n",
              "      <td>-0.322981</td>\n",
              "      <td>0.290570</td>\n",
              "      <td>...</td>\n",
              "      <td>-0.111256</td>\n",
              "      <td>-0.078504</td>\n",
              "      <td>-0.231508</td>\n",
              "      <td>0.362618</td>\n",
              "      <td>0.057562</td>\n",
              "      <td>-0.129511</td>\n",
              "      <td>0.074441</td>\n",
              "      <td>0.635961</td>\n",
              "      <td>-0.499201</td>\n",
              "      <td>-0.289951</td>\n",
              "    </tr>\n",
              "    <tr>\n",
              "      <th>1</th>\n",
              "      <td>NaN</td>\n",
              "      <td>NaN</td>\n",
              "      <td>0.237212</td>\n",
              "      <td>0.192618</td>\n",
              "      <td>0.096188</td>\n",
              "      <td>-0.027655</td>\n",
              "      <td>0.052036</td>\n",
              "      <td>0.244153</td>\n",
              "      <td>0.602687</td>\n",
              "      <td>0.187199</td>\n",
              "      <td>...</td>\n",
              "      <td>0.484010</td>\n",
              "      <td>-0.196731</td>\n",
              "      <td>0.069795</td>\n",
              "      <td>-0.365008</td>\n",
              "      <td>0.486593</td>\n",
              "      <td>0.428337</td>\n",
              "      <td>0.587110</td>\n",
              "      <td>0.446836</td>\n",
              "      <td>-0.065831</td>\n",
              "      <td>-0.093650</td>\n",
              "    </tr>\n",
              "    <tr>\n",
              "      <th>2</th>\n",
              "      <td>NaN</td>\n",
              "      <td>NaN</td>\n",
              "      <td>NaN</td>\n",
              "      <td>0.675969</td>\n",
              "      <td>0.520021</td>\n",
              "      <td>0.070257</td>\n",
              "      <td>-0.364703</td>\n",
              "      <td>0.162196</td>\n",
              "      <td>0.157422</td>\n",
              "      <td>0.578411</td>\n",
              "      <td>...</td>\n",
              "      <td>-0.375461</td>\n",
              "      <td>-0.017533</td>\n",
              "      <td>0.240302</td>\n",
              "      <td>0.287424</td>\n",
              "      <td>0.072254</td>\n",
              "      <td>-0.586824</td>\n",
              "      <td>-0.252801</td>\n",
              "      <td>0.629129</td>\n",
              "      <td>-0.212567</td>\n",
              "      <td>0.311118</td>\n",
              "    </tr>\n",
              "    <tr>\n",
              "      <th>3</th>\n",
              "      <td>NaN</td>\n",
              "      <td>NaN</td>\n",
              "      <td>NaN</td>\n",
              "      <td>NaN</td>\n",
              "      <td>0.095609</td>\n",
              "      <td>-0.463841</td>\n",
              "      <td>-0.089438</td>\n",
              "      <td>-0.348972</td>\n",
              "      <td>-0.332689</td>\n",
              "      <td>0.753903</td>\n",
              "      <td>...</td>\n",
              "      <td>-0.271843</td>\n",
              "      <td>0.428411</td>\n",
              "      <td>0.034002</td>\n",
              "      <td>-0.020767</td>\n",
              "      <td>0.341450</td>\n",
              "      <td>-0.390842</td>\n",
              "      <td>-0.099103</td>\n",
              "      <td>0.750339</td>\n",
              "      <td>-0.224578</td>\n",
              "      <td>-0.070072</td>\n",
              "    </tr>\n",
              "    <tr>\n",
              "      <th>4</th>\n",
              "      <td>NaN</td>\n",
              "      <td>NaN</td>\n",
              "      <td>NaN</td>\n",
              "      <td>NaN</td>\n",
              "      <td>NaN</td>\n",
              "      <td>0.601048</td>\n",
              "      <td>-0.321368</td>\n",
              "      <td>0.320106</td>\n",
              "      <td>0.355355</td>\n",
              "      <td>0.315902</td>\n",
              "      <td>...</td>\n",
              "      <td>-0.525314</td>\n",
              "      <td>-0.232286</td>\n",
              "      <td>-0.253181</td>\n",
              "      <td>0.423198</td>\n",
              "      <td>-0.300988</td>\n",
              "      <td>-0.682148</td>\n",
              "      <td>0.098841</td>\n",
              "      <td>0.237804</td>\n",
              "      <td>-0.038801</td>\n",
              "      <td>0.352695</td>\n",
              "    </tr>\n",
              "    <tr>\n",
              "      <th>...</th>\n",
              "      <td>...</td>\n",
              "      <td>...</td>\n",
              "      <td>...</td>\n",
              "      <td>...</td>\n",
              "      <td>...</td>\n",
              "      <td>...</td>\n",
              "      <td>...</td>\n",
              "      <td>...</td>\n",
              "      <td>...</td>\n",
              "      <td>...</td>\n",
              "      <td>...</td>\n",
              "      <td>...</td>\n",
              "      <td>...</td>\n",
              "      <td>...</td>\n",
              "      <td>...</td>\n",
              "      <td>...</td>\n",
              "      <td>...</td>\n",
              "      <td>...</td>\n",
              "      <td>...</td>\n",
              "      <td>...</td>\n",
              "      <td>...</td>\n",
              "    </tr>\n",
              "    <tr>\n",
              "      <th>454</th>\n",
              "      <td>NaN</td>\n",
              "      <td>NaN</td>\n",
              "      <td>NaN</td>\n",
              "      <td>NaN</td>\n",
              "      <td>NaN</td>\n",
              "      <td>NaN</td>\n",
              "      <td>NaN</td>\n",
              "      <td>NaN</td>\n",
              "      <td>NaN</td>\n",
              "      <td>NaN</td>\n",
              "      <td>...</td>\n",
              "      <td>NaN</td>\n",
              "      <td>NaN</td>\n",
              "      <td>NaN</td>\n",
              "      <td>NaN</td>\n",
              "      <td>NaN</td>\n",
              "      <td>NaN</td>\n",
              "      <td>0.420615</td>\n",
              "      <td>-0.165979</td>\n",
              "      <td>0.054344</td>\n",
              "      <td>-0.482745</td>\n",
              "    </tr>\n",
              "    <tr>\n",
              "      <th>455</th>\n",
              "      <td>NaN</td>\n",
              "      <td>NaN</td>\n",
              "      <td>NaN</td>\n",
              "      <td>NaN</td>\n",
              "      <td>NaN</td>\n",
              "      <td>NaN</td>\n",
              "      <td>NaN</td>\n",
              "      <td>NaN</td>\n",
              "      <td>NaN</td>\n",
              "      <td>NaN</td>\n",
              "      <td>...</td>\n",
              "      <td>NaN</td>\n",
              "      <td>NaN</td>\n",
              "      <td>NaN</td>\n",
              "      <td>NaN</td>\n",
              "      <td>NaN</td>\n",
              "      <td>NaN</td>\n",
              "      <td>NaN</td>\n",
              "      <td>0.398971</td>\n",
              "      <td>-0.229190</td>\n",
              "      <td>-0.188952</td>\n",
              "    </tr>\n",
              "    <tr>\n",
              "      <th>456</th>\n",
              "      <td>NaN</td>\n",
              "      <td>NaN</td>\n",
              "      <td>NaN</td>\n",
              "      <td>NaN</td>\n",
              "      <td>NaN</td>\n",
              "      <td>NaN</td>\n",
              "      <td>NaN</td>\n",
              "      <td>NaN</td>\n",
              "      <td>NaN</td>\n",
              "      <td>NaN</td>\n",
              "      <td>...</td>\n",
              "      <td>NaN</td>\n",
              "      <td>NaN</td>\n",
              "      <td>NaN</td>\n",
              "      <td>NaN</td>\n",
              "      <td>NaN</td>\n",
              "      <td>NaN</td>\n",
              "      <td>NaN</td>\n",
              "      <td>NaN</td>\n",
              "      <td>-0.398816</td>\n",
              "      <td>-0.179099</td>\n",
              "    </tr>\n",
              "    <tr>\n",
              "      <th>457</th>\n",
              "      <td>NaN</td>\n",
              "      <td>NaN</td>\n",
              "      <td>NaN</td>\n",
              "      <td>NaN</td>\n",
              "      <td>NaN</td>\n",
              "      <td>NaN</td>\n",
              "      <td>NaN</td>\n",
              "      <td>NaN</td>\n",
              "      <td>NaN</td>\n",
              "      <td>NaN</td>\n",
              "      <td>...</td>\n",
              "      <td>NaN</td>\n",
              "      <td>NaN</td>\n",
              "      <td>NaN</td>\n",
              "      <td>NaN</td>\n",
              "      <td>NaN</td>\n",
              "      <td>NaN</td>\n",
              "      <td>NaN</td>\n",
              "      <td>NaN</td>\n",
              "      <td>NaN</td>\n",
              "      <td>-0.430598</td>\n",
              "    </tr>\n",
              "    <tr>\n",
              "      <th>458</th>\n",
              "      <td>NaN</td>\n",
              "      <td>NaN</td>\n",
              "      <td>NaN</td>\n",
              "      <td>NaN</td>\n",
              "      <td>NaN</td>\n",
              "      <td>NaN</td>\n",
              "      <td>NaN</td>\n",
              "      <td>NaN</td>\n",
              "      <td>NaN</td>\n",
              "      <td>NaN</td>\n",
              "      <td>...</td>\n",
              "      <td>NaN</td>\n",
              "      <td>NaN</td>\n",
              "      <td>NaN</td>\n",
              "      <td>NaN</td>\n",
              "      <td>NaN</td>\n",
              "      <td>NaN</td>\n",
              "      <td>NaN</td>\n",
              "      <td>NaN</td>\n",
              "      <td>NaN</td>\n",
              "      <td>NaN</td>\n",
              "    </tr>\n",
              "  </tbody>\n",
              "</table>\n",
              "<p>459 rows × 459 columns</p>\n",
              "</div>"
            ],
            "text/plain": [
              "     0         1         2         3         4         5         6    \\\n",
              "0    NaN  0.053426  0.376339  0.363409  0.229670  0.327637  0.612616   \n",
              "1    NaN       NaN  0.237212  0.192618  0.096188 -0.027655  0.052036   \n",
              "2    NaN       NaN       NaN  0.675969  0.520021  0.070257 -0.364703   \n",
              "3    NaN       NaN       NaN       NaN  0.095609 -0.463841 -0.089438   \n",
              "4    NaN       NaN       NaN       NaN       NaN  0.601048 -0.321368   \n",
              "..   ...       ...       ...       ...       ...       ...       ...   \n",
              "454  NaN       NaN       NaN       NaN       NaN       NaN       NaN   \n",
              "455  NaN       NaN       NaN       NaN       NaN       NaN       NaN   \n",
              "456  NaN       NaN       NaN       NaN       NaN       NaN       NaN   \n",
              "457  NaN       NaN       NaN       NaN       NaN       NaN       NaN   \n",
              "458  NaN       NaN       NaN       NaN       NaN       NaN       NaN   \n",
              "\n",
              "          7         8         9    ...       449       450       451  \\\n",
              "0    0.266189 -0.322981  0.290570  ... -0.111256 -0.078504 -0.231508   \n",
              "1    0.244153  0.602687  0.187199  ...  0.484010 -0.196731  0.069795   \n",
              "2    0.162196  0.157422  0.578411  ... -0.375461 -0.017533  0.240302   \n",
              "3   -0.348972 -0.332689  0.753903  ... -0.271843  0.428411  0.034002   \n",
              "4    0.320106  0.355355  0.315902  ... -0.525314 -0.232286 -0.253181   \n",
              "..        ...       ...       ...  ...       ...       ...       ...   \n",
              "454       NaN       NaN       NaN  ...       NaN       NaN       NaN   \n",
              "455       NaN       NaN       NaN  ...       NaN       NaN       NaN   \n",
              "456       NaN       NaN       NaN  ...       NaN       NaN       NaN   \n",
              "457       NaN       NaN       NaN  ...       NaN       NaN       NaN   \n",
              "458       NaN       NaN       NaN  ...       NaN       NaN       NaN   \n",
              "\n",
              "          452       453       454       455       456       457       458  \n",
              "0    0.362618  0.057562 -0.129511  0.074441  0.635961 -0.499201 -0.289951  \n",
              "1   -0.365008  0.486593  0.428337  0.587110  0.446836 -0.065831 -0.093650  \n",
              "2    0.287424  0.072254 -0.586824 -0.252801  0.629129 -0.212567  0.311118  \n",
              "3   -0.020767  0.341450 -0.390842 -0.099103  0.750339 -0.224578 -0.070072  \n",
              "4    0.423198 -0.300988 -0.682148  0.098841  0.237804 -0.038801  0.352695  \n",
              "..        ...       ...       ...       ...       ...       ...       ...  \n",
              "454       NaN       NaN       NaN  0.420615 -0.165979  0.054344 -0.482745  \n",
              "455       NaN       NaN       NaN       NaN  0.398971 -0.229190 -0.188952  \n",
              "456       NaN       NaN       NaN       NaN       NaN -0.398816 -0.179099  \n",
              "457       NaN       NaN       NaN       NaN       NaN       NaN -0.430598  \n",
              "458       NaN       NaN       NaN       NaN       NaN       NaN       NaN  \n",
              "\n",
              "[459 rows x 459 columns]"
            ]
          },
          "execution_count": 56,
          "metadata": {},
          "output_type": "execute_result"
        }
      ],
      "source": [
        "# I this is the classical correlation info!?\n",
        "# classical benchmark\n",
        "pd.DataFrame(record['selectZCorrInfo'][0]['SigCorrs'][0])"
      ]
    },
    {
      "cell_type": "code",
      "execution_count": null,
      "metadata": {
        "colab": {
          "base_uri": "https://localhost:8080/",
          "height": 2771
        },
        "id": "-EIEvMrgmxnT",
        "outputId": "ccfbd136-5cbd-4f13-edbf-db9dc90c1329"
      },
      "outputs": [
        {
          "name": "stdout",
          "output_type": "stream",
          "text": [
            "Plane 1\n"
          ]
        },
        {
          "data": {
            "text/html": [
              "<div>\n",
              "<style scoped>\n",
              "    .dataframe tbody tr th:only-of-type {\n",
              "        vertical-align: middle;\n",
              "    }\n",
              "\n",
              "    .dataframe tbody tr th {\n",
              "        vertical-align: top;\n",
              "    }\n",
              "\n",
              "    .dataframe thead th {\n",
              "        text-align: right;\n",
              "    }\n",
              "</style>\n",
              "<table border=\"1\" class=\"dataframe\">\n",
              "  <thead>\n",
              "    <tr style=\"text-align: right;\">\n",
              "      <th></th>\n",
              "      <th>0</th>\n",
              "      <th>1</th>\n",
              "      <th>2</th>\n",
              "      <th>3</th>\n",
              "      <th>4</th>\n",
              "      <th>5</th>\n",
              "      <th>6</th>\n",
              "      <th>7</th>\n",
              "      <th>8</th>\n",
              "    </tr>\n",
              "  </thead>\n",
              "  <tbody>\n",
              "    <tr>\n",
              "      <th>0</th>\n",
              "      <td>12.390694</td>\n",
              "      <td>15.736114</td>\n",
              "      <td>26.850230</td>\n",
              "      <td>26.273641</td>\n",
              "      <td>15.061115</td>\n",
              "      <td>12.157273</td>\n",
              "      <td>17.197759</td>\n",
              "      <td>19.777569</td>\n",
              "      <td>26.673842</td>\n",
              "    </tr>\n",
              "    <tr>\n",
              "      <th>1</th>\n",
              "      <td>14.710437</td>\n",
              "      <td>12.390372</td>\n",
              "      <td>12.333933</td>\n",
              "      <td>12.110193</td>\n",
              "      <td>12.375612</td>\n",
              "      <td>8.568789</td>\n",
              "      <td>16.017357</td>\n",
              "      <td>17.192882</td>\n",
              "      <td>12.625920</td>\n",
              "    </tr>\n",
              "    <tr>\n",
              "      <th>2</th>\n",
              "      <td>18.899687</td>\n",
              "      <td>13.166651</td>\n",
              "      <td>15.916866</td>\n",
              "      <td>19.059703</td>\n",
              "      <td>12.303493</td>\n",
              "      <td>16.367925</td>\n",
              "      <td>16.616543</td>\n",
              "      <td>17.654142</td>\n",
              "      <td>18.782494</td>\n",
              "    </tr>\n",
              "    <tr>\n",
              "      <th>3</th>\n",
              "      <td>16.403450</td>\n",
              "      <td>13.218894</td>\n",
              "      <td>13.615465</td>\n",
              "      <td>17.592090</td>\n",
              "      <td>15.361770</td>\n",
              "      <td>15.656932</td>\n",
              "      <td>17.266245</td>\n",
              "      <td>16.762045</td>\n",
              "      <td>21.112917</td>\n",
              "    </tr>\n",
              "    <tr>\n",
              "      <th>4</th>\n",
              "      <td>15.962315</td>\n",
              "      <td>11.367415</td>\n",
              "      <td>13.885502</td>\n",
              "      <td>15.681253</td>\n",
              "      <td>11.645656</td>\n",
              "      <td>11.036421</td>\n",
              "      <td>13.117399</td>\n",
              "      <td>10.679451</td>\n",
              "      <td>12.062431</td>\n",
              "    </tr>\n",
              "    <tr>\n",
              "      <th>...</th>\n",
              "      <td>...</td>\n",
              "      <td>...</td>\n",
              "      <td>...</td>\n",
              "      <td>...</td>\n",
              "      <td>...</td>\n",
              "      <td>...</td>\n",
              "      <td>...</td>\n",
              "      <td>...</td>\n",
              "      <td>...</td>\n",
              "    </tr>\n",
              "    <tr>\n",
              "      <th>73</th>\n",
              "      <td>10.977065</td>\n",
              "      <td>10.957731</td>\n",
              "      <td>15.824807</td>\n",
              "      <td>17.654064</td>\n",
              "      <td>15.529485</td>\n",
              "      <td>11.427519</td>\n",
              "      <td>9.232734</td>\n",
              "      <td>11.991676</td>\n",
              "      <td>16.342665</td>\n",
              "    </tr>\n",
              "    <tr>\n",
              "      <th>74</th>\n",
              "      <td>18.925837</td>\n",
              "      <td>13.698307</td>\n",
              "      <td>20.912411</td>\n",
              "      <td>14.573206</td>\n",
              "      <td>16.294745</td>\n",
              "      <td>15.804486</td>\n",
              "      <td>16.342736</td>\n",
              "      <td>20.048076</td>\n",
              "      <td>17.415679</td>\n",
              "    </tr>\n",
              "    <tr>\n",
              "      <th>75</th>\n",
              "      <td>13.932730</td>\n",
              "      <td>14.145857</td>\n",
              "      <td>12.479403</td>\n",
              "      <td>14.996528</td>\n",
              "      <td>12.719900</td>\n",
              "      <td>10.964922</td>\n",
              "      <td>8.823862</td>\n",
              "      <td>11.644774</td>\n",
              "      <td>17.070636</td>\n",
              "    </tr>\n",
              "    <tr>\n",
              "      <th>76</th>\n",
              "      <td>15.505846</td>\n",
              "      <td>17.043945</td>\n",
              "      <td>23.709205</td>\n",
              "      <td>19.155431</td>\n",
              "      <td>18.094108</td>\n",
              "      <td>17.230661</td>\n",
              "      <td>14.250461</td>\n",
              "      <td>17.414138</td>\n",
              "      <td>26.794911</td>\n",
              "    </tr>\n",
              "    <tr>\n",
              "      <th>77</th>\n",
              "      <td>16.305114</td>\n",
              "      <td>15.894337</td>\n",
              "      <td>27.798065</td>\n",
              "      <td>31.195089</td>\n",
              "      <td>36.599807</td>\n",
              "      <td>22.787229</td>\n",
              "      <td>20.560643</td>\n",
              "      <td>18.470371</td>\n",
              "      <td>19.907451</td>\n",
              "    </tr>\n",
              "  </tbody>\n",
              "</table>\n",
              "<p>78 rows × 9 columns</p>\n",
              "</div>"
            ],
            "text/plain": [
              "            0          1          2          3          4          5  \\\n",
              "0   12.390694  15.736114  26.850230  26.273641  15.061115  12.157273   \n",
              "1   14.710437  12.390372  12.333933  12.110193  12.375612   8.568789   \n",
              "2   18.899687  13.166651  15.916866  19.059703  12.303493  16.367925   \n",
              "3   16.403450  13.218894  13.615465  17.592090  15.361770  15.656932   \n",
              "4   15.962315  11.367415  13.885502  15.681253  11.645656  11.036421   \n",
              "..        ...        ...        ...        ...        ...        ...   \n",
              "73  10.977065  10.957731  15.824807  17.654064  15.529485  11.427519   \n",
              "74  18.925837  13.698307  20.912411  14.573206  16.294745  15.804486   \n",
              "75  13.932730  14.145857  12.479403  14.996528  12.719900  10.964922   \n",
              "76  15.505846  17.043945  23.709205  19.155431  18.094108  17.230661   \n",
              "77  16.305114  15.894337  27.798065  31.195089  36.599807  22.787229   \n",
              "\n",
              "            6          7          8  \n",
              "0   17.197759  19.777569  26.673842  \n",
              "1   16.017357  17.192882  12.625920  \n",
              "2   16.616543  17.654142  18.782494  \n",
              "3   17.266245  16.762045  21.112917  \n",
              "4   13.117399  10.679451  12.062431  \n",
              "..        ...        ...        ...  \n",
              "73   9.232734  11.991676  16.342665  \n",
              "74  16.342736  20.048076  17.415679  \n",
              "75   8.823862  11.644774  17.070636  \n",
              "76  14.250461  17.414138  26.794911  \n",
              "77  20.560643  18.470371  19.907451  \n",
              "\n",
              "[78 rows x 9 columns]"
            ]
          },
          "metadata": {},
          "output_type": "display_data"
        },
        {
          "data": {
            "text/html": [
              "<div>\n",
              "<style scoped>\n",
              "    .dataframe tbody tr th:only-of-type {\n",
              "        vertical-align: middle;\n",
              "    }\n",
              "\n",
              "    .dataframe tbody tr th {\n",
              "        vertical-align: top;\n",
              "    }\n",
              "\n",
              "    .dataframe thead th {\n",
              "        text-align: right;\n",
              "    }\n",
              "</style>\n",
              "<table border=\"1\" class=\"dataframe\">\n",
              "  <thead>\n",
              "    <tr style=\"text-align: right;\">\n",
              "      <th></th>\n",
              "      <th>0</th>\n",
              "      <th>1</th>\n",
              "      <th>2</th>\n",
              "      <th>3</th>\n",
              "      <th>4</th>\n",
              "      <th>5</th>\n",
              "      <th>6</th>\n",
              "      <th>7</th>\n",
              "      <th>8</th>\n",
              "    </tr>\n",
              "  </thead>\n",
              "  <tbody>\n",
              "    <tr>\n",
              "      <th>min</th>\n",
              "      <td>10.977065</td>\n",
              "      <td>10.769054</td>\n",
              "      <td>12.333933</td>\n",
              "      <td>12.110193</td>\n",
              "      <td>7.713030</td>\n",
              "      <td>8.290633</td>\n",
              "      <td>8.823862</td>\n",
              "      <td>8.475591</td>\n",
              "      <td>8.860900</td>\n",
              "    </tr>\n",
              "    <tr>\n",
              "      <th>max</th>\n",
              "      <td>49.044431</td>\n",
              "      <td>28.348360</td>\n",
              "      <td>145.454135</td>\n",
              "      <td>62.376169</td>\n",
              "      <td>43.899632</td>\n",
              "      <td>70.901565</td>\n",
              "      <td>46.235448</td>\n",
              "      <td>91.730254</td>\n",
              "      <td>98.326565</td>\n",
              "    </tr>\n",
              "    <tr>\n",
              "      <th>std</th>\n",
              "      <td>5.405290</td>\n",
              "      <td>4.063763</td>\n",
              "      <td>15.371534</td>\n",
              "      <td>7.654272</td>\n",
              "      <td>6.658998</td>\n",
              "      <td>8.609725</td>\n",
              "      <td>5.430900</td>\n",
              "      <td>11.709961</td>\n",
              "      <td>15.230009</td>\n",
              "    </tr>\n",
              "  </tbody>\n",
              "</table>\n",
              "</div>"
            ],
            "text/plain": [
              "             0          1           2          3          4          5  \\\n",
              "min  10.977065  10.769054   12.333933  12.110193   7.713030   8.290633   \n",
              "max  49.044431  28.348360  145.454135  62.376169  43.899632  70.901565   \n",
              "std   5.405290   4.063763   15.371534   7.654272   6.658998   8.609725   \n",
              "\n",
              "             6          7          8  \n",
              "min   8.823862   8.475591   8.860900  \n",
              "max  46.235448  91.730254  98.326565  \n",
              "std   5.430900  11.709961  15.230009  "
            ]
          },
          "metadata": {},
          "output_type": "display_data"
        },
        {
          "name": "stdout",
          "output_type": "stream",
          "text": [
            "Plane 2\n"
          ]
        },
        {
          "data": {
            "text/html": [
              "<div>\n",
              "<style scoped>\n",
              "    .dataframe tbody tr th:only-of-type {\n",
              "        vertical-align: middle;\n",
              "    }\n",
              "\n",
              "    .dataframe tbody tr th {\n",
              "        vertical-align: top;\n",
              "    }\n",
              "\n",
              "    .dataframe thead th {\n",
              "        text-align: right;\n",
              "    }\n",
              "</style>\n",
              "<table border=\"1\" class=\"dataframe\">\n",
              "  <thead>\n",
              "    <tr style=\"text-align: right;\">\n",
              "      <th></th>\n",
              "      <th>0</th>\n",
              "      <th>1</th>\n",
              "      <th>2</th>\n",
              "      <th>3</th>\n",
              "      <th>4</th>\n",
              "      <th>5</th>\n",
              "      <th>6</th>\n",
              "      <th>7</th>\n",
              "      <th>8</th>\n",
              "    </tr>\n",
              "  </thead>\n",
              "  <tbody>\n",
              "    <tr>\n",
              "      <th>0</th>\n",
              "      <td>31.787127</td>\n",
              "      <td>12.474141</td>\n",
              "      <td>20.397258</td>\n",
              "      <td>11.303263</td>\n",
              "      <td>21.820220</td>\n",
              "      <td>16.669934</td>\n",
              "      <td>11.123250</td>\n",
              "      <td>14.882717</td>\n",
              "      <td>13.154923</td>\n",
              "    </tr>\n",
              "    <tr>\n",
              "      <th>1</th>\n",
              "      <td>10.058884</td>\n",
              "      <td>9.355761</td>\n",
              "      <td>14.143143</td>\n",
              "      <td>18.872479</td>\n",
              "      <td>13.467364</td>\n",
              "      <td>11.211541</td>\n",
              "      <td>9.768939</td>\n",
              "      <td>16.531930</td>\n",
              "      <td>15.902836</td>\n",
              "    </tr>\n",
              "    <tr>\n",
              "      <th>2</th>\n",
              "      <td>9.480864</td>\n",
              "      <td>11.951515</td>\n",
              "      <td>17.015259</td>\n",
              "      <td>10.606191</td>\n",
              "      <td>13.886761</td>\n",
              "      <td>12.237940</td>\n",
              "      <td>15.451647</td>\n",
              "      <td>10.856018</td>\n",
              "      <td>9.538344</td>\n",
              "    </tr>\n",
              "    <tr>\n",
              "      <th>3</th>\n",
              "      <td>16.263696</td>\n",
              "      <td>12.560566</td>\n",
              "      <td>15.507255</td>\n",
              "      <td>11.862342</td>\n",
              "      <td>33.295512</td>\n",
              "      <td>17.458526</td>\n",
              "      <td>19.628676</td>\n",
              "      <td>13.236466</td>\n",
              "      <td>13.705991</td>\n",
              "    </tr>\n",
              "    <tr>\n",
              "      <th>4</th>\n",
              "      <td>13.669444</td>\n",
              "      <td>13.860289</td>\n",
              "      <td>15.392454</td>\n",
              "      <td>17.204252</td>\n",
              "      <td>23.113079</td>\n",
              "      <td>12.606565</td>\n",
              "      <td>13.575182</td>\n",
              "      <td>18.799799</td>\n",
              "      <td>9.829098</td>\n",
              "    </tr>\n",
              "    <tr>\n",
              "      <th>...</th>\n",
              "      <td>...</td>\n",
              "      <td>...</td>\n",
              "      <td>...</td>\n",
              "      <td>...</td>\n",
              "      <td>...</td>\n",
              "      <td>...</td>\n",
              "      <td>...</td>\n",
              "      <td>...</td>\n",
              "      <td>...</td>\n",
              "    </tr>\n",
              "    <tr>\n",
              "      <th>88</th>\n",
              "      <td>18.099028</td>\n",
              "      <td>11.771399</td>\n",
              "      <td>12.097706</td>\n",
              "      <td>15.530332</td>\n",
              "      <td>17.526433</td>\n",
              "      <td>15.315551</td>\n",
              "      <td>12.664583</td>\n",
              "      <td>18.216067</td>\n",
              "      <td>15.260984</td>\n",
              "    </tr>\n",
              "    <tr>\n",
              "      <th>89</th>\n",
              "      <td>9.360299</td>\n",
              "      <td>7.711547</td>\n",
              "      <td>6.185077</td>\n",
              "      <td>7.195177</td>\n",
              "      <td>8.788114</td>\n",
              "      <td>8.058340</td>\n",
              "      <td>12.792801</td>\n",
              "      <td>9.658611</td>\n",
              "      <td>7.285411</td>\n",
              "    </tr>\n",
              "    <tr>\n",
              "      <th>90</th>\n",
              "      <td>11.591440</td>\n",
              "      <td>12.636802</td>\n",
              "      <td>14.016951</td>\n",
              "      <td>11.301566</td>\n",
              "      <td>11.424240</td>\n",
              "      <td>7.866740</td>\n",
              "      <td>10.036572</td>\n",
              "      <td>9.354999</td>\n",
              "      <td>12.683813</td>\n",
              "    </tr>\n",
              "    <tr>\n",
              "      <th>91</th>\n",
              "      <td>8.762920</td>\n",
              "      <td>7.886159</td>\n",
              "      <td>11.063060</td>\n",
              "      <td>11.876374</td>\n",
              "      <td>11.583054</td>\n",
              "      <td>7.807876</td>\n",
              "      <td>7.690593</td>\n",
              "      <td>9.775121</td>\n",
              "      <td>11.254463</td>\n",
              "    </tr>\n",
              "    <tr>\n",
              "      <th>92</th>\n",
              "      <td>10.461298</td>\n",
              "      <td>16.313168</td>\n",
              "      <td>12.558986</td>\n",
              "      <td>14.490695</td>\n",
              "      <td>11.020064</td>\n",
              "      <td>10.545921</td>\n",
              "      <td>10.972121</td>\n",
              "      <td>17.675569</td>\n",
              "      <td>13.047229</td>\n",
              "    </tr>\n",
              "  </tbody>\n",
              "</table>\n",
              "<p>93 rows × 9 columns</p>\n",
              "</div>"
            ],
            "text/plain": [
              "            0          1          2          3          4          5  \\\n",
              "0   31.787127  12.474141  20.397258  11.303263  21.820220  16.669934   \n",
              "1   10.058884   9.355761  14.143143  18.872479  13.467364  11.211541   \n",
              "2    9.480864  11.951515  17.015259  10.606191  13.886761  12.237940   \n",
              "3   16.263696  12.560566  15.507255  11.862342  33.295512  17.458526   \n",
              "4   13.669444  13.860289  15.392454  17.204252  23.113079  12.606565   \n",
              "..        ...        ...        ...        ...        ...        ...   \n",
              "88  18.099028  11.771399  12.097706  15.530332  17.526433  15.315551   \n",
              "89   9.360299   7.711547   6.185077   7.195177   8.788114   8.058340   \n",
              "90  11.591440  12.636802  14.016951  11.301566  11.424240   7.866740   \n",
              "91   8.762920   7.886159  11.063060  11.876374  11.583054   7.807876   \n",
              "92  10.461298  16.313168  12.558986  14.490695  11.020064  10.545921   \n",
              "\n",
              "            6          7          8  \n",
              "0   11.123250  14.882717  13.154923  \n",
              "1    9.768939  16.531930  15.902836  \n",
              "2   15.451647  10.856018   9.538344  \n",
              "3   19.628676  13.236466  13.705991  \n",
              "4   13.575182  18.799799   9.829098  \n",
              "..        ...        ...        ...  \n",
              "88  12.664583  18.216067  15.260984  \n",
              "89  12.792801   9.658611   7.285411  \n",
              "90  10.036572   9.354999  12.683813  \n",
              "91   7.690593   9.775121  11.254463  \n",
              "92  10.972121  17.675569  13.047229  \n",
              "\n",
              "[93 rows x 9 columns]"
            ]
          },
          "metadata": {},
          "output_type": "display_data"
        },
        {
          "data": {
            "text/html": [
              "<div>\n",
              "<style scoped>\n",
              "    .dataframe tbody tr th:only-of-type {\n",
              "        vertical-align: middle;\n",
              "    }\n",
              "\n",
              "    .dataframe tbody tr th {\n",
              "        vertical-align: top;\n",
              "    }\n",
              "\n",
              "    .dataframe thead th {\n",
              "        text-align: right;\n",
              "    }\n",
              "</style>\n",
              "<table border=\"1\" class=\"dataframe\">\n",
              "  <thead>\n",
              "    <tr style=\"text-align: right;\">\n",
              "      <th></th>\n",
              "      <th>0</th>\n",
              "      <th>1</th>\n",
              "      <th>2</th>\n",
              "      <th>3</th>\n",
              "      <th>4</th>\n",
              "      <th>5</th>\n",
              "      <th>6</th>\n",
              "      <th>7</th>\n",
              "      <th>8</th>\n",
              "    </tr>\n",
              "  </thead>\n",
              "  <tbody>\n",
              "    <tr>\n",
              "      <th>min</th>\n",
              "      <td>6.132379</td>\n",
              "      <td>5.985361</td>\n",
              "      <td>5.336337</td>\n",
              "      <td>6.792902</td>\n",
              "      <td>6.992269</td>\n",
              "      <td>4.992246</td>\n",
              "      <td>3.418738</td>\n",
              "      <td>6.812357</td>\n",
              "      <td>5.299005</td>\n",
              "    </tr>\n",
              "    <tr>\n",
              "      <th>max</th>\n",
              "      <td>31.787127</td>\n",
              "      <td>63.335910</td>\n",
              "      <td>56.840954</td>\n",
              "      <td>44.292649</td>\n",
              "      <td>34.319558</td>\n",
              "      <td>23.524468</td>\n",
              "      <td>19.628676</td>\n",
              "      <td>24.897934</td>\n",
              "      <td>28.500082</td>\n",
              "    </tr>\n",
              "    <tr>\n",
              "      <th>std</th>\n",
              "      <td>3.914512</td>\n",
              "      <td>5.890887</td>\n",
              "      <td>5.971487</td>\n",
              "      <td>5.342604</td>\n",
              "      <td>4.873703</td>\n",
              "      <td>3.167594</td>\n",
              "      <td>2.676950</td>\n",
              "      <td>3.026263</td>\n",
              "      <td>4.345265</td>\n",
              "    </tr>\n",
              "  </tbody>\n",
              "</table>\n",
              "</div>"
            ],
            "text/plain": [
              "             0          1          2          3          4          5  \\\n",
              "min   6.132379   5.985361   5.336337   6.792902   6.992269   4.992246   \n",
              "max  31.787127  63.335910  56.840954  44.292649  34.319558  23.524468   \n",
              "std   3.914512   5.890887   5.971487   5.342604   4.873703   3.167594   \n",
              "\n",
              "             6          7          8  \n",
              "min   3.418738   6.812357   5.299005  \n",
              "max  19.628676  24.897934  28.500082  \n",
              "std   2.676950   3.026263   4.345265  "
            ]
          },
          "metadata": {},
          "output_type": "display_data"
        },
        {
          "name": "stdout",
          "output_type": "stream",
          "text": [
            "Plane 3\n"
          ]
        },
        {
          "data": {
            "text/html": [
              "<div>\n",
              "<style scoped>\n",
              "    .dataframe tbody tr th:only-of-type {\n",
              "        vertical-align: middle;\n",
              "    }\n",
              "\n",
              "    .dataframe tbody tr th {\n",
              "        vertical-align: top;\n",
              "    }\n",
              "\n",
              "    .dataframe thead th {\n",
              "        text-align: right;\n",
              "    }\n",
              "</style>\n",
              "<table border=\"1\" class=\"dataframe\">\n",
              "  <thead>\n",
              "    <tr style=\"text-align: right;\">\n",
              "      <th></th>\n",
              "      <th>0</th>\n",
              "      <th>1</th>\n",
              "      <th>2</th>\n",
              "      <th>3</th>\n",
              "      <th>4</th>\n",
              "      <th>5</th>\n",
              "      <th>6</th>\n",
              "      <th>7</th>\n",
              "      <th>8</th>\n",
              "    </tr>\n",
              "  </thead>\n",
              "  <tbody>\n",
              "    <tr>\n",
              "      <th>0</th>\n",
              "      <td>9.949203</td>\n",
              "      <td>10.177245</td>\n",
              "      <td>14.449112</td>\n",
              "      <td>14.260096</td>\n",
              "      <td>14.427732</td>\n",
              "      <td>15.477251</td>\n",
              "      <td>11.682352</td>\n",
              "      <td>9.940203</td>\n",
              "      <td>11.373750</td>\n",
              "    </tr>\n",
              "    <tr>\n",
              "      <th>1</th>\n",
              "      <td>11.316836</td>\n",
              "      <td>9.190192</td>\n",
              "      <td>9.204774</td>\n",
              "      <td>12.894163</td>\n",
              "      <td>12.303405</td>\n",
              "      <td>9.905853</td>\n",
              "      <td>12.894221</td>\n",
              "      <td>10.963133</td>\n",
              "      <td>8.962599</td>\n",
              "    </tr>\n",
              "    <tr>\n",
              "      <th>2</th>\n",
              "      <td>14.819218</td>\n",
              "      <td>15.583054</td>\n",
              "      <td>12.802661</td>\n",
              "      <td>9.539643</td>\n",
              "      <td>11.254731</td>\n",
              "      <td>11.748403</td>\n",
              "      <td>13.580988</td>\n",
              "      <td>9.518611</td>\n",
              "      <td>11.461022</td>\n",
              "    </tr>\n",
              "    <tr>\n",
              "      <th>3</th>\n",
              "      <td>13.862558</td>\n",
              "      <td>14.963595</td>\n",
              "      <td>17.271494</td>\n",
              "      <td>17.598200</td>\n",
              "      <td>18.839535</td>\n",
              "      <td>16.156134</td>\n",
              "      <td>18.081734</td>\n",
              "      <td>12.899530</td>\n",
              "      <td>13.292734</td>\n",
              "    </tr>\n",
              "    <tr>\n",
              "      <th>4</th>\n",
              "      <td>18.069750</td>\n",
              "      <td>17.018402</td>\n",
              "      <td>15.455705</td>\n",
              "      <td>12.097538</td>\n",
              "      <td>14.992450</td>\n",
              "      <td>15.626888</td>\n",
              "      <td>23.114486</td>\n",
              "      <td>17.656938</td>\n",
              "      <td>17.874837</td>\n",
              "    </tr>\n",
              "    <tr>\n",
              "      <th>...</th>\n",
              "      <td>...</td>\n",
              "      <td>...</td>\n",
              "      <td>...</td>\n",
              "      <td>...</td>\n",
              "      <td>...</td>\n",
              "      <td>...</td>\n",
              "      <td>...</td>\n",
              "      <td>...</td>\n",
              "      <td>...</td>\n",
              "    </tr>\n",
              "    <tr>\n",
              "      <th>95</th>\n",
              "      <td>13.329753</td>\n",
              "      <td>15.434850</td>\n",
              "      <td>20.112748</td>\n",
              "      <td>18.786147</td>\n",
              "      <td>15.101460</td>\n",
              "      <td>20.793945</td>\n",
              "      <td>19.437530</td>\n",
              "      <td>18.300629</td>\n",
              "      <td>14.882160</td>\n",
              "    </tr>\n",
              "    <tr>\n",
              "      <th>96</th>\n",
              "      <td>13.452896</td>\n",
              "      <td>13.798090</td>\n",
              "      <td>19.014444</td>\n",
              "      <td>16.625828</td>\n",
              "      <td>16.078239</td>\n",
              "      <td>14.013890</td>\n",
              "      <td>16.299659</td>\n",
              "      <td>21.204953</td>\n",
              "      <td>14.275171</td>\n",
              "    </tr>\n",
              "    <tr>\n",
              "      <th>97</th>\n",
              "      <td>19.969481</td>\n",
              "      <td>18.913378</td>\n",
              "      <td>24.238302</td>\n",
              "      <td>15.656586</td>\n",
              "      <td>15.058143</td>\n",
              "      <td>16.456950</td>\n",
              "      <td>18.655824</td>\n",
              "      <td>18.642332</td>\n",
              "      <td>16.491322</td>\n",
              "    </tr>\n",
              "    <tr>\n",
              "      <th>98</th>\n",
              "      <td>27.472263</td>\n",
              "      <td>25.774607</td>\n",
              "      <td>26.021834</td>\n",
              "      <td>19.097084</td>\n",
              "      <td>20.368719</td>\n",
              "      <td>16.383826</td>\n",
              "      <td>21.460953</td>\n",
              "      <td>25.747215</td>\n",
              "      <td>23.700695</td>\n",
              "    </tr>\n",
              "    <tr>\n",
              "      <th>99</th>\n",
              "      <td>19.451460</td>\n",
              "      <td>15.365159</td>\n",
              "      <td>21.643817</td>\n",
              "      <td>23.346721</td>\n",
              "      <td>16.773199</td>\n",
              "      <td>15.615178</td>\n",
              "      <td>19.842476</td>\n",
              "      <td>21.240414</td>\n",
              "      <td>22.283323</td>\n",
              "    </tr>\n",
              "  </tbody>\n",
              "</table>\n",
              "<p>100 rows × 9 columns</p>\n",
              "</div>"
            ],
            "text/plain": [
              "            0          1          2          3          4          5  \\\n",
              "0    9.949203  10.177245  14.449112  14.260096  14.427732  15.477251   \n",
              "1   11.316836   9.190192   9.204774  12.894163  12.303405   9.905853   \n",
              "2   14.819218  15.583054  12.802661   9.539643  11.254731  11.748403   \n",
              "3   13.862558  14.963595  17.271494  17.598200  18.839535  16.156134   \n",
              "4   18.069750  17.018402  15.455705  12.097538  14.992450  15.626888   \n",
              "..        ...        ...        ...        ...        ...        ...   \n",
              "95  13.329753  15.434850  20.112748  18.786147  15.101460  20.793945   \n",
              "96  13.452896  13.798090  19.014444  16.625828  16.078239  14.013890   \n",
              "97  19.969481  18.913378  24.238302  15.656586  15.058143  16.456950   \n",
              "98  27.472263  25.774607  26.021834  19.097084  20.368719  16.383826   \n",
              "99  19.451460  15.365159  21.643817  23.346721  16.773199  15.615178   \n",
              "\n",
              "            6          7          8  \n",
              "0   11.682352   9.940203  11.373750  \n",
              "1   12.894221  10.963133   8.962599  \n",
              "2   13.580988   9.518611  11.461022  \n",
              "3   18.081734  12.899530  13.292734  \n",
              "4   23.114486  17.656938  17.874837  \n",
              "..        ...        ...        ...  \n",
              "95  19.437530  18.300629  14.882160  \n",
              "96  16.299659  21.204953  14.275171  \n",
              "97  18.655824  18.642332  16.491322  \n",
              "98  21.460953  25.747215  23.700695  \n",
              "99  19.842476  21.240414  22.283323  \n",
              "\n",
              "[100 rows x 9 columns]"
            ]
          },
          "metadata": {},
          "output_type": "display_data"
        },
        {
          "data": {
            "text/html": [
              "<div>\n",
              "<style scoped>\n",
              "    .dataframe tbody tr th:only-of-type {\n",
              "        vertical-align: middle;\n",
              "    }\n",
              "\n",
              "    .dataframe tbody tr th {\n",
              "        vertical-align: top;\n",
              "    }\n",
              "\n",
              "    .dataframe thead th {\n",
              "        text-align: right;\n",
              "    }\n",
              "</style>\n",
              "<table border=\"1\" class=\"dataframe\">\n",
              "  <thead>\n",
              "    <tr style=\"text-align: right;\">\n",
              "      <th></th>\n",
              "      <th>0</th>\n",
              "      <th>1</th>\n",
              "      <th>2</th>\n",
              "      <th>3</th>\n",
              "      <th>4</th>\n",
              "      <th>5</th>\n",
              "      <th>6</th>\n",
              "      <th>7</th>\n",
              "      <th>8</th>\n",
              "    </tr>\n",
              "  </thead>\n",
              "  <tbody>\n",
              "    <tr>\n",
              "      <th>min</th>\n",
              "      <td>7.254091</td>\n",
              "      <td>7.540081</td>\n",
              "      <td>8.275744</td>\n",
              "      <td>8.472066</td>\n",
              "      <td>9.420429</td>\n",
              "      <td>8.825103</td>\n",
              "      <td>8.262902</td>\n",
              "      <td>7.525772</td>\n",
              "      <td>8.701580</td>\n",
              "    </tr>\n",
              "    <tr>\n",
              "      <th>max</th>\n",
              "      <td>33.239461</td>\n",
              "      <td>26.554963</td>\n",
              "      <td>43.198686</td>\n",
              "      <td>36.649984</td>\n",
              "      <td>35.220510</td>\n",
              "      <td>30.618054</td>\n",
              "      <td>26.684459</td>\n",
              "      <td>82.290948</td>\n",
              "      <td>53.586143</td>\n",
              "    </tr>\n",
              "    <tr>\n",
              "      <th>std</th>\n",
              "      <td>4.152867</td>\n",
              "      <td>3.787499</td>\n",
              "      <td>5.837569</td>\n",
              "      <td>4.847035</td>\n",
              "      <td>5.241351</td>\n",
              "      <td>4.161553</td>\n",
              "      <td>3.563113</td>\n",
              "      <td>7.658468</td>\n",
              "      <td>6.251194</td>\n",
              "    </tr>\n",
              "  </tbody>\n",
              "</table>\n",
              "</div>"
            ],
            "text/plain": [
              "             0          1          2          3          4          5  \\\n",
              "min   7.254091   7.540081   8.275744   8.472066   9.420429   8.825103   \n",
              "max  33.239461  26.554963  43.198686  36.649984  35.220510  30.618054   \n",
              "std   4.152867   3.787499   5.837569   4.847035   5.241351   4.161553   \n",
              "\n",
              "             6          7          8  \n",
              "min   8.262902   7.525772   8.701580  \n",
              "max  26.684459  82.290948  53.586143  \n",
              "std   3.563113   7.658468   6.251194  "
            ]
          },
          "metadata": {},
          "output_type": "display_data"
        },
        {
          "name": "stdout",
          "output_type": "stream",
          "text": [
            "Plane 4\n"
          ]
        },
        {
          "data": {
            "text/html": [
              "<div>\n",
              "<style scoped>\n",
              "    .dataframe tbody tr th:only-of-type {\n",
              "        vertical-align: middle;\n",
              "    }\n",
              "\n",
              "    .dataframe tbody tr th {\n",
              "        vertical-align: top;\n",
              "    }\n",
              "\n",
              "    .dataframe thead th {\n",
              "        text-align: right;\n",
              "    }\n",
              "</style>\n",
              "<table border=\"1\" class=\"dataframe\">\n",
              "  <thead>\n",
              "    <tr style=\"text-align: right;\">\n",
              "      <th></th>\n",
              "      <th>0</th>\n",
              "      <th>1</th>\n",
              "      <th>2</th>\n",
              "      <th>3</th>\n",
              "      <th>4</th>\n",
              "      <th>5</th>\n",
              "      <th>6</th>\n",
              "      <th>7</th>\n",
              "      <th>8</th>\n",
              "    </tr>\n",
              "  </thead>\n",
              "  <tbody>\n",
              "    <tr>\n",
              "      <th>0</th>\n",
              "      <td>12.814669</td>\n",
              "      <td>16.140620</td>\n",
              "      <td>12.817520</td>\n",
              "      <td>14.357539</td>\n",
              "      <td>13.224453</td>\n",
              "      <td>15.948411</td>\n",
              "      <td>16.394674</td>\n",
              "      <td>21.989517</td>\n",
              "      <td>21.969865</td>\n",
              "    </tr>\n",
              "    <tr>\n",
              "      <th>1</th>\n",
              "      <td>13.945760</td>\n",
              "      <td>17.246905</td>\n",
              "      <td>15.753004</td>\n",
              "      <td>15.073360</td>\n",
              "      <td>13.045719</td>\n",
              "      <td>10.897653</td>\n",
              "      <td>20.797123</td>\n",
              "      <td>16.834849</td>\n",
              "      <td>18.682590</td>\n",
              "    </tr>\n",
              "    <tr>\n",
              "      <th>2</th>\n",
              "      <td>27.015163</td>\n",
              "      <td>14.444238</td>\n",
              "      <td>16.280620</td>\n",
              "      <td>16.817958</td>\n",
              "      <td>18.447407</td>\n",
              "      <td>12.937684</td>\n",
              "      <td>16.699623</td>\n",
              "      <td>21.857301</td>\n",
              "      <td>35.257888</td>\n",
              "    </tr>\n",
              "    <tr>\n",
              "      <th>3</th>\n",
              "      <td>13.944597</td>\n",
              "      <td>13.649782</td>\n",
              "      <td>14.349426</td>\n",
              "      <td>15.608312</td>\n",
              "      <td>13.911452</td>\n",
              "      <td>12.796126</td>\n",
              "      <td>14.850267</td>\n",
              "      <td>13.916276</td>\n",
              "      <td>15.239660</td>\n",
              "    </tr>\n",
              "    <tr>\n",
              "      <th>4</th>\n",
              "      <td>24.289908</td>\n",
              "      <td>20.882227</td>\n",
              "      <td>17.797693</td>\n",
              "      <td>20.618949</td>\n",
              "      <td>18.669791</td>\n",
              "      <td>19.601859</td>\n",
              "      <td>20.245475</td>\n",
              "      <td>26.428299</td>\n",
              "      <td>16.271995</td>\n",
              "    </tr>\n",
              "    <tr>\n",
              "      <th>...</th>\n",
              "      <td>...</td>\n",
              "      <td>...</td>\n",
              "      <td>...</td>\n",
              "      <td>...</td>\n",
              "      <td>...</td>\n",
              "      <td>...</td>\n",
              "      <td>...</td>\n",
              "      <td>...</td>\n",
              "      <td>...</td>\n",
              "    </tr>\n",
              "    <tr>\n",
              "      <th>85</th>\n",
              "      <td>21.391668</td>\n",
              "      <td>19.039183</td>\n",
              "      <td>23.925967</td>\n",
              "      <td>33.217675</td>\n",
              "      <td>28.662368</td>\n",
              "      <td>28.716700</td>\n",
              "      <td>23.658363</td>\n",
              "      <td>27.690921</td>\n",
              "      <td>29.604300</td>\n",
              "    </tr>\n",
              "    <tr>\n",
              "      <th>86</th>\n",
              "      <td>23.994279</td>\n",
              "      <td>26.288180</td>\n",
              "      <td>31.998406</td>\n",
              "      <td>31.605116</td>\n",
              "      <td>35.753142</td>\n",
              "      <td>29.200743</td>\n",
              "      <td>29.281134</td>\n",
              "      <td>21.876320</td>\n",
              "      <td>20.036831</td>\n",
              "    </tr>\n",
              "    <tr>\n",
              "      <th>87</th>\n",
              "      <td>21.952106</td>\n",
              "      <td>20.610586</td>\n",
              "      <td>26.515292</td>\n",
              "      <td>20.137865</td>\n",
              "      <td>19.112697</td>\n",
              "      <td>22.387158</td>\n",
              "      <td>19.056207</td>\n",
              "      <td>29.875463</td>\n",
              "      <td>26.988880</td>\n",
              "    </tr>\n",
              "    <tr>\n",
              "      <th>88</th>\n",
              "      <td>20.855808</td>\n",
              "      <td>27.703995</td>\n",
              "      <td>19.720735</td>\n",
              "      <td>16.749957</td>\n",
              "      <td>20.219589</td>\n",
              "      <td>22.508884</td>\n",
              "      <td>27.333405</td>\n",
              "      <td>28.680681</td>\n",
              "      <td>19.448713</td>\n",
              "    </tr>\n",
              "    <tr>\n",
              "      <th>89</th>\n",
              "      <td>17.669966</td>\n",
              "      <td>24.638623</td>\n",
              "      <td>31.551149</td>\n",
              "      <td>26.251177</td>\n",
              "      <td>24.910323</td>\n",
              "      <td>21.655577</td>\n",
              "      <td>13.093733</td>\n",
              "      <td>24.183639</td>\n",
              "      <td>25.180785</td>\n",
              "    </tr>\n",
              "  </tbody>\n",
              "</table>\n",
              "<p>90 rows × 9 columns</p>\n",
              "</div>"
            ],
            "text/plain": [
              "            0          1          2          3          4          5  \\\n",
              "0   12.814669  16.140620  12.817520  14.357539  13.224453  15.948411   \n",
              "1   13.945760  17.246905  15.753004  15.073360  13.045719  10.897653   \n",
              "2   27.015163  14.444238  16.280620  16.817958  18.447407  12.937684   \n",
              "3   13.944597  13.649782  14.349426  15.608312  13.911452  12.796126   \n",
              "4   24.289908  20.882227  17.797693  20.618949  18.669791  19.601859   \n",
              "..        ...        ...        ...        ...        ...        ...   \n",
              "85  21.391668  19.039183  23.925967  33.217675  28.662368  28.716700   \n",
              "86  23.994279  26.288180  31.998406  31.605116  35.753142  29.200743   \n",
              "87  21.952106  20.610586  26.515292  20.137865  19.112697  22.387158   \n",
              "88  20.855808  27.703995  19.720735  16.749957  20.219589  22.508884   \n",
              "89  17.669966  24.638623  31.551149  26.251177  24.910323  21.655577   \n",
              "\n",
              "            6          7          8  \n",
              "0   16.394674  21.989517  21.969865  \n",
              "1   20.797123  16.834849  18.682590  \n",
              "2   16.699623  21.857301  35.257888  \n",
              "3   14.850267  13.916276  15.239660  \n",
              "4   20.245475  26.428299  16.271995  \n",
              "..        ...        ...        ...  \n",
              "85  23.658363  27.690921  29.604300  \n",
              "86  29.281134  21.876320  20.036831  \n",
              "87  19.056207  29.875463  26.988880  \n",
              "88  27.333405  28.680681  19.448713  \n",
              "89  13.093733  24.183639  25.180785  \n",
              "\n",
              "[90 rows x 9 columns]"
            ]
          },
          "metadata": {},
          "output_type": "display_data"
        },
        {
          "data": {
            "text/html": [
              "<div>\n",
              "<style scoped>\n",
              "    .dataframe tbody tr th:only-of-type {\n",
              "        vertical-align: middle;\n",
              "    }\n",
              "\n",
              "    .dataframe tbody tr th {\n",
              "        vertical-align: top;\n",
              "    }\n",
              "\n",
              "    .dataframe thead th {\n",
              "        text-align: right;\n",
              "    }\n",
              "</style>\n",
              "<table border=\"1\" class=\"dataframe\">\n",
              "  <thead>\n",
              "    <tr style=\"text-align: right;\">\n",
              "      <th></th>\n",
              "      <th>0</th>\n",
              "      <th>1</th>\n",
              "      <th>2</th>\n",
              "      <th>3</th>\n",
              "      <th>4</th>\n",
              "      <th>5</th>\n",
              "      <th>6</th>\n",
              "      <th>7</th>\n",
              "      <th>8</th>\n",
              "    </tr>\n",
              "  </thead>\n",
              "  <tbody>\n",
              "    <tr>\n",
              "      <th>min</th>\n",
              "      <td>10.330744</td>\n",
              "      <td>12.917000</td>\n",
              "      <td>12.817520</td>\n",
              "      <td>12.034978</td>\n",
              "      <td>11.753416</td>\n",
              "      <td>10.396881</td>\n",
              "      <td>11.577659</td>\n",
              "      <td>10.628007</td>\n",
              "      <td>11.781514</td>\n",
              "    </tr>\n",
              "    <tr>\n",
              "      <th>max</th>\n",
              "      <td>34.481943</td>\n",
              "      <td>54.634677</td>\n",
              "      <td>98.631598</td>\n",
              "      <td>87.325903</td>\n",
              "      <td>206.764807</td>\n",
              "      <td>47.706835</td>\n",
              "      <td>79.997315</td>\n",
              "      <td>130.763438</td>\n",
              "      <td>86.497306</td>\n",
              "    </tr>\n",
              "    <tr>\n",
              "      <th>std</th>\n",
              "      <td>4.646742</td>\n",
              "      <td>6.817116</td>\n",
              "      <td>11.212019</td>\n",
              "      <td>9.995873</td>\n",
              "      <td>21.617209</td>\n",
              "      <td>6.312425</td>\n",
              "      <td>8.592312</td>\n",
              "      <td>13.530149</td>\n",
              "      <td>11.120456</td>\n",
              "    </tr>\n",
              "  </tbody>\n",
              "</table>\n",
              "</div>"
            ],
            "text/plain": [
              "             0          1          2          3           4          5  \\\n",
              "min  10.330744  12.917000  12.817520  12.034978   11.753416  10.396881   \n",
              "max  34.481943  54.634677  98.631598  87.325903  206.764807  47.706835   \n",
              "std   4.646742   6.817116  11.212019   9.995873   21.617209   6.312425   \n",
              "\n",
              "             6           7          8  \n",
              "min  11.577659   10.628007  11.781514  \n",
              "max  79.997315  130.763438  86.497306  \n",
              "std   8.592312   13.530149  11.120456  "
            ]
          },
          "metadata": {},
          "output_type": "display_data"
        },
        {
          "name": "stdout",
          "output_type": "stream",
          "text": [
            "Plane 5\n"
          ]
        },
        {
          "data": {
            "text/html": [
              "<div>\n",
              "<style scoped>\n",
              "    .dataframe tbody tr th:only-of-type {\n",
              "        vertical-align: middle;\n",
              "    }\n",
              "\n",
              "    .dataframe tbody tr th {\n",
              "        vertical-align: top;\n",
              "    }\n",
              "\n",
              "    .dataframe thead th {\n",
              "        text-align: right;\n",
              "    }\n",
              "</style>\n",
              "<table border=\"1\" class=\"dataframe\">\n",
              "  <thead>\n",
              "    <tr style=\"text-align: right;\">\n",
              "      <th></th>\n",
              "      <th>0</th>\n",
              "      <th>1</th>\n",
              "      <th>2</th>\n",
              "      <th>3</th>\n",
              "      <th>4</th>\n",
              "      <th>5</th>\n",
              "      <th>6</th>\n",
              "      <th>7</th>\n",
              "      <th>8</th>\n",
              "    </tr>\n",
              "  </thead>\n",
              "  <tbody>\n",
              "    <tr>\n",
              "      <th>0</th>\n",
              "      <td>15.377336</td>\n",
              "      <td>12.149531</td>\n",
              "      <td>16.043140</td>\n",
              "      <td>12.410414</td>\n",
              "      <td>12.621634</td>\n",
              "      <td>12.445562</td>\n",
              "      <td>15.091724</td>\n",
              "      <td>12.878651</td>\n",
              "      <td>13.751358</td>\n",
              "    </tr>\n",
              "    <tr>\n",
              "      <th>1</th>\n",
              "      <td>12.577190</td>\n",
              "      <td>12.294348</td>\n",
              "      <td>11.734328</td>\n",
              "      <td>10.307324</td>\n",
              "      <td>16.515338</td>\n",
              "      <td>7.192987</td>\n",
              "      <td>15.410840</td>\n",
              "      <td>9.099600</td>\n",
              "      <td>10.933383</td>\n",
              "    </tr>\n",
              "    <tr>\n",
              "      <th>2</th>\n",
              "      <td>12.127419</td>\n",
              "      <td>29.455530</td>\n",
              "      <td>15.244843</td>\n",
              "      <td>26.960922</td>\n",
              "      <td>35.804998</td>\n",
              "      <td>11.506428</td>\n",
              "      <td>27.161090</td>\n",
              "      <td>21.873055</td>\n",
              "      <td>14.462361</td>\n",
              "    </tr>\n",
              "    <tr>\n",
              "      <th>3</th>\n",
              "      <td>14.368235</td>\n",
              "      <td>12.080889</td>\n",
              "      <td>15.114760</td>\n",
              "      <td>14.870704</td>\n",
              "      <td>14.734355</td>\n",
              "      <td>11.173847</td>\n",
              "      <td>18.041124</td>\n",
              "      <td>22.806014</td>\n",
              "      <td>17.096352</td>\n",
              "    </tr>\n",
              "    <tr>\n",
              "      <th>4</th>\n",
              "      <td>13.484065</td>\n",
              "      <td>16.536645</td>\n",
              "      <td>16.325101</td>\n",
              "      <td>20.848032</td>\n",
              "      <td>63.161639</td>\n",
              "      <td>11.927662</td>\n",
              "      <td>15.627137</td>\n",
              "      <td>16.110643</td>\n",
              "      <td>36.329164</td>\n",
              "    </tr>\n",
              "    <tr>\n",
              "      <th>...</th>\n",
              "      <td>...</td>\n",
              "      <td>...</td>\n",
              "      <td>...</td>\n",
              "      <td>...</td>\n",
              "      <td>...</td>\n",
              "      <td>...</td>\n",
              "      <td>...</td>\n",
              "      <td>...</td>\n",
              "      <td>...</td>\n",
              "    </tr>\n",
              "    <tr>\n",
              "      <th>93</th>\n",
              "      <td>10.572497</td>\n",
              "      <td>15.747195</td>\n",
              "      <td>12.942996</td>\n",
              "      <td>10.953684</td>\n",
              "      <td>13.755904</td>\n",
              "      <td>11.796201</td>\n",
              "      <td>14.267954</td>\n",
              "      <td>15.842001</td>\n",
              "      <td>11.808158</td>\n",
              "    </tr>\n",
              "    <tr>\n",
              "      <th>94</th>\n",
              "      <td>14.089879</td>\n",
              "      <td>14.911311</td>\n",
              "      <td>15.780570</td>\n",
              "      <td>11.877137</td>\n",
              "      <td>14.711298</td>\n",
              "      <td>10.053278</td>\n",
              "      <td>18.880840</td>\n",
              "      <td>13.376637</td>\n",
              "      <td>13.894984</td>\n",
              "    </tr>\n",
              "    <tr>\n",
              "      <th>95</th>\n",
              "      <td>11.015321</td>\n",
              "      <td>9.648918</td>\n",
              "      <td>11.791652</td>\n",
              "      <td>11.905616</td>\n",
              "      <td>10.128393</td>\n",
              "      <td>10.071100</td>\n",
              "      <td>13.271535</td>\n",
              "      <td>11.743713</td>\n",
              "      <td>13.601738</td>\n",
              "    </tr>\n",
              "    <tr>\n",
              "      <th>96</th>\n",
              "      <td>16.338816</td>\n",
              "      <td>15.665695</td>\n",
              "      <td>14.300783</td>\n",
              "      <td>19.106040</td>\n",
              "      <td>19.432592</td>\n",
              "      <td>19.294137</td>\n",
              "      <td>18.348341</td>\n",
              "      <td>17.695766</td>\n",
              "      <td>12.366102</td>\n",
              "    </tr>\n",
              "    <tr>\n",
              "      <th>97</th>\n",
              "      <td>18.184194</td>\n",
              "      <td>15.298995</td>\n",
              "      <td>15.848521</td>\n",
              "      <td>14.128084</td>\n",
              "      <td>14.278363</td>\n",
              "      <td>15.818283</td>\n",
              "      <td>14.064780</td>\n",
              "      <td>14.708175</td>\n",
              "      <td>15.682587</td>\n",
              "    </tr>\n",
              "  </tbody>\n",
              "</table>\n",
              "<p>98 rows × 9 columns</p>\n",
              "</div>"
            ],
            "text/plain": [
              "            0          1          2          3          4          5  \\\n",
              "0   15.377336  12.149531  16.043140  12.410414  12.621634  12.445562   \n",
              "1   12.577190  12.294348  11.734328  10.307324  16.515338   7.192987   \n",
              "2   12.127419  29.455530  15.244843  26.960922  35.804998  11.506428   \n",
              "3   14.368235  12.080889  15.114760  14.870704  14.734355  11.173847   \n",
              "4   13.484065  16.536645  16.325101  20.848032  63.161639  11.927662   \n",
              "..        ...        ...        ...        ...        ...        ...   \n",
              "93  10.572497  15.747195  12.942996  10.953684  13.755904  11.796201   \n",
              "94  14.089879  14.911311  15.780570  11.877137  14.711298  10.053278   \n",
              "95  11.015321   9.648918  11.791652  11.905616  10.128393  10.071100   \n",
              "96  16.338816  15.665695  14.300783  19.106040  19.432592  19.294137   \n",
              "97  18.184194  15.298995  15.848521  14.128084  14.278363  15.818283   \n",
              "\n",
              "            6          7          8  \n",
              "0   15.091724  12.878651  13.751358  \n",
              "1   15.410840   9.099600  10.933383  \n",
              "2   27.161090  21.873055  14.462361  \n",
              "3   18.041124  22.806014  17.096352  \n",
              "4   15.627137  16.110643  36.329164  \n",
              "..        ...        ...        ...  \n",
              "93  14.267954  15.842001  11.808158  \n",
              "94  18.880840  13.376637  13.894984  \n",
              "95  13.271535  11.743713  13.601738  \n",
              "96  18.348341  17.695766  12.366102  \n",
              "97  14.064780  14.708175  15.682587  \n",
              "\n",
              "[98 rows x 9 columns]"
            ]
          },
          "metadata": {},
          "output_type": "display_data"
        },
        {
          "data": {
            "text/html": [
              "<div>\n",
              "<style scoped>\n",
              "    .dataframe tbody tr th:only-of-type {\n",
              "        vertical-align: middle;\n",
              "    }\n",
              "\n",
              "    .dataframe tbody tr th {\n",
              "        vertical-align: top;\n",
              "    }\n",
              "\n",
              "    .dataframe thead th {\n",
              "        text-align: right;\n",
              "    }\n",
              "</style>\n",
              "<table border=\"1\" class=\"dataframe\">\n",
              "  <thead>\n",
              "    <tr style=\"text-align: right;\">\n",
              "      <th></th>\n",
              "      <th>0</th>\n",
              "      <th>1</th>\n",
              "      <th>2</th>\n",
              "      <th>3</th>\n",
              "      <th>4</th>\n",
              "      <th>5</th>\n",
              "      <th>6</th>\n",
              "      <th>7</th>\n",
              "      <th>8</th>\n",
              "    </tr>\n",
              "  </thead>\n",
              "  <tbody>\n",
              "    <tr>\n",
              "      <th>min</th>\n",
              "      <td>10.572497</td>\n",
              "      <td>9.648918</td>\n",
              "      <td>11.006501</td>\n",
              "      <td>10.307324</td>\n",
              "      <td>10.128393</td>\n",
              "      <td>7.192987</td>\n",
              "      <td>12.407704</td>\n",
              "      <td>9.099600</td>\n",
              "      <td>9.613749</td>\n",
              "    </tr>\n",
              "    <tr>\n",
              "      <th>max</th>\n",
              "      <td>37.042014</td>\n",
              "      <td>44.527505</td>\n",
              "      <td>203.600269</td>\n",
              "      <td>171.770509</td>\n",
              "      <td>209.236448</td>\n",
              "      <td>111.857666</td>\n",
              "      <td>136.959280</td>\n",
              "      <td>89.175741</td>\n",
              "      <td>131.560711</td>\n",
              "    </tr>\n",
              "    <tr>\n",
              "      <th>std</th>\n",
              "      <td>5.240646</td>\n",
              "      <td>5.538645</td>\n",
              "      <td>21.197200</td>\n",
              "      <td>16.488314</td>\n",
              "      <td>20.350187</td>\n",
              "      <td>10.948458</td>\n",
              "      <td>13.037655</td>\n",
              "      <td>9.430364</td>\n",
              "      <td>13.490806</td>\n",
              "    </tr>\n",
              "  </tbody>\n",
              "</table>\n",
              "</div>"
            ],
            "text/plain": [
              "             0          1           2           3           4           5  \\\n",
              "min  10.572497   9.648918   11.006501   10.307324   10.128393    7.192987   \n",
              "max  37.042014  44.527505  203.600269  171.770509  209.236448  111.857666   \n",
              "std   5.240646   5.538645   21.197200   16.488314   20.350187   10.948458   \n",
              "\n",
              "              6          7           8  \n",
              "min   12.407704   9.099600    9.613749  \n",
              "max  136.959280  89.175741  131.560711  \n",
              "std   13.037655   9.430364   13.490806  "
            ]
          },
          "metadata": {},
          "output_type": "display_data"
        }
      ],
      "source": [
        "# what is zStuff?\n",
        "# guess: with 9 data points, these are the 9 frequencies tested\n",
        "# 3, 4.2, 6, 8.5, 12, 17, 24, 33.9, 48 kHz\n",
        "# therefore these would be the tuning curves for each neuron\n",
        "for plane in range(1,6):\n",
        "    print('Plane', plane)\n",
        "    display(pd.DataFrame(record['zStuff'][0][plane][0]))\n",
        "    display(pd.DataFrame(record['zStuff'][0][plane][0]).agg(['min', 'max', 'std']))"
      ]
    },
    {
      "cell_type": "markdown",
      "metadata": {
        "id": "4lMKJ3A-1nWu"
      },
      "source": [
        "## Experiment info"
      ]
    },
    {
      "cell_type": "code",
      "execution_count": null,
      "metadata": {
        "colab": {
          "base_uri": "https://localhost:8080/"
        },
        "id": "1-0ilXGEmO6z",
        "outputId": "09b9a9da-0244-4dab-a4a3-61e34bf9bb32"
      },
      "outputs": [
        {
          "data": {
            "text/plain": [
              "459"
            ]
          },
          "execution_count": 58,
          "metadata": {},
          "output_type": "execute_result"
        }
      ],
      "source": [
        "# total neurons\n",
        "# omit the first and last planes, total of 5 planes analyzed\n",
        "sum(len(record['allxc'][plane][0]) for plane in range(1,6))"
      ]
    },
    {
      "cell_type": "code",
      "execution_count": null,
      "metadata": {
        "colab": {
          "base_uri": "https://localhost:8080/"
        },
        "id": "UKNplS19w3_Z",
        "outputId": "6ea01301-a2ee-4d6f-9e30-a3a4a4442c24"
      },
      "outputs": [
        {
          "name": "stdout",
          "output_type": "stream",
          "text": [
            "dimX : [[array([[512]], dtype=uint16)]]\n",
            "dimY : [[array([[512]], dtype=uint16)]]\n",
            "numImages : [[array([[84000]], dtype=int32)]]\n",
            "micronsPerPixel : [[array([[0.721]])]]\n",
            "frameRate : [[array([[30]], dtype=uint8)]]\n",
            "flybackFrames : [[array([[1]], dtype=uint8)]]\n",
            "stepSizeUM : [[array([[20]], dtype=uint8)]]\n",
            "numZSteps : [[array([[6]], dtype=uint8)]]\n",
            "totalZplanes : [[array([[7]], dtype=uint8)]]\n",
            "numVolumes : [[array([[12000]], dtype=uint16)]]\n",
            "segmentSize : [[array([[524288]], dtype=int32)]]\n"
          ]
        }
      ],
      "source": [
        "# this contains information about the experiment!!\n",
        "for d in record['exptVars'].dtype.fields.keys():\n",
        "    print(d, ':', record['exptVars'][d])"
      ]
    },
    {
      "cell_type": "code",
      "execution_count": null,
      "metadata": {
        "colab": {
          "base_uri": "https://localhost:8080/"
        },
        "id": "1YqtaCeMyLZi",
        "outputId": "71ec75ad-69bb-487b-f8dd-010a6e462686"
      },
      "outputs": [
        {
          "name": "stdout",
          "output_type": "stream",
          "text": [
            "Psignalfile\n",
            "pfs\n",
            "PrimaryDuration\n",
            "PreStimSilence\n",
            "PostStimSilence\n",
            "BackgroundNoise\n",
            "OverallDB\n",
            "Class\n",
            "Trialindicies\n",
            "framespertrial\n",
            "FreqLevelOrder\n",
            "Freqs\n",
            "Levels\n",
            "uFreqs\n",
            "uLevels\n",
            "sessionStartTime\n",
            "soundTimes\n"
          ]
        }
      ],
      "source": [
        "# this contains information about the simulation!!\n",
        "for d in record['stimInfo'].dtype.fields.keys():\n",
        "    print(d)"
      ]
    },
    {
      "cell_type": "code",
      "execution_count": null,
      "metadata": {
        "colab": {
          "base_uri": "https://localhost:8080/"
        },
        "id": "bdy468AEyhBr",
        "outputId": "2a25fc1e-7ac4-4901-9f9b-637aebcc181c"
      },
      "outputs": [
        {
          "data": {
            "text/plain": [
              "array([[array([], shape=(1, 0), dtype=float64),\n",
              "        array(['C:\\\\Users\\\\Zac\\\\Documents\\\\raw volume data\\\\081920_355r\\\\RND_355r_2020_08_19_Phys_1.mat'],\n",
              "              dtype='<U81')                                                                               ,\n",
              "        array(['C:\\\\Users\\\\Zac\\\\Documents\\\\raw volume data\\\\081920_355r\\\\RND_355r_2020_08_19_Phys_1.mat'],\n",
              "              dtype='<U81')                                                                               ,\n",
              "        array(['C:\\\\Users\\\\Zac\\\\Documents\\\\raw volume data\\\\081920_355r\\\\RND_355r_2020_08_19_Phys_1.mat'],\n",
              "              dtype='<U81')                                                                               ,\n",
              "        array(['C:\\\\Users\\\\Zac\\\\Documents\\\\raw volume data\\\\081920_355r\\\\RND_355r_2020_08_19_Phys_1.mat'],\n",
              "              dtype='<U81')                                                                               ,\n",
              "        array(['C:\\\\Users\\\\Zac\\\\Documents\\\\raw volume data\\\\081920_355r\\\\RND_355r_2020_08_19_Phys_1.mat'],\n",
              "              dtype='<U81')                                                                               ,\n",
              "        array(['C:\\\\Users\\\\Zac\\\\Documents\\\\raw volume data\\\\081920_355r\\\\RND_355r_2020_08_19_Phys_1.mat'],\n",
              "              dtype='<U81')                                                                               ]],\n",
              "      dtype=object)"
            ]
          },
          "execution_count": 61,
          "metadata": {},
          "output_type": "execute_result"
        }
      ],
      "source": [
        "# this is the raw files\n",
        "record['stimInfo']['Psignalfile']"
      ]
    },
    {
      "cell_type": "code",
      "execution_count": null,
      "metadata": {
        "colab": {
          "base_uri": "https://localhost:8080/"
        },
        "id": "vlZO8HWKyu5L",
        "outputId": "6ee126f6-8a21-48f5-f675-f698cf42001a"
      },
      "outputs": [
        {
          "data": {
            "text/plain": [
              "array([[array([], shape=(1, 0), dtype=float64),\n",
              "        array([[30]], dtype=uint8), array([[30]], dtype=uint8),\n",
              "        array([[30]], dtype=uint8), array([[30]], dtype=uint8),\n",
              "        array([[30]], dtype=uint8), array([[30]], dtype=uint8)]],\n",
              "      dtype=object)"
            ]
          },
          "execution_count": 62,
          "metadata": {},
          "output_type": "execute_result"
        }
      ],
      "source": [
        "# not sure what this is\n",
        "record['stimInfo']['pfs']"
      ]
    },
    {
      "cell_type": "code",
      "execution_count": null,
      "metadata": {
        "colab": {
          "base_uri": "https://localhost:8080/"
        },
        "id": "3jvk8uRGyxvk",
        "outputId": "254e594f-3964-48f0-804c-2c0cd0e54d03"
      },
      "outputs": [
        {
          "data": {
            "text/plain": [
              "array([[array([], shape=(1, 0), dtype=float64),\n",
              "        array([[1]], dtype=uint8), array([[1]], dtype=uint8),\n",
              "        array([[1]], dtype=uint8), array([[1]], dtype=uint8),\n",
              "        array([[1]], dtype=uint8), array([[1]], dtype=uint8)]],\n",
              "      dtype=object)"
            ]
          },
          "execution_count": 63,
          "metadata": {},
          "output_type": "execute_result"
        }
      ],
      "source": [
        "# PrimaryDuration is totally useless\n",
        "record['stimInfo']['PrimaryDuration']"
      ]
    },
    {
      "cell_type": "code",
      "execution_count": null,
      "metadata": {
        "colab": {
          "base_uri": "https://localhost:8080/"
        },
        "id": "dgt9XZxdy23d",
        "outputId": "e2d66e1c-8f18-4c1e-a339-b57e47e162ea"
      },
      "outputs": [
        {
          "data": {
            "text/plain": [
              "array([[array([], shape=(1, 0), dtype=float64),\n",
              "        array([[1]], dtype=uint8), array([[1]], dtype=uint8),\n",
              "        array([[1]], dtype=uint8), array([[1]], dtype=uint8),\n",
              "        array([[1]], dtype=uint8), array([[1]], dtype=uint8)]],\n",
              "      dtype=object)"
            ]
          },
          "execution_count": 64,
          "metadata": {},
          "output_type": "execute_result"
        }
      ],
      "source": [
        "# PreStimSilence is totally useless\n",
        "record['stimInfo']['PreStimSilence']"
      ]
    },
    {
      "cell_type": "code",
      "execution_count": null,
      "metadata": {
        "colab": {
          "base_uri": "https://localhost:8080/"
        },
        "id": "u_N85wzHy9ng",
        "outputId": "8d4ec8a1-b561-4c10-e102-7262388c74d8"
      },
      "outputs": [
        {
          "data": {
            "text/plain": [
              "array([[array([], shape=(1, 0), dtype=float64),\n",
              "        array([[1]], dtype=uint8), array([[1]], dtype=uint8),\n",
              "        array([[1]], dtype=uint8), array([[1]], dtype=uint8),\n",
              "        array([[1]], dtype=uint8), array([[1]], dtype=uint8)]],\n",
              "      dtype=object)"
            ]
          },
          "execution_count": 65,
          "metadata": {},
          "output_type": "execute_result"
        }
      ],
      "source": [
        "# PostStimSilence is totally useless\n",
        "record['stimInfo']['PostStimSilence']"
      ]
    },
    {
      "cell_type": "code",
      "execution_count": null,
      "metadata": {
        "colab": {
          "base_uri": "https://localhost:8080/"
        },
        "id": "FKgVbvb5zCej",
        "outputId": "9883d2c4-cda2-4117-c60a-e8148c82fa7a"
      },
      "outputs": [
        {
          "data": {
            "text/plain": [
              "array([[array([], shape=(1, 0), dtype=float64),\n",
              "        array([[-99,   0,   1]], dtype=int16),\n",
              "        array([[-99,   0,   1]], dtype=int16),\n",
              "        array([[-99,   0,   1]], dtype=int16),\n",
              "        array([[-99,   0,   1]], dtype=int16),\n",
              "        array([[-99,   0,   1]], dtype=int16),\n",
              "        array([[-99,   0,   1]], dtype=int16)]], dtype=object)"
            ]
          },
          "execution_count": 66,
          "metadata": {},
          "output_type": "execute_result"
        }
      ],
      "source": [
        "# useless\n",
        "record['stimInfo']['BackgroundNoise']"
      ]
    },
    {
      "cell_type": "code",
      "execution_count": null,
      "metadata": {
        "colab": {
          "base_uri": "https://localhost:8080/"
        },
        "id": "Py6AWEvmzJmk",
        "outputId": "fc62ca58-2332-4de0-c220-16c99459ea04"
      },
      "outputs": [
        {
          "data": {
            "text/plain": [
              "array([[array([], shape=(1, 0), dtype=float64),\n",
              "        array([[70]], dtype=uint8), array([[70]], dtype=uint8),\n",
              "        array([[70]], dtype=uint8), array([[70]], dtype=uint8),\n",
              "        array([[70]], dtype=uint8), array([[70]], dtype=uint8)]],\n",
              "      dtype=object)"
            ]
          },
          "execution_count": 67,
          "metadata": {},
          "output_type": "execute_result"
        }
      ],
      "source": [
        "# stimuli are played at 70 dB\n",
        "record['stimInfo']['OverallDB']"
      ]
    },
    {
      "cell_type": "code",
      "execution_count": null,
      "metadata": {
        "colab": {
          "base_uri": "https://localhost:8080/"
        },
        "id": "-8eN15LxzRoj",
        "outputId": "4aa6f978-ff91-4618-eec2-f0e3af85a31d"
      },
      "outputs": [
        {
          "data": {
            "text/plain": [
              "array([[array([], shape=(1, 0), dtype=float64),\n",
              "        array(['Tone      '], dtype='<U10'),\n",
              "        array(['Tone      '], dtype='<U10'),\n",
              "        array(['Tone      '], dtype='<U10'),\n",
              "        array(['Tone      '], dtype='<U10'),\n",
              "        array(['Tone      '], dtype='<U10'),\n",
              "        array(['Tone      '], dtype='<U10')]], dtype=object)"
            ]
          },
          "execution_count": 68,
          "metadata": {},
          "output_type": "execute_result"
        }
      ],
      "source": [
        "# there are some tones played\n",
        "record['stimInfo']['Class']"
      ]
    },
    {
      "cell_type": "code",
      "execution_count": null,
      "metadata": {
        "colab": {
          "base_uri": "https://localhost:8080/"
        },
        "id": "o1KQIJMozcZJ",
        "outputId": "844535c4-a527-4207-d5c2-348f8814ceb7"
      },
      "outputs": [
        {
          "data": {
            "text/plain": [
              "(90, 3)"
            ]
          },
          "execution_count": 69,
          "metadata": {},
          "output_type": "execute_result"
        }
      ],
      "source": [
        "# no super duper important i think\n",
        "record['stimInfo']['Trialindicies'][:, 1][0].shape"
      ]
    },
    {
      "cell_type": "code",
      "execution_count": null,
      "metadata": {
        "colab": {
          "base_uri": "https://localhost:8080/"
        },
        "id": "qIAVHLmZz1cZ",
        "outputId": "c2d7b3f0-83b8-4920-bbe3-3334bc526e82"
      },
      "outputs": [
        {
          "data": {
            "text/plain": [
              "array([[array(['5657 SNR=0dB'], dtype='<U12')],\n",
              "       [array(['11314 SNR=0dB'], dtype='<U13')],\n",
              "       [array(['5657 SNR=0dB'], dtype='<U12')],\n",
              "       [array(['4000 SNR=0dB'], dtype='<U12')],\n",
              "       [array(['32000 SNR=0dB'], dtype='<U13')],\n",
              "       [array(['45255 SNR=0dB'], dtype='<U13')],\n",
              "       [array(['5657 SNR=0dB'], dtype='<U12')],\n",
              "       [array(['32000 SNR=0dB'], dtype='<U13')],\n",
              "       [array(['64000 SNR=0dB'], dtype='<U13')],\n",
              "       [array(['11314 SNR=0dB'], dtype='<U13')],\n",
              "       [array(['5657 SNR=0dB'], dtype='<U12')],\n",
              "       [array(['16000 SNR=0dB'], dtype='<U13')],\n",
              "       [array(['16000 SNR=0dB'], dtype='<U13')],\n",
              "       [array(['4000 SNR=0dB'], dtype='<U12')],\n",
              "       [array(['8000 SNR=0dB'], dtype='<U12')],\n",
              "       [array(['22627 SNR=0dB'], dtype='<U13')],\n",
              "       [array(['64000 SNR=0dB'], dtype='<U13')],\n",
              "       [array(['64000 SNR=0dB'], dtype='<U13')],\n",
              "       [array(['5657 SNR=0dB'], dtype='<U12')],\n",
              "       [array(['5657 SNR=0dB'], dtype='<U12')],\n",
              "       [array(['8000 SNR=0dB'], dtype='<U12')],\n",
              "       [array(['16000 SNR=0dB'], dtype='<U13')],\n",
              "       [array(['64000 SNR=0dB'], dtype='<U13')],\n",
              "       [array(['4000 SNR=0dB'], dtype='<U12')],\n",
              "       [array(['16000 SNR=0dB'], dtype='<U13')],\n",
              "       [array(['64000 SNR=0dB'], dtype='<U13')],\n",
              "       [array(['11314 SNR=0dB'], dtype='<U13')],\n",
              "       [array(['45255 SNR=0dB'], dtype='<U13')],\n",
              "       [array(['8000 SNR=0dB'], dtype='<U12')],\n",
              "       [array(['8000 SNR=0dB'], dtype='<U12')],\n",
              "       [array(['11314 SNR=0dB'], dtype='<U13')],\n",
              "       [array(['8000 SNR=0dB'], dtype='<U12')],\n",
              "       [array(['5657 SNR=0dB'], dtype='<U12')],\n",
              "       [array(['16000 SNR=0dB'], dtype='<U13')],\n",
              "       [array(['22627 SNR=0dB'], dtype='<U13')],\n",
              "       [array(['22627 SNR=0dB'], dtype='<U13')],\n",
              "       [array(['32000 SNR=0dB'], dtype='<U13')],\n",
              "       [array(['22627 SNR=0dB'], dtype='<U13')],\n",
              "       [array(['16000 SNR=0dB'], dtype='<U13')],\n",
              "       [array(['11314 SNR=0dB'], dtype='<U13')],\n",
              "       [array(['11314 SNR=0dB'], dtype='<U13')],\n",
              "       [array(['22627 SNR=0dB'], dtype='<U13')],\n",
              "       [array(['45255 SNR=0dB'], dtype='<U13')],\n",
              "       [array(['32000 SNR=0dB'], dtype='<U13')],\n",
              "       [array(['22627 SNR=0dB'], dtype='<U13')],\n",
              "       [array(['4000 SNR=0dB'], dtype='<U12')],\n",
              "       [array(['4000 SNR=0dB'], dtype='<U12')],\n",
              "       [array(['4000 SNR=0dB'], dtype='<U12')],\n",
              "       [array(['11314 SNR=0dB'], dtype='<U13')],\n",
              "       [array(['5657 SNR=0dB'], dtype='<U12')],\n",
              "       [array(['45255 SNR=0dB'], dtype='<U13')],\n",
              "       [array(['32000 SNR=0dB'], dtype='<U13')],\n",
              "       [array(['45255 SNR=0dB'], dtype='<U13')],\n",
              "       [array(['8000 SNR=0dB'], dtype='<U12')],\n",
              "       [array(['5657 SNR=0dB'], dtype='<U12')],\n",
              "       [array(['32000 SNR=0dB'], dtype='<U13')],\n",
              "       [array(['16000 SNR=0dB'], dtype='<U13')],\n",
              "       [array(['45255 SNR=0dB'], dtype='<U13')],\n",
              "       [array(['64000 SNR=0dB'], dtype='<U13')],\n",
              "       [array(['16000 SNR=0dB'], dtype='<U13')],\n",
              "       [array(['64000 SNR=0dB'], dtype='<U13')],\n",
              "       [array(['4000 SNR=0dB'], dtype='<U12')],\n",
              "       [array(['45255 SNR=0dB'], dtype='<U13')],\n",
              "       [array(['32000 SNR=0dB'], dtype='<U13')],\n",
              "       [array(['16000 SNR=0dB'], dtype='<U13')],\n",
              "       [array(['8000 SNR=0dB'], dtype='<U12')],\n",
              "       [array(['22627 SNR=0dB'], dtype='<U13')],\n",
              "       [array(['22627 SNR=0dB'], dtype='<U13')],\n",
              "       [array(['11314 SNR=0dB'], dtype='<U13')],\n",
              "       [array(['32000 SNR=0dB'], dtype='<U13')],\n",
              "       [array(['64000 SNR=0dB'], dtype='<U13')],\n",
              "       [array(['22627 SNR=0dB'], dtype='<U13')],\n",
              "       [array(['5657 SNR=0dB'], dtype='<U12')],\n",
              "       [array(['64000 SNR=0dB'], dtype='<U13')],\n",
              "       [array(['11314 SNR=0dB'], dtype='<U13')],\n",
              "       [array(['11314 SNR=0dB'], dtype='<U13')],\n",
              "       [array(['8000 SNR=0dB'], dtype='<U12')],\n",
              "       [array(['4000 SNR=0dB'], dtype='<U12')],\n",
              "       [array(['45255 SNR=0dB'], dtype='<U13')],\n",
              "       [array(['4000 SNR=0dB'], dtype='<U12')],\n",
              "       [array(['8000 SNR=0dB'], dtype='<U12')],\n",
              "       [array(['16000 SNR=0dB'], dtype='<U13')],\n",
              "       [array(['22627 SNR=0dB'], dtype='<U13')],\n",
              "       [array(['32000 SNR=0dB'], dtype='<U13')],\n",
              "       [array(['45255 SNR=0dB'], dtype='<U13')],\n",
              "       [array(['4000 SNR=0dB'], dtype='<U12')],\n",
              "       [array(['32000 SNR=0dB'], dtype='<U13')],\n",
              "       [array(['45255 SNR=0dB'], dtype='<U13')],\n",
              "       [array(['8000 SNR=0dB'], dtype='<U12')],\n",
              "       [array(['64000 SNR=0dB'], dtype='<U13')]], dtype=object)"
            ]
          },
          "execution_count": 70,
          "metadata": {},
          "output_type": "execute_result"
        }
      ],
      "source": [
        "# this shows the tones that are played in order during the trial\n",
        "record['stimInfo']['FreqLevelOrder'][0][1]"
      ]
    },
    {
      "cell_type": "code",
      "execution_count": null,
      "metadata": {
        "colab": {
          "base_uri": "https://localhost:8080/"
        },
        "id": "6-32lsr20FmX",
        "outputId": "34e8a84c-5ac8-45e1-901a-a359c2f27fd8"
      },
      "outputs": [
        {
          "data": {
            "text/plain": [
              "array([[ 5657],\n",
              "       [11314],\n",
              "       [ 5657],\n",
              "       [ 4000],\n",
              "       [32000],\n",
              "       [45255],\n",
              "       [ 5657],\n",
              "       [32000],\n",
              "       [64000],\n",
              "       [11314],\n",
              "       [ 5657],\n",
              "       [16000],\n",
              "       [16000],\n",
              "       [ 4000],\n",
              "       [ 8000],\n",
              "       [22627],\n",
              "       [64000],\n",
              "       [64000],\n",
              "       [ 5657],\n",
              "       [ 5657],\n",
              "       [ 8000],\n",
              "       [16000],\n",
              "       [64000],\n",
              "       [ 4000],\n",
              "       [16000],\n",
              "       [64000],\n",
              "       [11314],\n",
              "       [45255],\n",
              "       [ 8000],\n",
              "       [ 8000],\n",
              "       [11314],\n",
              "       [ 8000],\n",
              "       [ 5657],\n",
              "       [16000],\n",
              "       [22627],\n",
              "       [22627],\n",
              "       [32000],\n",
              "       [22627],\n",
              "       [16000],\n",
              "       [11314],\n",
              "       [11314],\n",
              "       [22627],\n",
              "       [45255],\n",
              "       [32000],\n",
              "       [22627],\n",
              "       [ 4000],\n",
              "       [ 4000],\n",
              "       [ 4000],\n",
              "       [11314],\n",
              "       [ 5657],\n",
              "       [45255],\n",
              "       [32000],\n",
              "       [45255],\n",
              "       [ 8000],\n",
              "       [ 5657],\n",
              "       [32000],\n",
              "       [16000],\n",
              "       [45255],\n",
              "       [64000],\n",
              "       [16000],\n",
              "       [64000],\n",
              "       [ 4000],\n",
              "       [45255],\n",
              "       [32000],\n",
              "       [16000],\n",
              "       [ 8000],\n",
              "       [22627],\n",
              "       [22627],\n",
              "       [11314],\n",
              "       [32000],\n",
              "       [64000],\n",
              "       [22627],\n",
              "       [ 5657],\n",
              "       [64000],\n",
              "       [11314],\n",
              "       [11314],\n",
              "       [ 8000],\n",
              "       [ 4000],\n",
              "       [45255],\n",
              "       [ 4000],\n",
              "       [ 8000],\n",
              "       [16000],\n",
              "       [22627],\n",
              "       [32000],\n",
              "       [45255],\n",
              "       [ 4000],\n",
              "       [32000],\n",
              "       [45255],\n",
              "       [ 8000],\n",
              "       [64000]], dtype=uint16)"
            ]
          },
          "execution_count": 71,
          "metadata": {},
          "output_type": "execute_result"
        }
      ],
      "source": [
        "# exactly the same as FreqLevelOrder but without the SNR metadata\n",
        "record['stimInfo']['Freqs'][0][1]"
      ]
    },
    {
      "cell_type": "code",
      "execution_count": null,
      "metadata": {
        "colab": {
          "base_uri": "https://localhost:8080/"
        },
        "id": "hSnx6tCd0j5u",
        "outputId": "d69e4f5e-c9ac-45e0-f824-d9a6f8a17180"
      },
      "outputs": [
        {
          "name": "stdout",
          "output_type": "stream",
          "text": [
            "70\n"
          ]
        }
      ],
      "source": [
        "# every element in here is 70 dB, trust me\n",
        "# record['stimInfo']['Levels'][0]\n",
        "print(70)"
      ]
    },
    {
      "cell_type": "code",
      "execution_count": null,
      "metadata": {
        "colab": {
          "base_uri": "https://localhost:8080/"
        },
        "id": "Yy20EQjO0SbC",
        "outputId": "4279447c-9672-47e4-e24c-6794c5f8b582"
      },
      "outputs": [
        {
          "data": {
            "text/plain": [
              "array([[array([], shape=(1, 0), dtype=float64),\n",
              "        array([[ 4000],\n",
              "               [ 5657],\n",
              "               [ 8000],\n",
              "               [11314],\n",
              "               [16000],\n",
              "               [22627],\n",
              "               [32000],\n",
              "               [45255],\n",
              "               [64000]], dtype=uint16), array([[ 4000],\n",
              "                                               [ 5657],\n",
              "                                               [ 8000],\n",
              "                                               [11314],\n",
              "                                               [16000],\n",
              "                                               [22627],\n",
              "                                               [32000],\n",
              "                                               [45255],\n",
              "                                               [64000]], dtype=uint16),\n",
              "        array([[ 4000],\n",
              "               [ 5657],\n",
              "               [ 8000],\n",
              "               [11314],\n",
              "               [16000],\n",
              "               [22627],\n",
              "               [32000],\n",
              "               [45255],\n",
              "               [64000]], dtype=uint16), array([[ 4000],\n",
              "                                               [ 5657],\n",
              "                                               [ 8000],\n",
              "                                               [11314],\n",
              "                                               [16000],\n",
              "                                               [22627],\n",
              "                                               [32000],\n",
              "                                               [45255],\n",
              "                                               [64000]], dtype=uint16),\n",
              "        array([[ 4000],\n",
              "               [ 5657],\n",
              "               [ 8000],\n",
              "               [11314],\n",
              "               [16000],\n",
              "               [22627],\n",
              "               [32000],\n",
              "               [45255],\n",
              "               [64000]], dtype=uint16), array([[ 4000],\n",
              "                                               [ 5657],\n",
              "                                               [ 8000],\n",
              "                                               [11314],\n",
              "                                               [16000],\n",
              "                                               [22627],\n",
              "                                               [32000],\n",
              "                                               [45255],\n",
              "                                               [64000]], dtype=uint16)]],\n",
              "      dtype=object)"
            ]
          },
          "execution_count": 73,
          "metadata": {},
          "output_type": "execute_result"
        }
      ],
      "source": [
        "# this contains the information about the different frequencies played\n",
        "record['stimInfo']['uFreqs']"
      ]
    },
    {
      "cell_type": "code",
      "execution_count": null,
      "metadata": {
        "colab": {
          "base_uri": "https://localhost:8080/"
        },
        "id": "8-5IgW5a01Op",
        "outputId": "516ebd67-a12f-488d-f035-16960c58d436"
      },
      "outputs": [
        {
          "data": {
            "text/plain": [
              "array([[array([], shape=(1, 0), dtype=float64),\n",
              "        array([[70]], dtype=uint8), array([[70]], dtype=uint8),\n",
              "        array([[70]], dtype=uint8), array([[70]], dtype=uint8),\n",
              "        array([[70]], dtype=uint8), array([[70]], dtype=uint8)]],\n",
              "      dtype=object)"
            ]
          },
          "execution_count": 74,
          "metadata": {},
          "output_type": "execute_result"
        }
      ],
      "source": [
        "# all sound levels are 70 dB\n",
        "record['stimInfo']['uLevels']\n"
      ]
    },
    {
      "cell_type": "code",
      "execution_count": null,
      "metadata": {
        "colab": {
          "base_uri": "https://localhost:8080/"
        },
        "id": "Ul9dinLp1FLd",
        "outputId": "7454c110-33bd-49a1-973f-1dd69e86bb79"
      },
      "outputs": [
        {
          "data": {
            "text/plain": [
              "array([[array([], shape=(1, 0), dtype=float64),\n",
              "        MatlabOpaque([(b'', b'MCOS', b'datetime', array([[3707764736],\n",
              "                             [         2],\n",
              "                             [         1],\n",
              "                             [         1],\n",
              "                             [         1],\n",
              "                             [         1]], dtype=uint32))            ],\n",
              "                     dtype=[('s0', 'O'), ('s1', 'O'), ('s2', 'O'), ('arr', 'O')]),\n",
              "        MatlabOpaque([(b'', b'MCOS', b'datetime', array([[3707764736],\n",
              "                             [         2],\n",
              "                             [         1],\n",
              "                             [         1],\n",
              "                             [         3],\n",
              "                             [         1]], dtype=uint32))            ],\n",
              "                     dtype=[('s0', 'O'), ('s1', 'O'), ('s2', 'O'), ('arr', 'O')]),\n",
              "        MatlabOpaque([(b'', b'MCOS', b'datetime', array([[3707764736],\n",
              "                             [         2],\n",
              "                             [         1],\n",
              "                             [         1],\n",
              "                             [         5],\n",
              "                             [         1]], dtype=uint32))            ],\n",
              "                     dtype=[('s0', 'O'), ('s1', 'O'), ('s2', 'O'), ('arr', 'O')]),\n",
              "        MatlabOpaque([(b'', b'MCOS', b'datetime', array([[3707764736],\n",
              "                             [         2],\n",
              "                             [         1],\n",
              "                             [         1],\n",
              "                             [         7],\n",
              "                             [         1]], dtype=uint32))            ],\n",
              "                     dtype=[('s0', 'O'), ('s1', 'O'), ('s2', 'O'), ('arr', 'O')]),\n",
              "        MatlabOpaque([(b'', b'MCOS', b'datetime', array([[3707764736],\n",
              "                             [         2],\n",
              "                             [         1],\n",
              "                             [         1],\n",
              "                             [         9],\n",
              "                             [         1]], dtype=uint32))            ],\n",
              "                     dtype=[('s0', 'O'), ('s1', 'O'), ('s2', 'O'), ('arr', 'O')]),\n",
              "        MatlabOpaque([(b'', b'MCOS', b'datetime', array([[3707764736],\n",
              "                             [         2],\n",
              "                             [         1],\n",
              "                             [         1],\n",
              "                             [        11],\n",
              "                             [         1]], dtype=uint32))            ],\n",
              "                     dtype=[('s0', 'O'), ('s1', 'O'), ('s2', 'O'), ('arr', 'O')])]],\n",
              "      dtype=object)"
            ]
          },
          "execution_count": 75,
          "metadata": {},
          "output_type": "execute_result"
        }
      ],
      "source": [
        "# contains start time of experiments\n",
        "record['stimInfo']['sessionStartTime']\n"
      ]
    },
    {
      "cell_type": "code",
      "execution_count": null,
      "metadata": {
        "colab": {
          "base_uri": "https://localhost:8080/"
        },
        "id": "GeRasWfc1NHP",
        "outputId": "c80bcf31-0956-4e71-b3fc-c269d101c264"
      },
      "outputs": [
        {
          "data": {
            "text/plain": [
              "array([[array([], shape=(1, 0), dtype=float64),\n",
              "        MatlabOpaque([(b'', b'MCOS', b'datetime', array([[3707764736],\n",
              "                             [         2],\n",
              "                             [         1],\n",
              "                             [         1],\n",
              "                             [         2],\n",
              "                             [         1]], dtype=uint32))            ],\n",
              "                     dtype=[('s0', 'O'), ('s1', 'O'), ('s2', 'O'), ('arr', 'O')]),\n",
              "        MatlabOpaque([(b'', b'MCOS', b'datetime', array([[3707764736],\n",
              "                             [         2],\n",
              "                             [         1],\n",
              "                             [         1],\n",
              "                             [         4],\n",
              "                             [         1]], dtype=uint32))            ],\n",
              "                     dtype=[('s0', 'O'), ('s1', 'O'), ('s2', 'O'), ('arr', 'O')]),\n",
              "        MatlabOpaque([(b'', b'MCOS', b'datetime', array([[3707764736],\n",
              "                             [         2],\n",
              "                             [         1],\n",
              "                             [         1],\n",
              "                             [         6],\n",
              "                             [         1]], dtype=uint32))            ],\n",
              "                     dtype=[('s0', 'O'), ('s1', 'O'), ('s2', 'O'), ('arr', 'O')]),\n",
              "        MatlabOpaque([(b'', b'MCOS', b'datetime', array([[3707764736],\n",
              "                             [         2],\n",
              "                             [         1],\n",
              "                             [         1],\n",
              "                             [         8],\n",
              "                             [         1]], dtype=uint32))            ],\n",
              "                     dtype=[('s0', 'O'), ('s1', 'O'), ('s2', 'O'), ('arr', 'O')]),\n",
              "        MatlabOpaque([(b'', b'MCOS', b'datetime', array([[3707764736],\n",
              "                             [         2],\n",
              "                             [         1],\n",
              "                             [         1],\n",
              "                             [        10],\n",
              "                             [         1]], dtype=uint32))            ],\n",
              "                     dtype=[('s0', 'O'), ('s1', 'O'), ('s2', 'O'), ('arr', 'O')]),\n",
              "        MatlabOpaque([(b'', b'MCOS', b'datetime', array([[3707764736],\n",
              "                             [         2],\n",
              "                             [         1],\n",
              "                             [         1],\n",
              "                             [        12],\n",
              "                             [         1]], dtype=uint32))            ],\n",
              "                     dtype=[('s0', 'O'), ('s1', 'O'), ('s2', 'O'), ('arr', 'O')])]],\n",
              "      dtype=object)"
            ]
          },
          "execution_count": 76,
          "metadata": {},
          "output_type": "execute_result"
        }
      ],
      "source": [
        "# tells of the sound Times?\n",
        "record['stimInfo']['soundTimes']\n"
      ]
    },
    {
      "cell_type": "markdown",
      "metadata": {
        "id": "8JYF6bc22CUC"
      },
      "source": [
        "## zStuff"
      ]
    },
    {
      "cell_type": "code",
      "execution_count": null,
      "metadata": {
        "colab": {
          "base_uri": "https://localhost:8080/"
        },
        "id": "jelxlVfouMDf",
        "outputId": "d48e6995-c2a6-4c17-c4f4-59f16ec85c68"
      },
      "outputs": [
        {
          "data": {
            "text/plain": [
              "dtype([('flatFRA', 'O'), ('flatTrialFRA', 'O'), ('pStim', 'O'), ('pTrial', 'O'), ('zStimFrame', 'O'), ('trialFreq', 'O'), ('exptFreq', 'O'), ('trialDFF', 'O')])"
            ]
          },
          "execution_count": 77,
          "metadata": {},
          "output_type": "execute_result"
        }
      ],
      "source": [
        "record['zStuff'].dtype"
      ]
    },
    {
      "cell_type": "code",
      "execution_count": null,
      "metadata": {
        "colab": {
          "base_uri": "https://localhost:8080/"
        },
        "id": "1V2--6ZmuYuk",
        "outputId": "95de23c7-9525-4c0c-d1f0-afbd5a49e622"
      },
      "outputs": [
        {
          "data": {
            "text/plain": [
              "(1, 7)"
            ]
          },
          "execution_count": 78,
          "metadata": {},
          "output_type": "execute_result"
        }
      ],
      "source": [
        "# flat frequency response area\n",
        "record['zStuff']['flatFRA'].shape"
      ]
    },
    {
      "cell_type": "code",
      "execution_count": null,
      "metadata": {
        "colab": {
          "base_uri": "https://localhost:8080/"
        },
        "id": "Cslyfn2SufMY",
        "outputId": "7855b01d-5aed-4f73-b212-18950a4c6176"
      },
      "outputs": [
        {
          "data": {
            "text/plain": [
              "(1, 7)"
            ]
          },
          "execution_count": 79,
          "metadata": {},
          "output_type": "execute_result"
        }
      ],
      "source": [
        "# flat frequency response area across trials\n",
        "record['zStuff']['flatTrialFRA'].shape"
      ]
    },
    {
      "cell_type": "code",
      "execution_count": null,
      "metadata": {
        "colab": {
          "base_uri": "https://localhost:8080/",
          "height": 424
        },
        "id": "6rqptdCTuv5i",
        "outputId": "86654529-0e72-4ddd-a19b-cd69d3807921"
      },
      "outputs": [
        {
          "data": {
            "text/html": [
              "<div>\n",
              "<style scoped>\n",
              "    .dataframe tbody tr th:only-of-type {\n",
              "        vertical-align: middle;\n",
              "    }\n",
              "\n",
              "    .dataframe tbody tr th {\n",
              "        vertical-align: top;\n",
              "    }\n",
              "\n",
              "    .dataframe thead th {\n",
              "        text-align: right;\n",
              "    }\n",
              "</style>\n",
              "<table border=\"1\" class=\"dataframe\">\n",
              "  <thead>\n",
              "    <tr style=\"text-align: right;\">\n",
              "      <th></th>\n",
              "      <th>0</th>\n",
              "      <th>1</th>\n",
              "      <th>2</th>\n",
              "      <th>3</th>\n",
              "      <th>4</th>\n",
              "      <th>5</th>\n",
              "      <th>6</th>\n",
              "      <th>7</th>\n",
              "      <th>8</th>\n",
              "    </tr>\n",
              "  </thead>\n",
              "  <tbody>\n",
              "    <tr>\n",
              "      <th>0</th>\n",
              "      <td>NaN</td>\n",
              "      <td>0.363607</td>\n",
              "      <td>0.039037</td>\n",
              "      <td>0.449692</td>\n",
              "      <td>0.130570</td>\n",
              "      <td>0.589766</td>\n",
              "      <td>0.442429</td>\n",
              "      <td>0.483843</td>\n",
              "      <td>0.879829</td>\n",
              "    </tr>\n",
              "    <tr>\n",
              "      <th>1</th>\n",
              "      <td>NaN</td>\n",
              "      <td>0.909688</td>\n",
              "      <td>NaN</td>\n",
              "      <td>NaN</td>\n",
              "      <td>NaN</td>\n",
              "      <td>NaN</td>\n",
              "      <td>0.292823</td>\n",
              "      <td>0.748519</td>\n",
              "      <td>0.868912</td>\n",
              "    </tr>\n",
              "    <tr>\n",
              "      <th>2</th>\n",
              "      <td>0.580467</td>\n",
              "      <td>NaN</td>\n",
              "      <td>NaN</td>\n",
              "      <td>0.248144</td>\n",
              "      <td>NaN</td>\n",
              "      <td>0.388554</td>\n",
              "      <td>0.713788</td>\n",
              "      <td>0.475805</td>\n",
              "      <td>0.364346</td>\n",
              "    </tr>\n",
              "    <tr>\n",
              "      <th>3</th>\n",
              "      <td>NaN</td>\n",
              "      <td>0.682877</td>\n",
              "      <td>NaN</td>\n",
              "      <td>NaN</td>\n",
              "      <td>0.364346</td>\n",
              "      <td>0.361038</td>\n",
              "      <td>0.350869</td>\n",
              "      <td>NaN</td>\n",
              "      <td>NaN</td>\n",
              "    </tr>\n",
              "    <tr>\n",
              "      <th>4</th>\n",
              "      <td>0.939743</td>\n",
              "      <td>NaN</td>\n",
              "      <td>0.556475</td>\n",
              "      <td>0.820596</td>\n",
              "      <td>NaN</td>\n",
              "      <td>NaN</td>\n",
              "      <td>0.767130</td>\n",
              "      <td>NaN</td>\n",
              "      <td>NaN</td>\n",
              "    </tr>\n",
              "    <tr>\n",
              "      <th>...</th>\n",
              "      <td>...</td>\n",
              "      <td>...</td>\n",
              "      <td>...</td>\n",
              "      <td>...</td>\n",
              "      <td>...</td>\n",
              "      <td>...</td>\n",
              "      <td>...</td>\n",
              "      <td>...</td>\n",
              "      <td>...</td>\n",
              "    </tr>\n",
              "    <tr>\n",
              "      <th>73</th>\n",
              "      <td>NaN</td>\n",
              "      <td>NaN</td>\n",
              "      <td>0.327464</td>\n",
              "      <td>0.112511</td>\n",
              "      <td>0.694276</td>\n",
              "      <td>NaN</td>\n",
              "      <td>NaN</td>\n",
              "      <td>NaN</td>\n",
              "      <td>0.344205</td>\n",
              "    </tr>\n",
              "    <tr>\n",
              "      <th>74</th>\n",
              "      <td>0.086115</td>\n",
              "      <td>0.336011</td>\n",
              "      <td>0.000777</td>\n",
              "      <td>0.713257</td>\n",
              "      <td>0.365755</td>\n",
              "      <td>0.654109</td>\n",
              "      <td>0.099490</td>\n",
              "      <td>0.226476</td>\n",
              "      <td>NaN</td>\n",
              "    </tr>\n",
              "    <tr>\n",
              "      <th>75</th>\n",
              "      <td>0.216800</td>\n",
              "      <td>0.414419</td>\n",
              "      <td>0.356256</td>\n",
              "      <td>NaN</td>\n",
              "      <td>0.600352</td>\n",
              "      <td>0.194772</td>\n",
              "      <td>NaN</td>\n",
              "      <td>NaN</td>\n",
              "      <td>0.950288</td>\n",
              "    </tr>\n",
              "    <tr>\n",
              "      <th>76</th>\n",
              "      <td>NaN</td>\n",
              "      <td>NaN</td>\n",
              "      <td>0.442238</td>\n",
              "      <td>0.511446</td>\n",
              "      <td>NaN</td>\n",
              "      <td>0.988984</td>\n",
              "      <td>NaN</td>\n",
              "      <td>NaN</td>\n",
              "      <td>0.340587</td>\n",
              "    </tr>\n",
              "    <tr>\n",
              "      <th>77</th>\n",
              "      <td>NaN</td>\n",
              "      <td>0.151274</td>\n",
              "      <td>0.161654</td>\n",
              "      <td>0.000220</td>\n",
              "      <td>0.000009</td>\n",
              "      <td>0.069079</td>\n",
              "      <td>0.125047</td>\n",
              "      <td>0.449692</td>\n",
              "      <td>0.706785</td>\n",
              "    </tr>\n",
              "  </tbody>\n",
              "</table>\n",
              "<p>78 rows × 9 columns</p>\n",
              "</div>"
            ],
            "text/plain": [
              "           0         1         2         3         4         5         6  \\\n",
              "0        NaN  0.363607  0.039037  0.449692  0.130570  0.589766  0.442429   \n",
              "1        NaN  0.909688       NaN       NaN       NaN       NaN  0.292823   \n",
              "2   0.580467       NaN       NaN  0.248144       NaN  0.388554  0.713788   \n",
              "3        NaN  0.682877       NaN       NaN  0.364346  0.361038  0.350869   \n",
              "4   0.939743       NaN  0.556475  0.820596       NaN       NaN  0.767130   \n",
              "..       ...       ...       ...       ...       ...       ...       ...   \n",
              "73       NaN       NaN  0.327464  0.112511  0.694276       NaN       NaN   \n",
              "74  0.086115  0.336011  0.000777  0.713257  0.365755  0.654109  0.099490   \n",
              "75  0.216800  0.414419  0.356256       NaN  0.600352  0.194772       NaN   \n",
              "76       NaN       NaN  0.442238  0.511446       NaN  0.988984       NaN   \n",
              "77       NaN  0.151274  0.161654  0.000220  0.000009  0.069079  0.125047   \n",
              "\n",
              "           7         8  \n",
              "0   0.483843  0.879829  \n",
              "1   0.748519  0.868912  \n",
              "2   0.475805  0.364346  \n",
              "3        NaN       NaN  \n",
              "4        NaN       NaN  \n",
              "..       ...       ...  \n",
              "73       NaN  0.344205  \n",
              "74  0.226476       NaN  \n",
              "75       NaN  0.950288  \n",
              "76       NaN  0.340587  \n",
              "77  0.449692  0.706785  \n",
              "\n",
              "[78 rows x 9 columns]"
            ]
          },
          "execution_count": 80,
          "metadata": {},
          "output_type": "execute_result"
        }
      ],
      "source": [
        "# something about stimulus? maybe statistical significance?\n",
        "# could prune neurons with 0 responsiveness across stimuli\n",
        "pd.DataFrame(record['zStuff']['pStim'][0][1])"
      ]
    },
    {
      "cell_type": "code",
      "execution_count": null,
      "metadata": {
        "colab": {
          "base_uri": "https://localhost:8080/"
        },
        "id": "kQ9UauOVvI1B",
        "outputId": "c4f6816b-0b1a-41f3-f041-2cb500784321"
      },
      "outputs": [
        {
          "data": {
            "text/plain": [
              "(78, 9, 10)"
            ]
          },
          "execution_count": 81,
          "metadata": {},
          "output_type": "execute_result"
        }
      ],
      "source": [
        "# something about trials? maybe statistical significance?\n",
        "record['zStuff']['pTrial'][0][1].shape"
      ]
    },
    {
      "cell_type": "code",
      "execution_count": null,
      "metadata": {
        "colab": {
          "base_uri": "https://localhost:8080/",
          "height": 424
        },
        "id": "eQxlMgbGvf_U",
        "outputId": "12b446e8-3f7d-4447-cd7a-43fb595ad1c7"
      },
      "outputs": [
        {
          "data": {
            "text/html": [
              "<div>\n",
              "<style scoped>\n",
              "    .dataframe tbody tr th:only-of-type {\n",
              "        vertical-align: middle;\n",
              "    }\n",
              "\n",
              "    .dataframe tbody tr th {\n",
              "        vertical-align: top;\n",
              "    }\n",
              "\n",
              "    .dataframe thead th {\n",
              "        text-align: right;\n",
              "    }\n",
              "</style>\n",
              "<table border=\"1\" class=\"dataframe\">\n",
              "  <thead>\n",
              "    <tr style=\"text-align: right;\">\n",
              "      <th></th>\n",
              "      <th>0</th>\n",
              "    </tr>\n",
              "  </thead>\n",
              "  <tbody>\n",
              "    <tr>\n",
              "      <th>0</th>\n",
              "      <td>6</td>\n",
              "    </tr>\n",
              "    <tr>\n",
              "      <th>1</th>\n",
              "      <td>27</td>\n",
              "    </tr>\n",
              "    <tr>\n",
              "      <th>2</th>\n",
              "      <td>48</td>\n",
              "    </tr>\n",
              "    <tr>\n",
              "      <th>3</th>\n",
              "      <td>69</td>\n",
              "    </tr>\n",
              "    <tr>\n",
              "      <th>4</th>\n",
              "      <td>90</td>\n",
              "    </tr>\n",
              "    <tr>\n",
              "      <th>...</th>\n",
              "      <td>...</td>\n",
              "    </tr>\n",
              "    <tr>\n",
              "      <th>85</th>\n",
              "      <td>1888</td>\n",
              "    </tr>\n",
              "    <tr>\n",
              "      <th>86</th>\n",
              "      <td>1911</td>\n",
              "    </tr>\n",
              "    <tr>\n",
              "      <th>87</th>\n",
              "      <td>1933</td>\n",
              "    </tr>\n",
              "    <tr>\n",
              "      <th>88</th>\n",
              "      <td>1956</td>\n",
              "    </tr>\n",
              "    <tr>\n",
              "      <th>89</th>\n",
              "      <td>1978</td>\n",
              "    </tr>\n",
              "  </tbody>\n",
              "</table>\n",
              "<p>90 rows × 1 columns</p>\n",
              "</div>"
            ],
            "text/plain": [
              "       0\n",
              "0      6\n",
              "1     27\n",
              "2     48\n",
              "3     69\n",
              "4     90\n",
              "..   ...\n",
              "85  1888\n",
              "86  1911\n",
              "87  1933\n",
              "88  1956\n",
              "89  1978\n",
              "\n",
              "[90 rows x 1 columns]"
            ]
          },
          "execution_count": 82,
          "metadata": {},
          "output_type": "execute_result"
        }
      ],
      "source": [
        "# not sure what this is\n",
        "pd.DataFrame(record['zStuff']['zStimFrame'][0][1])"
      ]
    },
    {
      "cell_type": "code",
      "execution_count": null,
      "metadata": {
        "colab": {
          "base_uri": "https://localhost:8080/"
        },
        "id": "NI-PKTgVvudn",
        "outputId": "3d2d3d14-4cd9-43b7-90b0-8d4999b0280f"
      },
      "outputs": [
        {
          "data": {
            "text/plain": [
              "(9, 10, 22)"
            ]
          },
          "execution_count": 83,
          "metadata": {},
          "output_type": "execute_result"
        }
      ],
      "source": [
        "# not sure what this is\n",
        "record['zStuff']['trialFreq'][0][3].shape"
      ]
    },
    {
      "cell_type": "code",
      "execution_count": null,
      "metadata": {
        "colab": {
          "base_uri": "https://localhost:8080/",
          "height": 448
        },
        "id": "F7DEEZ-Wv9p5",
        "outputId": "a1fd1527-b80e-4311-8468-aee627dc7d44"
      },
      "outputs": [
        {
          "data": {
            "text/plain": [
              "<Axes: >"
            ]
          },
          "execution_count": 84,
          "metadata": {},
          "output_type": "execute_result"
        },
        {
          "data": {
            "image/png": "[encoded data removed]",
            "text/plain": [
              "<Figure size 640x480 with 1 Axes>"
            ]
          },
          "metadata": {},
          "output_type": "display_data"
        }
      ],
      "source": [
        "# not sure what this is\n",
        "import seaborn as sns\n",
        "sns.lineplot(record['zStuff']['exptFreq'][0][1])\n"
      ]
    },
    {
      "cell_type": "code",
      "execution_count": null,
      "metadata": {
        "colab": {
          "base_uri": "https://localhost:8080/"
        },
        "id": "pROGf8Q3wgiM",
        "outputId": "f63f2893-4631-4b50-fb90-25f6cd0b2f4a"
      },
      "outputs": [
        {
          "data": {
            "text/plain": [
              "(9, 10, 100, 22)"
            ]
          },
          "execution_count": 85,
          "metadata": {},
          "output_type": "execute_result"
        }
      ],
      "source": [
        "# not sure what this is\n",
        "record['zStuff']['trialDFF'][0][3].shape"
      ]
    },
    {
      "cell_type": "markdown",
      "metadata": {
        "id": "tgMGKugh2IFX"
      },
      "source": [
        "## Cell Info"
      ]
    },
    {
      "cell_type": "code",
      "execution_count": null,
      "metadata": {
        "colab": {
          "base_uri": "https://localhost:8080/"
        },
        "id": "_hSEFZN_xEH7",
        "outputId": "16898aa9-4ddb-4b4f-c77e-6cd0cc9a7306"
      },
      "outputs": [
        {
          "data": {
            "text/plain": [
              "dict_keys(['cellDists', 'cellAngles', 'sigTrial', 'sigStim', 'sigOff'])"
            ]
          },
          "execution_count": 86,
          "metadata": {},
          "output_type": "execute_result"
        }
      ],
      "source": [
        "record['CellInfo'].dtype.fields.keys()"
      ]
    },
    {
      "cell_type": "code",
      "execution_count": null,
      "metadata": {
        "colab": {
          "base_uri": "https://localhost:8080/",
          "height": 462
        },
        "id": "SOl69u88ju6d",
        "outputId": "762c1e1d-6234-48be-8d5d-945269abfc41"
      },
      "outputs": [
        {
          "name": "stdout",
          "output_type": "stream",
          "text": [
            "1\n"
          ]
        },
        {
          "data": {
            "text/html": [
              "<div>\n",
              "<style scoped>\n",
              "    .dataframe tbody tr th:only-of-type {\n",
              "        vertical-align: middle;\n",
              "    }\n",
              "\n",
              "    .dataframe tbody tr th {\n",
              "        vertical-align: top;\n",
              "    }\n",
              "\n",
              "    .dataframe thead th {\n",
              "        text-align: right;\n",
              "    }\n",
              "</style>\n",
              "<table border=\"1\" class=\"dataframe\">\n",
              "  <thead>\n",
              "    <tr style=\"text-align: right;\">\n",
              "      <th></th>\n",
              "      <th>0</th>\n",
              "      <th>1</th>\n",
              "      <th>2</th>\n",
              "      <th>3</th>\n",
              "      <th>4</th>\n",
              "      <th>5</th>\n",
              "      <th>6</th>\n",
              "      <th>7</th>\n",
              "      <th>8</th>\n",
              "      <th>9</th>\n",
              "      <th>...</th>\n",
              "      <th>68</th>\n",
              "      <th>69</th>\n",
              "      <th>70</th>\n",
              "      <th>71</th>\n",
              "      <th>72</th>\n",
              "      <th>73</th>\n",
              "      <th>74</th>\n",
              "      <th>75</th>\n",
              "      <th>76</th>\n",
              "      <th>77</th>\n",
              "    </tr>\n",
              "  </thead>\n",
              "  <tbody>\n",
              "    <tr>\n",
              "      <th>0</th>\n",
              "      <td>0.0</td>\n",
              "      <td>45.406559</td>\n",
              "      <td>61.956763</td>\n",
              "      <td>78.532831</td>\n",
              "      <td>92.821878</td>\n",
              "      <td>69.346205</td>\n",
              "      <td>102.555657</td>\n",
              "      <td>109.377833</td>\n",
              "      <td>114.663846</td>\n",
              "      <td>145.865017</td>\n",
              "      <td>...</td>\n",
              "      <td>265.110521</td>\n",
              "      <td>103.040833</td>\n",
              "      <td>135.850260</td>\n",
              "      <td>144.262810</td>\n",
              "      <td>140.076467</td>\n",
              "      <td>184.441288</td>\n",
              "      <td>225.496823</td>\n",
              "      <td>143.439961</td>\n",
              "      <td>164.513942</td>\n",
              "      <td>329.144002</td>\n",
              "    </tr>\n",
              "    <tr>\n",
              "      <th>1</th>\n",
              "      <td>NaN</td>\n",
              "      <td>0.000000</td>\n",
              "      <td>18.102687</td>\n",
              "      <td>33.903879</td>\n",
              "      <td>56.850380</td>\n",
              "      <td>63.459365</td>\n",
              "      <td>57.277444</td>\n",
              "      <td>63.976052</td>\n",
              "      <td>69.285061</td>\n",
              "      <td>100.750940</td>\n",
              "      <td>...</td>\n",
              "      <td>275.712681</td>\n",
              "      <td>58.006153</td>\n",
              "      <td>106.089427</td>\n",
              "      <td>109.426950</td>\n",
              "      <td>98.708795</td>\n",
              "      <td>216.618549</td>\n",
              "      <td>258.908519</td>\n",
              "      <td>184.871640</td>\n",
              "      <td>188.436146</td>\n",
              "      <td>341.111137</td>\n",
              "    </tr>\n",
              "    <tr>\n",
              "      <th>2</th>\n",
              "      <td>NaN</td>\n",
              "      <td>NaN</td>\n",
              "      <td>0.000000</td>\n",
              "      <td>16.620555</td>\n",
              "      <td>40.598323</td>\n",
              "      <td>61.212030</td>\n",
              "      <td>41.124345</td>\n",
              "      <td>48.563699</td>\n",
              "      <td>54.519475</td>\n",
              "      <td>86.762499</td>\n",
              "      <td>...</td>\n",
              "      <td>289.074094</td>\n",
              "      <td>45.130702</td>\n",
              "      <td>106.352341</td>\n",
              "      <td>106.249818</td>\n",
              "      <td>90.279009</td>\n",
              "      <td>234.338122</td>\n",
              "      <td>276.704331</td>\n",
              "      <td>202.848395</td>\n",
              "      <td>205.111316</td>\n",
              "      <td>354.600688</td>\n",
              "    </tr>\n",
              "    <tr>\n",
              "      <th>3</th>\n",
              "      <td>NaN</td>\n",
              "      <td>NaN</td>\n",
              "      <td>NaN</td>\n",
              "      <td>0.000000</td>\n",
              "      <td>34.276851</td>\n",
              "      <td>70.152413</td>\n",
              "      <td>24.716654</td>\n",
              "      <td>32.481081</td>\n",
              "      <td>38.765463</td>\n",
              "      <td>71.150784</td>\n",
              "      <td>...</td>\n",
              "      <td>296.179010</td>\n",
              "      <td>31.301626</td>\n",
              "      <td>102.085971</td>\n",
              "      <td>98.911004</td>\n",
              "      <td>78.774351</td>\n",
              "      <td>247.926282</td>\n",
              "      <td>290.446674</td>\n",
              "      <td>218.672619</td>\n",
              "      <td>216.814115</td>\n",
              "      <td>361.729569</td>\n",
              "    </tr>\n",
              "    <tr>\n",
              "      <th>4</th>\n",
              "      <td>NaN</td>\n",
              "      <td>NaN</td>\n",
              "      <td>NaN</td>\n",
              "      <td>NaN</td>\n",
              "      <td>0.000000</td>\n",
              "      <td>53.899598</td>\n",
              "      <td>42.919967</td>\n",
              "      <td>50.391618</td>\n",
              "      <td>56.916904</td>\n",
              "      <td>85.295980</td>\n",
              "      <td>...</td>\n",
              "      <td>329.140556</td>\n",
              "      <td>57.212661</td>\n",
              "      <td>134.748854</td>\n",
              "      <td>129.281971</td>\n",
              "      <td>104.326985</td>\n",
              "      <td>272.852680</td>\n",
              "      <td>314.924902</td>\n",
              "      <td>236.260918</td>\n",
              "      <td>245.254871</td>\n",
              "      <td>394.694056</td>\n",
              "    </tr>\n",
              "    <tr>\n",
              "      <th>...</th>\n",
              "      <td>...</td>\n",
              "      <td>...</td>\n",
              "      <td>...</td>\n",
              "      <td>...</td>\n",
              "      <td>...</td>\n",
              "      <td>...</td>\n",
              "      <td>...</td>\n",
              "      <td>...</td>\n",
              "      <td>...</td>\n",
              "      <td>...</td>\n",
              "      <td>...</td>\n",
              "      <td>...</td>\n",
              "      <td>...</td>\n",
              "      <td>...</td>\n",
              "      <td>...</td>\n",
              "      <td>...</td>\n",
              "      <td>...</td>\n",
              "      <td>...</td>\n",
              "      <td>...</td>\n",
              "      <td>...</td>\n",
              "      <td>...</td>\n",
              "    </tr>\n",
              "    <tr>\n",
              "      <th>73</th>\n",
              "      <td>NaN</td>\n",
              "      <td>NaN</td>\n",
              "      <td>NaN</td>\n",
              "      <td>NaN</td>\n",
              "      <td>NaN</td>\n",
              "      <td>NaN</td>\n",
              "      <td>NaN</td>\n",
              "      <td>NaN</td>\n",
              "      <td>NaN</td>\n",
              "      <td>NaN</td>\n",
              "      <td>...</td>\n",
              "      <td>NaN</td>\n",
              "      <td>NaN</td>\n",
              "      <td>NaN</td>\n",
              "      <td>NaN</td>\n",
              "      <td>NaN</td>\n",
              "      <td>0.000000</td>\n",
              "      <td>42.663515</td>\n",
              "      <td>74.452484</td>\n",
              "      <td>49.805473</td>\n",
              "      <td>189.740942</td>\n",
              "    </tr>\n",
              "    <tr>\n",
              "      <th>74</th>\n",
              "      <td>NaN</td>\n",
              "      <td>NaN</td>\n",
              "      <td>NaN</td>\n",
              "      <td>NaN</td>\n",
              "      <td>NaN</td>\n",
              "      <td>NaN</td>\n",
              "      <td>NaN</td>\n",
              "      <td>NaN</td>\n",
              "      <td>NaN</td>\n",
              "      <td>NaN</td>\n",
              "      <td>...</td>\n",
              "      <td>NaN</td>\n",
              "      <td>NaN</td>\n",
              "      <td>NaN</td>\n",
              "      <td>NaN</td>\n",
              "      <td>NaN</td>\n",
              "      <td>NaN</td>\n",
              "      <td>0.000000</td>\n",
              "      <td>100.858302</td>\n",
              "      <td>86.476787</td>\n",
              "      <td>182.869545</td>\n",
              "    </tr>\n",
              "    <tr>\n",
              "      <th>75</th>\n",
              "      <td>NaN</td>\n",
              "      <td>NaN</td>\n",
              "      <td>NaN</td>\n",
              "      <td>NaN</td>\n",
              "      <td>NaN</td>\n",
              "      <td>NaN</td>\n",
              "      <td>NaN</td>\n",
              "      <td>NaN</td>\n",
              "      <td>NaN</td>\n",
              "      <td>NaN</td>\n",
              "      <td>...</td>\n",
              "      <td>NaN</td>\n",
              "      <td>NaN</td>\n",
              "      <td>NaN</td>\n",
              "      <td>NaN</td>\n",
              "      <td>NaN</td>\n",
              "      <td>NaN</td>\n",
              "      <td>NaN</td>\n",
              "      <td>0.000000</td>\n",
              "      <td>99.945450</td>\n",
              "      <td>263.288912</td>\n",
              "    </tr>\n",
              "    <tr>\n",
              "      <th>76</th>\n",
              "      <td>NaN</td>\n",
              "      <td>NaN</td>\n",
              "      <td>NaN</td>\n",
              "      <td>NaN</td>\n",
              "      <td>NaN</td>\n",
              "      <td>NaN</td>\n",
              "      <td>NaN</td>\n",
              "      <td>NaN</td>\n",
              "      <td>NaN</td>\n",
              "      <td>NaN</td>\n",
              "      <td>...</td>\n",
              "      <td>NaN</td>\n",
              "      <td>NaN</td>\n",
              "      <td>NaN</td>\n",
              "      <td>NaN</td>\n",
              "      <td>NaN</td>\n",
              "      <td>NaN</td>\n",
              "      <td>NaN</td>\n",
              "      <td>NaN</td>\n",
              "      <td>0.000000</td>\n",
              "      <td>173.847864</td>\n",
              "    </tr>\n",
              "    <tr>\n",
              "      <th>77</th>\n",
              "      <td>NaN</td>\n",
              "      <td>NaN</td>\n",
              "      <td>NaN</td>\n",
              "      <td>NaN</td>\n",
              "      <td>NaN</td>\n",
              "      <td>NaN</td>\n",
              "      <td>NaN</td>\n",
              "      <td>NaN</td>\n",
              "      <td>NaN</td>\n",
              "      <td>NaN</td>\n",
              "      <td>...</td>\n",
              "      <td>NaN</td>\n",
              "      <td>NaN</td>\n",
              "      <td>NaN</td>\n",
              "      <td>NaN</td>\n",
              "      <td>NaN</td>\n",
              "      <td>NaN</td>\n",
              "      <td>NaN</td>\n",
              "      <td>NaN</td>\n",
              "      <td>NaN</td>\n",
              "      <td>0.000000</td>\n",
              "    </tr>\n",
              "  </tbody>\n",
              "</table>\n",
              "<p>78 rows × 78 columns</p>\n",
              "</div>"
            ],
            "text/plain": [
              "     0          1          2          3          4          5           6   \\\n",
              "0   0.0  45.406559  61.956763  78.532831  92.821878  69.346205  102.555657   \n",
              "1   NaN   0.000000  18.102687  33.903879  56.850380  63.459365   57.277444   \n",
              "2   NaN        NaN   0.000000  16.620555  40.598323  61.212030   41.124345   \n",
              "3   NaN        NaN        NaN   0.000000  34.276851  70.152413   24.716654   \n",
              "4   NaN        NaN        NaN        NaN   0.000000  53.899598   42.919967   \n",
              "..  ...        ...        ...        ...        ...        ...         ...   \n",
              "73  NaN        NaN        NaN        NaN        NaN        NaN         NaN   \n",
              "74  NaN        NaN        NaN        NaN        NaN        NaN         NaN   \n",
              "75  NaN        NaN        NaN        NaN        NaN        NaN         NaN   \n",
              "76  NaN        NaN        NaN        NaN        NaN        NaN         NaN   \n",
              "77  NaN        NaN        NaN        NaN        NaN        NaN         NaN   \n",
              "\n",
              "            7           8           9   ...          68          69  \\\n",
              "0   109.377833  114.663846  145.865017  ...  265.110521  103.040833   \n",
              "1    63.976052   69.285061  100.750940  ...  275.712681   58.006153   \n",
              "2    48.563699   54.519475   86.762499  ...  289.074094   45.130702   \n",
              "3    32.481081   38.765463   71.150784  ...  296.179010   31.301626   \n",
              "4    50.391618   56.916904   85.295980  ...  329.140556   57.212661   \n",
              "..         ...         ...         ...  ...         ...         ...   \n",
              "73         NaN         NaN         NaN  ...         NaN         NaN   \n",
              "74         NaN         NaN         NaN  ...         NaN         NaN   \n",
              "75         NaN         NaN         NaN  ...         NaN         NaN   \n",
              "76         NaN         NaN         NaN  ...         NaN         NaN   \n",
              "77         NaN         NaN         NaN  ...         NaN         NaN   \n",
              "\n",
              "            70          71          72          73          74          75  \\\n",
              "0   135.850260  144.262810  140.076467  184.441288  225.496823  143.439961   \n",
              "1   106.089427  109.426950   98.708795  216.618549  258.908519  184.871640   \n",
              "2   106.352341  106.249818   90.279009  234.338122  276.704331  202.848395   \n",
              "3   102.085971   98.911004   78.774351  247.926282  290.446674  218.672619   \n",
              "4   134.748854  129.281971  104.326985  272.852680  314.924902  236.260918   \n",
              "..         ...         ...         ...         ...         ...         ...   \n",
              "73         NaN         NaN         NaN    0.000000   42.663515   74.452484   \n",
              "74         NaN         NaN         NaN         NaN    0.000000  100.858302   \n",
              "75         NaN         NaN         NaN         NaN         NaN    0.000000   \n",
              "76         NaN         NaN         NaN         NaN         NaN         NaN   \n",
              "77         NaN         NaN         NaN         NaN         NaN         NaN   \n",
              "\n",
              "            76          77  \n",
              "0   164.513942  329.144002  \n",
              "1   188.436146  341.111137  \n",
              "2   205.111316  354.600688  \n",
              "3   216.814115  361.729569  \n",
              "4   245.254871  394.694056  \n",
              "..         ...         ...  \n",
              "73   49.805473  189.740942  \n",
              "74   86.476787  182.869545  \n",
              "75   99.945450  263.288912  \n",
              "76    0.000000  173.847864  \n",
              "77         NaN    0.000000  \n",
              "\n",
              "[78 rows x 78 columns]"
            ]
          },
          "metadata": {},
          "output_type": "display_data"
        }
      ],
      "source": [
        "# distance of each neuron to each other neuron\n",
        "# what is the unit?\n",
        "for plane in range(1,6):\n",
        "    print(plane)\n",
        "    display(pd.DataFrame(record['CellInfo']['cellDists'][0][plane]))\n",
        "    break"
      ]
    },
    {
      "cell_type": "code",
      "execution_count": null,
      "metadata": {
        "id": "s2fE8huQDVB5"
      },
      "outputs": [],
      "source": [
        "# would have to recompute the euclidean distance of each pair of neurons again"
      ]
    },
    {
      "cell_type": "code",
      "execution_count": null,
      "metadata": {
        "colab": {
          "base_uri": "https://localhost:8080/",
          "height": 462
        },
        "id": "XQxUIdlM2kMI",
        "outputId": "e9341602-603b-49bb-920c-243d94ab3a3d"
      },
      "outputs": [
        {
          "name": "stdout",
          "output_type": "stream",
          "text": [
            "1\n"
          ]
        },
        {
          "data": {
            "text/html": [
              "<div>\n",
              "<style scoped>\n",
              "    .dataframe tbody tr th:only-of-type {\n",
              "        vertical-align: middle;\n",
              "    }\n",
              "\n",
              "    .dataframe tbody tr th {\n",
              "        vertical-align: top;\n",
              "    }\n",
              "\n",
              "    .dataframe thead th {\n",
              "        text-align: right;\n",
              "    }\n",
              "</style>\n",
              "<table border=\"1\" class=\"dataframe\">\n",
              "  <thead>\n",
              "    <tr style=\"text-align: right;\">\n",
              "      <th></th>\n",
              "      <th>0</th>\n",
              "      <th>1</th>\n",
              "      <th>2</th>\n",
              "      <th>3</th>\n",
              "      <th>4</th>\n",
              "      <th>5</th>\n",
              "      <th>6</th>\n",
              "      <th>7</th>\n",
              "      <th>8</th>\n",
              "      <th>9</th>\n",
              "      <th>...</th>\n",
              "      <th>68</th>\n",
              "      <th>69</th>\n",
              "      <th>70</th>\n",
              "      <th>71</th>\n",
              "      <th>72</th>\n",
              "      <th>73</th>\n",
              "      <th>74</th>\n",
              "      <th>75</th>\n",
              "      <th>76</th>\n",
              "      <th>77</th>\n",
              "    </tr>\n",
              "  </thead>\n",
              "  <tbody>\n",
              "    <tr>\n",
              "      <th>0</th>\n",
              "      <td>NaN</td>\n",
              "      <td>-160.47827</td>\n",
              "      <td>-168.407825</td>\n",
              "      <td>-167.409617</td>\n",
              "      <td>171.564232</td>\n",
              "      <td>136.363928</td>\n",
              "      <td>-163.696324</td>\n",
              "      <td>-161.113913</td>\n",
              "      <td>-158.920616</td>\n",
              "      <td>-155.075430</td>\n",
              "      <td>...</td>\n",
              "      <td>-61.704936</td>\n",
              "      <td>-154.983107</td>\n",
              "      <td>-119.134292</td>\n",
              "      <td>-126.777186</td>\n",
              "      <td>-140.296306</td>\n",
              "      <td>-30.134642</td>\n",
              "      <td>-26.874516</td>\n",
              "      <td>-8.108124</td>\n",
              "      <td>-45.191623</td>\n",
              "      <td>-58.978167</td>\n",
              "    </tr>\n",
              "    <tr>\n",
              "      <th>1</th>\n",
              "      <td>NaN</td>\n",
              "      <td>NaN</td>\n",
              "      <td>171.347458</td>\n",
              "      <td>-176.710757</td>\n",
              "      <td>149.574216</td>\n",
              "      <td>96.689315</td>\n",
              "      <td>-166.246929</td>\n",
              "      <td>-161.565051</td>\n",
              "      <td>-157.899867</td>\n",
              "      <td>-152.643348</td>\n",
              "      <td>...</td>\n",
              "      <td>-52.337744</td>\n",
              "      <td>-150.684114</td>\n",
              "      <td>-102.711133</td>\n",
              "      <td>-113.466076</td>\n",
              "      <td>-131.164681</td>\n",
              "      <td>-20.941464</td>\n",
              "      <td>-19.578534</td>\n",
              "      <td>-1.567703</td>\n",
              "      <td>-32.607286</td>\n",
              "      <td>-51.483071</td>\n",
              "    </tr>\n",
              "    <tr>\n",
              "      <th>2</th>\n",
              "      <td>NaN</td>\n",
              "      <td>NaN</td>\n",
              "      <td>NaN</td>\n",
              "      <td>-163.686148</td>\n",
              "      <td>140.053826</td>\n",
              "      <td>80.118594</td>\n",
              "      <td>-156.587886</td>\n",
              "      <td>-151.792509</td>\n",
              "      <td>-148.124637</td>\n",
              "      <td>-145.597335</td>\n",
              "      <td>...</td>\n",
              "      <td>-49.858731</td>\n",
              "      <td>-136.397182</td>\n",
              "      <td>-92.935674</td>\n",
              "      <td>-103.985360</td>\n",
              "      <td>-121.429566</td>\n",
              "      <td>-19.999360</td>\n",
              "      <td>-18.868034</td>\n",
              "      <td>-2.198374</td>\n",
              "      <td>-30.553709</td>\n",
              "      <td>-49.494161</td>\n",
              "    </tr>\n",
              "    <tr>\n",
              "      <th>3</th>\n",
              "      <td>NaN</td>\n",
              "      <td>NaN</td>\n",
              "      <td>NaN</td>\n",
              "      <td>NaN</td>\n",
              "      <td>116.274212</td>\n",
              "      <td>67.844553</td>\n",
              "      <td>-151.821410</td>\n",
              "      <td>-145.738897</td>\n",
              "      <td>-141.519802</td>\n",
              "      <td>-141.438050</td>\n",
              "      <td>...</td>\n",
              "      <td>-46.916241</td>\n",
              "      <td>-122.307336</td>\n",
              "      <td>-84.093859</td>\n",
              "      <td>-95.643319</td>\n",
              "      <td>-113.272905</td>\n",
              "      <td>-17.724119</td>\n",
              "      <td>-16.978590</td>\n",
              "      <td>-0.815543</td>\n",
              "      <td>-27.346726</td>\n",
              "      <td>-47.092064</td>\n",
              "    </tr>\n",
              "    <tr>\n",
              "      <th>4</th>\n",
              "      <td>NaN</td>\n",
              "      <td>NaN</td>\n",
              "      <td>NaN</td>\n",
              "      <td>NaN</td>\n",
              "      <td>NaN</td>\n",
              "      <td>39.434901</td>\n",
              "      <td>-98.864623</td>\n",
              "      <td>-103.392498</td>\n",
              "      <td>-105.461218</td>\n",
              "      <td>-118.318456</td>\n",
              "      <td>...</td>\n",
              "      <td>-48.642051</td>\n",
              "      <td>-91.558685</td>\n",
              "      <td>-79.014503</td>\n",
              "      <td>-87.585344</td>\n",
              "      <td>-98.794897</td>\n",
              "      <td>-22.908949</td>\n",
              "      <td>-21.525382</td>\n",
              "      <td>-8.236848</td>\n",
              "      <td>-32.101727</td>\n",
              "      <td>-48.516545</td>\n",
              "    </tr>\n",
              "    <tr>\n",
              "      <th>...</th>\n",
              "      <td>...</td>\n",
              "      <td>...</td>\n",
              "      <td>...</td>\n",
              "      <td>...</td>\n",
              "      <td>...</td>\n",
              "      <td>...</td>\n",
              "      <td>...</td>\n",
              "      <td>...</td>\n",
              "      <td>...</td>\n",
              "      <td>...</td>\n",
              "      <td>...</td>\n",
              "      <td>...</td>\n",
              "      <td>...</td>\n",
              "      <td>...</td>\n",
              "      <td>...</td>\n",
              "      <td>...</td>\n",
              "      <td>...</td>\n",
              "      <td>...</td>\n",
              "      <td>...</td>\n",
              "      <td>...</td>\n",
              "      <td>...</td>\n",
              "    </tr>\n",
              "    <tr>\n",
              "      <th>73</th>\n",
              "      <td>NaN</td>\n",
              "      <td>NaN</td>\n",
              "      <td>NaN</td>\n",
              "      <td>NaN</td>\n",
              "      <td>NaN</td>\n",
              "      <td>NaN</td>\n",
              "      <td>NaN</td>\n",
              "      <td>NaN</td>\n",
              "      <td>NaN</td>\n",
              "      <td>NaN</td>\n",
              "      <td>...</td>\n",
              "      <td>NaN</td>\n",
              "      <td>NaN</td>\n",
              "      <td>NaN</td>\n",
              "      <td>NaN</td>\n",
              "      <td>NaN</td>\n",
              "      <td>NaN</td>\n",
              "      <td>-12.642152</td>\n",
              "      <td>103.600543</td>\n",
              "      <td>-151.032339</td>\n",
              "      <td>-86.943989</td>\n",
              "    </tr>\n",
              "    <tr>\n",
              "      <th>74</th>\n",
              "      <td>NaN</td>\n",
              "      <td>NaN</td>\n",
              "      <td>NaN</td>\n",
              "      <td>NaN</td>\n",
              "      <td>NaN</td>\n",
              "      <td>NaN</td>\n",
              "      <td>NaN</td>\n",
              "      <td>NaN</td>\n",
              "      <td>NaN</td>\n",
              "      <td>NaN</td>\n",
              "      <td>...</td>\n",
              "      <td>NaN</td>\n",
              "      <td>NaN</td>\n",
              "      <td>NaN</td>\n",
              "      <td>NaN</td>\n",
              "      <td>NaN</td>\n",
              "      <td>NaN</td>\n",
              "      <td>NaN</td>\n",
              "      <td>125.897378</td>\n",
              "      <td>-170.156277</td>\n",
              "      <td>-99.923245</td>\n",
              "    </tr>\n",
              "    <tr>\n",
              "      <th>75</th>\n",
              "      <td>NaN</td>\n",
              "      <td>NaN</td>\n",
              "      <td>NaN</td>\n",
              "      <td>NaN</td>\n",
              "      <td>NaN</td>\n",
              "      <td>NaN</td>\n",
              "      <td>NaN</td>\n",
              "      <td>NaN</td>\n",
              "      <td>NaN</td>\n",
              "      <td>NaN</td>\n",
              "      <td>...</td>\n",
              "      <td>NaN</td>\n",
              "      <td>NaN</td>\n",
              "      <td>NaN</td>\n",
              "      <td>NaN</td>\n",
              "      <td>NaN</td>\n",
              "      <td>NaN</td>\n",
              "      <td>NaN</td>\n",
              "      <td>NaN</td>\n",
              "      <td>-105.118188</td>\n",
              "      <td>-83.977699</td>\n",
              "    </tr>\n",
              "    <tr>\n",
              "      <th>76</th>\n",
              "      <td>NaN</td>\n",
              "      <td>NaN</td>\n",
              "      <td>NaN</td>\n",
              "      <td>NaN</td>\n",
              "      <td>NaN</td>\n",
              "      <td>NaN</td>\n",
              "      <td>NaN</td>\n",
              "      <td>NaN</td>\n",
              "      <td>NaN</td>\n",
              "      <td>NaN</td>\n",
              "      <td>...</td>\n",
              "      <td>NaN</td>\n",
              "      <td>NaN</td>\n",
              "      <td>NaN</td>\n",
              "      <td>NaN</td>\n",
              "      <td>NaN</td>\n",
              "      <td>NaN</td>\n",
              "      <td>NaN</td>\n",
              "      <td>NaN</td>\n",
              "      <td>NaN</td>\n",
              "      <td>-72.011079</td>\n",
              "    </tr>\n",
              "    <tr>\n",
              "      <th>77</th>\n",
              "      <td>NaN</td>\n",
              "      <td>NaN</td>\n",
              "      <td>NaN</td>\n",
              "      <td>NaN</td>\n",
              "      <td>NaN</td>\n",
              "      <td>NaN</td>\n",
              "      <td>NaN</td>\n",
              "      <td>NaN</td>\n",
              "      <td>NaN</td>\n",
              "      <td>NaN</td>\n",
              "      <td>...</td>\n",
              "      <td>NaN</td>\n",
              "      <td>NaN</td>\n",
              "      <td>NaN</td>\n",
              "      <td>NaN</td>\n",
              "      <td>NaN</td>\n",
              "      <td>NaN</td>\n",
              "      <td>NaN</td>\n",
              "      <td>NaN</td>\n",
              "      <td>NaN</td>\n",
              "      <td>NaN</td>\n",
              "    </tr>\n",
              "  </tbody>\n",
              "</table>\n",
              "<p>78 rows × 78 columns</p>\n",
              "</div>"
            ],
            "text/plain": [
              "    0          1           2           3           4           5           6   \\\n",
              "0  NaN -160.47827 -168.407825 -167.409617  171.564232  136.363928 -163.696324   \n",
              "1  NaN        NaN  171.347458 -176.710757  149.574216   96.689315 -166.246929   \n",
              "2  NaN        NaN         NaN -163.686148  140.053826   80.118594 -156.587886   \n",
              "3  NaN        NaN         NaN         NaN  116.274212   67.844553 -151.821410   \n",
              "4  NaN        NaN         NaN         NaN         NaN   39.434901  -98.864623   \n",
              "..  ..        ...         ...         ...         ...         ...         ...   \n",
              "73 NaN        NaN         NaN         NaN         NaN         NaN         NaN   \n",
              "74 NaN        NaN         NaN         NaN         NaN         NaN         NaN   \n",
              "75 NaN        NaN         NaN         NaN         NaN         NaN         NaN   \n",
              "76 NaN        NaN         NaN         NaN         NaN         NaN         NaN   \n",
              "77 NaN        NaN         NaN         NaN         NaN         NaN         NaN   \n",
              "\n",
              "            7           8           9   ...         68          69  \\\n",
              "0  -161.113913 -158.920616 -155.075430  ... -61.704936 -154.983107   \n",
              "1  -161.565051 -157.899867 -152.643348  ... -52.337744 -150.684114   \n",
              "2  -151.792509 -148.124637 -145.597335  ... -49.858731 -136.397182   \n",
              "3  -145.738897 -141.519802 -141.438050  ... -46.916241 -122.307336   \n",
              "4  -103.392498 -105.461218 -118.318456  ... -48.642051  -91.558685   \n",
              "..         ...         ...         ...  ...        ...         ...   \n",
              "73         NaN         NaN         NaN  ...        NaN         NaN   \n",
              "74         NaN         NaN         NaN  ...        NaN         NaN   \n",
              "75         NaN         NaN         NaN  ...        NaN         NaN   \n",
              "76         NaN         NaN         NaN  ...        NaN         NaN   \n",
              "77         NaN         NaN         NaN  ...        NaN         NaN   \n",
              "\n",
              "            70          71          72         73         74          75  \\\n",
              "0  -119.134292 -126.777186 -140.296306 -30.134642 -26.874516   -8.108124   \n",
              "1  -102.711133 -113.466076 -131.164681 -20.941464 -19.578534   -1.567703   \n",
              "2   -92.935674 -103.985360 -121.429566 -19.999360 -18.868034   -2.198374   \n",
              "3   -84.093859  -95.643319 -113.272905 -17.724119 -16.978590   -0.815543   \n",
              "4   -79.014503  -87.585344  -98.794897 -22.908949 -21.525382   -8.236848   \n",
              "..         ...         ...         ...        ...        ...         ...   \n",
              "73         NaN         NaN         NaN        NaN -12.642152  103.600543   \n",
              "74         NaN         NaN         NaN        NaN        NaN  125.897378   \n",
              "75         NaN         NaN         NaN        NaN        NaN         NaN   \n",
              "76         NaN         NaN         NaN        NaN        NaN         NaN   \n",
              "77         NaN         NaN         NaN        NaN        NaN         NaN   \n",
              "\n",
              "            76         77  \n",
              "0   -45.191623 -58.978167  \n",
              "1   -32.607286 -51.483071  \n",
              "2   -30.553709 -49.494161  \n",
              "3   -27.346726 -47.092064  \n",
              "4   -32.101727 -48.516545  \n",
              "..         ...        ...  \n",
              "73 -151.032339 -86.943989  \n",
              "74 -170.156277 -99.923245  \n",
              "75 -105.118188 -83.977699  \n",
              "76         NaN -72.011079  \n",
              "77         NaN        NaN  \n",
              "\n",
              "[78 rows x 78 columns]"
            ]
          },
          "metadata": {},
          "output_type": "display_data"
        }
      ],
      "source": [
        "# angle of axon to the dendrite, presumably\n",
        "# this paper doesn't use the angle so I guess we could ignore it\n",
        "for plane in range(1,6):\n",
        "    print(plane)\n",
        "    display(pd.DataFrame(record['CellInfo']['cellAngles'][0][plane]))\n",
        "    break"
      ]
    },
    {
      "cell_type": "code",
      "execution_count": null,
      "metadata": {
        "colab": {
          "base_uri": "https://localhost:8080/"
        },
        "id": "Dx1V85K52veG",
        "outputId": "d23507c6-3209-4de1-b1b1-7736aeb8fcb8"
      },
      "outputs": [
        {
          "data": {
            "text/plain": [
              "(78, 9, 10)"
            ]
          },
          "execution_count": 90,
          "metadata": {},
          "output_type": "execute_result"
        }
      ],
      "source": [
        "# is this the signals that are significant in each trial?\n",
        "# there are 10 trials inside?\n",
        "record['CellInfo']['sigTrial'][0][1].shape"
      ]
    },
    {
      "cell_type": "code",
      "execution_count": null,
      "metadata": {
        "colab": {
          "base_uri": "https://localhost:8080/",
          "height": 424
        },
        "id": "U-6Lt8vn2-gM",
        "outputId": "6fffbd2f-f493-4079-8cae-4a5a1afcc9f6"
      },
      "outputs": [
        {
          "data": {
            "text/html": [
              "<div>\n",
              "<style scoped>\n",
              "    .dataframe tbody tr th:only-of-type {\n",
              "        vertical-align: middle;\n",
              "    }\n",
              "\n",
              "    .dataframe tbody tr th {\n",
              "        vertical-align: top;\n",
              "    }\n",
              "\n",
              "    .dataframe thead th {\n",
              "        text-align: right;\n",
              "    }\n",
              "</style>\n",
              "<table border=\"1\" class=\"dataframe\">\n",
              "  <thead>\n",
              "    <tr style=\"text-align: right;\">\n",
              "      <th></th>\n",
              "      <th>0</th>\n",
              "      <th>1</th>\n",
              "      <th>2</th>\n",
              "      <th>3</th>\n",
              "      <th>4</th>\n",
              "      <th>5</th>\n",
              "      <th>6</th>\n",
              "      <th>7</th>\n",
              "      <th>8</th>\n",
              "    </tr>\n",
              "  </thead>\n",
              "  <tbody>\n",
              "    <tr>\n",
              "      <th>0</th>\n",
              "      <td>0</td>\n",
              "      <td>0</td>\n",
              "      <td>1</td>\n",
              "      <td>0</td>\n",
              "      <td>0</td>\n",
              "      <td>0</td>\n",
              "      <td>0</td>\n",
              "      <td>0</td>\n",
              "      <td>0</td>\n",
              "    </tr>\n",
              "    <tr>\n",
              "      <th>1</th>\n",
              "      <td>0</td>\n",
              "      <td>0</td>\n",
              "      <td>0</td>\n",
              "      <td>0</td>\n",
              "      <td>0</td>\n",
              "      <td>0</td>\n",
              "      <td>0</td>\n",
              "      <td>0</td>\n",
              "      <td>0</td>\n",
              "    </tr>\n",
              "    <tr>\n",
              "      <th>2</th>\n",
              "      <td>0</td>\n",
              "      <td>0</td>\n",
              "      <td>0</td>\n",
              "      <td>0</td>\n",
              "      <td>0</td>\n",
              "      <td>0</td>\n",
              "      <td>0</td>\n",
              "      <td>0</td>\n",
              "      <td>0</td>\n",
              "    </tr>\n",
              "    <tr>\n",
              "      <th>3</th>\n",
              "      <td>0</td>\n",
              "      <td>0</td>\n",
              "      <td>0</td>\n",
              "      <td>0</td>\n",
              "      <td>0</td>\n",
              "      <td>0</td>\n",
              "      <td>0</td>\n",
              "      <td>0</td>\n",
              "      <td>0</td>\n",
              "    </tr>\n",
              "    <tr>\n",
              "      <th>4</th>\n",
              "      <td>0</td>\n",
              "      <td>0</td>\n",
              "      <td>0</td>\n",
              "      <td>0</td>\n",
              "      <td>0</td>\n",
              "      <td>0</td>\n",
              "      <td>0</td>\n",
              "      <td>0</td>\n",
              "      <td>0</td>\n",
              "    </tr>\n",
              "    <tr>\n",
              "      <th>...</th>\n",
              "      <td>...</td>\n",
              "      <td>...</td>\n",
              "      <td>...</td>\n",
              "      <td>...</td>\n",
              "      <td>...</td>\n",
              "      <td>...</td>\n",
              "      <td>...</td>\n",
              "      <td>...</td>\n",
              "      <td>...</td>\n",
              "    </tr>\n",
              "    <tr>\n",
              "      <th>73</th>\n",
              "      <td>0</td>\n",
              "      <td>0</td>\n",
              "      <td>0</td>\n",
              "      <td>0</td>\n",
              "      <td>0</td>\n",
              "      <td>0</td>\n",
              "      <td>0</td>\n",
              "      <td>0</td>\n",
              "      <td>0</td>\n",
              "    </tr>\n",
              "    <tr>\n",
              "      <th>74</th>\n",
              "      <td>0</td>\n",
              "      <td>0</td>\n",
              "      <td>1</td>\n",
              "      <td>0</td>\n",
              "      <td>0</td>\n",
              "      <td>0</td>\n",
              "      <td>0</td>\n",
              "      <td>0</td>\n",
              "      <td>0</td>\n",
              "    </tr>\n",
              "    <tr>\n",
              "      <th>75</th>\n",
              "      <td>0</td>\n",
              "      <td>0</td>\n",
              "      <td>0</td>\n",
              "      <td>0</td>\n",
              "      <td>0</td>\n",
              "      <td>0</td>\n",
              "      <td>0</td>\n",
              "      <td>0</td>\n",
              "      <td>0</td>\n",
              "    </tr>\n",
              "    <tr>\n",
              "      <th>76</th>\n",
              "      <td>0</td>\n",
              "      <td>0</td>\n",
              "      <td>0</td>\n",
              "      <td>0</td>\n",
              "      <td>0</td>\n",
              "      <td>0</td>\n",
              "      <td>0</td>\n",
              "      <td>0</td>\n",
              "      <td>0</td>\n",
              "    </tr>\n",
              "    <tr>\n",
              "      <th>77</th>\n",
              "      <td>0</td>\n",
              "      <td>0</td>\n",
              "      <td>0</td>\n",
              "      <td>1</td>\n",
              "      <td>1</td>\n",
              "      <td>0</td>\n",
              "      <td>0</td>\n",
              "      <td>0</td>\n",
              "      <td>0</td>\n",
              "    </tr>\n",
              "  </tbody>\n",
              "</table>\n",
              "<p>78 rows × 9 columns</p>\n",
              "</div>"
            ],
            "text/plain": [
              "    0  1  2  3  4  5  6  7  8\n",
              "0   0  0  1  0  0  0  0  0  0\n",
              "1   0  0  0  0  0  0  0  0  0\n",
              "2   0  0  0  0  0  0  0  0  0\n",
              "3   0  0  0  0  0  0  0  0  0\n",
              "4   0  0  0  0  0  0  0  0  0\n",
              ".. .. .. .. .. .. .. .. .. ..\n",
              "73  0  0  0  0  0  0  0  0  0\n",
              "74  0  0  1  0  0  0  0  0  0\n",
              "75  0  0  0  0  0  0  0  0  0\n",
              "76  0  0  0  0  0  0  0  0  0\n",
              "77  0  0  0  1  1  0  0  0  0\n",
              "\n",
              "[78 rows x 9 columns]"
            ]
          },
          "execution_count": 91,
          "metadata": {},
          "output_type": "execute_result"
        }
      ],
      "source": [
        "# is this the signals that are significant for each stimulus?\n",
        "# yes - should be p-value of ANOVA across baseline, P < 0.01, BUT ends up being P < 0.05 :P\n",
        "pd.DataFrame(record['CellInfo']['sigStim'][0][1])"
      ]
    },
    {
      "cell_type": "code",
      "execution_count": null,
      "metadata": {
        "colab": {
          "base_uri": "https://localhost:8080/",
          "height": 424
        },
        "id": "ljywfsbU3SL9",
        "outputId": "65bfa571-bf95-4fc6-dbb6-702e645fb2b8"
      },
      "outputs": [
        {
          "data": {
            "text/html": [
              "<div>\n",
              "<style scoped>\n",
              "    .dataframe tbody tr th:only-of-type {\n",
              "        vertical-align: middle;\n",
              "    }\n",
              "\n",
              "    .dataframe tbody tr th {\n",
              "        vertical-align: top;\n",
              "    }\n",
              "\n",
              "    .dataframe thead th {\n",
              "        text-align: right;\n",
              "    }\n",
              "</style>\n",
              "<table border=\"1\" class=\"dataframe\">\n",
              "  <thead>\n",
              "    <tr style=\"text-align: right;\">\n",
              "      <th></th>\n",
              "      <th>0</th>\n",
              "      <th>1</th>\n",
              "      <th>2</th>\n",
              "      <th>3</th>\n",
              "      <th>4</th>\n",
              "      <th>5</th>\n",
              "      <th>6</th>\n",
              "      <th>7</th>\n",
              "      <th>8</th>\n",
              "    </tr>\n",
              "  </thead>\n",
              "  <tbody>\n",
              "    <tr>\n",
              "      <th>0</th>\n",
              "      <td>0</td>\n",
              "      <td>0</td>\n",
              "      <td>0</td>\n",
              "      <td>0</td>\n",
              "      <td>0</td>\n",
              "      <td>0</td>\n",
              "      <td>0</td>\n",
              "      <td>0</td>\n",
              "      <td>0</td>\n",
              "    </tr>\n",
              "    <tr>\n",
              "      <th>1</th>\n",
              "      <td>0</td>\n",
              "      <td>0</td>\n",
              "      <td>0</td>\n",
              "      <td>0</td>\n",
              "      <td>0</td>\n",
              "      <td>0</td>\n",
              "      <td>0</td>\n",
              "      <td>0</td>\n",
              "      <td>0</td>\n",
              "    </tr>\n",
              "    <tr>\n",
              "      <th>2</th>\n",
              "      <td>0</td>\n",
              "      <td>0</td>\n",
              "      <td>0</td>\n",
              "      <td>0</td>\n",
              "      <td>0</td>\n",
              "      <td>0</td>\n",
              "      <td>0</td>\n",
              "      <td>0</td>\n",
              "      <td>0</td>\n",
              "    </tr>\n",
              "    <tr>\n",
              "      <th>3</th>\n",
              "      <td>0</td>\n",
              "      <td>0</td>\n",
              "      <td>0</td>\n",
              "      <td>0</td>\n",
              "      <td>1</td>\n",
              "      <td>1</td>\n",
              "      <td>0</td>\n",
              "      <td>0</td>\n",
              "      <td>0</td>\n",
              "    </tr>\n",
              "    <tr>\n",
              "      <th>4</th>\n",
              "      <td>0</td>\n",
              "      <td>0</td>\n",
              "      <td>0</td>\n",
              "      <td>0</td>\n",
              "      <td>0</td>\n",
              "      <td>0</td>\n",
              "      <td>0</td>\n",
              "      <td>0</td>\n",
              "      <td>0</td>\n",
              "    </tr>\n",
              "    <tr>\n",
              "      <th>...</th>\n",
              "      <td>...</td>\n",
              "      <td>...</td>\n",
              "      <td>...</td>\n",
              "      <td>...</td>\n",
              "      <td>...</td>\n",
              "      <td>...</td>\n",
              "      <td>...</td>\n",
              "      <td>...</td>\n",
              "      <td>...</td>\n",
              "    </tr>\n",
              "    <tr>\n",
              "      <th>73</th>\n",
              "      <td>0</td>\n",
              "      <td>0</td>\n",
              "      <td>0</td>\n",
              "      <td>0</td>\n",
              "      <td>0</td>\n",
              "      <td>0</td>\n",
              "      <td>0</td>\n",
              "      <td>0</td>\n",
              "      <td>0</td>\n",
              "    </tr>\n",
              "    <tr>\n",
              "      <th>74</th>\n",
              "      <td>0</td>\n",
              "      <td>0</td>\n",
              "      <td>0</td>\n",
              "      <td>0</td>\n",
              "      <td>0</td>\n",
              "      <td>0</td>\n",
              "      <td>0</td>\n",
              "      <td>0</td>\n",
              "      <td>0</td>\n",
              "    </tr>\n",
              "    <tr>\n",
              "      <th>75</th>\n",
              "      <td>0</td>\n",
              "      <td>0</td>\n",
              "      <td>0</td>\n",
              "      <td>0</td>\n",
              "      <td>0</td>\n",
              "      <td>0</td>\n",
              "      <td>1</td>\n",
              "      <td>0</td>\n",
              "      <td>0</td>\n",
              "    </tr>\n",
              "    <tr>\n",
              "      <th>76</th>\n",
              "      <td>0</td>\n",
              "      <td>0</td>\n",
              "      <td>0</td>\n",
              "      <td>1</td>\n",
              "      <td>0</td>\n",
              "      <td>0</td>\n",
              "      <td>0</td>\n",
              "      <td>0</td>\n",
              "      <td>0</td>\n",
              "    </tr>\n",
              "    <tr>\n",
              "      <th>77</th>\n",
              "      <td>0</td>\n",
              "      <td>0</td>\n",
              "      <td>0</td>\n",
              "      <td>0</td>\n",
              "      <td>0</td>\n",
              "      <td>0</td>\n",
              "      <td>0</td>\n",
              "      <td>0</td>\n",
              "      <td>0</td>\n",
              "    </tr>\n",
              "  </tbody>\n",
              "</table>\n",
              "<p>78 rows × 9 columns</p>\n",
              "</div>"
            ],
            "text/plain": [
              "    0  1  2  3  4  5  6  7  8\n",
              "0   0  0  0  0  0  0  0  0  0\n",
              "1   0  0  0  0  0  0  0  0  0\n",
              "2   0  0  0  0  0  0  0  0  0\n",
              "3   0  0  0  0  1  1  0  0  0\n",
              "4   0  0  0  0  0  0  0  0  0\n",
              ".. .. .. .. .. .. .. .. .. ..\n",
              "73  0  0  0  0  0  0  0  0  0\n",
              "74  0  0  0  0  0  0  0  0  0\n",
              "75  0  0  0  0  0  0  1  0  0\n",
              "76  0  0  0  1  0  0  0  0  0\n",
              "77  0  0  0  0  0  0  0  0  0\n",
              "\n",
              "[78 rows x 9 columns]"
            ]
          },
          "execution_count": 92,
          "metadata": {},
          "output_type": "execute_result"
        }
      ],
      "source": [
        "# huh???\n",
        "pd.DataFrame(record['CellInfo']['sigOff'][0][1])"
      ]
    },
    {
      "cell_type": "markdown",
      "metadata": {
        "id": "Hccvoa1Z4IgU"
      },
      "source": [
        "## corr and BF info"
      ]
    },
    {
      "cell_type": "code",
      "execution_count": null,
      "metadata": {
        "colab": {
          "base_uri": "https://localhost:8080/",
          "height": 257
        },
        "id": "A6bf1A4mqpWX",
        "outputId": "70ada2ff-c6ec-4e9d-b5fa-f20e8683973e"
      },
      "outputs": [
        {
          "data": {
            "text/html": [
              "<div>\n",
              "<style scoped>\n",
              "    .dataframe tbody tr th:only-of-type {\n",
              "        vertical-align: middle;\n",
              "    }\n",
              "\n",
              "    .dataframe tbody tr th {\n",
              "        vertical-align: top;\n",
              "    }\n",
              "\n",
              "    .dataframe thead th {\n",
              "        text-align: right;\n",
              "    }\n",
              "</style>\n",
              "<table border=\"1\" class=\"dataframe\">\n",
              "  <thead>\n",
              "    <tr style=\"text-align: right;\">\n",
              "      <th></th>\n",
              "      <th>cellnum</th>\n",
              "      <th>NONcellnum</th>\n",
              "      <th>BFval</th>\n",
              "      <th>BFresp</th>\n",
              "      <th>CFval</th>\n",
              "      <th>CFresp</th>\n",
              "      <th>BL</th>\n",
              "      <th>fraVals</th>\n",
              "      <th>bandwidth</th>\n",
              "      <th>normFRA</th>\n",
              "      <th>RFS</th>\n",
              "      <th>RFSBinary</th>\n",
              "      <th>sigRespCells</th>\n",
              "      <th>sigOffRespCells</th>\n",
              "    </tr>\n",
              "  </thead>\n",
              "  <tbody>\n",
              "    <tr>\n",
              "      <th>0</th>\n",
              "      <td>[[1], [9], [10], [13], [14], [18], [19], [20],...</td>\n",
              "      <td>[[2], [3], [4], [5], [6], [7], [8], [11], [12]...</td>\n",
              "      <td>[[3], [8], [4], [9], [1], [3], [3], [3], [1], ...</td>\n",
              "      <td>[[26.850229533754874], [17.192881752807928], [...</td>\n",
              "      <td>[[1.0], [nan], [nan], [nan], [nan], [nan], [na...</td>\n",
              "      <td>[[26.850229533754874], [nan], [nan], [nan], [n...</td>\n",
              "      <td>[[1], [1], [1], [1], [1], [1], [1], [1], [1], ...</td>\n",
              "      <td>[[[12.390694257695314, 15.736113856876134, 26....</td>\n",
              "      <td>[[2.38], [nan], [2.77], [nan], [nan], [nan], [...</td>\n",
              "      <td>[[0.015886584592534215, 0.24357525126579024, 1...</td>\n",
              "      <td>[[0.0, 0.0, 1.0, 0.0, 0.0, 0.0, 0.0, 0.0, 0.0]...</td>\n",
              "      <td>[[0, 0, 1, 0, 0, 0, 0, 0, 0], [0, 0, 0, 0, 0, ...</td>\n",
              "      <td>[[1], [9], [10], [13], [14], [18], [19], [20],...</td>\n",
              "      <td>[[4], [8], [26], [31], [34], [43], [45], [63],...</td>\n",
              "    </tr>\n",
              "  </tbody>\n",
              "</table>\n",
              "</div>"
            ],
            "text/plain": [
              "                                             cellnum  \\\n",
              "0  [[1], [9], [10], [13], [14], [18], [19], [20],...   \n",
              "\n",
              "                                          NONcellnum  \\\n",
              "0  [[2], [3], [4], [5], [6], [7], [8], [11], [12]...   \n",
              "\n",
              "                                               BFval  \\\n",
              "0  [[3], [8], [4], [9], [1], [3], [3], [3], [1], ...   \n",
              "\n",
              "                                              BFresp  \\\n",
              "0  [[26.850229533754874], [17.192881752807928], [...   \n",
              "\n",
              "                                               CFval  \\\n",
              "0  [[1.0], [nan], [nan], [nan], [nan], [nan], [na...   \n",
              "\n",
              "                                              CFresp  \\\n",
              "0  [[26.850229533754874], [nan], [nan], [nan], [n...   \n",
              "\n",
              "                                                  BL  \\\n",
              "0  [[1], [1], [1], [1], [1], [1], [1], [1], [1], ...   \n",
              "\n",
              "                                             fraVals  \\\n",
              "0  [[[12.390694257695314, 15.736113856876134, 26....   \n",
              "\n",
              "                                           bandwidth  \\\n",
              "0  [[2.38], [nan], [2.77], [nan], [nan], [nan], [...   \n",
              "\n",
              "                                             normFRA  \\\n",
              "0  [[0.015886584592534215, 0.24357525126579024, 1...   \n",
              "\n",
              "                                                 RFS  \\\n",
              "0  [[0.0, 0.0, 1.0, 0.0, 0.0, 0.0, 0.0, 0.0, 0.0]...   \n",
              "\n",
              "                                           RFSBinary  \\\n",
              "0  [[0, 0, 1, 0, 0, 0, 0, 0, 0], [0, 0, 0, 0, 0, ...   \n",
              "\n",
              "                                        sigRespCells  \\\n",
              "0  [[1], [9], [10], [13], [14], [18], [19], [20],...   \n",
              "\n",
              "                                     sigOffRespCells  \n",
              "0  [[4], [8], [26], [31], [34], [43], [45], [63],...  "
            ]
          },
          "execution_count": 93,
          "metadata": {},
          "output_type": "execute_result"
        }
      ],
      "source": [
        "# BF info: the frequency that elicits the peak of the tuning curve for each neuron\n",
        "# we can ignore this, wasn't used in the graph network part of paper\n",
        "\n",
        "pd.DataFrame(record['BFinfo'][:, 1])"
      ]
    },
    {
      "cell_type": "code",
      "execution_count": null,
      "metadata": {
        "colab": {
          "base_uri": "https://localhost:8080/"
        },
        "id": "kXICh-xwm58_",
        "outputId": "d1a70765-759e-4fd8-f69d-ff886374161e"
      },
      "outputs": [
        {
          "name": "stdout",
          "output_type": "stream",
          "text": [
            "SigCorrs\n",
            "NoiseCorrsTrial\n",
            "NoiseCorrsVec\n"
          ]
        }
      ],
      "source": [
        "# this contains information about the experiment!!\n",
        "for d in record['CorrInfo'].dtype.fields.keys():\n",
        "    print(d) #, ':', record['exptVars'][d])"
      ]
    },
    {
      "cell_type": "code",
      "execution_count": null,
      "metadata": {
        "colab": {
          "base_uri": "https://localhost:8080/",
          "height": 444
        },
        "id": "OGKMZM2C4LgW",
        "outputId": "32ab92f1-32ac-46a7-c450-76db783df7b9"
      },
      "outputs": [
        {
          "data": {
            "text/html": [
              "<div>\n",
              "<style scoped>\n",
              "    .dataframe tbody tr th:only-of-type {\n",
              "        vertical-align: middle;\n",
              "    }\n",
              "\n",
              "    .dataframe tbody tr th {\n",
              "        vertical-align: top;\n",
              "    }\n",
              "\n",
              "    .dataframe thead th {\n",
              "        text-align: right;\n",
              "    }\n",
              "</style>\n",
              "<table border=\"1\" class=\"dataframe\">\n",
              "  <thead>\n",
              "    <tr style=\"text-align: right;\">\n",
              "      <th></th>\n",
              "      <th>0</th>\n",
              "      <th>1</th>\n",
              "      <th>2</th>\n",
              "      <th>3</th>\n",
              "      <th>4</th>\n",
              "      <th>5</th>\n",
              "      <th>6</th>\n",
              "      <th>7</th>\n",
              "      <th>8</th>\n",
              "      <th>9</th>\n",
              "      <th>...</th>\n",
              "      <th>68</th>\n",
              "      <th>69</th>\n",
              "      <th>70</th>\n",
              "      <th>71</th>\n",
              "      <th>72</th>\n",
              "      <th>73</th>\n",
              "      <th>74</th>\n",
              "      <th>75</th>\n",
              "      <th>76</th>\n",
              "      <th>77</th>\n",
              "    </tr>\n",
              "  </thead>\n",
              "  <tbody>\n",
              "    <tr>\n",
              "      <th>0</th>\n",
              "      <td>NaN</td>\n",
              "      <td>0.053426</td>\n",
              "      <td>0.376339</td>\n",
              "      <td>0.363409</td>\n",
              "      <td>0.229670</td>\n",
              "      <td>0.327637</td>\n",
              "      <td>0.612616</td>\n",
              "      <td>0.266189</td>\n",
              "      <td>-0.322981</td>\n",
              "      <td>0.290570</td>\n",
              "      <td>...</td>\n",
              "      <td>0.346268</td>\n",
              "      <td>0.218497</td>\n",
              "      <td>0.417912</td>\n",
              "      <td>0.082978</td>\n",
              "      <td>0.065208</td>\n",
              "      <td>0.742576</td>\n",
              "      <td>0.242792</td>\n",
              "      <td>0.455971</td>\n",
              "      <td>0.777719</td>\n",
              "      <td>0.258998</td>\n",
              "    </tr>\n",
              "    <tr>\n",
              "      <th>1</th>\n",
              "      <td>NaN</td>\n",
              "      <td>NaN</td>\n",
              "      <td>0.237212</td>\n",
              "      <td>0.192618</td>\n",
              "      <td>0.096188</td>\n",
              "      <td>-0.027655</td>\n",
              "      <td>0.052036</td>\n",
              "      <td>0.244153</td>\n",
              "      <td>0.602687</td>\n",
              "      <td>0.187199</td>\n",
              "      <td>...</td>\n",
              "      <td>-0.266888</td>\n",
              "      <td>0.275192</td>\n",
              "      <td>-0.140691</td>\n",
              "      <td>0.688193</td>\n",
              "      <td>-0.275163</td>\n",
              "      <td>-0.331086</td>\n",
              "      <td>0.427649</td>\n",
              "      <td>-0.227791</td>\n",
              "      <td>-0.288037</td>\n",
              "      <td>-0.351927</td>\n",
              "    </tr>\n",
              "    <tr>\n",
              "      <th>2</th>\n",
              "      <td>NaN</td>\n",
              "      <td>NaN</td>\n",
              "      <td>NaN</td>\n",
              "      <td>0.675969</td>\n",
              "      <td>0.520021</td>\n",
              "      <td>0.070257</td>\n",
              "      <td>-0.364703</td>\n",
              "      <td>0.162196</td>\n",
              "      <td>0.157422</td>\n",
              "      <td>0.578411</td>\n",
              "      <td>...</td>\n",
              "      <td>-0.248563</td>\n",
              "      <td>-0.154037</td>\n",
              "      <td>0.264237</td>\n",
              "      <td>0.575617</td>\n",
              "      <td>0.330618</td>\n",
              "      <td>0.131755</td>\n",
              "      <td>0.306152</td>\n",
              "      <td>0.265260</td>\n",
              "      <td>0.195375</td>\n",
              "      <td>-0.314676</td>\n",
              "    </tr>\n",
              "    <tr>\n",
              "      <th>3</th>\n",
              "      <td>NaN</td>\n",
              "      <td>NaN</td>\n",
              "      <td>NaN</td>\n",
              "      <td>NaN</td>\n",
              "      <td>0.095609</td>\n",
              "      <td>-0.463841</td>\n",
              "      <td>-0.089438</td>\n",
              "      <td>-0.348972</td>\n",
              "      <td>-0.332689</td>\n",
              "      <td>0.753903</td>\n",
              "      <td>...</td>\n",
              "      <td>0.073309</td>\n",
              "      <td>-0.307069</td>\n",
              "      <td>0.152455</td>\n",
              "      <td>0.591024</td>\n",
              "      <td>0.234035</td>\n",
              "      <td>0.266896</td>\n",
              "      <td>0.019802</td>\n",
              "      <td>0.377084</td>\n",
              "      <td>0.366548</td>\n",
              "      <td>-0.098279</td>\n",
              "    </tr>\n",
              "    <tr>\n",
              "      <th>4</th>\n",
              "      <td>NaN</td>\n",
              "      <td>NaN</td>\n",
              "      <td>NaN</td>\n",
              "      <td>NaN</td>\n",
              "      <td>NaN</td>\n",
              "      <td>0.601048</td>\n",
              "      <td>-0.321368</td>\n",
              "      <td>0.320106</td>\n",
              "      <td>0.355355</td>\n",
              "      <td>0.315902</td>\n",
              "      <td>...</td>\n",
              "      <td>-0.451526</td>\n",
              "      <td>-0.298450</td>\n",
              "      <td>0.445258</td>\n",
              "      <td>0.065212</td>\n",
              "      <td>-0.044323</td>\n",
              "      <td>0.237527</td>\n",
              "      <td>0.103822</td>\n",
              "      <td>0.235560</td>\n",
              "      <td>-0.037574</td>\n",
              "      <td>0.120596</td>\n",
              "    </tr>\n",
              "    <tr>\n",
              "      <th>...</th>\n",
              "      <td>...</td>\n",
              "      <td>...</td>\n",
              "      <td>...</td>\n",
              "      <td>...</td>\n",
              "      <td>...</td>\n",
              "      <td>...</td>\n",
              "      <td>...</td>\n",
              "      <td>...</td>\n",
              "      <td>...</td>\n",
              "      <td>...</td>\n",
              "      <td>...</td>\n",
              "      <td>...</td>\n",
              "      <td>...</td>\n",
              "      <td>...</td>\n",
              "      <td>...</td>\n",
              "      <td>...</td>\n",
              "      <td>...</td>\n",
              "      <td>...</td>\n",
              "      <td>...</td>\n",
              "      <td>...</td>\n",
              "      <td>...</td>\n",
              "    </tr>\n",
              "    <tr>\n",
              "      <th>73</th>\n",
              "      <td>NaN</td>\n",
              "      <td>NaN</td>\n",
              "      <td>NaN</td>\n",
              "      <td>NaN</td>\n",
              "      <td>NaN</td>\n",
              "      <td>NaN</td>\n",
              "      <td>NaN</td>\n",
              "      <td>NaN</td>\n",
              "      <td>NaN</td>\n",
              "      <td>NaN</td>\n",
              "      <td>...</td>\n",
              "      <td>NaN</td>\n",
              "      <td>NaN</td>\n",
              "      <td>NaN</td>\n",
              "      <td>NaN</td>\n",
              "      <td>NaN</td>\n",
              "      <td>NaN</td>\n",
              "      <td>0.053972</td>\n",
              "      <td>0.636224</td>\n",
              "      <td>0.747007</td>\n",
              "      <td>0.684009</td>\n",
              "    </tr>\n",
              "    <tr>\n",
              "      <th>74</th>\n",
              "      <td>NaN</td>\n",
              "      <td>NaN</td>\n",
              "      <td>NaN</td>\n",
              "      <td>NaN</td>\n",
              "      <td>NaN</td>\n",
              "      <td>NaN</td>\n",
              "      <td>NaN</td>\n",
              "      <td>NaN</td>\n",
              "      <td>NaN</td>\n",
              "      <td>NaN</td>\n",
              "      <td>...</td>\n",
              "      <td>NaN</td>\n",
              "      <td>NaN</td>\n",
              "      <td>NaN</td>\n",
              "      <td>NaN</td>\n",
              "      <td>NaN</td>\n",
              "      <td>NaN</td>\n",
              "      <td>NaN</td>\n",
              "      <td>-0.125675</td>\n",
              "      <td>0.285838</td>\n",
              "      <td>-0.098360</td>\n",
              "    </tr>\n",
              "    <tr>\n",
              "      <th>75</th>\n",
              "      <td>NaN</td>\n",
              "      <td>NaN</td>\n",
              "      <td>NaN</td>\n",
              "      <td>NaN</td>\n",
              "      <td>NaN</td>\n",
              "      <td>NaN</td>\n",
              "      <td>NaN</td>\n",
              "      <td>NaN</td>\n",
              "      <td>NaN</td>\n",
              "      <td>NaN</td>\n",
              "      <td>...</td>\n",
              "      <td>NaN</td>\n",
              "      <td>NaN</td>\n",
              "      <td>NaN</td>\n",
              "      <td>NaN</td>\n",
              "      <td>NaN</td>\n",
              "      <td>NaN</td>\n",
              "      <td>NaN</td>\n",
              "      <td>NaN</td>\n",
              "      <td>0.647422</td>\n",
              "      <td>-0.000728</td>\n",
              "    </tr>\n",
              "    <tr>\n",
              "      <th>76</th>\n",
              "      <td>NaN</td>\n",
              "      <td>NaN</td>\n",
              "      <td>NaN</td>\n",
              "      <td>NaN</td>\n",
              "      <td>NaN</td>\n",
              "      <td>NaN</td>\n",
              "      <td>NaN</td>\n",
              "      <td>NaN</td>\n",
              "      <td>NaN</td>\n",
              "      <td>NaN</td>\n",
              "      <td>...</td>\n",
              "      <td>NaN</td>\n",
              "      <td>NaN</td>\n",
              "      <td>NaN</td>\n",
              "      <td>NaN</td>\n",
              "      <td>NaN</td>\n",
              "      <td>NaN</td>\n",
              "      <td>NaN</td>\n",
              "      <td>NaN</td>\n",
              "      <td>NaN</td>\n",
              "      <td>0.195000</td>\n",
              "    </tr>\n",
              "    <tr>\n",
              "      <th>77</th>\n",
              "      <td>NaN</td>\n",
              "      <td>NaN</td>\n",
              "      <td>NaN</td>\n",
              "      <td>NaN</td>\n",
              "      <td>NaN</td>\n",
              "      <td>NaN</td>\n",
              "      <td>NaN</td>\n",
              "      <td>NaN</td>\n",
              "      <td>NaN</td>\n",
              "      <td>NaN</td>\n",
              "      <td>...</td>\n",
              "      <td>NaN</td>\n",
              "      <td>NaN</td>\n",
              "      <td>NaN</td>\n",
              "      <td>NaN</td>\n",
              "      <td>NaN</td>\n",
              "      <td>NaN</td>\n",
              "      <td>NaN</td>\n",
              "      <td>NaN</td>\n",
              "      <td>NaN</td>\n",
              "      <td>NaN</td>\n",
              "    </tr>\n",
              "  </tbody>\n",
              "</table>\n",
              "<p>78 rows × 78 columns</p>\n",
              "</div>"
            ],
            "text/plain": [
              "    0         1         2         3         4         5         6         7   \\\n",
              "0  NaN  0.053426  0.376339  0.363409  0.229670  0.327637  0.612616  0.266189   \n",
              "1  NaN       NaN  0.237212  0.192618  0.096188 -0.027655  0.052036  0.244153   \n",
              "2  NaN       NaN       NaN  0.675969  0.520021  0.070257 -0.364703  0.162196   \n",
              "3  NaN       NaN       NaN       NaN  0.095609 -0.463841 -0.089438 -0.348972   \n",
              "4  NaN       NaN       NaN       NaN       NaN  0.601048 -0.321368  0.320106   \n",
              "..  ..       ...       ...       ...       ...       ...       ...       ...   \n",
              "73 NaN       NaN       NaN       NaN       NaN       NaN       NaN       NaN   \n",
              "74 NaN       NaN       NaN       NaN       NaN       NaN       NaN       NaN   \n",
              "75 NaN       NaN       NaN       NaN       NaN       NaN       NaN       NaN   \n",
              "76 NaN       NaN       NaN       NaN       NaN       NaN       NaN       NaN   \n",
              "77 NaN       NaN       NaN       NaN       NaN       NaN       NaN       NaN   \n",
              "\n",
              "          8         9   ...        68        69        70        71        72  \\\n",
              "0  -0.322981  0.290570  ...  0.346268  0.218497  0.417912  0.082978  0.065208   \n",
              "1   0.602687  0.187199  ... -0.266888  0.275192 -0.140691  0.688193 -0.275163   \n",
              "2   0.157422  0.578411  ... -0.248563 -0.154037  0.264237  0.575617  0.330618   \n",
              "3  -0.332689  0.753903  ...  0.073309 -0.307069  0.152455  0.591024  0.234035   \n",
              "4   0.355355  0.315902  ... -0.451526 -0.298450  0.445258  0.065212 -0.044323   \n",
              "..       ...       ...  ...       ...       ...       ...       ...       ...   \n",
              "73       NaN       NaN  ...       NaN       NaN       NaN       NaN       NaN   \n",
              "74       NaN       NaN  ...       NaN       NaN       NaN       NaN       NaN   \n",
              "75       NaN       NaN  ...       NaN       NaN       NaN       NaN       NaN   \n",
              "76       NaN       NaN  ...       NaN       NaN       NaN       NaN       NaN   \n",
              "77       NaN       NaN  ...       NaN       NaN       NaN       NaN       NaN   \n",
              "\n",
              "          73        74        75        76        77  \n",
              "0   0.742576  0.242792  0.455971  0.777719  0.258998  \n",
              "1  -0.331086  0.427649 -0.227791 -0.288037 -0.351927  \n",
              "2   0.131755  0.306152  0.265260  0.195375 -0.314676  \n",
              "3   0.266896  0.019802  0.377084  0.366548 -0.098279  \n",
              "4   0.237527  0.103822  0.235560 -0.037574  0.120596  \n",
              "..       ...       ...       ...       ...       ...  \n",
              "73       NaN  0.053972  0.636224  0.747007  0.684009  \n",
              "74       NaN       NaN -0.125675  0.285838 -0.098360  \n",
              "75       NaN       NaN       NaN  0.647422 -0.000728  \n",
              "76       NaN       NaN       NaN       NaN  0.195000  \n",
              "77       NaN       NaN       NaN       NaN       NaN  \n",
              "\n",
              "[78 rows x 78 columns]"
            ]
          },
          "execution_count": 95,
          "metadata": {},
          "output_type": "execute_result"
        }
      ],
      "source": [
        "# perhaps the signal correlation between each neuron in a plane\n",
        "pd.DataFrame(record['CorrInfo']['SigCorrs'][0][1])"
      ]
    },
    {
      "cell_type": "code",
      "execution_count": null,
      "metadata": {
        "colab": {
          "base_uri": "https://localhost:8080/",
          "height": 444
        },
        "id": "hMGaY8lu4RNq",
        "outputId": "12d2c52d-b8c0-4dc4-b325-70c3a713679d"
      },
      "outputs": [
        {
          "data": {
            "text/html": [
              "<div>\n",
              "<style scoped>\n",
              "    .dataframe tbody tr th:only-of-type {\n",
              "        vertical-align: middle;\n",
              "    }\n",
              "\n",
              "    .dataframe tbody tr th {\n",
              "        vertical-align: top;\n",
              "    }\n",
              "\n",
              "    .dataframe thead th {\n",
              "        text-align: right;\n",
              "    }\n",
              "</style>\n",
              "<table border=\"1\" class=\"dataframe\">\n",
              "  <thead>\n",
              "    <tr style=\"text-align: right;\">\n",
              "      <th></th>\n",
              "      <th>0</th>\n",
              "      <th>1</th>\n",
              "      <th>2</th>\n",
              "      <th>3</th>\n",
              "      <th>4</th>\n",
              "      <th>5</th>\n",
              "      <th>6</th>\n",
              "      <th>7</th>\n",
              "      <th>8</th>\n",
              "      <th>9</th>\n",
              "      <th>...</th>\n",
              "      <th>68</th>\n",
              "      <th>69</th>\n",
              "      <th>70</th>\n",
              "      <th>71</th>\n",
              "      <th>72</th>\n",
              "      <th>73</th>\n",
              "      <th>74</th>\n",
              "      <th>75</th>\n",
              "      <th>76</th>\n",
              "      <th>77</th>\n",
              "    </tr>\n",
              "  </thead>\n",
              "  <tbody>\n",
              "    <tr>\n",
              "      <th>0</th>\n",
              "      <td>NaN</td>\n",
              "      <td>-0.204916</td>\n",
              "      <td>0.261557</td>\n",
              "      <td>0.515486</td>\n",
              "      <td>0.349976</td>\n",
              "      <td>0.083993</td>\n",
              "      <td>-0.062551</td>\n",
              "      <td>0.149515</td>\n",
              "      <td>0.097088</td>\n",
              "      <td>0.124752</td>\n",
              "      <td>...</td>\n",
              "      <td>0.020060</td>\n",
              "      <td>0.137464</td>\n",
              "      <td>0.003047</td>\n",
              "      <td>0.328469</td>\n",
              "      <td>0.051147</td>\n",
              "      <td>0.030156</td>\n",
              "      <td>0.084976</td>\n",
              "      <td>0.364415</td>\n",
              "      <td>0.372816</td>\n",
              "      <td>-0.015833</td>\n",
              "    </tr>\n",
              "    <tr>\n",
              "      <th>1</th>\n",
              "      <td>NaN</td>\n",
              "      <td>NaN</td>\n",
              "      <td>0.031715</td>\n",
              "      <td>0.072942</td>\n",
              "      <td>0.055890</td>\n",
              "      <td>0.090363</td>\n",
              "      <td>0.264870</td>\n",
              "      <td>0.235011</td>\n",
              "      <td>0.145683</td>\n",
              "      <td>0.046933</td>\n",
              "      <td>...</td>\n",
              "      <td>0.094102</td>\n",
              "      <td>0.068201</td>\n",
              "      <td>0.147447</td>\n",
              "      <td>0.091444</td>\n",
              "      <td>0.060479</td>\n",
              "      <td>0.168448</td>\n",
              "      <td>0.181821</td>\n",
              "      <td>-0.026562</td>\n",
              "      <td>-0.004285</td>\n",
              "      <td>0.131611</td>\n",
              "    </tr>\n",
              "    <tr>\n",
              "      <th>2</th>\n",
              "      <td>NaN</td>\n",
              "      <td>NaN</td>\n",
              "      <td>NaN</td>\n",
              "      <td>0.315882</td>\n",
              "      <td>0.225433</td>\n",
              "      <td>-0.003172</td>\n",
              "      <td>0.071138</td>\n",
              "      <td>0.156539</td>\n",
              "      <td>0.146133</td>\n",
              "      <td>0.187610</td>\n",
              "      <td>...</td>\n",
              "      <td>-0.006675</td>\n",
              "      <td>0.212335</td>\n",
              "      <td>0.025140</td>\n",
              "      <td>0.174466</td>\n",
              "      <td>0.196362</td>\n",
              "      <td>0.110936</td>\n",
              "      <td>0.289337</td>\n",
              "      <td>0.238070</td>\n",
              "      <td>0.257124</td>\n",
              "      <td>0.040354</td>\n",
              "    </tr>\n",
              "    <tr>\n",
              "      <th>3</th>\n",
              "      <td>NaN</td>\n",
              "      <td>NaN</td>\n",
              "      <td>NaN</td>\n",
              "      <td>NaN</td>\n",
              "      <td>0.412357</td>\n",
              "      <td>-0.111365</td>\n",
              "      <td>0.021385</td>\n",
              "      <td>0.090291</td>\n",
              "      <td>0.294149</td>\n",
              "      <td>0.165138</td>\n",
              "      <td>...</td>\n",
              "      <td>0.000982</td>\n",
              "      <td>0.173526</td>\n",
              "      <td>0.112396</td>\n",
              "      <td>0.187953</td>\n",
              "      <td>0.184696</td>\n",
              "      <td>0.048446</td>\n",
              "      <td>0.145342</td>\n",
              "      <td>0.241624</td>\n",
              "      <td>0.394450</td>\n",
              "      <td>0.105222</td>\n",
              "    </tr>\n",
              "    <tr>\n",
              "      <th>4</th>\n",
              "      <td>NaN</td>\n",
              "      <td>NaN</td>\n",
              "      <td>NaN</td>\n",
              "      <td>NaN</td>\n",
              "      <td>NaN</td>\n",
              "      <td>0.138365</td>\n",
              "      <td>-0.097040</td>\n",
              "      <td>0.217451</td>\n",
              "      <td>-0.019941</td>\n",
              "      <td>-0.051424</td>\n",
              "      <td>...</td>\n",
              "      <td>-0.262913</td>\n",
              "      <td>0.112689</td>\n",
              "      <td>0.208334</td>\n",
              "      <td>0.065976</td>\n",
              "      <td>-0.047173</td>\n",
              "      <td>0.209723</td>\n",
              "      <td>0.349835</td>\n",
              "      <td>0.112709</td>\n",
              "      <td>0.242988</td>\n",
              "      <td>0.195539</td>\n",
              "    </tr>\n",
              "    <tr>\n",
              "      <th>...</th>\n",
              "      <td>...</td>\n",
              "      <td>...</td>\n",
              "      <td>...</td>\n",
              "      <td>...</td>\n",
              "      <td>...</td>\n",
              "      <td>...</td>\n",
              "      <td>...</td>\n",
              "      <td>...</td>\n",
              "      <td>...</td>\n",
              "      <td>...</td>\n",
              "      <td>...</td>\n",
              "      <td>...</td>\n",
              "      <td>...</td>\n",
              "      <td>...</td>\n",
              "      <td>...</td>\n",
              "      <td>...</td>\n",
              "      <td>...</td>\n",
              "      <td>...</td>\n",
              "      <td>...</td>\n",
              "      <td>...</td>\n",
              "      <td>...</td>\n",
              "    </tr>\n",
              "    <tr>\n",
              "      <th>73</th>\n",
              "      <td>NaN</td>\n",
              "      <td>NaN</td>\n",
              "      <td>NaN</td>\n",
              "      <td>NaN</td>\n",
              "      <td>NaN</td>\n",
              "      <td>NaN</td>\n",
              "      <td>NaN</td>\n",
              "      <td>NaN</td>\n",
              "      <td>NaN</td>\n",
              "      <td>NaN</td>\n",
              "      <td>...</td>\n",
              "      <td>NaN</td>\n",
              "      <td>NaN</td>\n",
              "      <td>NaN</td>\n",
              "      <td>NaN</td>\n",
              "      <td>NaN</td>\n",
              "      <td>NaN</td>\n",
              "      <td>0.297138</td>\n",
              "      <td>0.240012</td>\n",
              "      <td>0.274624</td>\n",
              "      <td>0.049048</td>\n",
              "    </tr>\n",
              "    <tr>\n",
              "      <th>74</th>\n",
              "      <td>NaN</td>\n",
              "      <td>NaN</td>\n",
              "      <td>NaN</td>\n",
              "      <td>NaN</td>\n",
              "      <td>NaN</td>\n",
              "      <td>NaN</td>\n",
              "      <td>NaN</td>\n",
              "      <td>NaN</td>\n",
              "      <td>NaN</td>\n",
              "      <td>NaN</td>\n",
              "      <td>...</td>\n",
              "      <td>NaN</td>\n",
              "      <td>NaN</td>\n",
              "      <td>NaN</td>\n",
              "      <td>NaN</td>\n",
              "      <td>NaN</td>\n",
              "      <td>NaN</td>\n",
              "      <td>NaN</td>\n",
              "      <td>0.246775</td>\n",
              "      <td>0.256724</td>\n",
              "      <td>0.222760</td>\n",
              "    </tr>\n",
              "    <tr>\n",
              "      <th>75</th>\n",
              "      <td>NaN</td>\n",
              "      <td>NaN</td>\n",
              "      <td>NaN</td>\n",
              "      <td>NaN</td>\n",
              "      <td>NaN</td>\n",
              "      <td>NaN</td>\n",
              "      <td>NaN</td>\n",
              "      <td>NaN</td>\n",
              "      <td>NaN</td>\n",
              "      <td>NaN</td>\n",
              "      <td>...</td>\n",
              "      <td>NaN</td>\n",
              "      <td>NaN</td>\n",
              "      <td>NaN</td>\n",
              "      <td>NaN</td>\n",
              "      <td>NaN</td>\n",
              "      <td>NaN</td>\n",
              "      <td>NaN</td>\n",
              "      <td>NaN</td>\n",
              "      <td>0.236018</td>\n",
              "      <td>0.068906</td>\n",
              "    </tr>\n",
              "    <tr>\n",
              "      <th>76</th>\n",
              "      <td>NaN</td>\n",
              "      <td>NaN</td>\n",
              "      <td>NaN</td>\n",
              "      <td>NaN</td>\n",
              "      <td>NaN</td>\n",
              "      <td>NaN</td>\n",
              "      <td>NaN</td>\n",
              "      <td>NaN</td>\n",
              "      <td>NaN</td>\n",
              "      <td>NaN</td>\n",
              "      <td>...</td>\n",
              "      <td>NaN</td>\n",
              "      <td>NaN</td>\n",
              "      <td>NaN</td>\n",
              "      <td>NaN</td>\n",
              "      <td>NaN</td>\n",
              "      <td>NaN</td>\n",
              "      <td>NaN</td>\n",
              "      <td>NaN</td>\n",
              "      <td>NaN</td>\n",
              "      <td>-0.160524</td>\n",
              "    </tr>\n",
              "    <tr>\n",
              "      <th>77</th>\n",
              "      <td>NaN</td>\n",
              "      <td>NaN</td>\n",
              "      <td>NaN</td>\n",
              "      <td>NaN</td>\n",
              "      <td>NaN</td>\n",
              "      <td>NaN</td>\n",
              "      <td>NaN</td>\n",
              "      <td>NaN</td>\n",
              "      <td>NaN</td>\n",
              "      <td>NaN</td>\n",
              "      <td>...</td>\n",
              "      <td>NaN</td>\n",
              "      <td>NaN</td>\n",
              "      <td>NaN</td>\n",
              "      <td>NaN</td>\n",
              "      <td>NaN</td>\n",
              "      <td>NaN</td>\n",
              "      <td>NaN</td>\n",
              "      <td>NaN</td>\n",
              "      <td>NaN</td>\n",
              "      <td>NaN</td>\n",
              "    </tr>\n",
              "  </tbody>\n",
              "</table>\n",
              "<p>78 rows × 78 columns</p>\n",
              "</div>"
            ],
            "text/plain": [
              "    0         1         2         3         4         5         6         7   \\\n",
              "0  NaN -0.204916  0.261557  0.515486  0.349976  0.083993 -0.062551  0.149515   \n",
              "1  NaN       NaN  0.031715  0.072942  0.055890  0.090363  0.264870  0.235011   \n",
              "2  NaN       NaN       NaN  0.315882  0.225433 -0.003172  0.071138  0.156539   \n",
              "3  NaN       NaN       NaN       NaN  0.412357 -0.111365  0.021385  0.090291   \n",
              "4  NaN       NaN       NaN       NaN       NaN  0.138365 -0.097040  0.217451   \n",
              "..  ..       ...       ...       ...       ...       ...       ...       ...   \n",
              "73 NaN       NaN       NaN       NaN       NaN       NaN       NaN       NaN   \n",
              "74 NaN       NaN       NaN       NaN       NaN       NaN       NaN       NaN   \n",
              "75 NaN       NaN       NaN       NaN       NaN       NaN       NaN       NaN   \n",
              "76 NaN       NaN       NaN       NaN       NaN       NaN       NaN       NaN   \n",
              "77 NaN       NaN       NaN       NaN       NaN       NaN       NaN       NaN   \n",
              "\n",
              "          8         9   ...        68        69        70        71        72  \\\n",
              "0   0.097088  0.124752  ...  0.020060  0.137464  0.003047  0.328469  0.051147   \n",
              "1   0.145683  0.046933  ...  0.094102  0.068201  0.147447  0.091444  0.060479   \n",
              "2   0.146133  0.187610  ... -0.006675  0.212335  0.025140  0.174466  0.196362   \n",
              "3   0.294149  0.165138  ...  0.000982  0.173526  0.112396  0.187953  0.184696   \n",
              "4  -0.019941 -0.051424  ... -0.262913  0.112689  0.208334  0.065976 -0.047173   \n",
              "..       ...       ...  ...       ...       ...       ...       ...       ...   \n",
              "73       NaN       NaN  ...       NaN       NaN       NaN       NaN       NaN   \n",
              "74       NaN       NaN  ...       NaN       NaN       NaN       NaN       NaN   \n",
              "75       NaN       NaN  ...       NaN       NaN       NaN       NaN       NaN   \n",
              "76       NaN       NaN  ...       NaN       NaN       NaN       NaN       NaN   \n",
              "77       NaN       NaN  ...       NaN       NaN       NaN       NaN       NaN   \n",
              "\n",
              "          73        74        75        76        77  \n",
              "0   0.030156  0.084976  0.364415  0.372816 -0.015833  \n",
              "1   0.168448  0.181821 -0.026562 -0.004285  0.131611  \n",
              "2   0.110936  0.289337  0.238070  0.257124  0.040354  \n",
              "3   0.048446  0.145342  0.241624  0.394450  0.105222  \n",
              "4   0.209723  0.349835  0.112709  0.242988  0.195539  \n",
              "..       ...       ...       ...       ...       ...  \n",
              "73       NaN  0.297138  0.240012  0.274624  0.049048  \n",
              "74       NaN       NaN  0.246775  0.256724  0.222760  \n",
              "75       NaN       NaN       NaN  0.236018  0.068906  \n",
              "76       NaN       NaN       NaN       NaN -0.160524  \n",
              "77       NaN       NaN       NaN       NaN       NaN  \n",
              "\n",
              "[78 rows x 78 columns]"
            ]
          },
          "execution_count": 96,
          "metadata": {},
          "output_type": "execute_result"
        }
      ],
      "source": [
        "# trial-to-trial covariation between each pair of neurons in a plane\n",
        "pd.DataFrame(record['CorrInfo']['NoiseCorrsVec'][0][1])"
      ]
    }
  ],
  "metadata": {
    "colab": {
      "provenance": [],
      "include_colab_link": true
    },
    "kernelspec": {
      "display_name": "Python 3 (ipykernel)",
      "language": "python",
      "name": "python3"
    },
    "language_info": {
      "codemirror_mode": {
        "name": "ipython",
        "version": 3
      },
      "file_extension": ".py",
      "mimetype": "text/x-python",
      "name": "python",
      "nbconvert_exporter": "python",
      "pygments_lexer": "ipython3",
      "version": "3.11.13"
    }
  },
  "nbformat": 4,
  "nbformat_minor": 0
}