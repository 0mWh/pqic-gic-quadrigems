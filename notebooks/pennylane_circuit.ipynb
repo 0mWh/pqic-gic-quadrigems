{
 "cells": [
  {
   "cell_type": "code",
   "execution_count": 1,
   "id": "3a919082-f21a-473c-b6f2-9d92f1a78b90",
   "metadata": {
    "editable": true,
    "scrolled": true,
    "slideshow": {
     "slide_type": ""
    },
    "tags": []
   },
   "outputs": [
    {
     "name": "stdout",
     "output_type": "stream",
     "text": [
      "[cuda(id=0)]\n"
     ]
    }
   ],
   "source": [
    "from os import environ as ENV\n",
    "ENV['CUDA_VISIBLE_DEVICES'] = '0'\n",
    "\n",
    "import pennylane as qml\n",
    "import jax.numpy as jnp\n",
    "import jax\n",
    "import numpy as np\n",
    "import numpy.typing as npt\n",
    "\n",
    "print(jax.devices())\n",
    "# probably wont matter\n",
    "# jax.config.update(\"jax_enable_x64\", True)\n",
    "\n",
    "# NOTE: if you remove this, re-run the notebook SEVERAL times because it might break after a few\n",
    "from catalyst.utils.runtime_environment import get_cli_path\n",
    "\n",
    "dev = qml.device(\"lightning.gpu\", wires=18)"
   ]
  },
  {
   "cell_type": "code",
   "execution_count": 2,
   "id": "a981b7cd-63e1-405b-b0bd-06c2c6a446a4",
   "metadata": {},
   "outputs": [],
   "source": [
    "import diskcache as dc\n",
    "cache = dc.Cache(\n",
    "    ENV['PWD'] + '/.cache_pennylane_sim/',\n",
    "    cull_limit = 0,\n",
    "    size_limit = 2 ** 32, # 4GB\n",
    "    timeout = 60**2 * 24 * 7, # 1 week\n",
    ")"
   ]
  },
  {
   "cell_type": "code",
   "execution_count": 10,
   "id": "b1dde430-9cce-4e8d-b4b2-eb6a6937fc7f",
   "metadata": {
    "editable": true,
    "slideshow": {
     "slide_type": ""
    },
    "tags": []
   },
   "outputs": [],
   "source": [
    "import sys\n",
    "sys.path.append('..')\n",
    "\n",
    "from circuit_postprocess import *\n",
    "from should_be_stdlib import *"
   ]
  },
  {
   "cell_type": "code",
   "execution_count": 3,
   "id": "ca6e19b8-fc5d-4f2f-b34e-28800567893a",
   "metadata": {
    "editable": true,
    "slideshow": {
     "slide_type": ""
    },
    "tags": []
   },
   "outputs": [],
   "source": [
    "# if either is the 0 vector, then norm is undefined. unlikely to occur\n",
    "@qml.qjit\n",
    "@qml.qnode(dev)\n",
    "def swap_circuit(data1:npt.NDArray[np.float64], data2:npt.NDArray[np.float64], norm:bool=True) -> npt.NDArray[np.float64]:\n",
    "    l1, l2 = len(data1), len(data2)\n",
    "    assert l1 == l2\n",
    "\n",
    "    # normalize input data\n",
    "    data1 = data1 / jnp.linalg.norm(data1, ord=1) * jnp.pi/2\n",
    "    data2 = data2 / jnp.linalg.norm(data2, ord=1) * jnp.pi/2\n",
    "    # print(data1)\n",
    "    # print(data2)\n",
    "\n",
    "    # data embedding\n",
    "    for i in range(l1 + l2):\n",
    "        qml.H(i)\n",
    "    for i in range(l1):\n",
    "        qml.RY(data1[i], i)\n",
    "    for i in range(l2):\n",
    "        qml.RY(data2[i], l1 + i)\n",
    "\n",
    "    # QFT is inv DFT; inv QFT is DFT\n",
    "    qml.QFT(wires = range(l1))\n",
    "    qml.QFT(wires = range(l1, l1 + l2))\n",
    "\n",
    "    # Swap test\n",
    "    for i in range(l1):\n",
    "        qml.CNOT(wires = [i, l1 + i])\n",
    "    qml.Barrier()\n",
    "    for i in range(l1):\n",
    "        qml.H(i)\n",
    "\n",
    "    return qml.probs(wires = range(l1 + l2))"
   ]
  },
  {
   "cell_type": "code",
   "execution_count": 6,
   "id": "fa8e8000-75c1-4e32-b9cd-cdeec36644bb",
   "metadata": {
    "editable": true,
    "slideshow": {
     "slide_type": ""
    },
    "tags": []
   },
   "outputs": [],
   "source": [
    "#TODO: memoize over the neuron idx\n",
    "\n",
    "@cache.memoize()\n",
    "def get_fidelity_memo(data1:list[int], data2:list[int]) -> tuple[float,float]:\n",
    "    probs = swap_circuit(data1, data2)\n",
    "    return swap_expectation(probs, len(data1))\n",
    "\n",
    "def get_fidelity(data1:list[int], data2:list[int]) -> tuple[float,float]:\n",
    "    # data1 should be less than data2\n",
    "    if is_array_lesser(data2, data1):\n",
    "        return get_fidelity(data2, data1)\n",
    "    # normalize data\n",
    "    data1 = data1 / np.linalg.norm(data1, ord=1) * np.pi/2\n",
    "    data2 = data2 / np.linalg.norm(data2, ord=1) * np.pi/2\n",
    "    return get_fidelity_memo(data1, data2)"
   ]
  },
  {
   "cell_type": "code",
   "execution_count": 7,
   "id": "ca1b7bcd-0208-40d5-888e-f793fa540d7a",
   "metadata": {},
   "outputs": [],
   "source": [
    "a = jnp.array([2,2,2, 2,2,2, 2,2,2,])\n",
    "b = jnp.array([2,2,1, 2,2,2, 2,10,1,])"
   ]
  },
  {
   "cell_type": "code",
   "execution_count": 8,
   "id": "1744017f-d871-4573-ba61-d7ad48cd671f",
   "metadata": {
    "scrolled": true
   },
   "outputs": [
    {
     "name": "stdout",
     "output_type": "stream",
     "text": [
      "Drawing\n",
      " 0: ──H──RY(0.17)─╭QFT─╭●──────────────────────────||──H─┤ ╭Probs\n",
      " 1: ──H──RY(0.17)─├QFT─│──╭●───────────────────────||──H─┤ ├Probs\n",
      " 2: ──H──RY(0.17)─├QFT─│──│──╭●────────────────────||──H─┤ ├Probs\n",
      " 3: ──H──RY(0.17)─├QFT─│──│──│──╭●─────────────────||──H─┤ ├Probs\n",
      " 4: ──H──RY(0.17)─├QFT─│──│──│──│──╭●──────────────||──H─┤ ├Probs\n",
      " 5: ──H──RY(0.17)─├QFT─│──│──│──│──│──╭●───────────||──H─┤ ├Probs\n",
      " 6: ──H──RY(0.17)─├QFT─│──│──│──│──│──│──╭●────────||──H─┤ ├Probs\n",
      " 7: ──H──RY(0.17)─├QFT─│──│──│──│──│──│──│──╭●─────||──H─┤ ├Probs\n",
      " 8: ──H──RY(0.17)─╰QFT─│──│──│──│──│──│──│──│──╭●──||──H─┤ ├Probs\n",
      " 9: ──H──RY(0.13)─╭QFT─╰X─│──│──│──│──│──│──│──│───||────┤ ├Probs\n",
      "10: ──H──RY(0.13)─├QFT────╰X─│──│──│──│──│──│──│───||────┤ ├Probs\n",
      "11: ──H──RY(0.07)─├QFT───────╰X─│──│──│──│──│──│───||────┤ ├Probs\n",
      "12: ──H──RY(0.13)─├QFT──────────╰X─│──│──│──│──│───||────┤ ├Probs\n",
      "13: ──H──RY(0.13)─├QFT─────────────╰X─│──│──│──│───||────┤ ├Probs\n",
      "14: ──H──RY(0.13)─├QFT────────────────╰X─│──│──│───||────┤ ├Probs\n",
      "15: ──H──RY(0.13)─├QFT───────────────────╰X─│──│───||────┤ ├Probs\n",
      "16: ──H──RY(0.65)─├QFT──────────────────────╰X─│───||────┤ ├Probs\n",
      "17: ──H──RY(0.07)─╰QFT─────────────────────────╰X──||────┤ ╰Probs\n"
     ]
    }
   ],
   "source": [
    "print('Drawing')\n",
    "print(qml.draw(swap_circuit)(a, b))"
   ]
  },
  {
   "cell_type": "code",
   "execution_count": 9,
   "id": "38c9c3d8-cf98-49f8-916f-546a3320c05f",
   "metadata": {},
   "outputs": [
    {
     "data": {
      "text/plain": [
       "(Array(1., dtype=float64), Array(1., dtype=float64))"
      ]
     },
     "execution_count": 9,
     "metadata": {},
     "output_type": "execute_result"
    }
   ],
   "source": [
    "exp_swap, fidelity = get_fidelity(a, b)\n",
    "exp_swap, fidelity"
   ]
  },
  {
   "cell_type": "markdown",
   "id": "404ac69a-762d-4225-8e4d-9d93322f9b43",
   "metadata": {},
   "source": [
    "# TODO\n",
    "\n",
    "- memoize functions\n",
    "- run on GPU\n",
    "- run on QPU (no mitigation)\n",
    "- run on QPU (with Mitiq)\n",
    "- end to end analysis"
   ]
  }
 ],
 "metadata": {
  "kernelspec": {
   "display_name": "Python 3 (ipykernel)",
   "language": "python",
   "name": "python3"
  },
  "language_info": {
   "codemirror_mode": {
    "name": "ipython",
    "version": 3
   },
   "file_extension": ".py",
   "mimetype": "text/x-python",
   "name": "python",
   "nbconvert_exporter": "python",
   "pygments_lexer": "ipython3",
   "version": "3.11.13"
  }
 },
 "nbformat": 4,
 "nbformat_minor": 5
}
