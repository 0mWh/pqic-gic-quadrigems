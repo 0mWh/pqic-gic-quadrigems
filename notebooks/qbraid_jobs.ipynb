{
 "cells": [
  {
   "cell_type": "code",
   "execution_count": 1,
   "id": "3e939640-e370-466a-bdb9-118ca55013f9",
   "metadata": {},
   "outputs": [],
   "source": [
    "from os import environ as ENV\n",
    "from time import time as now\n",
    "import json\n",
    "\n",
    "import sys\n",
    "sys.path.append(ENV['PWD'])"
   ]
  },
  {
   "cell_type": "code",
   "execution_count": 2,
   "id": "84725ef2-f643-4a0f-8eac-fe534df36379",
   "metadata": {},
   "outputs": [],
   "source": [
    "from circuit_extra import *\n",
    "\n",
    "qc, qc_qasm = test_qiskit_circuit()"
   ]
  },
  {
   "cell_type": "code",
   "execution_count": 3,
   "id": "08be64b8-6321-4498-abd4-0646c6442113",
   "metadata": {},
   "outputs": [
    {
     "name": "stderr",
     "output_type": "stream",
     "text": [
      "/home/user/work/quadrigems/.venv/lib/python3.11/site-packages/qbraid/_entrypoints.py:20: UserWarning: pkg_resources is deprecated as an API. See https://setuptools.pypa.io/en/latest/pkg_resources.html. The pkg_resources package is slated for removal as early as 2025-11-30. Refrain from using this package or pin to Setuptools<81.\n",
      "  import pkg_resources\n"
     ]
    }
   ],
   "source": [
    "from provider_ionq import IONQ\n",
    "ionq = IONQ(\n",
    "    ionq_api_key := open(ENV['HOME'] + \"/work/api-keys/IONQ_API_KEY\").readline().strip()\n",
    ")"
   ]
  },
  {
   "cell_type": "code",
   "execution_count": 4,
   "id": "968affa6-b09e-4b1c-8b77-cf64da0de049",
   "metadata": {},
   "outputs": [],
   "source": [
    "from provider_ibmq import IBMQ\n",
    "ibmq = IBMQ(\n",
    "    ibm_api_key := open(ENV['HOME'] + '/work/api-keys/IBM_API_KEY').readline().strip(),\n",
    "    ibm_crn := open(ENV['HOME'] + '/work/api-keys/IBM_CRN').readline().strip()\n",
    ")"
   ]
  },
  {
   "cell_type": "code",
   "execution_count": 16,
   "id": "40447ecd-af51-4b3d-88cc-a1a613ac11a1",
   "metadata": {},
   "outputs": [
    {
     "name": "stdout",
     "output_type": "stream",
     "text": [
      "ibmq QiskitBackend('ibm_kingston') 156qb DeviceStatus.ONLINE\n",
      "ibmq QiskitBackend('ibm_fez') 156qb DeviceStatus.ONLINE\n",
      "ibmq QiskitBackend('ibm_marrakesh') 156qb DeviceStatus.ONLINE\n",
      "ibmq QiskitBackend('ibm_torino') 133qb DeviceStatus.ONLINE\n",
      "ibmq QiskitBackend('ibm_brisbane') 127qb DeviceStatus.ONLINE\n",
      "ibmq QiskitBackend('ibm_sherbrooke') 127qb DeviceStatus.ONLINE\n",
      "ionq IonQDevice('qpu.harmony') 11qb DeviceStatus.RETIRED now!\n",
      "ionq IonQDevice('qpu.aria-1') 25qb DeviceStatus.ONLINE queue 298d7h36m11s\n",
      "ionq IonQDevice('qpu.aria-2') 25qb DeviceStatus.UNAVAILABLE queue 2288d10h2m14s\n",
      "ionq IonQDevice('qpu.forte-1') 36qb DeviceStatus.UNAVAILABLE queue 65d2h8m35s\n",
      "ionq IonQDevice('qpu.forte-enterprise-1') 36qb DeviceStatus.ONLINE queue 587d15h10m36s\n",
      "ionq IonQDevice('qpu.forte-enterprise-2') 36qb DeviceStatus.UNAVAILABLE now!\n",
      "ionq IonQDevice('simulator') 29qb DeviceStatus.ONLINE now!\n"
     ]
    }
   ],
   "source": [
    "ibmq.printqpus()\n",
    "ionq.printqpus()"
   ]
  },
  {
   "cell_type": "markdown",
   "id": "eb73496e-6778-4663-a788-2ca30d528a18",
   "metadata": {},
   "source": [
    "# IonQ"
   ]
  },
  {
   "cell_type": "code",
   "execution_count": 5,
   "id": "801d1d22-c36c-41b4-9a63-e0a2f02a7a76",
   "metadata": {
    "jupyter": {
     "source_hidden": true
    }
   },
   "outputs": [
    {
     "data": {
      "text/plain": [
       "{0.0: '0197faea-587a-769d-ac6c-c916cbad46a4',\n",
       " 1752294901.9915304: '0197fca5-fd59-77ca-8a93-552f7f197978',\n",
       " 1752320373.48551: '0197fe6e-f53e-7214-a11f-ebd495daf9f6',\n",
       " 1752321436.848685: '0197fe7f-2f3d-75a3-9c91-f84a31b6c478'}"
      ]
     },
     "execution_count": 5,
     "metadata": {},
     "output_type": "execute_result"
    }
   ],
   "source": [
    "# cache recently run jobs\n",
    "try:\n",
    "    jobs_ionq\n",
    "    with open(ENV['HOME'] + '/work/jobs_ionq.json', 'wt+') as f:\n",
    "        json.dump({\n",
    "            ibmq.jobid(v): k for k, v in jobs_ionq.items()\n",
    "        }, fp=f, indent=4)\n",
    "except:\n",
    "    with open(ENV['HOME'] + '/work/jobs_ionq.json', 'rt') as f:\n",
    "        jobs_ionq = {\n",
    "            time: job_id\n",
    "            for job_id, time in json.load(fp=f).items()\n",
    "        }\n",
    "\n",
    "jobs_ionq"
   ]
  },
  {
   "cell_type": "code",
   "execution_count": 6,
   "id": "d1402720-0a7d-4ed8-a1f6-c6bee0bd6f9e",
   "metadata": {},
   "outputs": [
    {
     "data": {
      "text/plain": [
       "<DeviceStatus.ONLINE: 'online'>"
      ]
     },
     "execution_count": 6,
     "metadata": {},
     "output_type": "execute_result"
    }
   ],
   "source": [
    "# get qpu\n",
    "ionq_qpu = ionq.provider.get_device('simulator')#('qpu.forte-enterprise-1')\n",
    "ionq_qpu.status()"
   ]
  },
  {
   "cell_type": "code",
   "execution_count": 7,
   "id": "b667bc1e-09f1-424f-862b-dc3e69baae99",
   "metadata": {},
   "outputs": [],
   "source": [
    "if use_cached_job := True:\n",
    "    t = 1752321436.848685\n",
    "    jid = jobs_ionq[t]\n",
    "else:\n",
    "    t = now()\n",
    "    jj = ionq_qpu.run(qc, name='test', shots=20) #, preflight=True)\n",
    "    jid = jobs_ionq[t] = jj.id\n",
    "\n",
    "j = ionq.job(jid)\n",
    "r = ionq.jobresult(jid, raw=True)"
   ]
  },
  {
   "cell_type": "code",
   "execution_count": 8,
   "id": "800e1a00-7c4b-4ef3-bd93-4946b925e84e",
   "metadata": {},
   "outputs": [
    {
     "name": "stdout",
     "output_type": "stream",
     "text": [
      "Job: 0197fe7f-2f3d-75a3-9c91-f84a31b6c478\n",
      "Cost Estimate (USD): 0\n",
      "Result: 0x\n",
      "{\n",
      "    \"000\": 0.5,\n",
      "    \"111\": 0.5\n",
      "}\n"
     ]
    }
   ],
   "source": [
    "print(f\"Job: {jid}\")\n",
    "try: jj.wait_for_final_state()\n",
    "except: pass\n",
    "print(f\"Cost Estimate (USD): {j['cost_usd']}\")\n",
    "print(f\"Result: {int(ionq.job(jid).get('shots', 0))}x\")\n",
    "print(json.dumps(r, indent=4))"
   ]
  },
  {
   "cell_type": "code",
   "execution_count": 9,
   "id": "cf89fbe7-b52d-4ab5-a547-60f2e0323fb8",
   "metadata": {},
   "outputs": [
    {
     "name": "stdout",
     "output_type": "stream",
     "text": [
      "{'000': 0.5, '111': 0.5}\n"
     ]
    }
   ],
   "source": [
    "print(ionq.jobresult(jid))"
   ]
  },
  {
   "cell_type": "code",
   "execution_count": 10,
   "id": "2f3f22a9-f11e-4f59-8788-a75ac1084b4f",
   "metadata": {},
   "outputs": [
    {
     "data": {
      "text/html": [
       "<pre style=\"word-wrap: normal;white-space: pre;background: #fff0;line-height: 1.1;font-family: &quot;Courier New&quot;,Courier,monospace\">      ┌───┐           ░ ┌─┐      \n",
       "q2_0: ┤ H ├──■────■───░─┤M├──────\n",
       "      └───┘┌─┴─┐  │   ░ └╥┘┌─┐   \n",
       "q2_1: ─────┤ X ├──┼───░──╫─┤M├───\n",
       "           └───┘┌─┴─┐ ░  ║ └╥┘┌─┐\n",
       "q2_2: ──────────┤ X ├─░──╫──╫─┤M├\n",
       "                └───┘ ░  ║  ║ └╥┘\n",
       "c1: 3/═══════════════════╩══╩══╩═\n",
       "                         0  1  2 </pre>"
      ],
      "text/plain": [
       "      ┌───┐           ░ ┌─┐      \n",
       "q2_0: ┤ H ├──■────■───░─┤M├──────\n",
       "      └───┘┌─┴─┐  │   ░ └╥┘┌─┐   \n",
       "q2_1: ─────┤ X ├──┼───░──╫─┤M├───\n",
       "           └───┘┌─┴─┐ ░  ║ └╥┘┌─┐\n",
       "q2_2: ──────────┤ X ├─░──╫──╫─┤M├\n",
       "                └───┘ ░  ║  ║ └╥┘\n",
       "c1: 3/═══════════════════╩══╩══╩═\n",
       "                         0  1  2 "
      ]
     },
     "execution_count": 10,
     "metadata": {},
     "output_type": "execute_result"
    }
   ],
   "source": [
    "ionq.jobcircuit(jid).draw(fold=-1)"
   ]
  },
  {
   "cell_type": "markdown",
   "id": "ef7b6374-a4ea-4cba-8beb-7dc5bcd20284",
   "metadata": {},
   "source": [
    "# IBM"
   ]
  },
  {
   "cell_type": "code",
   "execution_count": 11,
   "id": "cede44ff-f3fa-448d-8ee5-0fab1c446daf",
   "metadata": {
    "jupyter": {
     "source_hidden": true
    }
   },
   "outputs": [
    {
     "data": {
      "text/plain": [
       "{1752280358.6594968: 'd1oqoogt0npc73fm0dt0',\n",
       " 1752280416.8679636: 'd1oqqob3rr0s73bgjbdg'}"
      ]
     },
     "execution_count": 11,
     "metadata": {},
     "output_type": "execute_result"
    }
   ],
   "source": [
    "# cache recently run jobs\n",
    "try:\n",
    "    jobs_ibmq\n",
    "    with open(ENV['HOME'] + '/work/jobs_ibmq.json', 'wt+') as f:\n",
    "        json.dump({\n",
    "            ibmq.jobid(v): k for k, v in jobs_ibmq.items()\n",
    "        }, fp=f, indent=4)\n",
    "except:\n",
    "    with open(ENV['HOME'] + '/work/jobs_ibmq.json', 'rt') as f:\n",
    "        jobs_ibmq = {\n",
    "            time: job_id\n",
    "            for job_id, time in json.load(fp=f).items()\n",
    "        }\n",
    "\n",
    "jobs_ibmq"
   ]
  },
  {
   "cell_type": "code",
   "execution_count": 12,
   "id": "e19d33de-f619-4a6a-88ce-fb5ec2f735bc",
   "metadata": {},
   "outputs": [
    {
     "data": {
      "text/plain": [
       "<DeviceStatus.ONLINE: 'online'>"
      ]
     },
     "execution_count": 12,
     "metadata": {},
     "output_type": "execute_result"
    }
   ],
   "source": [
    "# get qpu\n",
    "ibmq_qpu = ibmq.provider.get_device('ibm_kingston')\n",
    "ibmq_qpu.status()"
   ]
  },
  {
   "cell_type": "code",
   "execution_count": 13,
   "id": "c9a6dc20-c885-4ee9-b715-e6f641c825ad",
   "metadata": {},
   "outputs": [],
   "source": [
    "if use_cached_job := True:\n",
    "    t = 1752280416.8679636\n",
    "    jid = jobs_ibmq[t]\n",
    "else:\n",
    "    t = now()\n",
    "    jj = ibmq_qpu.run(qasm, shots=20)\n",
    "    jid = jobs_ibmq[t] = jj.id\n",
    "\n",
    "j = ibmq.job(jid)\n",
    "r = ibmq.jobresult(jid, raw=False)"
   ]
  },
  {
   "cell_type": "code",
   "execution_count": 14,
   "id": "1e9f3cb2-9491-4c4b-a373-758f2fe31cb7",
   "metadata": {},
   "outputs": [
    {
     "name": "stdout",
     "output_type": "stream",
     "text": [
      "Job: d1oqqob3rr0s73bgjbdg\n",
      "Cost: 1s\n",
      "Result: 20x\n",
      "{\n",
      "    \"000\": 7,\n",
      "    \"111\": 11,\n",
      "    \"010\": 1,\n",
      "    \"001\": 1\n",
      "}\n"
     ]
    }
   ],
   "source": [
    "print(f\"Job: {jid}\")\n",
    "try: jj.wait_for_final_state()\n",
    "except: pass\n",
    "print(f\"Cost: {j.metrics()['bss']['seconds']}s\")\n",
    "print(f\"Result: {j.result()._metadata['execution']['execution_spans'][0].size}x\")\n",
    "print(json.dumps(r, indent=4))"
   ]
  },
  {
   "cell_type": "code",
   "execution_count": 15,
   "id": "308d31d0-f654-4ee5-a605-fd028d27aae8",
   "metadata": {},
   "outputs": [
    {
     "data": {
      "text/html": [
       "<pre style=\"word-wrap: normal;white-space: pre;background: #fff0;line-height: 1.1;font-family: &quot;Courier New&quot;,Courier,monospace\">      ┌──────────┐┌────┐ ┌────────────┐┌────┐┌─────────┐┌──────┐ ┌──────────┐ ┌────┐┌─────────────┐┌──────┐┌───┐┌─┐\n",
       " q41: ┤ Rz(-π/2) ├┤ √X ├─┤ Rz(-1.296) ├┤ √X ├┤ Rz(π/2) ├┤1     ├─┤ Rz(-π/2) ├─┤ √X ├┤ Rz(-2.8668) ├┤0     ├┤ X ├┤M├\n",
       "      └┬────────┬┘├────┤ └─┬────────┬─┘└────┘└─────────┘│      │ └──────────┘ └────┘└─────────────┘│  Ecr │└┬─┬┘└╥┘\n",
       " q53: ─┤ Rz(-π) ├─┤ √X ├───┤ Rz(-π) ├───────────────────┤  Ecr ├───────────────────────────────────┤1     ├─┤M├──╫─\n",
       "      ┌┴────────┤ ├────┤┌──┴────────┴─┐                 │      │┌────────────┐┌────┐  ┌──────────┐ └─┬─┬──┘ └╥┘  ║ \n",
       " q42: ┤ Rz(π/2) ├─┤ √X ├┤ Rz(-1.5302) ├─────────────────┤0     ├┤ Rz(-3.101) ├┤ √X ├──┤ Rz(-π/2) ├───┤M├─────╫───╫─\n",
       "      └─────────┘ └────┘└─────────────┘                 └──────┘└────────────┘└────┘  └──────────┘   └╥┘     ║   ║ \n",
       "c0: 1/════════════════════════════════════════════════════════════════════════════════════════════════╬══════╬═══╩═\n",
       "                                                                                                      ║      ║   0 \n",
       "c1: 1/════════════════════════════════════════════════════════════════════════════════════════════════╩══════╬═════\n",
       "                                                                                                      0      ║     \n",
       "c2: 1/═══════════════════════════════════════════════════════════════════════════════════════════════════════╩═════\n",
       "                                                                                                             0     </pre>"
      ],
      "text/plain": [
       "      ┌──────────┐┌────┐ ┌────────────┐┌────┐┌─────────┐┌──────┐ ┌──────────┐ ┌────┐┌─────────────┐┌──────┐┌───┐┌─┐\n",
       " q41: ┤ Rz(-π/2) ├┤ √X ├─┤ Rz(-1.296) ├┤ √X ├┤ Rz(π/2) ├┤1     ├─┤ Rz(-π/2) ├─┤ √X ├┤ Rz(-2.8668) ├┤0     ├┤ X ├┤M├\n",
       "      └┬────────┬┘├────┤ └─┬────────┬─┘└────┘└─────────┘│      │ └──────────┘ └────┘└─────────────┘│  Ecr │└┬─┬┘└╥┘\n",
       " q53: ─┤ Rz(-π) ├─┤ √X ├───┤ Rz(-π) ├───────────────────┤  Ecr ├───────────────────────────────────┤1     ├─┤M├──╫─\n",
       "      ┌┴────────┤ ├────┤┌──┴────────┴─┐                 │      │┌────────────┐┌────┐  ┌──────────┐ └─┬─┬──┘ └╥┘  ║ \n",
       " q42: ┤ Rz(π/2) ├─┤ √X ├┤ Rz(-1.5302) ├─────────────────┤0     ├┤ Rz(-3.101) ├┤ √X ├──┤ Rz(-π/2) ├───┤M├─────╫───╫─\n",
       "      └─────────┘ └────┘└─────────────┘                 └──────┘└────────────┘└────┘  └──────────┘   └╥┘     ║   ║ \n",
       "c0: 1/════════════════════════════════════════════════════════════════════════════════════════════════╬══════╬═══╩═\n",
       "                                                                                                      ║      ║   0 \n",
       "c1: 1/════════════════════════════════════════════════════════════════════════════════════════════════╩══════╬═════\n",
       "                                                                                                      0      ║     \n",
       "c2: 1/═══════════════════════════════════════════════════════════════════════════════════════════════════════╩═════\n",
       "                                                                                                             0     "
      ]
     },
     "execution_count": 15,
     "metadata": {},
     "output_type": "execute_result"
    }
   ],
   "source": [
    "ibmq.jobcircuit(jid).trim().draw(fold=-1)"
   ]
  }
 ],
 "metadata": {
  "kernelspec": {
   "display_name": "Python 3 (ipykernel)",
   "language": "python",
   "name": "python3"
  },
  "language_info": {
   "codemirror_mode": {
    "name": "ipython",
    "version": 3
   },
   "file_extension": ".py",
   "mimetype": "text/x-python",
   "name": "python",
   "nbconvert_exporter": "python",
   "pygments_lexer": "ipython3",
   "version": "3.11.13"
  }
 },
 "nbformat": 4,
 "nbformat_minor": 5
}
