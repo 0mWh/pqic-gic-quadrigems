{
 "cells": [
  {
   "cell_type": "code",
   "execution_count": 8,
   "id": "892d6a17-0545-4111-beb0-41504ec94b25",
   "metadata": {},
   "outputs": [
    {
     "ename": "ValueError",
     "evalue": "too many values to unpack (expected 2)",
     "output_type": "error",
     "traceback": [
      "\u001b[31m---------------------------------------------------------------------------\u001b[39m",
      "\u001b[31mValueError\u001b[39m                                Traceback (most recent call last)",
      "\u001b[36mCell\u001b[39m\u001b[36m \u001b[39m\u001b[32mIn[8]\u001b[39m\u001b[32m, line 25\u001b[39m\n\u001b[32m     22\u001b[39m     \u001b[38;5;28;01mreturn\u001b[39;00m qml.expval(qml.PauliZ(\u001b[32m0\u001b[39m) @ qml.PauliZ(\u001b[32m1\u001b[39m))\n\u001b[32m     24\u001b[39m \u001b[38;5;66;03m# Execute the circuit\u001b[39;00m\n\u001b[32m---> \u001b[39m\u001b[32m25\u001b[39m result = \u001b[43mcircuit\u001b[49m\u001b[43m(\u001b[49m\u001b[43m)\u001b[49m\n\u001b[32m     26\u001b[39m \u001b[38;5;28mprint\u001b[39m(result)\n",
      "\u001b[36mFile \u001b[39m\u001b[32m~/work/quadrigems/.venv/lib/python3.11/site-packages/pennylane/workflow/qnode.py:882\u001b[39m, in \u001b[36mQNode.__call__\u001b[39m\u001b[34m(self, *args, **kwargs)\u001b[39m\n\u001b[32m    879\u001b[39m     \u001b[38;5;28;01mfrom\u001b[39;00m\u001b[38;5;250m \u001b[39m\u001b[34;01m.\u001b[39;00m\u001b[34;01m_capture_qnode\u001b[39;00m\u001b[38;5;250m \u001b[39m\u001b[38;5;28;01mimport\u001b[39;00m capture_qnode  \u001b[38;5;66;03m# pylint: disable=import-outside-toplevel\u001b[39;00m\n\u001b[32m    881\u001b[39m     \u001b[38;5;28;01mreturn\u001b[39;00m capture_qnode(\u001b[38;5;28mself\u001b[39m, *args, **kwargs)\n\u001b[32m--> \u001b[39m\u001b[32m882\u001b[39m \u001b[38;5;28;01mreturn\u001b[39;00m \u001b[38;5;28;43mself\u001b[39;49m\u001b[43m.\u001b[49m\u001b[43m_impl_call\u001b[49m\u001b[43m(\u001b[49m\u001b[43m*\u001b[49m\u001b[43margs\u001b[49m\u001b[43m,\u001b[49m\u001b[43m \u001b[49m\u001b[43m*\u001b[49m\u001b[43m*\u001b[49m\u001b[43mkwargs\u001b[49m\u001b[43m)\u001b[49m\n",
      "\u001b[36mFile \u001b[39m\u001b[32m~/work/quadrigems/.venv/lib/python3.11/site-packages/pennylane/workflow/qnode.py:850\u001b[39m, in \u001b[36mQNode._impl_call\u001b[39m\u001b[34m(self, *args, **kwargs)\u001b[39m\n\u001b[32m    847\u001b[39m \u001b[38;5;28;01mdef\u001b[39;00m\u001b[38;5;250m \u001b[39m\u001b[34m_impl_call\u001b[39m(\u001b[38;5;28mself\u001b[39m, *args, **kwargs) -> qml.typing.Result:\n\u001b[32m    848\u001b[39m \n\u001b[32m    849\u001b[39m     \u001b[38;5;66;03m# construct the tape\u001b[39;00m\n\u001b[32m--> \u001b[39m\u001b[32m850\u001b[39m     tape = \u001b[38;5;28;43mself\u001b[39;49m\u001b[43m.\u001b[49m\u001b[43mconstruct\u001b[49m\u001b[43m(\u001b[49m\u001b[43margs\u001b[49m\u001b[43m,\u001b[49m\u001b[43m \u001b[49m\u001b[43mkwargs\u001b[49m\u001b[43m)\u001b[49m\n\u001b[32m    852\u001b[39m     \u001b[38;5;66;03m# Calculate the classical jacobians if necessary\u001b[39;00m\n\u001b[32m    853\u001b[39m     \u001b[38;5;28mself\u001b[39m._transform_program.set_classical_component(\u001b[38;5;28mself\u001b[39m, args, kwargs)\n",
      "\u001b[36mFile \u001b[39m\u001b[32m~/work/quadrigems/.venv/lib/python3.11/site-packages/pennylane/logging/decorators.py:61\u001b[39m, in \u001b[36mlog_string_debug_func.<locals>.wrapper_entry\u001b[39m\u001b[34m(*args, **kwargs)\u001b[39m\n\u001b[32m     54\u001b[39m     s_caller = \u001b[33m\"\u001b[39m\u001b[33m::L\u001b[39m\u001b[33m\"\u001b[39m.join(\n\u001b[32m     55\u001b[39m         [\u001b[38;5;28mstr\u001b[39m(i) \u001b[38;5;28;01mfor\u001b[39;00m i \u001b[38;5;129;01min\u001b[39;00m inspect.getouterframes(inspect.currentframe(), \u001b[32m2\u001b[39m)[\u001b[32m1\u001b[39m][\u001b[32m1\u001b[39m:\u001b[32m3\u001b[39m]]\n\u001b[32m     56\u001b[39m     )\n\u001b[32m     57\u001b[39m     lgr.debug(\n\u001b[32m     58\u001b[39m         \u001b[33mf\u001b[39m\u001b[33m\"\u001b[39m\u001b[33mCalling \u001b[39m\u001b[38;5;132;01m{\u001b[39;00mf_string\u001b[38;5;132;01m}\u001b[39;00m\u001b[33m from \u001b[39m\u001b[38;5;132;01m{\u001b[39;00ms_caller\u001b[38;5;132;01m}\u001b[39;00m\u001b[33m\"\u001b[39m,\n\u001b[32m     59\u001b[39m         **_debug_log_kwargs,\n\u001b[32m     60\u001b[39m     )\n\u001b[32m---> \u001b[39m\u001b[32m61\u001b[39m \u001b[38;5;28;01mreturn\u001b[39;00m \u001b[43mfunc\u001b[49m\u001b[43m(\u001b[49m\u001b[43m*\u001b[49m\u001b[43margs\u001b[49m\u001b[43m,\u001b[49m\u001b[43m \u001b[49m\u001b[43m*\u001b[49m\u001b[43m*\u001b[49m\u001b[43mkwargs\u001b[49m\u001b[43m)\u001b[49m\n",
      "\u001b[36mFile \u001b[39m\u001b[32m~/work/quadrigems/.venv/lib/python3.11/site-packages/pennylane/workflow/qnode.py:836\u001b[39m, in \u001b[36mQNode.construct\u001b[39m\u001b[34m(self, args, kwargs)\u001b[39m\n\u001b[32m    834\u001b[39m \u001b[38;5;28;01mwith\u001b[39;00m pldb_device_manager(\u001b[38;5;28mself\u001b[39m.device):\n\u001b[32m    835\u001b[39m     \u001b[38;5;28;01mwith\u001b[39;00m qml.queuing.AnnotatedQueue() \u001b[38;5;28;01mas\u001b[39;00m q:\n\u001b[32m--> \u001b[39m\u001b[32m836\u001b[39m         \u001b[38;5;28mself\u001b[39m._qfunc_output = \u001b[38;5;28;43mself\u001b[39;49m\u001b[43m.\u001b[49m\u001b[43mfunc\u001b[49m\u001b[43m(\u001b[49m\u001b[43m*\u001b[49m\u001b[43margs\u001b[49m\u001b[43m,\u001b[49m\u001b[43m \u001b[49m\u001b[43m*\u001b[49m\u001b[43m*\u001b[49m\u001b[43mkwargs\u001b[49m\u001b[43m)\u001b[49m\n\u001b[32m    838\u001b[39m tape = QuantumScript.from_queue(q, shots)\n\u001b[32m    840\u001b[39m params = tape.get_parameters(trainable_only=\u001b[38;5;28;01mFalse\u001b[39;00m)\n",
      "\u001b[36mFile \u001b[39m\u001b[32m~/work/quadrigems/.venv/lib/python3.11/site-packages/pennylane/transforms/core/transform_dispatcher.py:366\u001b[39m, in \u001b[36mTransformDispatcher._qfunc_transform.<locals>.qfunc_transformed\u001b[39m\u001b[34m(*args, **kwargs)\u001b[39m\n\u001b[32m    364\u001b[39m tape = qml.tape.QuantumScript.from_queue(q)\n\u001b[32m    365\u001b[39m \u001b[38;5;28;01mwith\u001b[39;00m qml.QueuingManager.stop_recording():\n\u001b[32m--> \u001b[39m\u001b[32m366\u001b[39m     transformed_tapes, processing_fn = \u001b[38;5;28mself\u001b[39m._transform(tape, *targs, **tkwargs)\n\u001b[32m    368\u001b[39m \u001b[38;5;28;01mif\u001b[39;00m \u001b[38;5;28mlen\u001b[39m(transformed_tapes) != \u001b[32m1\u001b[39m:\n\u001b[32m    369\u001b[39m     \u001b[38;5;28;01mraise\u001b[39;00m TransformError(\n\u001b[32m    370\u001b[39m         \u001b[33m\"\u001b[39m\u001b[33mImpossible to dispatch your transform on quantum function, because more than \u001b[39m\u001b[33m\"\u001b[39m\n\u001b[32m    371\u001b[39m         \u001b[33m\"\u001b[39m\u001b[33mone tape is returned\u001b[39m\u001b[33m\"\u001b[39m\n\u001b[32m    372\u001b[39m     )\n",
      "\u001b[31mValueError\u001b[39m: too many values to unpack (expected 2)"
     ]
    }
   ],
   "source": [
    "import pennylane as qml\n",
    "from pennylane import numpy as np\n",
    "\n",
    "# Define a transform that replaces QFTs with adjoint QFTs\n",
    "@qml.transform\n",
    "def replace_qft_with_adjoint(tape):\n",
    "    new_operations = []\n",
    "    for op in tape.operations:\n",
    "        if isinstance(op, qml.QFT):\n",
    "            new_operations.append(qml.adjoint)\n",
    "        new_operations.append(op)\n",
    "    return qml.tape.QuantumTape(new_operations, tape.measurements)\n",
    "\n",
    "# Example usage:\n",
    "dev = qml.device(\"default.qubit\", wires=2)\n",
    "\n",
    "@qml.qnode(dev)\n",
    "@replace_qft_with_adjoint\n",
    "def circuit():\n",
    "    qml.H(wires=0)\n",
    "    qml.QFT(wires=1)\n",
    "    return qml.expval(qml.PauliZ(0) @ qml.PauliZ(1))\n",
    "\n",
    "# Execute the circuit\n",
    "result = circuit()\n",
    "print(result)\n"
   ]
  },
  {
   "cell_type": "code",
   "execution_count": null,
   "id": "e6f2a91a-d845-4f02-8dc2-1f14e4f248b7",
   "metadata": {},
   "outputs": [],
   "source": []
  }
 ],
 "metadata": {
  "kernelspec": {
   "display_name": "Python 3 (ipykernel)",
   "language": "python",
   "name": "python3"
  },
  "language_info": {
   "codemirror_mode": {
    "name": "ipython",
    "version": 3
   },
   "file_extension": ".py",
   "mimetype": "text/x-python",
   "name": "python",
   "nbconvert_exporter": "python",
   "pygments_lexer": "ipython3",
   "version": "3.11.13"
  }
 },
 "nbformat": 4,
 "nbformat_minor": 5
}
