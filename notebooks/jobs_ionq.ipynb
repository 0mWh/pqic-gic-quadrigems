{
 "cells": [
  {
   "cell_type": "code",
   "execution_count": 4,
   "id": "7e541708-38f3-4e42-b2a6-2d19f33023d9",
   "metadata": {},
   "outputs": [],
   "source": [
    "from os import environ as ENV\n",
    "from time import time as now\n",
    "import json\n",
    "import qbraid\n",
    "\n",
    "import pandas as pd\n",
    "from tqdm.notebook import tqdm\n",
    "\n",
    "import sys\n",
    "sys.path.append(ENV['PWD'])\n",
    "\n",
    "from should_be_stdlib import *"
   ]
  },
  {
   "cell_type": "code",
   "execution_count": 5,
   "id": "a701dc11-6ecf-4b00-86fe-e2f72efdbf88",
   "metadata": {},
   "outputs": [],
   "source": [
    "# number of shots to use\n",
    "SHOTS = 1000"
   ]
  },
  {
   "cell_type": "markdown",
   "id": "0bcdad6d-28b1-45fd-92c4-d5d15a69948d",
   "metadata": {},
   "source": [
    "# Load circuits"
   ]
  },
  {
   "cell_type": "code",
   "execution_count": 22,
   "id": "91ad5770-012b-4812-8eba-685375d89363",
   "metadata": {
    "scrolled": true
   },
   "outputs": [
    {
     "data": {
      "text/plain": [
       "[(2926, 3), (2926, 3), (2926, 3)]"
      ]
     },
     "execution_count": 22,
     "metadata": {},
     "output_type": "execute_result"
    }
   ],
   "source": [
    "ang_circuits = pd.read_excel(ENV['PWD'] + '/data/circuits_quantum_fidelity_angle_embed.xlsx', index_col=0)\n",
    "amp_circuits = pd.read_excel(ENV['PWD'] + '/data/circuits_quantum_fidelity_amp_embed.xlsx', index_col=0)\n",
    "amp_qft_circuits = pd.read_excel(ENV['PWD'] + '/data/circuits_quantum_fidelity_amp_embed_qft.xlsx', index_col=0)\n",
    "[x.shape for x in [ang_circuits, amp_circuits, amp_qft_circuits]]"
   ]
  },
  {
   "cell_type": "code",
   "execution_count": 23,
   "id": "20431d28-25d1-4ed9-99a5-81c316ae4cea",
   "metadata": {},
   "outputs": [
    {
     "data": {
      "application/vnd.jupyter.widget-view+json": {
       "model_id": "ab840e8bbd334ac9818882a83e7014ae",
       "version_major": 2,
       "version_minor": 0
      },
      "text/plain": [
       "  0%|          | 0/2926 [00:00<?, ?it/s]"
      ]
     },
     "metadata": {},
     "output_type": "display_data"
    },
    {
     "data": {
      "application/vnd.jupyter.widget-view+json": {
       "model_id": "b8cc48bd0aff4ce8bf4fe39ee9bd10e7",
       "version_major": 2,
       "version_minor": 0
      },
      "text/plain": [
       "  0%|          | 0/2926 [00:00<?, ?it/s]"
      ]
     },
     "metadata": {},
     "output_type": "display_data"
    },
    {
     "data": {
      "application/vnd.jupyter.widget-view+json": {
       "model_id": "cbd6b2d9d797464593a0aa53d3f94bce",
       "version_major": 2,
       "version_minor": 0
      },
      "text/plain": [
       "  0%|          | 0/2926 [00:00<?, ?it/s]"
      ]
     },
     "metadata": {},
     "output_type": "display_data"
    }
   ],
   "source": [
    "# transpile circuits ahead of time\n",
    "# if IonQ-qiskit is installed, the ionq job submission expects qiskit circuits instead of the native ionq format!!\n",
    "# but qiskit transpiler is much faster so it's fine\n",
    "import qbraid\n",
    "amp_qft_circuits  = [qbraid.transpile(c, 'qiskit') for c in tqdm(amp_qft_circuits['qasm2'])]\n",
    "amp_circuits      = [qbraid.transpile(c, 'qiskit') for c in tqdm(amp_circuits['qasm2'])]\n",
    "ang_circuits      = [qbraid.transpile(c, 'qiskit') for c in tqdm(ang_circuits['qasm2'])]"
   ]
  },
  {
   "cell_type": "markdown",
   "id": "b71a8a85-e269-4d61-bb04-31db46fa370a",
   "metadata": {},
   "source": [
    "# IonQ"
   ]
  },
  {
   "cell_type": "markdown",
   "id": "9e81239a-725e-459b-a510-c8509194928b",
   "metadata": {},
   "source": [
    "## Connect to IonQ API"
   ]
  },
  {
   "cell_type": "code",
   "execution_count": 9,
   "id": "ef72f13b-8903-413e-985c-2f04a33d99b5",
   "metadata": {},
   "outputs": [],
   "source": [
    "from provider_ionq import IONQ\n",
    "ionq = IONQ(\n",
    "    ionq_api_key := open(ENV['HOME'] + \"/work/api-keys/IONQ_API_KEY\").readline().strip()\n",
    ")\n",
    "ionq.printqpus()"
   ]
  },
  {
   "cell_type": "code",
   "execution_count": 10,
   "id": "301e86fa-6462-4bed-855d-5557c1668dbc",
   "metadata": {},
   "outputs": [
    {
     "data": {
      "text/plain": [
       "<DeviceStatus.ONLINE: 'online'>"
      ]
     },
     "execution_count": 10,
     "metadata": {},
     "output_type": "execute_result"
    }
   ],
   "source": [
    "ionq_qpu = ionq.provider.get_device('qpu.forte-enterprise-1')\n",
    "ionq_qpu.status()"
   ]
  },
  {
   "cell_type": "markdown",
   "id": "ff400314-b640-4065-9c94-005948d2981c",
   "metadata": {},
   "source": [
    "# Run circuits\n",
    "\n",
    "In principle, one could run these circuits. However, the estimated cost of IonQ Forte is very high, so we chose not to run them to save money."
   ]
  },
  {
   "cell_type": "code",
   "execution_count": 11,
   "id": "2207e68d-0c67-45ee-ac51-b95f3607e973",
   "metadata": {},
   "outputs": [],
   "source": [
    "import warnings\n",
    "warnings.filterwarnings('ignore', message='No gate definition for.*') # hide transpiler warnings"
   ]
  },
  {
   "cell_type": "code",
   "execution_count": 12,
   "id": "70ba9d26-f712-43ac-b856-c7839aea5167",
   "metadata": {},
   "outputs": [],
   "source": [
    "# this submits a preflight job, no costs are incurred\n",
    "def test_run(*args, **kwargs):\n",
    "    kwargs['preflight'] = True\n",
    "    ionq_job = ionq_qpu.run(*args, **kwargs)\n",
    "    print(f'Estimating cost of {kwargs[\"name\"]}')\n",
    "    ionq_job.wait_for_final_state()\n",
    "    metadata = ionq_job.metadata()\n",
    "    cost_usd = metadata[\"cost_usd\"]\n",
    "    predicted_execution_time = metadata[\"predicted_execution_time\"]\n",
    "    print(f'${cost_usd}, {predicted_execution_time / 1000} seconds')"
   ]
  },
  {
   "cell_type": "code",
   "execution_count": 18,
   "id": "c4878503-074e-4b92-ab77-12f652fb9261",
   "metadata": {},
   "outputs": [],
   "source": [
    "def verify_run():\n",
    "    ans = input('You must type \"ionq\" to run this because it may cost a lot of money!!! >>> ')\n",
    "    if ans != 'ionq':\n",
    "        raise ValueError('By not typing \"ionq\", you did not run this code')\n",
    "        return False\n",
    "    else:\n",
    "        ans = input('If you are really sure you want to run this code, type \"ionq\" to proceed >>> ')\n",
    "        if ans != 'ionq':\n",
    "            raise ValueError('By not typing \"ionq\", you did not run this code')\n",
    "            return False\n",
    "        else:\n",
    "            return True"
   ]
  },
  {
   "cell_type": "code",
   "execution_count": 19,
   "id": "9f9cc68e-5859-4526-ad0d-bb8775ccb387",
   "metadata": {},
   "outputs": [
    {
     "name": "stdin",
     "output_type": "stream",
     "text": [
      "You must type \"ionq\" to run this because it may cost a lot of $$money$$ !!! >>>  no\n"
     ]
    },
    {
     "ename": "ValueError",
     "evalue": "By not typing \"ionq\", you did not run this code",
     "output_type": "error",
     "traceback": [
      "\u001b[31m---------------------------------------------------------------------------\u001b[39m",
      "\u001b[31mValueError\u001b[39m                                Traceback (most recent call last)",
      "\u001b[36mCell\u001b[39m\u001b[36m \u001b[39m\u001b[32mIn[19]\u001b[39m\u001b[32m, line 2\u001b[39m\n\u001b[32m      1\u001b[39m \u001b[38;5;66;03m# test run our jobs\u001b[39;00m\n\u001b[32m----> \u001b[39m\u001b[32m2\u001b[39m \u001b[43mverify_run\u001b[49m\u001b[43m(\u001b[49m\u001b[43m)\u001b[49m\n\u001b[32m      3\u001b[39m test_run(amp_qft_circuits[\u001b[32m0\u001b[39m], preflight=\u001b[38;5;28;01mTrue\u001b[39;00m, shots=SHOTS, name=\u001b[33m\"\u001b[39m\u001b[33mAmp QFT\u001b[39m\u001b[33m\"\u001b[39m, error_mitigation={\u001b[33m'\u001b[39m\u001b[33mdebias\u001b[39m\u001b[33m'\u001b[39m: \u001b[38;5;28;01mTrue\u001b[39;00m})\n\u001b[32m      4\u001b[39m test_run(amp_qft_circuits[\u001b[32m0\u001b[39m], preflight=\u001b[38;5;28;01mTrue\u001b[39;00m, shots=SHOTS, name=\u001b[33m\"\u001b[39m\u001b[33mAmp QFT no QEM\u001b[39m\u001b[33m\"\u001b[39m, error_mitigation={\u001b[33m'\u001b[39m\u001b[33mdebias\u001b[39m\u001b[33m'\u001b[39m: \u001b[38;5;28;01mFalse\u001b[39;00m})\n",
      "\u001b[36mCell\u001b[39m\u001b[36m \u001b[39m\u001b[32mIn[18]\u001b[39m\u001b[32m, line 4\u001b[39m, in \u001b[36mverify_run\u001b[39m\u001b[34m()\u001b[39m\n\u001b[32m      2\u001b[39m ans = \u001b[38;5;28minput\u001b[39m(\u001b[33m'\u001b[39m\u001b[33mYou must type \u001b[39m\u001b[33m\"\u001b[39m\u001b[33mionq\u001b[39m\u001b[33m\"\u001b[39m\u001b[33m to run this because it may cost a lot of $$money$$ !!! >>> \u001b[39m\u001b[33m'\u001b[39m)\n\u001b[32m      3\u001b[39m \u001b[38;5;28;01mif\u001b[39;00m ans != \u001b[33m'\u001b[39m\u001b[33mionq\u001b[39m\u001b[33m'\u001b[39m:\n\u001b[32m----> \u001b[39m\u001b[32m4\u001b[39m     \u001b[38;5;28;01mraise\u001b[39;00m \u001b[38;5;167;01mValueError\u001b[39;00m(\u001b[33m'\u001b[39m\u001b[33mBy not typing \u001b[39m\u001b[33m\"\u001b[39m\u001b[33mionq\u001b[39m\u001b[33m\"\u001b[39m\u001b[33m, you did not run this code\u001b[39m\u001b[33m'\u001b[39m)\n\u001b[32m      5\u001b[39m     \u001b[38;5;28;01mreturn\u001b[39;00m \u001b[38;5;28;01mFalse\u001b[39;00m\n\u001b[32m      6\u001b[39m \u001b[38;5;28;01melse\u001b[39;00m:\n",
      "\u001b[31mValueError\u001b[39m: By not typing \"ionq\", you did not run this code"
     ]
    }
   ],
   "source": [
    "# test run our jobs\n",
    "if verify_run():\n",
    "    test_run(amp_qft_circuits[0], preflight=True, shots=SHOTS, name=\"Amp QFT\",           error_mitigation={'debias': True})\n",
    "    test_run(amp_qft_circuits[0], preflight=True, shots=SHOTS, name=\"Amp QFT no QEM\",    error_mitigation={'debias': False})\n",
    "    test_run(amp_circuits[0],     preflight=True, shots=SHOTS, name=\"Amp no QFT\",        error_mitigation={'debias': True})\n",
    "    test_run(amp_circuits[0],     preflight=True, shots=SHOTS, name=\"Amp no QFT no QEM\", error_mitigation={'debias': False})\n",
    "    test_run(ang_circuits[0],     preflight=True, shots=SHOTS, name=\"Angle\",             error_mitigation={'debias': True})\n",
    "    test_run(ang_circuits[0],     preflight=True, shots=SHOTS, name=\"Angle no QEM\",      error_mitigation={'debias': False})"
   ]
  },
  {
   "cell_type": "code",
   "execution_count": 25,
   "id": "bb375174-0860-433a-b786-0337b42268d5",
   "metadata": {},
   "outputs": [
    {
     "name": "stdin",
     "output_type": "stream",
     "text": [
      "You must type \"ionq\" to run this because it may cost a lot of $$money$$ !!! >>>  ionq\n",
      "If you really are sure you want to run this code, type \"ionq\" to proceed >>>  ionq\n"
     ]
    }
   ],
   "source": [
    "# run for real\n",
    "if verify_run():\n",
    "    ionq_qpu.run(amp_qft_circuits[0], shots=SHOTS, name=\"REAL Amp QFT\",           error_mitigation={'debias': True})\n",
    "    ionq_qpu.run(amp_qft_circuits[0], shots=SHOTS, name=\"REAL Amp QFT no QEM\",    error_mitigation={'debias': False})\n",
    "    ionq_qpu.run(amp_circuits[0],     shots=SHOTS, name=\"REAL Amp no QFT\",        error_mitigation={'debias': True})\n",
    "    ionq_qpu.run(amp_circuits[0],     shots=SHOTS, name=\"REAL Amp no QFT no QEM\", error_mitigation={'debias': False})\n",
    "    ionq_qpu.run(ang_circuits[0],     shots=SHOTS, name=\"REAL Angle\",             error_mitigation={'debias': True})\n",
    "    ionq_qpu.run(ang_circuits[0],     shots=SHOTS, name=\"REAL Angle no QEM\",      error_mitigation={'debias': False})"
   ]
  }
 ],
 "metadata": {
  "kernelspec": {
   "display_name": "Python 3 (ipykernel)",
   "language": "python",
   "name": "python3"
  },
  "language_info": {
   "codemirror_mode": {
    "name": "ipython",
    "version": 3
   },
   "file_extension": ".py",
   "mimetype": "text/x-python",
   "name": "python",
   "nbconvert_exporter": "python",
   "pygments_lexer": "ipython3",
   "version": "3.11.13"
  }
 },
 "nbformat": 4,
 "nbformat_minor": 5
}
