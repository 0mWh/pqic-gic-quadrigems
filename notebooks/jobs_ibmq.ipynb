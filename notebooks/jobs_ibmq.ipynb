{
 "cells": [
  {
   "cell_type": "code",
   "execution_count": 1,
   "id": "f1567baf-6db1-4c38-9bed-8b5b36a1b9bc",
   "metadata": {},
   "outputs": [],
   "source": [
    "from os import environ as ENV\n",
    "\n",
    "DATA = ENV['PWD'] + '/data/'"
   ]
  },
  {
   "cell_type": "code",
   "execution_count": 2,
   "id": "a8fdf48e-3597-4ca3-9b0c-f58a2033a395",
   "metadata": {},
   "outputs": [],
   "source": [
    "import sys\n",
    "\n",
    "sys.path.append('../src')\n",
    "\n",
    "from should_be_stdlib import *\n",
    "from circuit_extra import *\n",
    "from circuit_postprocess import *"
   ]
  },
  {
   "cell_type": "code",
   "execution_count": 3,
   "id": "7e541708-38f3-4e42-b2a6-2d19f33023d9",
   "metadata": {},
   "outputs": [],
   "source": [
    "from collections import Counter\n",
    "import json\n",
    "\n",
    "import pandas as pd\n",
    "import qbraid\n",
    "\n",
    "from tqdm.notebook import tqdm"
   ]
  },
  {
   "cell_type": "code",
   "execution_count": 4,
   "id": "a701dc11-6ecf-4b00-86fe-e2f72efdbf88",
   "metadata": {},
   "outputs": [],
   "source": [
    "# number of shots to use\n",
    "SHOTS = 1000"
   ]
  },
  {
   "cell_type": "markdown",
   "id": "0bcdad6d-28b1-45fd-92c4-d5d15a69948d",
   "metadata": {},
   "source": [
    "# Load circuits"
   ]
  },
  {
   "cell_type": "code",
   "execution_count": 5,
   "id": "91ad5770-012b-4812-8eba-685375d89363",
   "metadata": {
    "scrolled": true
   },
   "outputs": [
    {
     "data": {
      "text/plain": [
       "{'ang': 2926,\n",
       " 'amp': 2926,\n",
       " 'amp-qft': 2926,\n",
       " 'amp-ddd': 2926,\n",
       " 'amp-qft-ddd': 2926}"
      ]
     },
     "execution_count": 5,
     "metadata": {},
     "output_type": "execute_result"
    }
   ],
   "source": [
    "circuit_dfs = {\n",
    "    k: pd.read_excel(DATA + f'circuits_{k}.xlsx', index_col=0)\n",
    "    for k in ['ang', 'amp', 'amp-qft', 'amp-ddd', 'amp-qft-ddd']\n",
    "}\n",
    "\n",
    "{k: v['qasm2'].size for k, v in circuit_dfs.items()}"
   ]
  },
  {
   "cell_type": "code",
   "execution_count": 6,
   "id": "20431d28-25d1-4ed9-99a5-81c316ae4cea",
   "metadata": {},
   "outputs": [
    {
     "data": {
      "application/vnd.jupyter.widget-view+json": {
       "model_id": "7c917d157c0847f5a1fddaa2af9f8c0f",
       "version_major": 2,
       "version_minor": 0
      },
      "text/plain": [
       "  0%|          | 0/2926 [00:00<?, ?it/s]"
      ]
     },
     "metadata": {},
     "output_type": "display_data"
    },
    {
     "name": "stderr",
     "output_type": "stream",
     "text": [
      "/home/user/work/quadrigems/.venv/lib/python3.11/site-packages/qbraid/_entrypoints.py:20: UserWarning: pkg_resources is deprecated as an API. See https://setuptools.pypa.io/en/latest/pkg_resources.html. The pkg_resources package is slated for removal as early as 2025-11-30. Refrain from using this package or pin to Setuptools<81.\n",
      "  import pkg_resources\n"
     ]
    },
    {
     "data": {
      "application/vnd.jupyter.widget-view+json": {
       "model_id": "f3f4fc3d1ffe4a3291ff3478bffe29ea",
       "version_major": 2,
       "version_minor": 0
      },
      "text/plain": [
       "  0%|          | 0/2926 [00:00<?, ?it/s]"
      ]
     },
     "metadata": {},
     "output_type": "display_data"
    },
    {
     "data": {
      "application/vnd.jupyter.widget-view+json": {
       "model_id": "b4976811494d4a049e003b1cda014934",
       "version_major": 2,
       "version_minor": 0
      },
      "text/plain": [
       "  0%|          | 0/2926 [00:00<?, ?it/s]"
      ]
     },
     "metadata": {},
     "output_type": "display_data"
    },
    {
     "data": {
      "application/vnd.jupyter.widget-view+json": {
       "model_id": "f7723a906c444f48bea3765f6b154f12",
       "version_major": 2,
       "version_minor": 0
      },
      "text/plain": [
       "  0%|          | 0/2926 [00:00<?, ?it/s]"
      ]
     },
     "metadata": {},
     "output_type": "display_data"
    },
    {
     "data": {
      "application/vnd.jupyter.widget-view+json": {
       "model_id": "a4f55e6d6b5b41f08199f350722da72a",
       "version_major": 2,
       "version_minor": 0
      },
      "text/plain": [
       "  0%|          | 0/2926 [00:00<?, ?it/s]"
      ]
     },
     "metadata": {},
     "output_type": "display_data"
    }
   ],
   "source": [
    "# transpile circuits ahead of time\n",
    "# if IonQ-qiskit is installed, the ionq job submission expects qiskit circuits instead of the native ionq format!!\n",
    "# but qiskit transpiler is much faster so it's fine\n",
    "circuits = {k: [qbraid.transpile(c, 'qiskit') for c in tqdm(v['qasm2'])] for k, v in circuit_dfs.items()}"
   ]
  },
  {
   "cell_type": "code",
   "execution_count": 7,
   "id": "fd3134f4-963e-4d91-96d9-74bc02f01453",
   "metadata": {},
   "outputs": [],
   "source": [
    "for k, v in circuits.items():\n",
    "    for i, c in enumerate(v):\n",
    "        c.name = f'{k}_c{i}'"
   ]
  },
  {
   "cell_type": "markdown",
   "id": "b71a8a85-e269-4d61-bb04-31db46fa370a",
   "metadata": {},
   "source": [
    "# IBMQ"
   ]
  },
  {
   "cell_type": "markdown",
   "id": "9e81239a-725e-459b-a510-c8509194928b",
   "metadata": {},
   "source": [
    "## Connect to IBMQ API"
   ]
  },
  {
   "cell_type": "code",
   "execution_count": 8,
   "id": "ef72f13b-8903-413e-985c-2f04a33d99b5",
   "metadata": {},
   "outputs": [
    {
     "name": "stdout",
     "output_type": "stream",
     "text": [
      "ibmq QiskitBackend('ibm_kingston') 156qb DeviceStatus.ONLINE\n",
      "ibmq QiskitBackend('ibm_fez') 156qb DeviceStatus.ONLINE\n",
      "ibmq QiskitBackend('ibm_marrakesh') 156qb DeviceStatus.ONLINE\n",
      "ibmq QiskitBackend('ibm_torino') 133qb DeviceStatus.ONLINE\n",
      "ibmq QiskitBackend('ibm_brisbane') 127qb DeviceStatus.ONLINE\n",
      "ibmq QiskitBackend('ibm_sherbrooke') 127qb DeviceStatus.ONLINE\n"
     ]
    },
    {
     "data": {
      "text/plain": [
       "<DeviceStatus.ONLINE: 'online'>"
      ]
     },
     "execution_count": 8,
     "metadata": {},
     "output_type": "execute_result"
    }
   ],
   "source": [
    "from provider_ibmq import IBMQ\n",
    "\n",
    "with open(ENV['HOME'] + '/work/api-keys/IBM_API_KEY') as f_api:\n",
    "    ibm_api_key = f_api.readline().strip()\n",
    "with open(ENV['HOME'] + '/work/api-keys/IBM_CRN') as f_crn:\n",
    "    ibm_crn = f_crn.readline().strip()\n",
    "ibmq = IBMQ(ibm_api_key, ibm_crn)\n",
    "del ibm_api_key\n",
    "del ibm_crn\n",
    "ibmq.printqpus()\n",
    "\n",
    "# selected QPU\n",
    "ibm_qpu = ibmq.provider.get_device('ibm_kingston')\n",
    "ibm_qpu.status()"
   ]
  },
  {
   "cell_type": "markdown",
   "id": "ff400314-b640-4065-9c94-005948d2981c",
   "metadata": {},
   "source": [
    "## Run circuits"
   ]
  },
  {
   "cell_type": "code",
   "execution_count": 9,
   "id": "72ca1605-7457-4636-9fc4-c50db636858c",
   "metadata": {},
   "outputs": [],
   "source": [
    "# 'ALL OK' or which jobs failed?\n",
    "def faileds(jobs: dict[int, any]) -> dict[int, any] | str:\n",
    "    ans = {k: v.status() for k, v in jobs.items() if v.status().value != 'COMPLETED'}\n",
    "    return 'ALL OK' if len(ans) == 0 else ans"
   ]
  },
  {
   "cell_type": "markdown",
   "id": "b9011025-0a98-4ba5-b81e-bf6bb08bfd01",
   "metadata": {
    "jp-MarkdownHeadingCollapsed": true
   },
   "source": [
    "### Basic test run"
   ]
  },
  {
   "cell_type": "raw",
   "id": "04281ddc-22ad-4391-9682-df3b3866659e",
   "metadata": {},
   "source": [
    "# test run our jobs\n",
    "try:\n",
    "    print(job_test)\n",
    "except:\n",
    "    if verify_run():\n",
    "        job_test = {\n",
    "            k: ibm_qpu.run(v[:2], shots=SHOTS)\n",
    "            for k,v in circuits.items()\n",
    "        }\n",
    "\n",
    "# Based on our testing, angle embedding is the fastest"
   ]
  },
  {
   "cell_type": "raw",
   "id": "867c5714-dffe-43da-b75b-ce36f59ee2c5",
   "metadata": {
    "scrolled": true
   },
   "source": [
    "job_test['ang'].wait_for_final_state()\n",
    "ibmq.jobcircuit(ibmq.jobid(job_test['ang'])).trim().draw(fold=-1)"
   ]
  },
  {
   "cell_type": "raw",
   "id": "e8d1310f-464f-424b-b3df-e9f4b920299b",
   "metadata": {},
   "source": [
    "job_test['amp'].wait_for_final_state()\n",
    "ibmq.jobcircuit(ibmq.jobid(job_test['amp'])).trim().draw(fold=-1)"
   ]
  },
  {
   "cell_type": "raw",
   "id": "18023d8e-d93a-4ba5-af1f-88d7dd5c8d73",
   "metadata": {},
   "source": [
    "job_test['amp_qft'].wait_for_final_state()\n",
    "ibmq.jobcircuit(ibmq.jobid(job_test['amp_qft'])).trim().draw(fold=-1)"
   ]
  },
  {
   "cell_type": "markdown",
   "id": "7fe726b7-7ba9-4083-8d4d-d97bf9e16d7f",
   "metadata": {},
   "source": [
    "### Real jobs (all of them)"
   ]
  },
  {
   "cell_type": "code",
   "execution_count": 10,
   "id": "ea379f6b-ff4c-424d-bec2-95848db380e7",
   "metadata": {},
   "outputs": [],
   "source": [
    "try:\n",
    "    print(jobs)\n",
    "except NameError:\n",
    "    jobs = {}"
   ]
  },
  {
   "cell_type": "code",
   "execution_count": 11,
   "id": "e312380f-7c9a-4e8c-a8f9-212fec471678",
   "metadata": {},
   "outputs": [
    {
     "ename": "KeyboardInterrupt",
     "evalue": "Interrupted by user",
     "output_type": "error",
     "traceback": [
      "\u001b[31m---------------------------------------------------------------------------\u001b[39m",
      "\u001b[31mKeyboardInterrupt\u001b[39m                         Traceback (most recent call last)",
      "\u001b[36mCell\u001b[39m\u001b[36m \u001b[39m\u001b[32mIn[11]\u001b[39m\u001b[32m, line 5\u001b[39m\n\u001b[32m      3\u001b[39m     \u001b[38;5;28mprint\u001b[39m(faileds(jobs[\u001b[33m'\u001b[39m\u001b[33mang\u001b[39m\u001b[33m'\u001b[39m]))\n\u001b[32m      4\u001b[39m \u001b[38;5;28;01mexcept\u001b[39;00m \u001b[38;5;167;01mKeyError\u001b[39;00m:\n\u001b[32m----> \u001b[39m\u001b[32m5\u001b[39m     \u001b[38;5;28;01mif\u001b[39;00m \u001b[43mverify_run\u001b[49m\u001b[43m(\u001b[49m\u001b[43m)\u001b[49m:\n\u001b[32m      6\u001b[39m         jobs[\u001b[33m'\u001b[39m\u001b[33mang\u001b[39m\u001b[33m'\u001b[39m] = {\n\u001b[32m      7\u001b[39m             i: ibm_qpu.run(circuits_chunk, shots=SHOTS)\n\u001b[32m      8\u001b[39m             \u001b[38;5;28;01mfor\u001b[39;00m i, circuits_chunk \u001b[38;5;129;01min\u001b[39;00m tqdm(chunk(circuits[\u001b[33m'\u001b[39m\u001b[33mang\u001b[39m\u001b[33m'\u001b[39m], \u001b[32m50\u001b[39m).items())\n\u001b[32m      9\u001b[39m         }\n",
      "\u001b[36mFile \u001b[39m\u001b[32m~/work/quadrigems/notebooks/../src/should_be_stdlib.py:42\u001b[39m, in \u001b[36mverify_run\u001b[39m\u001b[34m(string, throw)\u001b[39m\n\u001b[32m     41\u001b[39m \u001b[38;5;28;01mdef\u001b[39;00m\u001b[38;5;250m \u001b[39m\u001b[34mverify_run\u001b[39m(string: \u001b[38;5;28mstr\u001b[39m = \u001b[33m'\u001b[39m\u001b[33mREALLY\u001b[39m\u001b[33m'\u001b[39m, throw: \u001b[38;5;28mbool\u001b[39m = \u001b[38;5;28;01mFalse\u001b[39;00m):\n\u001b[32m---> \u001b[39m\u001b[32m42\u001b[39m     ans = \u001b[38;5;28;43minput\u001b[39;49m\u001b[43m(\u001b[49m\u001b[33;43mf\u001b[39;49m\u001b[33;43m'\u001b[39;49m\u001b[33;43mYou must type \u001b[39;49m\u001b[33;43m\"\u001b[39;49m\u001b[38;5;132;43;01m{\u001b[39;49;00m\u001b[43mstring\u001b[49m\u001b[38;5;132;43;01m}\u001b[39;49;00m\u001b[33;43m\"\u001b[39;49m\u001b[33;43m to run this because it may cost a lot of money!!! >>> \u001b[39;49m\u001b[33;43m'\u001b[39;49m\u001b[43m)\u001b[49m\n\u001b[32m     43\u001b[39m     bad = \u001b[33mf\u001b[39m\u001b[33m'\u001b[39m\u001b[33mBy not typing \u001b[39m\u001b[33m\"\u001b[39m\u001b[38;5;132;01m{\u001b[39;00mstring\u001b[38;5;132;01m}\u001b[39;00m\u001b[33m\"\u001b[39m\u001b[33m, you did not run this code\u001b[39m\u001b[33m'\u001b[39m\n\u001b[32m     44\u001b[39m     \u001b[38;5;28;01mif\u001b[39;00m ans != string:\n",
      "\u001b[36mFile \u001b[39m\u001b[32m/tmp/uv-cache/archive-v0/zUfyGYUFS6E8GkFGsWYxG/lib/python3.11/site-packages/ipykernel/kernelbase.py:1282\u001b[39m, in \u001b[36mKernel.raw_input\u001b[39m\u001b[34m(self, prompt)\u001b[39m\n\u001b[32m   1280\u001b[39m     msg = \u001b[33m\"\u001b[39m\u001b[33mraw_input was called, but this frontend does not support input requests.\u001b[39m\u001b[33m\"\u001b[39m\n\u001b[32m   1281\u001b[39m     \u001b[38;5;28;01mraise\u001b[39;00m StdinNotImplementedError(msg)\n\u001b[32m-> \u001b[39m\u001b[32m1282\u001b[39m \u001b[38;5;28;01mreturn\u001b[39;00m \u001b[38;5;28;43mself\u001b[39;49m\u001b[43m.\u001b[49m\u001b[43m_input_request\u001b[49m\u001b[43m(\u001b[49m\n\u001b[32m   1283\u001b[39m \u001b[43m    \u001b[49m\u001b[38;5;28;43mstr\u001b[39;49m\u001b[43m(\u001b[49m\u001b[43mprompt\u001b[49m\u001b[43m)\u001b[49m\u001b[43m,\u001b[49m\n\u001b[32m   1284\u001b[39m \u001b[43m    \u001b[49m\u001b[38;5;28;43mself\u001b[39;49m\u001b[43m.\u001b[49m\u001b[43m_parent_ident\u001b[49m\u001b[43m[\u001b[49m\u001b[33;43m\"\u001b[39;49m\u001b[33;43mshell\u001b[39;49m\u001b[33;43m\"\u001b[39;49m\u001b[43m]\u001b[49m\u001b[43m,\u001b[49m\n\u001b[32m   1285\u001b[39m \u001b[43m    \u001b[49m\u001b[38;5;28;43mself\u001b[39;49m\u001b[43m.\u001b[49m\u001b[43mget_parent\u001b[49m\u001b[43m(\u001b[49m\u001b[33;43m\"\u001b[39;49m\u001b[33;43mshell\u001b[39;49m\u001b[33;43m\"\u001b[39;49m\u001b[43m)\u001b[49m\u001b[43m,\u001b[49m\n\u001b[32m   1286\u001b[39m \u001b[43m    \u001b[49m\u001b[43mpassword\u001b[49m\u001b[43m=\u001b[49m\u001b[38;5;28;43;01mFalse\u001b[39;49;00m\u001b[43m,\u001b[49m\n\u001b[32m   1287\u001b[39m \u001b[43m\u001b[49m\u001b[43m)\u001b[49m\n",
      "\u001b[36mFile \u001b[39m\u001b[32m/tmp/uv-cache/archive-v0/zUfyGYUFS6E8GkFGsWYxG/lib/python3.11/site-packages/ipykernel/kernelbase.py:1325\u001b[39m, in \u001b[36mKernel._input_request\u001b[39m\u001b[34m(self, prompt, ident, parent, password)\u001b[39m\n\u001b[32m   1322\u001b[39m \u001b[38;5;28;01mexcept\u001b[39;00m \u001b[38;5;167;01mKeyboardInterrupt\u001b[39;00m:\n\u001b[32m   1323\u001b[39m     \u001b[38;5;66;03m# re-raise KeyboardInterrupt, to truncate traceback\u001b[39;00m\n\u001b[32m   1324\u001b[39m     msg = \u001b[33m\"\u001b[39m\u001b[33mInterrupted by user\u001b[39m\u001b[33m\"\u001b[39m\n\u001b[32m-> \u001b[39m\u001b[32m1325\u001b[39m     \u001b[38;5;28;01mraise\u001b[39;00m \u001b[38;5;167;01mKeyboardInterrupt\u001b[39;00m(msg) \u001b[38;5;28;01mfrom\u001b[39;00m\u001b[38;5;250m \u001b[39m\u001b[38;5;28;01mNone\u001b[39;00m\n\u001b[32m   1326\u001b[39m \u001b[38;5;28;01mexcept\u001b[39;00m \u001b[38;5;167;01mException\u001b[39;00m:\n\u001b[32m   1327\u001b[39m     \u001b[38;5;28mself\u001b[39m.log.warning(\u001b[33m\"\u001b[39m\u001b[33mInvalid Message:\u001b[39m\u001b[33m\"\u001b[39m, exc_info=\u001b[38;5;28;01mTrue\u001b[39;00m)\n",
      "\u001b[31mKeyboardInterrupt\u001b[39m: Interrupted by user"
     ]
    }
   ],
   "source": [
    "# Ang\n",
    "try:\n",
    "    print(faileds(jobs['ang']))\n",
    "except KeyError:\n",
    "    if verify_run():\n",
    "        jobs['ang'] = {\n",
    "            i: ibm_qpu.run(circuits_chunk, shots=SHOTS)\n",
    "            for i, circuits_chunk in tqdm(chunk(circuits['ang'], 50).items())\n",
    "        }"
   ]
  },
  {
   "cell_type": "code",
   "execution_count": null,
   "id": "ab35ed6c-7888-4ed6-b89d-d39be8d75e9e",
   "metadata": {
    "scrolled": true
   },
   "outputs": [],
   "source": [
    "# Amp+QFT & Amp+QFT+DDD\n",
    "try:\n",
    "    print(faileds(jobs['amp-qft']))\n",
    "    print(faileds(jobs['amp-qft-ddd']))\n",
    "except KeyError:\n",
    "    if verify_run():\n",
    "        jobs['amp-qft-ddd'] = {\n",
    "            i: ibm_qpu.run(circuits_chunk, shots=SHOTS)\n",
    "            for i, circuits_chunk in tqdm(chunk(circuits['amp-qft-ddd'], 45).items())\n",
    "        }\n",
    "        jobs['amp-qft'] = {\n",
    "            i: ibm_qpu.run(circuits_chunk, shots=SHOTS)\n",
    "            for i, circuits_chunk in tqdm(chunk(circuits['amp-qft'], 40).items())\n",
    "        }"
   ]
  },
  {
   "cell_type": "code",
   "execution_count": null,
   "id": "4037b0bb-6f51-4ff9-9d70-9b6ff3bc2b44",
   "metadata": {
    "scrolled": true
   },
   "outputs": [],
   "source": [
    "# Amp & Amp+DDD\n",
    "try:\n",
    "    print(faileds(jobs['amp']))\n",
    "    print(faileds(jobs['amp-ddd']))\n",
    "except KeyError:\n",
    "    if verify_run():\n",
    "        jobs['amp'] = {\n",
    "            i: ibm_qpu.run(circuits_chunk, shots=SHOTS)\n",
    "            for i, circuits_chunk in tqdm(chunk(circuits['amp'], 47).items())\n",
    "        }\n",
    "        jobs['amp_ddd'] = {\n",
    "            i: ibm_qpu.run(circuits_chunk, shots=SHOTS)\n",
    "            for i, circuits_chunk in tqdm(chunk(circuits['amp-ddd'], 42).items())\n",
    "        }"
   ]
  },
  {
   "cell_type": "markdown",
   "id": "95c493e7-b325-47cf-bb40-64ec4dbb0a23",
   "metadata": {},
   "source": [
    "### Save/Load Job IDs\n",
    "`job_ids[circuit_type][circuit_index] = job_id`"
   ]
  },
  {
   "cell_type": "code",
   "execution_count": null,
   "id": "f3c3dece-1758-4e70-b967-122a69102c79",
   "metadata": {
    "scrolled": true
   },
   "outputs": [],
   "source": [
    "# save job id list\n",
    "if len(jobs) > 0:\n",
    "    with open(ENV['HOME'] + '/work/jobs.json', 'wt') as f:\n",
    "        json.dump(\n",
    "            {\n",
    "                # convert jobs to job_ids for api work\n",
    "                k: [ibmq.jobid(j) for j in vs]\n",
    "                for k, vs in jobs.items()\n",
    "            },\n",
    "            fp=f,\n",
    "            indent=4,\n",
    "        )\n",
    "\n",
    "# load job id list\n",
    "with open(ENV['HOME'] + '/work/jobs.json', 'rt') as f:\n",
    "    job_ids = json.load(fp=f)"
   ]
  },
  {
   "cell_type": "markdown",
   "id": "73bc96c0-311b-4926-8efb-335175681dac",
   "metadata": {},
   "source": [
    "## Results"
   ]
  },
  {
   "cell_type": "markdown",
   "id": "8878d847-38fc-4878-8a4a-9e5a86f09fb3",
   "metadata": {},
   "source": [
    "### Loading\n",
    "From IBMQ API"
   ]
  },
  {
   "cell_type": "code",
   "execution_count": null,
   "id": "07abb9ff-dc96-4774-9b4d-f35d28c6d79f",
   "metadata": {
    "scrolled": true
   },
   "outputs": [],
   "source": [
    "results = {\n",
    "    k: sum([list(ibmq.jobresult(v).values()) for v in tqdm(vs, desc=k)], [])\n",
    "    for k, vs in tqdm(job_ids.items(), desc='retrieve results')\n",
    "}"
   ]
  },
  {
   "cell_type": "markdown",
   "id": "fb5eae7a-1093-4885-a15a-338100499d55",
   "metadata": {},
   "source": [
    "### Calculate!\n",
    "For the Ang circuits, evaluate the swap expectation.   \n",
    "For the Amp-based circuits, calculate the % of 0."
   ]
  },
  {
   "cell_type": "code",
   "execution_count": null,
   "id": "db0291f9-a88d-4ab2-a0c6-a87f5d2abe02",
   "metadata": {
    "scrolled": true
   },
   "outputs": [],
   "source": [
    "metrics = {\n",
    "    'ang': np.array([swap_expectation({int(k, 2): v for k, v in r.items()})[1] for r in results['ang']]),\n",
    "    'amp-qft': np.array([{int(k, 2): v for k, v in r.items()}.get(0, 0) for r in results['amp-qft']]) / SHOTS,\n",
    "    'amp-qft-ddd': np.array([{int(k, 2): v for k, v in r.items()}.get(0, 0) for r in results['amp-qft-ddd']]) / SHOTS,\n",
    "    'amp': np.array([{int(k, 2): v for k, v in r.items()}.get(0, 0) for r in results['amp']]) / SHOTS,\n",
    "    'amp-ddd': np.array([{int(k, 2): v for k, v in r.items()}.get(0, 0) for r in results['amp-ddd']]) / SHOTS,\n",
    "}\n",
    "metrics"
   ]
  },
  {
   "cell_type": "code",
   "execution_count": null,
   "id": "92aa77b0-c87d-45dd-a59e-ce05afc7d2aa",
   "metadata": {},
   "outputs": [],
   "source": [
    "metrics_df = pd.DataFrame({'A': circuit_dfs['ang']['A'], 'B': circuit_dfs['ang']['B'], **metrics})\n",
    "metrics_df"
   ]
  },
  {
   "cell_type": "code",
   "execution_count": null,
   "id": "d5eb3ec8-5196-45ad-bc2a-123a2d411e24",
   "metadata": {},
   "outputs": [],
   "source": [
    "metrics_df.to_excel(DATA + 'results_ibm-kingston.xlsx')"
   ]
  },
  {
   "cell_type": "markdown",
   "id": "490f8e95-d8a7-45b4-8249-5807fe481c30",
   "metadata": {},
   "source": [
    "## Circuits Analysis\n",
    "Pull them back from the API"
   ]
  },
  {
   "cell_type": "code",
   "execution_count": null,
   "id": "1cdb3b92-99db-4dd8-8e99-715f33469653",
   "metadata": {
    "scrolled": true
   },
   "outputs": [],
   "source": [
    "circuits_real = {\n",
    "    k: sum([ibmq.jobcircuit(j) for j in tqdm(js, desc=k)], [])\n",
    "    for k, js in tqdm(job_ids.items(), desc='retrieve circuits')\n",
    "}"
   ]
  },
  {
   "cell_type": "markdown",
   "id": "5dd267dd-50cf-4277-adcf-d326ccd2c3b1",
   "metadata": {},
   "source": [
    "### Circuit Statistics"
   ]
  },
  {
   "cell_type": "code",
   "execution_count": null,
   "id": "5fb2f6cc-00b3-4ebf-ba6b-ae421b54c0f0",
   "metadata": {},
   "outputs": [],
   "source": [
    "def stats(circuit_map):\n",
    "    return {\n",
    "        k: pd.concat(\n",
    "            [\n",
    "                circuit_dfs[k][['A', 'B']],\n",
    "                pd.DataFrame(\n",
    "                    [\n",
    "                        (\n",
    "                            len(v),\n",
    "                            v.depth(),\n",
    "                            v.num_nonlocal_gates(),\n",
    "                            Counter(g.name for g in v),\n",
    "                        )\n",
    "                        for v in vs\n",
    "                    ],\n",
    "                    columns=['gates', 'depth', '2-gates', 'Gates'],\n",
    "                ),\n",
    "            ],\n",
    "            axis=1,\n",
    "        )\n",
    "        for k, vs in circuit_map.items()\n",
    "    }"
   ]
  },
  {
   "cell_type": "code",
   "execution_count": null,
   "id": "33b356b7-efca-443f-bdbd-9a5c2d179fba",
   "metadata": {
    "scrolled": true
   },
   "outputs": [],
   "source": [
    "# circuits_stats = stats(circuits)\n",
    "circuits_real_stats = stats(circuits_real)"
   ]
  },
  {
   "cell_type": "code",
   "execution_count": null,
   "id": "445b380e-7490-491f-8323-d652dddadd99",
   "metadata": {},
   "outputs": [],
   "source": [
    "for k, v in circuits_real_stats.items():\n",
    "    v.to_csv(DATA + f'results_ibm-kingston_stats_{k}.csv')"
   ]
  },
  {
   "cell_type": "markdown",
   "id": "9b54ecfe-36dd-4820-af0f-92d28aea4035",
   "metadata": {},
   "source": [
    "### Draw some"
   ]
  },
  {
   "cell_type": "code",
   "execution_count": null,
   "id": "efbfd88e-f456-43fa-9b13-e74c9a29ebcb",
   "metadata": {
    "jupyter": {
     "source_hidden": true
    },
    "scrolled": true
   },
   "outputs": [],
   "source": [
    "n = 'ang'\n",
    "print(\n",
    "    circuits_real[n][0].depth(),\n",
    "    circuits_real[n][0].num_nonlocal_gates(),\n",
    ")\n",
    "circuits_real[n][0].trim().draw('mpl', fold=60)"
   ]
  },
  {
   "cell_type": "code",
   "execution_count": null,
   "id": "7238a3dd-7c3d-4c3e-8c40-91e35414d6d1",
   "metadata": {
    "jupyter": {
     "source_hidden": true
    },
    "scrolled": true
   },
   "outputs": [],
   "source": [
    "n = 'amp'\n",
    "print(\n",
    "    circuits_real[n][0].depth(),\n",
    "    circuits_real[n][0].num_nonlocal_gates(),\n",
    ")\n",
    "circuits_real[n][0].trim().draw('mpl', fold=60)"
   ]
  },
  {
   "cell_type": "code",
   "execution_count": null,
   "id": "aadb4e5b-5b0a-4c66-8c6d-76bbad2b6fa2",
   "metadata": {
    "jupyter": {
     "source_hidden": true
    },
    "scrolled": true
   },
   "outputs": [],
   "source": [
    "n = 'amp-qft'\n",
    "print(\n",
    "    circuits_real[n][0].depth(),\n",
    "    circuits_real[n][0].num_nonlocal_gates(),\n",
    ")\n",
    "circuits_real[n][0].trim().draw('mpl', fold=60)"
   ]
  },
  {
   "cell_type": "code",
   "execution_count": null,
   "id": "0ebed460-d2ec-4643-9af2-8e9f56708818",
   "metadata": {
    "jupyter": {
     "source_hidden": true
    },
    "scrolled": true
   },
   "outputs": [],
   "source": [
    "n = 'amp-qft-ddd'\n",
    "print(\n",
    "    circuits_real[n][0].depth(),\n",
    "    circuits_real[n][0].num_nonlocal_gates(),\n",
    ")\n",
    "circuits_real[n][0].trim().draw('mpl', fold=60)"
   ]
  },
  {
   "cell_type": "code",
   "execution_count": null,
   "id": "de633b99-7fd1-4e68-9879-10471c744f85",
   "metadata": {
    "jupyter": {
     "source_hidden": true
    },
    "scrolled": true
   },
   "outputs": [],
   "source": [
    "n = 'amp-ddd'\n",
    "print(\n",
    "    circuits_real[n][0].depth(),\n",
    "    circuits_real[n][0].num_nonlocal_gates(),\n",
    ")\n",
    "circuits_real[n][0].trim().draw('mpl', fold=60)"
   ]
  }
 ],
 "metadata": {
  "kernelspec": {
   "display_name": "Python 3 (ipykernel)",
   "language": "python",
   "name": "python3"
  },
  "language_info": {
   "codemirror_mode": {
    "name": "ipython",
    "version": 3
   },
   "file_extension": ".py",
   "mimetype": "text/x-python",
   "name": "python",
   "nbconvert_exporter": "python",
   "pygments_lexer": "ipython3",
   "version": "3.11.13"
  }
 },
 "nbformat": 4,
 "nbformat_minor": 5
}
