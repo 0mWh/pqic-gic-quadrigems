{
 "cells": [
  {
   "cell_type": "code",
   "execution_count": 1,
   "id": "668b6bda-1dde-478f-b06f-53a68dec0f3d",
   "metadata": {},
   "outputs": [],
   "source": [
    "from os import environ as ENV\n",
    "from time import time as now\n",
    "from multiprocessing import Pool\n",
    "import json\n",
    "from tqdm.notebook import tqdm\n",
    "\n",
    "import sys\n",
    "sys.path.append(ENV['PWD'])\n",
    "\n",
    "from should_be_stdlib import *\n",
    "from circuit_postprocess import *\n"
   ]
  },
  {
   "cell_type": "code",
   "execution_count": 2,
   "id": "31f18197-13f0-44eb-b251-de6583738cf5",
   "metadata": {
    "scrolled": true
   },
   "outputs": [],
   "source": [
    "# get finished jobs\n",
    "with open(ENV['HOME'] + '/work/jobs.json', 'r+') as f:\n",
    "    job_ids = json.loads(f.read())\n",
    "for k, v in job_ids.items():\n",
    "    job_ids[k] = {int(ki): vi for ki, vi in v.items()}\n",
    "# job_ids # technically secret info"
   ]
  },
  {
   "cell_type": "code",
   "execution_count": 3,
   "id": "d948dab8-cbce-4195-b6f9-e14e6b3fd41b",
   "metadata": {},
   "outputs": [
    {
     "name": "stderr",
     "output_type": "stream",
     "text": [
      "/home/user/work/quadrigems/.venv/lib/python3.11/site-packages/qbraid/_entrypoints.py:20: UserWarning: pkg_resources is deprecated as an API. See https://setuptools.pypa.io/en/latest/pkg_resources.html. The pkg_resources package is slated for removal as early as 2025-11-30. Refrain from using this package or pin to Setuptools<81.\n",
      "  import pkg_resources\n"
     ]
    }
   ],
   "source": [
    "# login to IBM\n",
    "from provider_ibmq import IBMQ\n",
    "ibmq = IBMQ(\n",
    "    ibm_api_key := open(ENV['HOME'] + '/work/api-keys/IBM_API_KEY').readline().strip(),\n",
    "    ibm_crn := open(ENV['HOME'] + '/work/api-keys/IBM_CRN').readline().strip()\n",
    ")"
   ]
  },
  {
   "cell_type": "markdown",
   "id": "d96bcf42-a14e-4670-9c32-b815febb694a",
   "metadata": {},
   "source": [
    "# recover and postprocess jobs"
   ]
  },
  {
   "cell_type": "code",
   "execution_count": 4,
   "id": "35cddcf1-5ccd-4c59-a315-a715f580369b",
   "metadata": {},
   "outputs": [],
   "source": [
    "SHOTS = 1000\n",
    "def get_0_prob(batched_counts):\n",
    "    # in case of batch of length 1 (first element is not a dictionary), just return counts directly\n",
    "    if type(list(batched_counts.values())[0]) is not dict:\n",
    "        return {0: batched_counts.get('0000', 0) / SHOTS}\n",
    "    else:\n",
    "        # could compute shots dynamically but we know what the value is since every circuit has the same # of shots\n",
    "        return {inside_batch_num: counts.get('0000', 0) / SHOTS for inside_batch_num, counts in batched_counts.items()}"
   ]
  },
  {
   "cell_type": "code",
   "execution_count": 5,
   "id": "d0e93622-af07-4ad4-8c2c-75eb15dda44d",
   "metadata": {},
   "outputs": [],
   "source": [
    "# ??? Why no worky\n",
    "def swap_expectation_wrapper(batched_counts):\n",
    "    # # print(batched_counts)\n",
    "    # print(batched_counts[0])\n",
    "    # new_d = {int(bitstring, 2): count/(2**18) for bitstring, count in batched_counts[0]}\n",
    "    # print(swap_expectation(new_d))\n",
    "    # 1/0\n",
    "    return {\n",
    "        inside_batch_num:\n",
    "            swap_expectation({int(bitstring, 2): count/(2**(9*2)) for bitstring, count in counts.items()}, size=9)[1]  # get fidelity not exp value\n",
    "        for inside_batch_num, counts in batched_counts.items()\n",
    "    }\n",
    "    "
   ]
  },
  {
   "cell_type": "code",
   "execution_count": 6,
   "id": "ac4b11fb-b1fd-47e3-829b-0bb4ab187b1c",
   "metadata": {
    "scrolled": true
   },
   "outputs": [
    {
     "data": {
      "application/vnd.jupyter.widget-view+json": {
       "model_id": "050e2915405c45b6b46654d0f5d314d1",
       "version_major": 2,
       "version_minor": 0
      },
      "text/plain": [
       "  0%|          | 0/59 [00:00<?, ?it/s]"
      ]
     },
     "metadata": {},
     "output_type": "display_data"
    }
   ],
   "source": [
    "ang_results = {\n",
    "    batch_num: swap_expectation_wrapper(ibmq.jobresult(job_id))\n",
    "    for batch_num, job_id\n",
    "    in tqdm(job_ids['ang'].items())}"
   ]
  },
  {
   "cell_type": "code",
   "execution_count": 7,
   "id": "d5b5f26f-27c1-49f2-ad13-531d0c0f7b8f",
   "metadata": {
    "scrolled": true
   },
   "outputs": [
    {
     "data": {
      "application/vnd.jupyter.widget-view+json": {
       "model_id": "46a32cc083124d04a93acdecacb63f73",
       "version_major": 2,
       "version_minor": 0
      },
      "text/plain": [
       "  0%|          | 0/74 [00:00<?, ?it/s]"
      ]
     },
     "metadata": {},
     "output_type": "display_data"
    }
   ],
   "source": [
    "amp_qft_results = {\n",
    "    batch_num: get_0_prob(ibmq.jobresult(job_id))\n",
    "    for batch_num, job_id\n",
    "    in tqdm(job_ids['amp_qft'].items())}\n"
   ]
  },
  {
   "cell_type": "code",
   "execution_count": 8,
   "id": "5b7e6f73-2b16-4311-8849-bb4263e9e7c2",
   "metadata": {
    "scrolled": true
   },
   "outputs": [
    {
     "data": {
      "application/vnd.jupyter.widget-view+json": {
       "model_id": "01954177678c4fb5af7c1450ad529587",
       "version_major": 2,
       "version_minor": 0
      },
      "text/plain": [
       "  0%|          | 0/66 [00:00<?, ?it/s]"
      ]
     },
     "metadata": {},
     "output_type": "display_data"
    }
   ],
   "source": [
    "amp_qft_ddd_results = {\n",
    "    batch_num: get_0_prob(ibmq.jobresult(job_id))\n",
    "    for batch_num, job_id\n",
    "    in tqdm(job_ids['amp_qft_ddd'].items())}"
   ]
  },
  {
   "cell_type": "code",
   "execution_count": 9,
   "id": "91d445b6-810a-45ce-95f3-b7dcf59bd68c",
   "metadata": {
    "scrolled": true
   },
   "outputs": [
    {
     "data": {
      "application/vnd.jupyter.widget-view+json": {
       "model_id": "014ad1402bd94020928d6ca1be76f1f1",
       "version_major": 2,
       "version_minor": 0
      },
      "text/plain": [
       "  0%|          | 0/63 [00:00<?, ?it/s]"
      ]
     },
     "metadata": {},
     "output_type": "display_data"
    }
   ],
   "source": [
    "amp_results = {\n",
    "    batch_num: get_0_prob(ibmq.jobresult(job_id))\n",
    "    for batch_num, job_id\n",
    "    in tqdm(job_ids['amp'].items())}"
   ]
  },
  {
   "cell_type": "code",
   "execution_count": 10,
   "id": "8a204402-e2f0-41df-b971-3b9aacb91a5e",
   "metadata": {
    "scrolled": true
   },
   "outputs": [
    {
     "data": {
      "application/vnd.jupyter.widget-view+json": {
       "model_id": "29a0150d362243c5a1395851ac41ade3",
       "version_major": 2,
       "version_minor": 0
      },
      "text/plain": [
       "  0%|          | 0/70 [00:00<?, ?it/s]"
      ]
     },
     "metadata": {},
     "output_type": "display_data"
    }
   ],
   "source": [
    "amp_ddd_results = {\n",
    "    batch_num: get_0_prob(ibmq.jobresult(job_id))\n",
    "    for batch_num, job_id\n",
    "    in tqdm(job_ids['amp_ddd'].items())}"
   ]
  },
  {
   "cell_type": "markdown",
   "id": "460644e0-1e67-48ed-b171-8f6de3ec8236",
   "metadata": {},
   "source": [
    "# Save results"
   ]
  },
  {
   "cell_type": "code",
   "execution_count": 11,
   "id": "fe6d391f-2d12-4855-9cd6-6962324dc6c6",
   "metadata": {},
   "outputs": [],
   "source": [
    "import pandas as pd\n",
    "# read an excel file so we have the right columns to use, jobs are queued in column order\n",
    "circuit_results_df = pd.read_excel(ENV['PWD'] + '/data/circuits_quantum_fidelity_angle_embed.xlsx', index_col=0).drop(columns='qasm2')"
   ]
  },
  {
   "cell_type": "code",
   "execution_count": 12,
   "id": "cd1b74d8-63b6-439a-965e-ba5c2bed3f17",
   "metadata": {},
   "outputs": [],
   "source": [
    "import itertools\n",
    "def dict_of_dicts_to_list(d):\n",
    "    return list(itertools.chain(*[v.values() for v in d.values()]))"
   ]
  },
  {
   "cell_type": "code",
   "execution_count": 13,
   "id": "734d4176-3cb2-4749-9aa9-0011637e3595",
   "metadata": {},
   "outputs": [],
   "source": [
    "circuit_results_df['ang'] = dict_of_dicts_to_list(ang_results)\n",
    "circuit_results_df['amp_qft'] = dict_of_dicts_to_list(amp_qft_results)\n",
    "circuit_results_df['amp_qft_ddd'] = dict_of_dicts_to_list(amp_qft_ddd_results)\n",
    "circuit_results_df['amp'] = dict_of_dicts_to_list(amp_results)\n",
    "circuit_results_df['amp_ddd'] = dict_of_dicts_to_list(amp_ddd_results)"
   ]
  },
  {
   "cell_type": "code",
   "execution_count": 14,
   "id": "8af1fbc3-a67e-473e-9d90-bec63572d11e",
   "metadata": {},
   "outputs": [],
   "source": [
    "circuit_results_df.to_excel(ENV['PWD'] + '/data/quantum_fidelity_ibm_kingston.xlsx')"
   ]
  },
  {
   "cell_type": "code",
   "execution_count": 15,
   "id": "0b1b6906-091f-424f-9374-7368a38738c5",
   "metadata": {},
   "outputs": [
    {
     "data": {
      "text/html": [
       "<div>\n",
       "<style scoped>\n",
       "    .dataframe tbody tr th:only-of-type {\n",
       "        vertical-align: middle;\n",
       "    }\n",
       "\n",
       "    .dataframe tbody tr th {\n",
       "        vertical-align: top;\n",
       "    }\n",
       "\n",
       "    .dataframe thead th {\n",
       "        text-align: right;\n",
       "    }\n",
       "</style>\n",
       "<table border=\"1\" class=\"dataframe\">\n",
       "  <thead>\n",
       "    <tr style=\"text-align: right;\">\n",
       "      <th></th>\n",
       "      <th>A</th>\n",
       "      <th>B</th>\n",
       "      <th>ang</th>\n",
       "      <th>amp_qft</th>\n",
       "      <th>amp_qft_ddd</th>\n",
       "      <th>amp</th>\n",
       "      <th>amp_ddd</th>\n",
       "    </tr>\n",
       "  </thead>\n",
       "  <tbody>\n",
       "    <tr>\n",
       "      <th>0</th>\n",
       "      <td>23</td>\n",
       "      <td>32</td>\n",
       "      <td>0.501373</td>\n",
       "      <td>0.360</td>\n",
       "      <td>0.356</td>\n",
       "      <td>0.565</td>\n",
       "      <td>0.620</td>\n",
       "    </tr>\n",
       "    <tr>\n",
       "      <th>1</th>\n",
       "      <td>23</td>\n",
       "      <td>35</td>\n",
       "      <td>0.501587</td>\n",
       "      <td>0.685</td>\n",
       "      <td>0.661</td>\n",
       "      <td>0.776</td>\n",
       "      <td>0.774</td>\n",
       "    </tr>\n",
       "    <tr>\n",
       "      <th>2</th>\n",
       "      <td>23</td>\n",
       "      <td>36</td>\n",
       "      <td>0.501564</td>\n",
       "      <td>0.578</td>\n",
       "      <td>0.550</td>\n",
       "      <td>0.709</td>\n",
       "      <td>0.685</td>\n",
       "    </tr>\n",
       "    <tr>\n",
       "      <th>3</th>\n",
       "      <td>23</td>\n",
       "      <td>37</td>\n",
       "      <td>0.501579</td>\n",
       "      <td>0.648</td>\n",
       "      <td>0.602</td>\n",
       "      <td>0.763</td>\n",
       "      <td>0.758</td>\n",
       "    </tr>\n",
       "    <tr>\n",
       "      <th>4</th>\n",
       "      <td>23</td>\n",
       "      <td>50</td>\n",
       "      <td>0.501617</td>\n",
       "      <td>0.656</td>\n",
       "      <td>0.696</td>\n",
       "      <td>0.756</td>\n",
       "      <td>0.771</td>\n",
       "    </tr>\n",
       "    <tr>\n",
       "      <th>...</th>\n",
       "      <td>...</td>\n",
       "      <td>...</td>\n",
       "      <td>...</td>\n",
       "      <td>...</td>\n",
       "      <td>...</td>\n",
       "      <td>...</td>\n",
       "      <td>...</td>\n",
       "    </tr>\n",
       "    <tr>\n",
       "      <th>2921</th>\n",
       "      <td>424</td>\n",
       "      <td>424</td>\n",
       "      <td>0.501621</td>\n",
       "      <td>0.712</td>\n",
       "      <td>0.696</td>\n",
       "      <td>0.787</td>\n",
       "      <td>0.838</td>\n",
       "    </tr>\n",
       "    <tr>\n",
       "      <th>2922</th>\n",
       "      <td>425</td>\n",
       "      <td>425</td>\n",
       "      <td>0.501610</td>\n",
       "      <td>0.741</td>\n",
       "      <td>0.710</td>\n",
       "      <td>0.732</td>\n",
       "      <td>0.838</td>\n",
       "    </tr>\n",
       "    <tr>\n",
       "      <th>2923</th>\n",
       "      <td>426</td>\n",
       "      <td>426</td>\n",
       "      <td>0.501598</td>\n",
       "      <td>0.740</td>\n",
       "      <td>0.710</td>\n",
       "      <td>0.767</td>\n",
       "      <td>0.833</td>\n",
       "    </tr>\n",
       "    <tr>\n",
       "      <th>2924</th>\n",
       "      <td>428</td>\n",
       "      <td>428</td>\n",
       "      <td>0.501591</td>\n",
       "      <td>0.712</td>\n",
       "      <td>0.697</td>\n",
       "      <td>0.757</td>\n",
       "      <td>0.828</td>\n",
       "    </tr>\n",
       "    <tr>\n",
       "      <th>2925</th>\n",
       "      <td>435</td>\n",
       "      <td>435</td>\n",
       "      <td>0.501614</td>\n",
       "      <td>0.730</td>\n",
       "      <td>0.708</td>\n",
       "      <td>0.790</td>\n",
       "      <td>0.846</td>\n",
       "    </tr>\n",
       "  </tbody>\n",
       "</table>\n",
       "<p>2926 rows × 7 columns</p>\n",
       "</div>"
      ],
      "text/plain": [
       "        A    B       ang  amp_qft  amp_qft_ddd    amp  amp_ddd\n",
       "0      23   32  0.501373    0.360        0.356  0.565    0.620\n",
       "1      23   35  0.501587    0.685        0.661  0.776    0.774\n",
       "2      23   36  0.501564    0.578        0.550  0.709    0.685\n",
       "3      23   37  0.501579    0.648        0.602  0.763    0.758\n",
       "4      23   50  0.501617    0.656        0.696  0.756    0.771\n",
       "...   ...  ...       ...      ...          ...    ...      ...\n",
       "2921  424  424  0.501621    0.712        0.696  0.787    0.838\n",
       "2922  425  425  0.501610    0.741        0.710  0.732    0.838\n",
       "2923  426  426  0.501598    0.740        0.710  0.767    0.833\n",
       "2924  428  428  0.501591    0.712        0.697  0.757    0.828\n",
       "2925  435  435  0.501614    0.730        0.708  0.790    0.846\n",
       "\n",
       "[2926 rows x 7 columns]"
      ]
     },
     "execution_count": 15,
     "metadata": {},
     "output_type": "execute_result"
    }
   ],
   "source": [
    "circuit_results_df"
   ]
  }
 ],
 "metadata": {
  "kernelspec": {
   "display_name": "Python 3 (ipykernel)",
   "language": "python",
   "name": "python3"
  },
  "language_info": {
   "codemirror_mode": {
    "name": "ipython",
    "version": 3
   },
   "file_extension": ".py",
   "mimetype": "text/x-python",
   "name": "python",
   "nbconvert_exporter": "python",
   "pygments_lexer": "ipython3",
   "version": "3.11.13"
  }
 },
 "nbformat": 4,
 "nbformat_minor": 5
}
