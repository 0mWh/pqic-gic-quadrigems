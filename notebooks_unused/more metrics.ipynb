{
 "cells": [
  {
   "cell_type": "code",
   "execution_count": 1,
   "id": "fdb9d29f-210a-4b66-a26f-e49b60959639",
   "metadata": {},
   "outputs": [],
   "source": [
    "import scipy\n",
    "import numpy as np"
   ]
  },
  {
   "cell_type": "code",
   "execution_count": 2,
   "id": "7f485cc8-075a-4828-9a2c-aafc28812cbe",
   "metadata": {},
   "outputs": [],
   "source": [
    "x = np.random.rand(2**9)\n",
    "x = x / np.linalg.norm(x, ord = 1)\n",
    "y = np.random.rand(2**9)\n",
    "y = y / np.linalg.norm(y, ord = 1)"
   ]
  },
  {
   "cell_type": "code",
   "execution_count": 33,
   "id": "b23b12c3-9c58-46eb-9138-42e48c263df8",
   "metadata": {},
   "outputs": [
    {
     "data": {
      "text/plain": [
       "np.float64(0.00010320784767562021)"
      ]
     },
     "execution_count": 33,
     "metadata": {},
     "output_type": "execute_result"
    }
   ],
   "source": [
    "# earth-mover's distance (wasserstein metric)\n",
    "# how far is the CDF\n",
    "earth_mover_distance = scipy.stats.wasserstein_distance(x, y)\n",
    "earth_mover_distance"
   ]
  },
  {
   "cell_type": "code",
   "execution_count": 31,
   "id": "ecaf6bf9-60b5-4f78-b31e-11321613f355",
   "metadata": {},
   "outputs": [
    {
     "data": {
      "text/plain": [
       "np.float64(0.0029450153501982073)"
      ]
     },
     "execution_count": 31,
     "metadata": {},
     "output_type": "execute_result"
    }
   ],
   "source": [
    "# energy distance\n",
    "# \"gravity\" force between the mass distributions\n",
    "energy_distance = scipy.stats.energy_distance(x, y)\n",
    "energy_distance"
   ]
  },
  {
   "cell_type": "code",
   "execution_count": 5,
   "id": "b007505a-1fb6-4cc3-a7f4-4e11ea4dfc52",
   "metadata": {},
   "outputs": [
    {
     "data": {
      "text/plain": [
       "PearsonRResult(statistic=np.float64(0.027654427902890383), pvalue=np.float64(0.5324054612850642))"
      ]
     },
     "execution_count": 5,
     "metadata": {},
     "output_type": "execute_result"
    }
   ],
   "source": [
    "# pearson's correlation\n",
    "# ratio between the covariance of two variables\n",
    "scipy.stats.pearsonr(x, y)"
   ]
  },
  {
   "cell_type": "code",
   "execution_count": 6,
   "id": "7e571000-5146-4a67-8f4b-8d681f892955",
   "metadata": {},
   "outputs": [
    {
     "data": {
      "text/plain": [
       "np.float64(1.0)"
      ]
     },
     "execution_count": 6,
     "metadata": {},
     "output_type": "execute_result"
    }
   ],
   "source": [
    "# cityblock (hamming) distance\n",
    "# minimum number of substitutions required to change one string into the other\n",
    "scipy.spatial.distance.hamming(x, y)"
   ]
  },
  {
   "cell_type": "code",
   "execution_count": 38,
   "id": "67321a93-1636-4ab2-b6eb-8221b4fed50a",
   "metadata": {},
   "outputs": [
    {
     "data": {
      "text/plain": [
       "(np.float64(-12.476649250079019), np.float64(6.238324625039508))"
      ]
     },
     "execution_count": 38,
     "metadata": {},
     "output_type": "execute_result"
    }
   ],
   "source": [
    "# max VI is log(n) for n items\n",
    "# actually a metric\n",
    "from pyvoi import VI as variation_of_information\n",
    "voi, _, _ = variation_of_information(x, y, torch=False)\n",
    "(voi, np.log(len(x)))"
   ]
  },
  {
   "cell_type": "code",
   "execution_count": 30,
   "id": "ca2758f6-cf73-4567-b74d-621cecbb6b44",
   "metadata": {},
   "outputs": [
    {
     "data": {
      "text/plain": [
       "np.float64(0.5025529289380555)"
      ]
     },
     "execution_count": 30,
     "metadata": {},
     "output_type": "execute_result"
    }
   ],
   "source": [
    "# relative entropy aka KL divergence\n",
    "# divergence but not a metric (nonsymmetrical, fails triangle equality)\n",
    "\n",
    "kl_divergence = scipy.stats.entropy(x, y)\n",
    "kl_divergence"
   ]
  },
  {
   "cell_type": "code",
   "execution_count": 47,
   "id": "209da88e-7e0d-4ad8-bbfc-04852997e039",
   "metadata": {},
   "outputs": [
    {
     "data": {
      "text/plain": [
       "np.float64(0.001972942209119793)"
      ]
     },
     "execution_count": 47,
     "metadata": {},
     "output_type": "execute_result"
    }
   ],
   "source": [
    "# maximum cross-correlation\n",
    "max(scipy.signal.correlate(x, y))"
   ]
  },
  {
   "cell_type": "code",
   "execution_count": 44,
   "id": "2ac7ea30-d6a4-435d-a771-c0f299897830",
   "metadata": {},
   "outputs": [
    {
     "data": {
      "text/plain": [
       "np.float64(0.9265166504379932)"
      ]
     },
     "execution_count": 44,
     "metadata": {},
     "output_type": "execute_result"
    }
   ],
   "source": [
    "# maximum squared coherence\n",
    "max(scipy.signal.coherence(x, y)[1])"
   ]
  },
  {
   "cell_type": "markdown",
   "id": "5ccc8e7b-7c55-4db0-a67c-c04736a099a0",
   "metadata": {
    "jp-MarkdownHeadingCollapsed": true
   },
   "source": [
    "Basically we are using a QC to create a new series of data for further analysis\n"
   ]
  },
  {
   "cell_type": "code",
   "execution_count": null,
   "id": "cd5a75f4-3823-449a-83ae-ffba17c07a4d",
   "metadata": {},
   "outputs": [],
   "source": []
  }
 ],
 "metadata": {
  "kernelspec": {
   "display_name": "Python 3 (ipykernel)",
   "language": "python",
   "name": "python3"
  },
  "language_info": {
   "codemirror_mode": {
    "name": "ipython",
    "version": 3
   },
   "file_extension": ".py",
   "mimetype": "text/x-python",
   "name": "python",
   "nbconvert_exporter": "python",
   "pygments_lexer": "ipython3",
   "version": "3.11.13"
  }
 },
 "nbformat": 4,
 "nbformat_minor": 5
}
